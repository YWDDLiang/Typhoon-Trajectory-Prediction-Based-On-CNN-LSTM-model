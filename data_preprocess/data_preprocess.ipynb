{
 "cells": [
  {
   "cell_type": "code",
   "execution_count": 2,
   "metadata": {},
   "outputs": [
    {
     "name": "stdout",
     "output_type": "stream",
     "text": [
      "File successfully saved to /home/dl392/data/yiwei/typhoon/data_preprocess/best_track_records.csv_p1.csv\n"
     ]
    }
   ],
   "source": [
    "import pandas as pd\n",
    "from datetime import datetime, timedelta\n",
    "\n",
    "def convert_bjt_to_utc(input_file, output_file):\n",
    "    # 读取CSV文件\n",
    "    df = pd.read_csv(input_file)\n",
    "    \n",
    "    # 检查是否存在DateTime(BJT)列\n",
    "    if 'DateTime(BJT)' not in df.columns:\n",
    "        print(\"Error: 'DateTime(BJT)' column not found in the CSV file.\")\n",
    "        return\n",
    "    \n",
    "    # 定义转换函数\n",
    "    def bjt_to_utc(bjt_time):\n",
    "        try:\n",
    "            # 将字符串转换为 datetime 对象\n",
    "            dt = datetime.strptime(str(bjt_time), '%Y%m%d%H')\n",
    "            # 减去 8 小时转换为 UTC\n",
    "            dt_utc = dt - timedelta(hours=8)\n",
    "            # 转换回字符串格式\n",
    "            return dt_utc.strftime('%Y%m%d%H')\n",
    "        except ValueError:\n",
    "            print(f\"Error parsing time: {bjt_time}\")\n",
    "            return None\n",
    "    \n",
    "    # 应用转换函数\n",
    "    df['DateTime(UTC)'] = df['DateTime(BJT)'].apply(bjt_to_utc)\n",
    "    \n",
    "    # 删除原始的 DateTime(BJT) 列\n",
    "    df.drop(columns=['DateTime(BJT)'], inplace=True)\n",
    "    \n",
    "    # 重命名新列\n",
    "    df.rename(columns={'DateTime(UTC)': 'DateTime(UTC)'}, inplace=True)\n",
    "    \n",
    "    # 保存到新文件\n",
    "    df.to_csv(output_file, index=False)\n",
    "    print(f\"File successfully saved to {output_file}\")\n",
    "\n",
    "# 使用示例\n",
    "input_file = '/home/dl392/data/yiwei/typhoon/data_preprocess/best_track_records.csv'  # 输入文件名\n",
    "output_file = '/home/dl392/data/yiwei/typhoon/data_preprocess/best_track_records.csv_p1.csv'  # 输出文件名\n",
    "convert_bjt_to_utc(input_file, output_file)"
   ]
  },
  {
   "cell_type": "code",
   "execution_count": 3,
   "metadata": {},
   "outputs": [
    {
     "name": "stdout",
     "output_type": "stream",
     "text": [
      "处理完成！已将结果保存\n"
     ]
    }
   ],
   "source": [
    "import pandas as pd\n",
    "\n",
    "# 输入文件名和输出文件名\n",
    "input_file = \"/home/dl392/data/yiwei/typhoon/data_preprocess/best_track_records.csv_p1.csv\"  # 原始CSV文件\n",
    "output_file = \"/home/dl392/data/yiwei/typhoon/data_preprocess/best_track_records.csv_p2.csv\"  # 处理后的CSV文件\n",
    "\n",
    "# 读取CSV文件\n",
    "df = pd.read_csv(input_file)\n",
    "\n",
    "# 删除\"Storm Name\"列中值为\"(nameless)\"的行\n",
    "filtered_df = df[df[\"Storm Name\"] != \"(nameless)\"]\n",
    "\n",
    "# 将处理后的数据保存到新文件\n",
    "filtered_df.to_csv(output_file, index=False)\n",
    "\n",
    "print(f\"处理完成！已将结果保存\")"
   ]
  },
  {
   "cell_type": "code",
   "execution_count": 4,
   "metadata": {},
   "outputs": [
    {
     "data": {
      "text/html": [
       "<div>\n",
       "<style scoped>\n",
       "    .dataframe tbody tr th:only-of-type {\n",
       "        vertical-align: middle;\n",
       "    }\n",
       "\n",
       "    .dataframe tbody tr th {\n",
       "        vertical-align: top;\n",
       "    }\n",
       "\n",
       "    .dataframe thead th {\n",
       "        text-align: right;\n",
       "    }\n",
       "</style>\n",
       "<table border=\"1\" class=\"dataframe\">\n",
       "  <thead>\n",
       "    <tr style=\"text-align: right;\">\n",
       "      <th></th>\n",
       "      <th>Storm Name</th>\n",
       "      <th>Intensity Category</th>\n",
       "      <th>Latitude (°N)</th>\n",
       "      <th>Longitude (°E)</th>\n",
       "      <th>Pressure (hPa)</th>\n",
       "      <th>Max Sustained Wind (m/s)</th>\n",
       "      <th>DateTime(UTC)</th>\n",
       "    </tr>\n",
       "  </thead>\n",
       "  <tbody>\n",
       "    <tr>\n",
       "      <th>0</th>\n",
       "      <td>Vernon</td>\n",
       "      <td>1</td>\n",
       "      <td>12.0</td>\n",
       "      <td>113.5</td>\n",
       "      <td>1003</td>\n",
       "      <td>12</td>\n",
       "      <td>1984060716</td>\n",
       "    </tr>\n",
       "    <tr>\n",
       "      <th>1</th>\n",
       "      <td>Vernon</td>\n",
       "      <td>1</td>\n",
       "      <td>12.5</td>\n",
       "      <td>112.9</td>\n",
       "      <td>1002</td>\n",
       "      <td>15</td>\n",
       "      <td>1984060722</td>\n",
       "    </tr>\n",
       "    <tr>\n",
       "      <th>2</th>\n",
       "      <td>Vernon</td>\n",
       "      <td>1</td>\n",
       "      <td>13.0</td>\n",
       "      <td>112.6</td>\n",
       "      <td>1002</td>\n",
       "      <td>15</td>\n",
       "      <td>1984060804</td>\n",
       "    </tr>\n",
       "    <tr>\n",
       "      <th>3</th>\n",
       "      <td>Vernon</td>\n",
       "      <td>1</td>\n",
       "      <td>13.5</td>\n",
       "      <td>112.4</td>\n",
       "      <td>999</td>\n",
       "      <td>15</td>\n",
       "      <td>1984060810</td>\n",
       "    </tr>\n",
       "    <tr>\n",
       "      <th>4</th>\n",
       "      <td>Vernon</td>\n",
       "      <td>1</td>\n",
       "      <td>14.0</td>\n",
       "      <td>112.3</td>\n",
       "      <td>999</td>\n",
       "      <td>15</td>\n",
       "      <td>1984060816</td>\n",
       "    </tr>\n",
       "  </tbody>\n",
       "</table>\n",
       "</div>"
      ],
      "text/plain": [
       "  Storm Name  Intensity Category  Latitude (°N)  Longitude (°E)  \\\n",
       "0     Vernon                   1           12.0           113.5   \n",
       "1     Vernon                   1           12.5           112.9   \n",
       "2     Vernon                   1           13.0           112.6   \n",
       "3     Vernon                   1           13.5           112.4   \n",
       "4     Vernon                   1           14.0           112.3   \n",
       "\n",
       "   Pressure (hPa)  Max Sustained Wind (m/s)  DateTime(UTC)  \n",
       "0            1003                        12     1984060716  \n",
       "1            1002                        15     1984060722  \n",
       "2            1002                        15     1984060804  \n",
       "3             999                        15     1984060810  \n",
       "4             999                        15     1984060816  "
      ]
     },
     "execution_count": 4,
     "metadata": {},
     "output_type": "execute_result"
    }
   ],
   "source": [
    "import pandas as pd\n",
    "\n",
    "# Load the uploaded CSV file\n",
    "file_path = '/home/dl392/data/yiwei/typhoon/data_preprocess/best_track_records.csv_p2.csv'\n",
    "storm_data = pd.read_csv(file_path)\n",
    "\n",
    "# Display the first few rows to understand the structure\n",
    "storm_data.head()"
   ]
  },
  {
   "cell_type": "code",
   "execution_count": 5,
   "metadata": {},
   "outputs": [
    {
     "data": {
      "text/plain": [
       "'/home/dl392/data/yiwei/typhoon/EAR5/storm_requests.json'"
      ]
     },
     "execution_count": 5,
     "metadata": {},
     "output_type": "execute_result"
    }
   ],
   "source": [
    "import json\n",
    "from datetime import datetime\n",
    "\n",
    "# Initialize a list to store the requests\n",
    "requests_list = []\n",
    "\n",
    "# Group by Storm Name to handle multiple DateTimes for each storm\n",
    "storm_groups = storm_data.groupby(\"Storm Name\")\n",
    "\n",
    "# Process each storm\n",
    "for storm_name, group in storm_groups:\n",
    "    # Prepare to accumulate unique dates, months, and times\n",
    "    year_set = set()\n",
    "    month_set = set()\n",
    "    day_set = set()\n",
    "    time_set = set()\n",
    "    \n",
    "    # Prepare to calculate area bounds\n",
    "    latitudes = group[\"Latitude (°N)\"]\n",
    "    longitudes = group[\"Longitude (°E)\"]\n",
    "    \n",
    "    # Extract area bounds (min/max latitude/longitude with ±1 adjustment)\n",
    "    area = [\n",
    "        int(latitudes.max()) + 2,  # North\n",
    "        int(longitudes.min()) - 2, # West\n",
    "        int(latitudes.min()) - 2,  # South\n",
    "        int(longitudes.max()) + 2  # East\n",
    "    ]\n",
    "    \n",
    "    # Process datetime and gather all unique components\n",
    "    for datetime_str in group[\"DateTime(UTC)\"]:\n",
    "        # Parse datetime\n",
    "        dt = datetime.strptime(str(datetime_str), \"%Y%m%d%H\")\n",
    "        year_set.add(str(dt.year))\n",
    "        month_set.add(f\"{dt.month:02}\")\n",
    "        day_set.add(f\"{dt.day:02}\")\n",
    "        time_set.add(f\"{dt.hour:02}:00\")\n",
    "    \n",
    "    # Construct the request dictionary for the storm\n",
    "    request = {\n",
    "        \"product_type\": [\"reanalysis\"],\n",
    "        \"variable\": [\n",
    "            \"sea_surface_temperature\",\n",
    "            \"surface_pressure\"\n",
    "        ],\n",
    "        \"year\": sorted(list(year_set)),\n",
    "        \"month\": sorted(list(month_set)),\n",
    "        \"day\": sorted(list(day_set)),\n",
    "        \"time\": sorted(list(time_set)),\n",
    "        \"data_format\": \"grib\",\n",
    "        \"download_format\": \"unarchived\",\n",
    "        \"area\": area\n",
    "    }\n",
    "    \n",
    "    # Add to the list with the storm name as context\n",
    "    requests_list.append({storm_name: request})\n",
    "\n",
    "# Save the requests list to a JSON file\n",
    "output_path = \"/home/dl392/data/yiwei/typhoon/EAR5/storm_requests.json\"\n",
    "with open(output_path, \"w\") as json_file:\n",
    "    json.dump(requests_list, json_file, indent=4)\n",
    "\n",
    "output_path\n"
   ]
  },
  {
   "cell_type": "code",
   "execution_count": 6,
   "metadata": {},
   "outputs": [
    {
     "data": {
      "text/plain": [
       "'/home/dl392/data/yiwei/typhoon/EAR5/storm_requests.json'"
      ]
     },
     "execution_count": 6,
     "metadata": {},
     "output_type": "execute_result"
    }
   ],
   "source": [
    "import json\n",
    "from datetime import datetime\n",
    "\n",
    "# Initialize a dictionary to store the requests with Storm Name as keys\n",
    "requests_dict = {}\n",
    "\n",
    "# Group by Storm Name to handle multiple DateTimes for each storm\n",
    "storm_groups = storm_data.groupby(\"Storm Name\")\n",
    "\n",
    "# Process each storm\n",
    "for storm_name, group in storm_groups:\n",
    "    # Prepare to accumulate unique dates, months, and times\n",
    "    year_set = set()\n",
    "    month_set = set()\n",
    "    day_set = set()\n",
    "    time_set = set()\n",
    "    \n",
    "    # Prepare to calculate area bounds\n",
    "    latitudes = group[\"Latitude (°N)\"]\n",
    "    longitudes = group[\"Longitude (°E)\"]\n",
    "    \n",
    "    # Extract area bounds (min/max latitude/longitude with ±1 adjustment)\n",
    "    area = [\n",
    "        int(latitudes.max()) + 2,  # North\n",
    "        int(longitudes.min()) - 2, # West\n",
    "        int(latitudes.min()) - 2,  # South\n",
    "        int(longitudes.max()) + 2  # East\n",
    "    ]\n",
    "    \n",
    "    # Process datetime and gather all unique components\n",
    "    for datetime_str in group[\"DateTime(UTC)\"]:\n",
    "        # Parse datetime\n",
    "        dt = datetime.strptime(str(datetime_str), \"%Y%m%d%H\")\n",
    "        year_set.add(str(dt.year))\n",
    "        month_set.add(f\"{dt.month:02}\")\n",
    "        day_set.add(f\"{dt.day:02}\")\n",
    "        time_set.add(f\"{dt.hour:02}:00\")\n",
    "    \n",
    "    # Construct the request dictionary for the storm\n",
    "    request = {\n",
    "        \"product_type\": [\"reanalysis\"],\n",
    "        \"variable\": [\n",
    "            \"sea_surface_temperature\",\n",
    "            \"surface_pressure\"\n",
    "        ],\n",
    "        \"year\": sorted(list(year_set)),\n",
    "        \"month\": sorted(list(month_set)),\n",
    "        \"day\": sorted(list(day_set)),\n",
    "        \"time\": sorted(list(time_set)),\n",
    "        \"data_format\": \"grib\",\n",
    "        \"download_format\": \"unarchived\",\n",
    "        \"area\": area\n",
    "    }\n",
    "    \n",
    "    # Add the request to the dictionary with Storm Name as the key\n",
    "    requests_dict[storm_name] = request\n",
    "\n",
    "# Save the requests dictionary to a JSON file\n",
    "output_path = \"/home/dl392/data/yiwei/typhoon/EAR5/storm_requests.json\"\n",
    "with open(output_path, \"w\") as json_file:\n",
    "    json.dump(requests_dict, json_file, indent=4)\n",
    "\n",
    "output_path\n"
   ]
  },
  {
   "cell_type": "code",
   "execution_count": 1,
   "metadata": {},
   "outputs": [
    {
     "name": "stdout",
     "output_type": "stream",
     "text": [
      "转换完成，结果已保存到 /home/dl392/data/yiwei/typhoon/data_preprocess/best_track_records.csv_p3.csv\n"
     ]
    }
   ],
   "source": [
    "import pandas as pd\n",
    "\n",
    "# 读取CSV文件\n",
    "input_file = \"/home/dl392/data/yiwei/typhoon/data_preprocess/best_track_records.csv_p2.csv\"  # 替换为你的输入文件名\n",
    "output_file = \"/home/dl392/data/yiwei/typhoon/data_preprocess/best_track_records.csv_p3.csv\"  # 替换为你的输出文件名\n",
    "\n",
    "# 加载CSV文件到DataFrame\n",
    "df = pd.read_csv(input_file)\n",
    "\n",
    "# 确保列名匹配\n",
    "if 'DateTime(UTC)' in df.columns:\n",
    "    # 转换DateTime(UTC)为标准时间格式\n",
    "    def convert_to_iso_format(dt):\n",
    "        try:\n",
    "            # 转换为字符串并解析\n",
    "            dt_str = str(dt)\n",
    "            year = dt_str[:4]\n",
    "            month = dt_str[4:6]\n",
    "            day = dt_str[6:8]\n",
    "            hour = dt_str[8:]\n",
    "            return f\"{year}-{month}-{day}T{hour}\"\n",
    "        except:\n",
    "            return None  # 处理格式错误的情况\n",
    "\n",
    "    # 创建新列并存储转换结果\n",
    "    df['ConvertedDateTime'] = df['DateTime(UTC)'].apply(convert_to_iso_format)\n",
    "\n",
    "    # 保存到新的CSV文件\n",
    "    df.to_csv(output_file, index=False)\n",
    "    print(f\"转换完成，结果已保存到 {output_file}\")\n",
    "else:\n",
    "    print(\"输入文件中未找到 'DateTime(UTC)' 列\")\n"
   ]
  },
  {
   "cell_type": "code",
   "execution_count": 7,
   "metadata": {},
   "outputs": [
    {
     "data": {
      "text/plain": [
       "{'product_type': ['reanalysis'],\n",
       " 'variable': ['sea_surface_temperature', 'surface_pressure'],\n",
       " 'year': ['1984'],\n",
       " 'month': ['06'],\n",
       " 'day': ['07', '08', '09', '10'],\n",
       " 'time': ['04:00', '10:00', '16:00', '22:00'],\n",
       " 'data_format': 'grib',\n",
       " 'download_format': 'unarchived',\n",
       " 'area': [19, 102, 10, 115]}"
      ]
     },
     "execution_count": 7,
     "metadata": {},
     "output_type": "execute_result"
    }
   ],
   "source": [
    "import json\n",
    "file_path=\"/home/dl392/data/yiwei/typhoon/EAR5/storm_requests.json\"\n",
    "with open(file_path, 'r', encoding='utf-8') as file:\n",
    "    data = json.load(file)\n",
    "data['Vernon']"
   ]
  },
  {
   "cell_type": "code",
   "execution_count": null,
   "metadata": {},
   "outputs": [
    {
     "name": "stderr",
     "output_type": "stream",
     "text": [
      "2024-11-19 09:17:05,810 INFO [2024-09-28T00:00:00] **Welcome to the New Climate Data Store (CDS)!** This new system is in its early days of full operations and still undergoing enhancements and fine tuning. Some disruptions are to be expected. Your \n",
      "[feedback](https://jira.ecmwf.int/plugins/servlet/desk/portal/1/create/202) is key to improve the user experience on the new CDS for the benefit of everyone. Thank you.\n",
      "2024-11-19 09:17:05,812 INFO [2024-09-26T00:00:00] Watch our [Forum](https://forum.ecmwf.int/) for Announcements, news and other discussed topics.\n",
      "2024-11-19 09:17:05,813 INFO [2024-09-16T00:00:00] Remember that you need to have an ECMWF account to use the new CDS. **Your old CDS credentials will not work in new CDS!**\n",
      "2024-11-19 09:17:05,813 WARNING [2024-06-16T00:00:00] CDS API syntax is changed and some keys or parameter names may have also changed. To avoid requests failing, please use the \"Show API request code\" tool on the dataset Download Form to check you are using the correct syntax for your API request.\n",
      "2024-11-19 09:17:07,026 WARNING [2024-10-10T00:00:00] The final validated ERA5 differs from ERA5T from July 2024 until further notice - please refer to our\n",
      "[Forum announcement](https://forum.ecmwf.int/t/final-validated-era5-product-to-differ-from-era5t-in-july-2024/6685)\n",
      "for details and watch it for further updates on this.\n",
      "2024-11-19 09:17:07,027 INFO Request ID is cdad42f9-9403-4770-8c97-833c0ab8be21\n",
      "2024-11-19 09:17:07,253 INFO status has been updated to accepted\n",
      "2024-11-19 09:17:18,640 INFO status has been updated to running\n",
      "2024-11-19 09:17:31,809 INFO status has been updated to successful\n",
      "Ignoring index file '/home/dl392/data/yiwei/typhoon/EAR5/temp.grib.5b7b6.idx' older than GRIB file\n",
      "Ignoring index file '/home/dl392/data/yiwei/typhoon/EAR5/temp.grib.5b7b6.idx' older than GRIB file\n",
      "Ignoring index file '/home/dl392/data/yiwei/typhoon/EAR5/temp.grib.5b7b6.idx' older than GRIB file\n",
      "Ignoring index file '/home/dl392/data/yiwei/typhoon/EAR5/temp.grib.5b7b6.idx' older than GRIB file\n",
      "Ignoring index file '/home/dl392/data/yiwei/typhoon/EAR5/temp.grib.5b7b6.idx' older than GRIB file\n",
      "Ignoring index file '/home/dl392/data/yiwei/typhoon/EAR5/temp.grib.5b7b6.idx' older than GRIB file\n",
      "Ignoring index file '/home/dl392/data/yiwei/typhoon/EAR5/temp.grib.5b7b6.idx' older than GRIB file\n",
      "Ignoring index file '/home/dl392/data/yiwei/typhoon/EAR5/temp.grib.5b7b6.idx' older than GRIB file\n",
      "Ignoring index file '/home/dl392/data/yiwei/typhoon/EAR5/temp.grib.5b7b6.idx' older than GRIB file\n",
      "Ignoring index file '/home/dl392/data/yiwei/typhoon/EAR5/temp.grib.5b7b6.idx' older than GRIB file\n",
      "Ignoring index file '/home/dl392/data/yiwei/typhoon/EAR5/temp.grib.5b7b6.idx' older than GRIB file\n",
      "Ignoring index file '/home/dl392/data/yiwei/typhoon/EAR5/temp.grib.5b7b6.idx' older than GRIB file\n",
      "Ignoring index file '/home/dl392/data/yiwei/typhoon/EAR5/temp.grib.5b7b6.idx' older than GRIB file\n",
      "2024-11-19 09:17:36,751 WARNING [2024-10-10T00:00:00] The final validated ERA5 differs from ERA5T from July 2024 until further notice - please refer to our\n",
      "[Forum announcement](https://forum.ecmwf.int/t/final-validated-era5-product-to-differ-from-era5t-in-july-2024/6685)\n",
      "for details and watch it for further updates on this.\n",
      "2024-11-19 09:17:36,752 INFO Request ID is bd290a87-121f-4fa5-b324-0d66b8c3a06e\n",
      "2024-11-19 09:17:36,974 INFO status has been updated to accepted\n",
      "2024-11-19 09:17:40,062 INFO status has been updated to running\n",
      "2024-11-19 09:17:59,213 INFO status has been updated to successful\n",
      "Ignoring index file '/home/dl392/data/yiwei/typhoon/EAR5/temp.grib.5b7b6.idx' older than GRIB file\n",
      "Ignoring index file '/home/dl392/data/yiwei/typhoon/EAR5/temp.grib.5b7b6.idx' older than GRIB file\n",
      "Ignoring index file '/home/dl392/data/yiwei/typhoon/EAR5/temp.grib.5b7b6.idx' older than GRIB file\n",
      "Ignoring index file '/home/dl392/data/yiwei/typhoon/EAR5/temp.grib.5b7b6.idx' older than GRIB file\n",
      "Ignoring index file '/home/dl392/data/yiwei/typhoon/EAR5/temp.grib.5b7b6.idx' older than GRIB file\n",
      "Ignoring index file '/home/dl392/data/yiwei/typhoon/EAR5/temp.grib.5b7b6.idx' older than GRIB file\n",
      "Ignoring index file '/home/dl392/data/yiwei/typhoon/EAR5/temp.grib.5b7b6.idx' older than GRIB file\n",
      "Ignoring index file '/home/dl392/data/yiwei/typhoon/EAR5/temp.grib.5b7b6.idx' older than GRIB file\n",
      "Ignoring index file '/home/dl392/data/yiwei/typhoon/EAR5/temp.grib.5b7b6.idx' older than GRIB file\n",
      "Ignoring index file '/home/dl392/data/yiwei/typhoon/EAR5/temp.grib.5b7b6.idx' older than GRIB file\n",
      "Ignoring index file '/home/dl392/data/yiwei/typhoon/EAR5/temp.grib.5b7b6.idx' older than GRIB file\n",
      "Ignoring index file '/home/dl392/data/yiwei/typhoon/EAR5/temp.grib.5b7b6.idx' older than GRIB file\n",
      "Ignoring index file '/home/dl392/data/yiwei/typhoon/EAR5/temp.grib.5b7b6.idx' older than GRIB file\n",
      "Ignoring index file '/home/dl392/data/yiwei/typhoon/EAR5/temp.grib.5b7b6.idx' older than GRIB file\n",
      "Ignoring index file '/home/dl392/data/yiwei/typhoon/EAR5/temp.grib.5b7b6.idx' older than GRIB file\n",
      "Ignoring index file '/home/dl392/data/yiwei/typhoon/EAR5/temp.grib.5b7b6.idx' older than GRIB file\n",
      "Ignoring index file '/home/dl392/data/yiwei/typhoon/EAR5/temp.grib.5b7b6.idx' older than GRIB file\n",
      "Ignoring index file '/home/dl392/data/yiwei/typhoon/EAR5/temp.grib.5b7b6.idx' older than GRIB file\n",
      "Ignoring index file '/home/dl392/data/yiwei/typhoon/EAR5/temp.grib.5b7b6.idx' older than GRIB file\n",
      "Ignoring index file '/home/dl392/data/yiwei/typhoon/EAR5/temp.grib.5b7b6.idx' older than GRIB file\n",
      "Ignoring index file '/home/dl392/data/yiwei/typhoon/EAR5/temp.grib.5b7b6.idx' older than GRIB file\n",
      "Ignoring index file '/home/dl392/data/yiwei/typhoon/EAR5/temp.grib.5b7b6.idx' older than GRIB file\n",
      "Ignoring index file '/home/dl392/data/yiwei/typhoon/EAR5/temp.grib.5b7b6.idx' older than GRIB file\n",
      "Ignoring index file '/home/dl392/data/yiwei/typhoon/EAR5/temp.grib.5b7b6.idx' older than GRIB file\n",
      "Ignoring index file '/home/dl392/data/yiwei/typhoon/EAR5/temp.grib.5b7b6.idx' older than GRIB file\n",
      "Ignoring index file '/home/dl392/data/yiwei/typhoon/EAR5/temp.grib.5b7b6.idx' older than GRIB file\n",
      "Ignoring index file '/home/dl392/data/yiwei/typhoon/EAR5/temp.grib.5b7b6.idx' older than GRIB file\n",
      "Ignoring index file '/home/dl392/data/yiwei/typhoon/EAR5/temp.grib.5b7b6.idx' older than GRIB file\n",
      "Ignoring index file '/home/dl392/data/yiwei/typhoon/EAR5/temp.grib.5b7b6.idx' older than GRIB file\n",
      "Ignoring index file '/home/dl392/data/yiwei/typhoon/EAR5/temp.grib.5b7b6.idx' older than GRIB file\n",
      "Ignoring index file '/home/dl392/data/yiwei/typhoon/EAR5/temp.grib.5b7b6.idx' older than GRIB file\n",
      "Ignoring index file '/home/dl392/data/yiwei/typhoon/EAR5/temp.grib.5b7b6.idx' older than GRIB file\n",
      "Ignoring index file '/home/dl392/data/yiwei/typhoon/EAR5/temp.grib.5b7b6.idx' older than GRIB file\n",
      "Ignoring index file '/home/dl392/data/yiwei/typhoon/EAR5/temp.grib.5b7b6.idx' older than GRIB file\n",
      "Ignoring index file '/home/dl392/data/yiwei/typhoon/EAR5/temp.grib.5b7b6.idx' older than GRIB file\n",
      "Ignoring index file '/home/dl392/data/yiwei/typhoon/EAR5/temp.grib.5b7b6.idx' older than GRIB file\n",
      "Ignoring index file '/home/dl392/data/yiwei/typhoon/EAR5/temp.grib.5b7b6.idx' older than GRIB file\n",
      "Ignoring index file '/home/dl392/data/yiwei/typhoon/EAR5/temp.grib.5b7b6.idx' older than GRIB file\n",
      "Ignoring index file '/home/dl392/data/yiwei/typhoon/EAR5/temp.grib.5b7b6.idx' older than GRIB file\n",
      "Ignoring index file '/home/dl392/data/yiwei/typhoon/EAR5/temp.grib.5b7b6.idx' older than GRIB file\n",
      "Ignoring index file '/home/dl392/data/yiwei/typhoon/EAR5/temp.grib.5b7b6.idx' older than GRIB file\n",
      "Ignoring index file '/home/dl392/data/yiwei/typhoon/EAR5/temp.grib.5b7b6.idx' older than GRIB file\n",
      "Ignoring index file '/home/dl392/data/yiwei/typhoon/EAR5/temp.grib.5b7b6.idx' older than GRIB file\n",
      "Ignoring index file '/home/dl392/data/yiwei/typhoon/EAR5/temp.grib.5b7b6.idx' older than GRIB file\n",
      "Ignoring index file '/home/dl392/data/yiwei/typhoon/EAR5/temp.grib.5b7b6.idx' older than GRIB file\n",
      "2024-11-19 09:18:07,238 WARNING [2024-10-10T00:00:00] The final validated ERA5 differs from ERA5T from July 2024 until further notice - please refer to our\n",
      "[Forum announcement](https://forum.ecmwf.int/t/final-validated-era5-product-to-differ-from-era5t-in-july-2024/6685)\n",
      "for details and watch it for further updates on this.\n",
      "2024-11-19 09:18:07,240 INFO Request ID is db1c515c-e1b3-4841-b20f-83f2737c824a\n",
      "2024-11-19 09:18:08,171 INFO status has been updated to accepted\n",
      "2024-11-19 09:18:10,973 INFO status has been updated to running\n",
      "2024-11-19 09:20:05,736 INFO status has been updated to successful\n",
      "Ignoring index file '/home/dl392/data/yiwei/typhoon/EAR5/temp.grib.5b7b6.idx' older than GRIB file\n",
      "Ignoring index file '/home/dl392/data/yiwei/typhoon/EAR5/temp.grib.5b7b6.idx' older than GRIB file\n",
      "Ignoring index file '/home/dl392/data/yiwei/typhoon/EAR5/temp.grib.5b7b6.idx' older than GRIB file\n",
      "Ignoring index file '/home/dl392/data/yiwei/typhoon/EAR5/temp.grib.5b7b6.idx' older than GRIB file\n",
      "Ignoring index file '/home/dl392/data/yiwei/typhoon/EAR5/temp.grib.5b7b6.idx' older than GRIB file\n",
      "Ignoring index file '/home/dl392/data/yiwei/typhoon/EAR5/temp.grib.5b7b6.idx' older than GRIB file\n",
      "Ignoring index file '/home/dl392/data/yiwei/typhoon/EAR5/temp.grib.5b7b6.idx' older than GRIB file\n",
      "Ignoring index file '/home/dl392/data/yiwei/typhoon/EAR5/temp.grib.5b7b6.idx' older than GRIB file\n",
      "Ignoring index file '/home/dl392/data/yiwei/typhoon/EAR5/temp.grib.5b7b6.idx' older than GRIB file\n",
      "Ignoring index file '/home/dl392/data/yiwei/typhoon/EAR5/temp.grib.5b7b6.idx' older than GRIB file\n",
      "Ignoring index file '/home/dl392/data/yiwei/typhoon/EAR5/temp.grib.5b7b6.idx' older than GRIB file\n",
      "Ignoring index file '/home/dl392/data/yiwei/typhoon/EAR5/temp.grib.5b7b6.idx' older than GRIB file\n",
      "Ignoring index file '/home/dl392/data/yiwei/typhoon/EAR5/temp.grib.5b7b6.idx' older than GRIB file\n",
      "Ignoring index file '/home/dl392/data/yiwei/typhoon/EAR5/temp.grib.5b7b6.idx' older than GRIB file\n",
      "Ignoring index file '/home/dl392/data/yiwei/typhoon/EAR5/temp.grib.5b7b6.idx' older than GRIB file\n",
      "Ignoring index file '/home/dl392/data/yiwei/typhoon/EAR5/temp.grib.5b7b6.idx' older than GRIB file\n",
      "Ignoring index file '/home/dl392/data/yiwei/typhoon/EAR5/temp.grib.5b7b6.idx' older than GRIB file\n",
      "Ignoring index file '/home/dl392/data/yiwei/typhoon/EAR5/temp.grib.5b7b6.idx' older than GRIB file\n",
      "Ignoring index file '/home/dl392/data/yiwei/typhoon/EAR5/temp.grib.5b7b6.idx' older than GRIB file\n",
      "Ignoring index file '/home/dl392/data/yiwei/typhoon/EAR5/temp.grib.5b7b6.idx' older than GRIB file\n",
      "Ignoring index file '/home/dl392/data/yiwei/typhoon/EAR5/temp.grib.5b7b6.idx' older than GRIB file\n",
      "Ignoring index file '/home/dl392/data/yiwei/typhoon/EAR5/temp.grib.5b7b6.idx' older than GRIB file\n",
      "Ignoring index file '/home/dl392/data/yiwei/typhoon/EAR5/temp.grib.5b7b6.idx' older than GRIB file\n",
      "Ignoring index file '/home/dl392/data/yiwei/typhoon/EAR5/temp.grib.5b7b6.idx' older than GRIB file\n",
      "2024-11-19 09:20:24,295 WARNING [2024-10-10T00:00:00] The final validated ERA5 differs from ERA5T from July 2024 until further notice - please refer to our\n",
      "[Forum announcement](https://forum.ecmwf.int/t/final-validated-era5-product-to-differ-from-era5t-in-july-2024/6685)\n",
      "for details and watch it for further updates on this.\n",
      "2024-11-19 09:20:24,297 INFO Request ID is f07aebf0-b2ee-44a9-b2eb-261384482c9b\n",
      "2024-11-19 09:20:24,516 INFO status has been updated to accepted\n",
      "2024-11-19 09:20:27,635 INFO status has been updated to running\n",
      "2024-11-19 09:20:30,436 INFO status has been updated to accepted\n",
      "2024-11-19 09:20:34,091 INFO status has been updated to running\n"
     ]
    }
   ],
   "source": [
    "import pandas as pd\n",
    "import json\n",
    "import cdsapi\n",
    "import xarray as xr\n",
    "\n",
    "# 配置路径和参数\n",
    "csv_file = \"/home/dl392/data/yiwei/typhoon/data_preprocess/best_track_records.csv_p3.csv\"\n",
    "json_file = \"/home/dl392/data/yiwei/typhoon/EAR5/storm_requests.json\"\n",
    "output_csv = \"/home/dl392/data/yiwei/typhoon/data_preprocess/best_track_records.csv_p4.csv\"\n",
    "DATADIR = '/home/dl392/data/yiwei/typhoon/EAR5/'\n",
    "dataset = \"reanalysis-era5-single-levels\"\n",
    "URL = 'https://cds-beta.climate.copernicus.eu/api'\n",
    "KEY = '0d9a33a4-3541-4c92-ac8e-b8314c2ee0f4'\n",
    "\n",
    "# 初始化 CDSAPI 客户端\n",
    "client = cdsapi.Client(url=URL, key=KEY)\n",
    "\n",
    "# 读取 CSV 和 JSON 文件\n",
    "df = pd.read_csv(csv_file)\n",
    "with open(json_file, 'r') as f:\n",
    "    requests_data = json.load(f)\n",
    "\n",
    "# 初始化已处理的 Storm Name 集合\n",
    "processed_storms = set()\n",
    "\n",
    "# 新增列\n",
    "df['sst'] = None\n",
    "df['sp'] = None\n",
    "\n",
    "# 遍历 CSV\n",
    "for index, row in df.iterrows():\n",
    "    storm_name = row['Storm Name']\n",
    "    latitude = row['Latitude (°N)']\n",
    "    longitude = row['Longitude (°E)']\n",
    "    time = row['ConvertedDateTime']\n",
    "    \n",
    "    # 如果是第一次遇到该 Storm Name\n",
    "    if storm_name not in processed_storms:\n",
    "        # 获取对应的 request 数据\n",
    "        if storm_name not in requests_data:\n",
    "            print(f\"Warning: Storm Name {storm_name} not found in JSON file.\")\n",
    "            continue\n",
    "        \n",
    "        request = requests_data[storm_name]\n",
    "        \n",
    "        # 下载 ERA5 数据\n",
    "        try:\n",
    "            client.retrieve(dataset, request, f'{DATADIR}temp.grib')\n",
    "        except Exception as e:\n",
    "            print(f\"Error retrieving data for {storm_name}: {e}\")\n",
    "            continue\n",
    "\n",
    "        # 标记为已处理\n",
    "        processed_storms.add(storm_name)\n",
    "\n",
    "    # 加载 GRIB 数据\n",
    "    try:\n",
    "        ds = xr.open_dataset(f\"{DATADIR}temp.grib\", engine=\"cfgrib\")\n",
    "    except Exception as e:\n",
    "        print(f\"Error opening GRIB file: {e}\")\n",
    "        continue\n",
    "\n",
    "    # 提取 sst 和 sp\n",
    "    try:\n",
    "        sst = ds['sst'].sel(time=time, latitude=latitude, longitude=longitude, method=\"nearest\").values\n",
    "        sp = ds['sp'].sel(time=time, latitude=latitude, longitude=longitude, method=\"nearest\").values\n",
    "        \n",
    "    except Exception as e:\n",
    "        print(f\"Error selecting data for {storm_name} at index {index}: {e}\")\n",
    "        continue\n",
    "\n",
    "    # 保存到新的列\n",
    "    df.at[index, 'sst'] = sst\n",
    "    df.at[index, 'sp'] = sp\n",
    "    print(storm_name, \"finished\")\n",
    "\n",
    "# 保存更新后的 CSV\n",
    "df.to_csv(output_csv, index=False)\n",
    "print(f\"Updated CSV saved to {output_csv}\")\n"
   ]
  },
  {
   "cell_type": "code",
   "execution_count": 12,
   "metadata": {},
   "outputs": [
    {
     "data": {
      "text/plain": [
       "299.739015"
      ]
     },
     "execution_count": 12,
     "metadata": {},
     "output_type": "execute_result"
    }
   ],
   "source": [
    "(300.38013+299.0979)/2"
   ]
  },
  {
   "cell_type": "code",
   "execution_count": 16,
   "metadata": {},
   "outputs": [
    {
     "name": "stderr",
     "output_type": "stream",
     "text": [
      "2024-11-24 01:58:59,876 INFO [2024-09-28T00:00:00] **Welcome to the New Climate Data Store (CDS)!** This new system is in its early days of full operations and still undergoing enhancements and fine tuning. Some disruptions are to be expected. Your \n",
      "[feedback](https://jira.ecmwf.int/plugins/servlet/desk/portal/1/create/202) is key to improve the user experience on the new CDS for the benefit of everyone. Thank you.\n",
      "2024-11-24 01:58:59,878 INFO [2024-09-26T00:00:00] Watch our [Forum](https://forum.ecmwf.int/) for Announcements, news and other discussed topics.\n",
      "2024-11-24 01:58:59,879 INFO [2024-09-16T00:00:00] Remember that you need to have an ECMWF account to use the new CDS. **Your old CDS credentials will not work in new CDS!**\n",
      "2024-11-24 01:58:59,881 WARNING [2024-06-16T00:00:00] CDS API syntax is changed and some keys or parameter names may have also changed. To avoid requests failing, please use the \"Show API request code\" tool on the dataset Download Form to check you are using the correct syntax for your API request.\n"
     ]
    },
    {
     "name": "stdout",
     "output_type": "stream",
     "text": [
      "Processing  Vernon\n"
     ]
    },
    {
     "name": "stderr",
     "output_type": "stream",
     "text": [
      "2024-11-24 01:59:00,920 WARNING [2024-10-10T00:00:00] The final validated ERA5 differs from ERA5T from July 2024 until further notice - please refer to our\n",
      "[Forum announcement](https://forum.ecmwf.int/t/final-validated-era5-product-to-differ-from-era5t-in-july-2024/6685)\n",
      "for details and watch it for further updates on this.\n",
      "2024-11-24 01:59:00,922 INFO Request ID is 0aeb859a-d8a4-4bc6-ac1a-d9ad096f9419\n",
      "2024-11-24 01:59:01,192 INFO status has been updated to accepted\n",
      "2024-11-24 01:59:05,532 INFO status has been updated to running\n",
      "2024-11-24 01:59:08,021 INFO status has been updated to successful\n",
      "Ignoring index file '/home/dl392/data/yiwei/typhoon/EAR5/temp.grib.5b7b6.idx' older than GRIB file\n",
      "Ignoring index file '/home/dl392/data/yiwei/typhoon/EAR5/temp.grib.5b7b6.idx' older than GRIB file\n"
     ]
    },
    {
     "name": "stdout",
     "output_type": "stream",
     "text": [
      "Vernon  is finished\n",
      "Processing  Vernon\n"
     ]
    },
    {
     "name": "stderr",
     "output_type": "stream",
     "text": [
      "Ignoring index file '/home/dl392/data/yiwei/typhoon/EAR5/temp.grib.5b7b6.idx' older than GRIB file\n"
     ]
    },
    {
     "name": "stdout",
     "output_type": "stream",
     "text": [
      "Vernon  is finished\n",
      "Processing  Vernon\n"
     ]
    },
    {
     "name": "stderr",
     "output_type": "stream",
     "text": [
      "Ignoring index file '/home/dl392/data/yiwei/typhoon/EAR5/temp.grib.5b7b6.idx' older than GRIB file\n"
     ]
    },
    {
     "name": "stdout",
     "output_type": "stream",
     "text": [
      "Vernon  is finished\n",
      "Processing  Vernon\n"
     ]
    },
    {
     "name": "stderr",
     "output_type": "stream",
     "text": [
      "Ignoring index file '/home/dl392/data/yiwei/typhoon/EAR5/temp.grib.5b7b6.idx' older than GRIB file\n"
     ]
    },
    {
     "name": "stdout",
     "output_type": "stream",
     "text": [
      "Vernon  is finished\n",
      "Processing  Vernon\n"
     ]
    },
    {
     "name": "stderr",
     "output_type": "stream",
     "text": [
      "Ignoring index file '/home/dl392/data/yiwei/typhoon/EAR5/temp.grib.5b7b6.idx' older than GRIB file\n"
     ]
    },
    {
     "name": "stdout",
     "output_type": "stream",
     "text": [
      "Vernon  is finished\n",
      "Processing  Vernon\n"
     ]
    },
    {
     "name": "stderr",
     "output_type": "stream",
     "text": [
      "Ignoring index file '/home/dl392/data/yiwei/typhoon/EAR5/temp.grib.5b7b6.idx' older than GRIB file\n"
     ]
    },
    {
     "name": "stdout",
     "output_type": "stream",
     "text": [
      "Vernon  is finished\n",
      "Processing  Vernon\n"
     ]
    },
    {
     "name": "stderr",
     "output_type": "stream",
     "text": [
      "Ignoring index file '/home/dl392/data/yiwei/typhoon/EAR5/temp.grib.5b7b6.idx' older than GRIB file\n"
     ]
    },
    {
     "name": "stdout",
     "output_type": "stream",
     "text": [
      "Vernon  is finished\n",
      "Processing  Vernon\n"
     ]
    },
    {
     "name": "stderr",
     "output_type": "stream",
     "text": [
      "Ignoring index file '/home/dl392/data/yiwei/typhoon/EAR5/temp.grib.5b7b6.idx' older than GRIB file\n"
     ]
    },
    {
     "name": "stdout",
     "output_type": "stream",
     "text": [
      "Vernon  is finished\n",
      "Processing  Vernon\n"
     ]
    },
    {
     "name": "stderr",
     "output_type": "stream",
     "text": [
      "Ignoring index file '/home/dl392/data/yiwei/typhoon/EAR5/temp.grib.5b7b6.idx' older than GRIB file\n"
     ]
    },
    {
     "name": "stdout",
     "output_type": "stream",
     "text": [
      "Vernon  is finished\n",
      "Processing  Vernon\n"
     ]
    },
    {
     "name": "stderr",
     "output_type": "stream",
     "text": [
      "Ignoring index file '/home/dl392/data/yiwei/typhoon/EAR5/temp.grib.5b7b6.idx' older than GRIB file\n"
     ]
    },
    {
     "name": "stdout",
     "output_type": "stream",
     "text": [
      "Vernon  is finished\n",
      "Processing  Vernon\n",
      "Vernon  is finished\n",
      "Processing  Ophelia\n"
     ]
    },
    {
     "name": "stderr",
     "output_type": "stream",
     "text": [
      "2024-11-24 01:59:32,107 WARNING [2024-10-10T00:00:00] The final validated ERA5 differs from ERA5T from July 2024 until further notice - please refer to our\n",
      "[Forum announcement](https://forum.ecmwf.int/t/final-validated-era5-product-to-differ-from-era5t-in-july-2024/6685)\n",
      "for details and watch it for further updates on this.\n",
      "2024-11-24 01:59:32,108 INFO Request ID is 28f58f58-c467-45de-8110-f84cf54fc099\n",
      "2024-11-24 01:59:32,340 INFO status has been updated to accepted\n",
      "2024-11-24 01:59:35,332 INFO status has been updated to running\n",
      "2024-11-24 01:59:37,804 INFO status has been updated to successful\n",
      "Ignoring index file '/home/dl392/data/yiwei/typhoon/EAR5/temp.grib.5b7b6.idx' older than GRIB file\n",
      "Ignoring index file '/home/dl392/data/yiwei/typhoon/EAR5/temp.grib.5b7b6.idx' older than GRIB file\n"
     ]
    },
    {
     "name": "stdout",
     "output_type": "stream",
     "text": [
      "Ophelia  is finished\n",
      "Processing  Ophelia\n"
     ]
    },
    {
     "name": "stderr",
     "output_type": "stream",
     "text": [
      "Ignoring index file '/home/dl392/data/yiwei/typhoon/EAR5/temp.grib.5b7b6.idx' older than GRIB file\n"
     ]
    },
    {
     "name": "stdout",
     "output_type": "stream",
     "text": [
      "Ophelia  is finished\n",
      "Processing  Ophelia\n"
     ]
    },
    {
     "name": "stderr",
     "output_type": "stream",
     "text": [
      "Ignoring index file '/home/dl392/data/yiwei/typhoon/EAR5/temp.grib.5b7b6.idx' older than GRIB file\n"
     ]
    },
    {
     "name": "stdout",
     "output_type": "stream",
     "text": [
      "Ophelia  is finished\n",
      "Processing  Ophelia\n"
     ]
    },
    {
     "name": "stderr",
     "output_type": "stream",
     "text": [
      "Ignoring index file '/home/dl392/data/yiwei/typhoon/EAR5/temp.grib.5b7b6.idx' older than GRIB file\n"
     ]
    },
    {
     "name": "stdout",
     "output_type": "stream",
     "text": [
      "Ophelia  is finished\n",
      "Processing  Ophelia\n"
     ]
    },
    {
     "name": "stderr",
     "output_type": "stream",
     "text": [
      "Ignoring index file '/home/dl392/data/yiwei/typhoon/EAR5/temp.grib.5b7b6.idx' older than GRIB file\n"
     ]
    },
    {
     "name": "stdout",
     "output_type": "stream",
     "text": [
      "Ophelia  is finished\n",
      "Processing  Ophelia\n"
     ]
    },
    {
     "name": "stderr",
     "output_type": "stream",
     "text": [
      "Ignoring index file '/home/dl392/data/yiwei/typhoon/EAR5/temp.grib.5b7b6.idx' older than GRIB file\n"
     ]
    },
    {
     "name": "stdout",
     "output_type": "stream",
     "text": [
      "Ophelia  is finished\n",
      "Processing  Ophelia\n"
     ]
    },
    {
     "name": "stderr",
     "output_type": "stream",
     "text": [
      "Ignoring index file '/home/dl392/data/yiwei/typhoon/EAR5/temp.grib.5b7b6.idx' older than GRIB file\n"
     ]
    },
    {
     "name": "stdout",
     "output_type": "stream",
     "text": [
      "Ophelia  is finished\n",
      "Processing  Ophelia\n"
     ]
    },
    {
     "name": "stderr",
     "output_type": "stream",
     "text": [
      "Ignoring index file '/home/dl392/data/yiwei/typhoon/EAR5/temp.grib.5b7b6.idx' older than GRIB file\n"
     ]
    },
    {
     "name": "stdout",
     "output_type": "stream",
     "text": [
      "Ophelia  is finished\n",
      "Processing  Ophelia\n"
     ]
    },
    {
     "name": "stderr",
     "output_type": "stream",
     "text": [
      "Ignoring index file '/home/dl392/data/yiwei/typhoon/EAR5/temp.grib.5b7b6.idx' older than GRIB file\n"
     ]
    },
    {
     "name": "stdout",
     "output_type": "stream",
     "text": [
      "Ophelia  is finished\n",
      "Processing  Ophelia\n"
     ]
    },
    {
     "name": "stderr",
     "output_type": "stream",
     "text": [
      "Ignoring index file '/home/dl392/data/yiwei/typhoon/EAR5/temp.grib.5b7b6.idx' older than GRIB file\n"
     ]
    },
    {
     "name": "stdout",
     "output_type": "stream",
     "text": [
      "Ophelia  is finished\n",
      "Processing  Ophelia\n"
     ]
    },
    {
     "name": "stderr",
     "output_type": "stream",
     "text": [
      "Ignoring index file '/home/dl392/data/yiwei/typhoon/EAR5/temp.grib.5b7b6.idx' older than GRIB file\n"
     ]
    },
    {
     "name": "stdout",
     "output_type": "stream",
     "text": [
      "Ophelia  is finished\n",
      "Processing  Ophelia\n"
     ]
    },
    {
     "name": "stderr",
     "output_type": "stream",
     "text": [
      "Ignoring index file '/home/dl392/data/yiwei/typhoon/EAR5/temp.grib.5b7b6.idx' older than GRIB file\n"
     ]
    },
    {
     "name": "stdout",
     "output_type": "stream",
     "text": [
      "Ophelia  is finished\n",
      "Processing  Ophelia\n"
     ]
    },
    {
     "name": "stderr",
     "output_type": "stream",
     "text": [
      "Ignoring index file '/home/dl392/data/yiwei/typhoon/EAR5/temp.grib.5b7b6.idx' older than GRIB file\n"
     ]
    },
    {
     "name": "stdout",
     "output_type": "stream",
     "text": [
      "Ophelia  is finished\n",
      "Processing  Ophelia\n"
     ]
    },
    {
     "name": "stderr",
     "output_type": "stream",
     "text": [
      "Ignoring index file '/home/dl392/data/yiwei/typhoon/EAR5/temp.grib.5b7b6.idx' older than GRIB file\n"
     ]
    },
    {
     "name": "stdout",
     "output_type": "stream",
     "text": [
      "Ophelia  is finished\n",
      "Processing  Ophelia\n"
     ]
    },
    {
     "name": "stderr",
     "output_type": "stream",
     "text": [
      "Ignoring index file '/home/dl392/data/yiwei/typhoon/EAR5/temp.grib.5b7b6.idx' older than GRIB file\n"
     ]
    },
    {
     "name": "stdout",
     "output_type": "stream",
     "text": [
      "Ophelia  is finished\n",
      "Processing  Ophelia\n"
     ]
    },
    {
     "name": "stderr",
     "output_type": "stream",
     "text": [
      "Ignoring index file '/home/dl392/data/yiwei/typhoon/EAR5/temp.grib.5b7b6.idx' older than GRIB file\n"
     ]
    },
    {
     "name": "stdout",
     "output_type": "stream",
     "text": [
      "Ophelia  is finished\n",
      "Processing  Ophelia\n"
     ]
    },
    {
     "name": "stderr",
     "output_type": "stream",
     "text": [
      "Ignoring index file '/home/dl392/data/yiwei/typhoon/EAR5/temp.grib.5b7b6.idx' older than GRIB file\n"
     ]
    },
    {
     "name": "stdout",
     "output_type": "stream",
     "text": [
      "Ophelia  is finished\n",
      "Processing  Ophelia\n"
     ]
    },
    {
     "name": "stderr",
     "output_type": "stream",
     "text": [
      "Ignoring index file '/home/dl392/data/yiwei/typhoon/EAR5/temp.grib.5b7b6.idx' older than GRIB file\n"
     ]
    },
    {
     "name": "stdout",
     "output_type": "stream",
     "text": [
      "Ophelia  is finished\n",
      "Processing  Ophelia\n"
     ]
    },
    {
     "name": "stderr",
     "output_type": "stream",
     "text": [
      "Ignoring index file '/home/dl392/data/yiwei/typhoon/EAR5/temp.grib.5b7b6.idx' older than GRIB file\n"
     ]
    },
    {
     "name": "stdout",
     "output_type": "stream",
     "text": [
      "Ophelia  is finished\n",
      "Processing  Ophelia\n"
     ]
    },
    {
     "name": "stderr",
     "output_type": "stream",
     "text": [
      "Ignoring index file '/home/dl392/data/yiwei/typhoon/EAR5/temp.grib.5b7b6.idx' older than GRIB file\n"
     ]
    },
    {
     "name": "stdout",
     "output_type": "stream",
     "text": [
      "Ophelia  is finished\n",
      "Processing  Ophelia\n"
     ]
    },
    {
     "name": "stderr",
     "output_type": "stream",
     "text": [
      "Ignoring index file '/home/dl392/data/yiwei/typhoon/EAR5/temp.grib.5b7b6.idx' older than GRIB file\n"
     ]
    },
    {
     "name": "stdout",
     "output_type": "stream",
     "text": [
      "Ophelia  is finished\n",
      "Processing  Ophelia\n"
     ]
    },
    {
     "name": "stderr",
     "output_type": "stream",
     "text": [
      "Ignoring index file '/home/dl392/data/yiwei/typhoon/EAR5/temp.grib.5b7b6.idx' older than GRIB file\n"
     ]
    },
    {
     "name": "stdout",
     "output_type": "stream",
     "text": [
      "Ophelia  is finished\n",
      "Processing  Ophelia\n"
     ]
    },
    {
     "name": "stderr",
     "output_type": "stream",
     "text": [
      "Ignoring index file '/home/dl392/data/yiwei/typhoon/EAR5/temp.grib.5b7b6.idx' older than GRIB file\n"
     ]
    },
    {
     "name": "stdout",
     "output_type": "stream",
     "text": [
      "Ophelia  is finished\n",
      "Processing  Ophelia\n"
     ]
    },
    {
     "name": "stderr",
     "output_type": "stream",
     "text": [
      "Ignoring index file '/home/dl392/data/yiwei/typhoon/EAR5/temp.grib.5b7b6.idx' older than GRIB file\n"
     ]
    },
    {
     "name": "stdout",
     "output_type": "stream",
     "text": [
      "Ophelia  is finished\n",
      "Processing  Ophelia\n"
     ]
    },
    {
     "name": "stderr",
     "output_type": "stream",
     "text": [
      "Ignoring index file '/home/dl392/data/yiwei/typhoon/EAR5/temp.grib.5b7b6.idx' older than GRIB file\n"
     ]
    },
    {
     "name": "stdout",
     "output_type": "stream",
     "text": [
      "Ophelia  is finished\n",
      "Processing  Ophelia\n"
     ]
    },
    {
     "name": "stderr",
     "output_type": "stream",
     "text": [
      "Ignoring index file '/home/dl392/data/yiwei/typhoon/EAR5/temp.grib.5b7b6.idx' older than GRIB file\n"
     ]
    },
    {
     "name": "stdout",
     "output_type": "stream",
     "text": [
      "Ophelia  is finished\n",
      "Processing  Ophelia\n"
     ]
    },
    {
     "name": "stderr",
     "output_type": "stream",
     "text": [
      "Ignoring index file '/home/dl392/data/yiwei/typhoon/EAR5/temp.grib.5b7b6.idx' older than GRIB file\n"
     ]
    },
    {
     "name": "stdout",
     "output_type": "stream",
     "text": [
      "Ophelia  is finished\n",
      "Processing  Ophelia\n"
     ]
    },
    {
     "name": "stderr",
     "output_type": "stream",
     "text": [
      "Ignoring index file '/home/dl392/data/yiwei/typhoon/EAR5/temp.grib.5b7b6.idx' older than GRIB file\n"
     ]
    },
    {
     "name": "stdout",
     "output_type": "stream",
     "text": [
      "Ophelia  is finished\n",
      "Processing  Ophelia\n"
     ]
    },
    {
     "name": "stderr",
     "output_type": "stream",
     "text": [
      "Ignoring index file '/home/dl392/data/yiwei/typhoon/EAR5/temp.grib.5b7b6.idx' older than GRIB file\n"
     ]
    },
    {
     "name": "stdout",
     "output_type": "stream",
     "text": [
      "Ophelia  is finished\n",
      "Processing  Ophelia\n"
     ]
    },
    {
     "name": "stderr",
     "output_type": "stream",
     "text": [
      "Ignoring index file '/home/dl392/data/yiwei/typhoon/EAR5/temp.grib.5b7b6.idx' older than GRIB file\n"
     ]
    },
    {
     "name": "stdout",
     "output_type": "stream",
     "text": [
      "Ophelia  is finished\n",
      "Processing  Ophelia\n"
     ]
    },
    {
     "name": "stderr",
     "output_type": "stream",
     "text": [
      "Ignoring index file '/home/dl392/data/yiwei/typhoon/EAR5/temp.grib.5b7b6.idx' older than GRIB file\n"
     ]
    },
    {
     "name": "stdout",
     "output_type": "stream",
     "text": [
      "Ophelia  is finished\n",
      "Processing  Ophelia\n"
     ]
    },
    {
     "name": "stderr",
     "output_type": "stream",
     "text": [
      "Ignoring index file '/home/dl392/data/yiwei/typhoon/EAR5/temp.grib.5b7b6.idx' older than GRIB file\n"
     ]
    },
    {
     "name": "stdout",
     "output_type": "stream",
     "text": [
      "Ophelia  is finished\n",
      "Processing  Ophelia\n"
     ]
    },
    {
     "name": "stderr",
     "output_type": "stream",
     "text": [
      "Ignoring index file '/home/dl392/data/yiwei/typhoon/EAR5/temp.grib.5b7b6.idx' older than GRIB file\n"
     ]
    },
    {
     "name": "stdout",
     "output_type": "stream",
     "text": [
      "Ophelia  is finished\n",
      "Processing  Ophelia\n"
     ]
    },
    {
     "name": "stderr",
     "output_type": "stream",
     "text": [
      "Ignoring index file '/home/dl392/data/yiwei/typhoon/EAR5/temp.grib.5b7b6.idx' older than GRIB file\n"
     ]
    },
    {
     "name": "stdout",
     "output_type": "stream",
     "text": [
      "Ophelia  is finished\n",
      "Processing  Ophelia\n"
     ]
    },
    {
     "name": "stderr",
     "output_type": "stream",
     "text": [
      "Ignoring index file '/home/dl392/data/yiwei/typhoon/EAR5/temp.grib.5b7b6.idx' older than GRIB file\n"
     ]
    },
    {
     "name": "stdout",
     "output_type": "stream",
     "text": [
      "Ophelia  is finished\n",
      "Processing  Ophelia\n"
     ]
    },
    {
     "name": "stderr",
     "output_type": "stream",
     "text": [
      "Ignoring index file '/home/dl392/data/yiwei/typhoon/EAR5/temp.grib.5b7b6.idx' older than GRIB file\n"
     ]
    },
    {
     "name": "stdout",
     "output_type": "stream",
     "text": [
      "Ophelia  is finished\n",
      "Processing  Ophelia\n"
     ]
    },
    {
     "name": "stderr",
     "output_type": "stream",
     "text": [
      "Ignoring index file '/home/dl392/data/yiwei/typhoon/EAR5/temp.grib.5b7b6.idx' older than GRIB file\n"
     ]
    },
    {
     "name": "stdout",
     "output_type": "stream",
     "text": [
      "Ophelia  is finished\n",
      "Processing  Ophelia\n"
     ]
    },
    {
     "name": "stderr",
     "output_type": "stream",
     "text": [
      "Ignoring index file '/home/dl392/data/yiwei/typhoon/EAR5/temp.grib.5b7b6.idx' older than GRIB file\n"
     ]
    },
    {
     "name": "stdout",
     "output_type": "stream",
     "text": [
      "Ophelia  is finished\n",
      "Processing  Ophelia\n"
     ]
    },
    {
     "name": "stderr",
     "output_type": "stream",
     "text": [
      "Ignoring index file '/home/dl392/data/yiwei/typhoon/EAR5/temp.grib.5b7b6.idx' older than GRIB file\n"
     ]
    },
    {
     "name": "stdout",
     "output_type": "stream",
     "text": [
      "Ophelia  is finished\n",
      "Processing  Ophelia\n"
     ]
    },
    {
     "name": "stderr",
     "output_type": "stream",
     "text": [
      "Ignoring index file '/home/dl392/data/yiwei/typhoon/EAR5/temp.grib.5b7b6.idx' older than GRIB file\n"
     ]
    },
    {
     "name": "stdout",
     "output_type": "stream",
     "text": [
      "Ophelia  is finished\n",
      "Processing  Ophelia\n"
     ]
    },
    {
     "name": "stderr",
     "output_type": "stream",
     "text": [
      "Ignoring index file '/home/dl392/data/yiwei/typhoon/EAR5/temp.grib.5b7b6.idx' older than GRIB file\n"
     ]
    },
    {
     "name": "stdout",
     "output_type": "stream",
     "text": [
      "Ophelia  is finished\n",
      "Processing  Ophelia\n"
     ]
    },
    {
     "name": "stderr",
     "output_type": "stream",
     "text": [
      "Ignoring index file '/home/dl392/data/yiwei/typhoon/EAR5/temp.grib.5b7b6.idx' older than GRIB file\n"
     ]
    },
    {
     "name": "stdout",
     "output_type": "stream",
     "text": [
      "Ophelia  is finished\n",
      "Processing  Ophelia\n"
     ]
    },
    {
     "name": "stderr",
     "output_type": "stream",
     "text": [
      "Ignoring index file '/home/dl392/data/yiwei/typhoon/EAR5/temp.grib.5b7b6.idx' older than GRIB file\n"
     ]
    },
    {
     "name": "stdout",
     "output_type": "stream",
     "text": [
      "Ophelia  is finished\n",
      "Processing  Ophelia\n"
     ]
    },
    {
     "name": "stderr",
     "output_type": "stream",
     "text": [
      "Ignoring index file '/home/dl392/data/yiwei/typhoon/EAR5/temp.grib.5b7b6.idx' older than GRIB file\n"
     ]
    },
    {
     "name": "stdout",
     "output_type": "stream",
     "text": [
      "Ophelia  is finished\n",
      "Processing  Ophelia\n",
      "Ophelia  is finished\n",
      "Processing  Irma\n"
     ]
    },
    {
     "name": "stderr",
     "output_type": "stream",
     "text": [
      "2024-11-24 02:01:17,727 WARNING [2024-10-10T00:00:00] The final validated ERA5 differs from ERA5T from July 2024 until further notice - please refer to our\n",
      "[Forum announcement](https://forum.ecmwf.int/t/final-validated-era5-product-to-differ-from-era5t-in-july-2024/6685)\n",
      "for details and watch it for further updates on this.\n",
      "2024-11-24 02:01:17,728 INFO Request ID is f5e2ff2b-7b26-40be-ba7c-525abacbb275\n",
      "2024-11-24 02:01:20,042 INFO status has been updated to accepted\n",
      "2024-11-24 02:01:21,845 INFO status has been updated to successful\n",
      "Ignoring index file '/home/dl392/data/yiwei/typhoon/EAR5/temp.grib.5b7b6.idx' older than GRIB file\n",
      "Ignoring index file '/home/dl392/data/yiwei/typhoon/EAR5/temp.grib.5b7b6.idx' older than GRIB file\n"
     ]
    },
    {
     "name": "stdout",
     "output_type": "stream",
     "text": [
      "Irma  is finished\n",
      "Processing  Irma\n"
     ]
    },
    {
     "name": "stderr",
     "output_type": "stream",
     "text": [
      "Ignoring index file '/home/dl392/data/yiwei/typhoon/EAR5/temp.grib.5b7b6.idx' older than GRIB file\n"
     ]
    },
    {
     "name": "stdout",
     "output_type": "stream",
     "text": [
      "Irma  is finished\n",
      "Processing  Irma\n"
     ]
    },
    {
     "name": "stderr",
     "output_type": "stream",
     "text": [
      "Ignoring index file '/home/dl392/data/yiwei/typhoon/EAR5/temp.grib.5b7b6.idx' older than GRIB file\n"
     ]
    },
    {
     "name": "stdout",
     "output_type": "stream",
     "text": [
      "Irma  is finished\n",
      "Processing  Irma\n"
     ]
    },
    {
     "name": "stderr",
     "output_type": "stream",
     "text": [
      "Ignoring index file '/home/dl392/data/yiwei/typhoon/EAR5/temp.grib.5b7b6.idx' older than GRIB file\n"
     ]
    },
    {
     "name": "stdout",
     "output_type": "stream",
     "text": [
      "Irma  is finished\n",
      "Processing  Irma\n"
     ]
    },
    {
     "name": "stderr",
     "output_type": "stream",
     "text": [
      "Ignoring index file '/home/dl392/data/yiwei/typhoon/EAR5/temp.grib.5b7b6.idx' older than GRIB file\n"
     ]
    },
    {
     "name": "stdout",
     "output_type": "stream",
     "text": [
      "Irma  is finished\n",
      "Processing  Irma\n"
     ]
    },
    {
     "name": "stderr",
     "output_type": "stream",
     "text": [
      "Ignoring index file '/home/dl392/data/yiwei/typhoon/EAR5/temp.grib.5b7b6.idx' older than GRIB file\n"
     ]
    },
    {
     "name": "stdout",
     "output_type": "stream",
     "text": [
      "Irma  is finished\n",
      "Processing  Irma\n"
     ]
    },
    {
     "name": "stderr",
     "output_type": "stream",
     "text": [
      "Ignoring index file '/home/dl392/data/yiwei/typhoon/EAR5/temp.grib.5b7b6.idx' older than GRIB file\n"
     ]
    },
    {
     "name": "stdout",
     "output_type": "stream",
     "text": [
      "Irma  is finished\n",
      "Processing  Irma\n"
     ]
    },
    {
     "name": "stderr",
     "output_type": "stream",
     "text": [
      "Ignoring index file '/home/dl392/data/yiwei/typhoon/EAR5/temp.grib.5b7b6.idx' older than GRIB file\n"
     ]
    },
    {
     "name": "stdout",
     "output_type": "stream",
     "text": [
      "Irma  is finished\n",
      "Processing  Irma\n"
     ]
    },
    {
     "name": "stderr",
     "output_type": "stream",
     "text": [
      "Ignoring index file '/home/dl392/data/yiwei/typhoon/EAR5/temp.grib.5b7b6.idx' older than GRIB file\n"
     ]
    },
    {
     "name": "stdout",
     "output_type": "stream",
     "text": [
      "Irma  is finished\n",
      "Processing  Irma\n"
     ]
    },
    {
     "name": "stderr",
     "output_type": "stream",
     "text": [
      "Ignoring index file '/home/dl392/data/yiwei/typhoon/EAR5/temp.grib.5b7b6.idx' older than GRIB file\n"
     ]
    },
    {
     "name": "stdout",
     "output_type": "stream",
     "text": [
      "Irma  is finished\n",
      "Processing  Irma\n"
     ]
    },
    {
     "name": "stderr",
     "output_type": "stream",
     "text": [
      "Ignoring index file '/home/dl392/data/yiwei/typhoon/EAR5/temp.grib.5b7b6.idx' older than GRIB file\n"
     ]
    },
    {
     "name": "stdout",
     "output_type": "stream",
     "text": [
      "Irma  is finished\n",
      "Processing  Irma\n"
     ]
    },
    {
     "name": "stderr",
     "output_type": "stream",
     "text": [
      "Ignoring index file '/home/dl392/data/yiwei/typhoon/EAR5/temp.grib.5b7b6.idx' older than GRIB file\n"
     ]
    },
    {
     "name": "stdout",
     "output_type": "stream",
     "text": [
      "Irma  is finished\n",
      "Processing  Irma\n"
     ]
    },
    {
     "name": "stderr",
     "output_type": "stream",
     "text": [
      "Ignoring index file '/home/dl392/data/yiwei/typhoon/EAR5/temp.grib.5b7b6.idx' older than GRIB file\n"
     ]
    },
    {
     "name": "stdout",
     "output_type": "stream",
     "text": [
      "Irma  is finished\n",
      "Processing  Irma\n"
     ]
    },
    {
     "name": "stderr",
     "output_type": "stream",
     "text": [
      "Ignoring index file '/home/dl392/data/yiwei/typhoon/EAR5/temp.grib.5b7b6.idx' older than GRIB file\n"
     ]
    },
    {
     "name": "stdout",
     "output_type": "stream",
     "text": [
      "Irma  is finished\n",
      "Processing  Irma\n"
     ]
    },
    {
     "name": "stderr",
     "output_type": "stream",
     "text": [
      "Ignoring index file '/home/dl392/data/yiwei/typhoon/EAR5/temp.grib.5b7b6.idx' older than GRIB file\n"
     ]
    },
    {
     "name": "stdout",
     "output_type": "stream",
     "text": [
      "Irma  is finished\n",
      "Processing  Irma\n"
     ]
    },
    {
     "name": "stderr",
     "output_type": "stream",
     "text": [
      "Ignoring index file '/home/dl392/data/yiwei/typhoon/EAR5/temp.grib.5b7b6.idx' older than GRIB file\n"
     ]
    },
    {
     "name": "stdout",
     "output_type": "stream",
     "text": [
      "Irma  is finished\n",
      "Processing  Irma\n"
     ]
    },
    {
     "name": "stderr",
     "output_type": "stream",
     "text": [
      "Ignoring index file '/home/dl392/data/yiwei/typhoon/EAR5/temp.grib.5b7b6.idx' older than GRIB file\n"
     ]
    },
    {
     "name": "stdout",
     "output_type": "stream",
     "text": [
      "Irma  is finished\n",
      "Processing  Irma\n"
     ]
    },
    {
     "name": "stderr",
     "output_type": "stream",
     "text": [
      "Ignoring index file '/home/dl392/data/yiwei/typhoon/EAR5/temp.grib.5b7b6.idx' older than GRIB file\n"
     ]
    },
    {
     "name": "stdout",
     "output_type": "stream",
     "text": [
      "Irma  is finished\n",
      "Processing  Irma\n"
     ]
    },
    {
     "name": "stderr",
     "output_type": "stream",
     "text": [
      "Ignoring index file '/home/dl392/data/yiwei/typhoon/EAR5/temp.grib.5b7b6.idx' older than GRIB file\n"
     ]
    },
    {
     "name": "stdout",
     "output_type": "stream",
     "text": [
      "Irma  is finished\n",
      "Processing  Irma\n"
     ]
    },
    {
     "name": "stderr",
     "output_type": "stream",
     "text": [
      "Ignoring index file '/home/dl392/data/yiwei/typhoon/EAR5/temp.grib.5b7b6.idx' older than GRIB file\n"
     ]
    },
    {
     "name": "stdout",
     "output_type": "stream",
     "text": [
      "Irma  is finished\n",
      "Processing  Irma\n"
     ]
    },
    {
     "name": "stderr",
     "output_type": "stream",
     "text": [
      "Ignoring index file '/home/dl392/data/yiwei/typhoon/EAR5/temp.grib.5b7b6.idx' older than GRIB file\n"
     ]
    },
    {
     "name": "stdout",
     "output_type": "stream",
     "text": [
      "Irma  is finished\n",
      "Processing  Irma\n"
     ]
    },
    {
     "name": "stderr",
     "output_type": "stream",
     "text": [
      "Ignoring index file '/home/dl392/data/yiwei/typhoon/EAR5/temp.grib.5b7b6.idx' older than GRIB file\n"
     ]
    },
    {
     "name": "stdout",
     "output_type": "stream",
     "text": [
      "Irma  is finished\n",
      "Processing  Irma\n"
     ]
    },
    {
     "name": "stderr",
     "output_type": "stream",
     "text": [
      "Ignoring index file '/home/dl392/data/yiwei/typhoon/EAR5/temp.grib.5b7b6.idx' older than GRIB file\n"
     ]
    },
    {
     "name": "stdout",
     "output_type": "stream",
     "text": [
      "Irma  is finished\n",
      "Processing  Irma\n",
      "Irma  is finished\n",
      "Processing  Wanda\n"
     ]
    },
    {
     "name": "stderr",
     "output_type": "stream",
     "text": [
      "2024-11-24 02:02:33,698 WARNING [2024-10-10T00:00:00] The final validated ERA5 differs from ERA5T from July 2024 until further notice - please refer to our\n",
      "[Forum announcement](https://forum.ecmwf.int/t/final-validated-era5-product-to-differ-from-era5t-in-july-2024/6685)\n",
      "for details and watch it for further updates on this.\n",
      "2024-11-24 02:02:33,699 INFO Request ID is 2f968671-7d7c-4142-a44f-43d246375c70\n",
      "2024-11-24 02:02:33,910 INFO status has been updated to accepted\n",
      "2024-11-24 02:02:39,584 INFO status has been updated to successful\n",
      "Ignoring index file '/home/dl392/data/yiwei/typhoon/EAR5/temp.grib.5b7b6.idx' older than GRIB file\n",
      "Ignoring index file '/home/dl392/data/yiwei/typhoon/EAR5/temp.grib.5b7b6.idx' older than GRIB file\n"
     ]
    },
    {
     "name": "stdout",
     "output_type": "stream",
     "text": [
      "Wanda  is finished\n",
      "Processing  Wanda\n"
     ]
    },
    {
     "name": "stderr",
     "output_type": "stream",
     "text": [
      "Ignoring index file '/home/dl392/data/yiwei/typhoon/EAR5/temp.grib.5b7b6.idx' older than GRIB file\n"
     ]
    },
    {
     "name": "stdout",
     "output_type": "stream",
     "text": [
      "Wanda  is finished\n",
      "Processing  Wanda\n"
     ]
    },
    {
     "name": "stderr",
     "output_type": "stream",
     "text": [
      "Ignoring index file '/home/dl392/data/yiwei/typhoon/EAR5/temp.grib.5b7b6.idx' older than GRIB file\n"
     ]
    },
    {
     "name": "stdout",
     "output_type": "stream",
     "text": [
      "Wanda  is finished\n",
      "Processing  Wanda\n"
     ]
    },
    {
     "name": "stderr",
     "output_type": "stream",
     "text": [
      "Ignoring index file '/home/dl392/data/yiwei/typhoon/EAR5/temp.grib.5b7b6.idx' older than GRIB file\n"
     ]
    },
    {
     "name": "stdout",
     "output_type": "stream",
     "text": [
      "Wanda  is finished\n",
      "Processing  Wanda\n"
     ]
    },
    {
     "name": "stderr",
     "output_type": "stream",
     "text": [
      "Ignoring index file '/home/dl392/data/yiwei/typhoon/EAR5/temp.grib.5b7b6.idx' older than GRIB file\n"
     ]
    },
    {
     "name": "stdout",
     "output_type": "stream",
     "text": [
      "Wanda  is finished\n",
      "Processing  Wanda\n"
     ]
    },
    {
     "name": "stderr",
     "output_type": "stream",
     "text": [
      "Ignoring index file '/home/dl392/data/yiwei/typhoon/EAR5/temp.grib.5b7b6.idx' older than GRIB file\n"
     ]
    },
    {
     "name": "stdout",
     "output_type": "stream",
     "text": [
      "Wanda  is finished\n",
      "Processing  Wanda\n"
     ]
    },
    {
     "name": "stderr",
     "output_type": "stream",
     "text": [
      "Ignoring index file '/home/dl392/data/yiwei/typhoon/EAR5/temp.grib.5b7b6.idx' older than GRIB file\n"
     ]
    },
    {
     "name": "stdout",
     "output_type": "stream",
     "text": [
      "Wanda  is finished\n",
      "Processing  Wanda\n"
     ]
    },
    {
     "name": "stderr",
     "output_type": "stream",
     "text": [
      "Ignoring index file '/home/dl392/data/yiwei/typhoon/EAR5/temp.grib.5b7b6.idx' older than GRIB file\n"
     ]
    },
    {
     "name": "stdout",
     "output_type": "stream",
     "text": [
      "Wanda  is finished\n",
      "Processing  Wanda\n"
     ]
    },
    {
     "name": "stderr",
     "output_type": "stream",
     "text": [
      "Ignoring index file '/home/dl392/data/yiwei/typhoon/EAR5/temp.grib.5b7b6.idx' older than GRIB file\n"
     ]
    },
    {
     "name": "stdout",
     "output_type": "stream",
     "text": [
      "Wanda  is finished\n",
      "Processing  Wanda\n"
     ]
    },
    {
     "name": "stderr",
     "output_type": "stream",
     "text": [
      "Ignoring index file '/home/dl392/data/yiwei/typhoon/EAR5/temp.grib.5b7b6.idx' older than GRIB file\n"
     ]
    },
    {
     "name": "stdout",
     "output_type": "stream",
     "text": [
      "Wanda  is finished\n",
      "Processing  Wanda\n"
     ]
    },
    {
     "name": "stderr",
     "output_type": "stream",
     "text": [
      "Ignoring index file '/home/dl392/data/yiwei/typhoon/EAR5/temp.grib.5b7b6.idx' older than GRIB file\n"
     ]
    },
    {
     "name": "stdout",
     "output_type": "stream",
     "text": [
      "Wanda  is finished\n",
      "Processing  Wanda\n"
     ]
    },
    {
     "name": "stderr",
     "output_type": "stream",
     "text": [
      "Ignoring index file '/home/dl392/data/yiwei/typhoon/EAR5/temp.grib.5b7b6.idx' older than GRIB file\n"
     ]
    },
    {
     "name": "stdout",
     "output_type": "stream",
     "text": [
      "Wanda  is finished\n",
      "Processing  Wanda\n"
     ]
    },
    {
     "name": "stderr",
     "output_type": "stream",
     "text": [
      "Ignoring index file '/home/dl392/data/yiwei/typhoon/EAR5/temp.grib.5b7b6.idx' older than GRIB file\n"
     ]
    },
    {
     "name": "stdout",
     "output_type": "stream",
     "text": [
      "Wanda  is finished\n",
      "Processing  Wanda\n"
     ]
    },
    {
     "name": "stderr",
     "output_type": "stream",
     "text": [
      "Ignoring index file '/home/dl392/data/yiwei/typhoon/EAR5/temp.grib.5b7b6.idx' older than GRIB file\n"
     ]
    },
    {
     "name": "stdout",
     "output_type": "stream",
     "text": [
      "Wanda  is finished\n",
      "Processing  Wanda\n"
     ]
    },
    {
     "name": "stderr",
     "output_type": "stream",
     "text": [
      "Ignoring index file '/home/dl392/data/yiwei/typhoon/EAR5/temp.grib.5b7b6.idx' older than GRIB file\n"
     ]
    },
    {
     "name": "stdout",
     "output_type": "stream",
     "text": [
      "Wanda  is finished\n",
      "Processing  Wanda\n"
     ]
    },
    {
     "name": "stderr",
     "output_type": "stream",
     "text": [
      "Ignoring index file '/home/dl392/data/yiwei/typhoon/EAR5/temp.grib.5b7b6.idx' older than GRIB file\n"
     ]
    },
    {
     "name": "stdout",
     "output_type": "stream",
     "text": [
      "Wanda  is finished\n",
      "Processing  Wanda\n"
     ]
    },
    {
     "name": "stderr",
     "output_type": "stream",
     "text": [
      "Ignoring index file '/home/dl392/data/yiwei/typhoon/EAR5/temp.grib.5b7b6.idx' older than GRIB file\n"
     ]
    },
    {
     "name": "stdout",
     "output_type": "stream",
     "text": [
      "Wanda  is finished\n",
      "Processing  Wanda\n"
     ]
    },
    {
     "name": "stderr",
     "output_type": "stream",
     "text": [
      "Ignoring index file '/home/dl392/data/yiwei/typhoon/EAR5/temp.grib.5b7b6.idx' older than GRIB file\n"
     ]
    },
    {
     "name": "stdout",
     "output_type": "stream",
     "text": [
      "Wanda  is finished\n",
      "Processing  Wanda\n",
      "Wanda  is finished\n",
      "Processing  Kujira\n"
     ]
    },
    {
     "name": "stderr",
     "output_type": "stream",
     "text": [
      "2024-11-24 02:03:21,192 WARNING [2024-10-10T00:00:00] The final validated ERA5 differs from ERA5T from July 2024 until further notice - please refer to our\n",
      "[Forum announcement](https://forum.ecmwf.int/t/final-validated-era5-product-to-differ-from-era5t-in-july-2024/6685)\n",
      "for details and watch it for further updates on this.\n",
      "2024-11-24 02:03:21,194 INFO Request ID is 4634146a-df21-4d2b-b8b7-8f8a2555baf7\n",
      "2024-11-24 02:03:21,920 INFO status has been updated to accepted\n",
      "2024-11-24 02:03:25,567 INFO status has been updated to running\n",
      "2024-11-24 02:03:29,734 INFO status has been updated to successful\n",
      "Ignoring index file '/home/dl392/data/yiwei/typhoon/EAR5/temp.grib.5b7b6.idx' older than GRIB file\n",
      "Ignoring index file '/home/dl392/data/yiwei/typhoon/EAR5/temp.grib.5b7b6.idx' older than GRIB file\n"
     ]
    },
    {
     "name": "stdout",
     "output_type": "stream",
     "text": [
      "Kujira  is finished\n",
      "Processing  Kujira\n"
     ]
    },
    {
     "name": "stderr",
     "output_type": "stream",
     "text": [
      "Ignoring index file '/home/dl392/data/yiwei/typhoon/EAR5/temp.grib.5b7b6.idx' older than GRIB file\n"
     ]
    },
    {
     "name": "stdout",
     "output_type": "stream",
     "text": [
      "Kujira  is finished\n",
      "Processing  Kujira\n"
     ]
    },
    {
     "name": "stderr",
     "output_type": "stream",
     "text": [
      "Ignoring index file '/home/dl392/data/yiwei/typhoon/EAR5/temp.grib.5b7b6.idx' older than GRIB file\n"
     ]
    },
    {
     "name": "stdout",
     "output_type": "stream",
     "text": [
      "Kujira  is finished\n",
      "Processing  Kujira\n"
     ]
    },
    {
     "name": "stderr",
     "output_type": "stream",
     "text": [
      "Ignoring index file '/home/dl392/data/yiwei/typhoon/EAR5/temp.grib.5b7b6.idx' older than GRIB file\n"
     ]
    },
    {
     "name": "stdout",
     "output_type": "stream",
     "text": [
      "Kujira  is finished\n",
      "Processing  Kujira\n"
     ]
    },
    {
     "name": "stderr",
     "output_type": "stream",
     "text": [
      "Ignoring index file '/home/dl392/data/yiwei/typhoon/EAR5/temp.grib.5b7b6.idx' older than GRIB file\n"
     ]
    },
    {
     "name": "stdout",
     "output_type": "stream",
     "text": [
      "Kujira  is finished\n",
      "Processing  Kujira\n"
     ]
    },
    {
     "name": "stderr",
     "output_type": "stream",
     "text": [
      "Ignoring index file '/home/dl392/data/yiwei/typhoon/EAR5/temp.grib.5b7b6.idx' older than GRIB file\n"
     ]
    },
    {
     "name": "stdout",
     "output_type": "stream",
     "text": [
      "Kujira  is finished\n",
      "Processing  Kujira\n"
     ]
    },
    {
     "name": "stderr",
     "output_type": "stream",
     "text": [
      "Ignoring index file '/home/dl392/data/yiwei/typhoon/EAR5/temp.grib.5b7b6.idx' older than GRIB file\n"
     ]
    },
    {
     "name": "stdout",
     "output_type": "stream",
     "text": [
      "Kujira  is finished\n",
      "Processing  Kujira\n"
     ]
    },
    {
     "name": "stderr",
     "output_type": "stream",
     "text": [
      "Ignoring index file '/home/dl392/data/yiwei/typhoon/EAR5/temp.grib.5b7b6.idx' older than GRIB file\n"
     ]
    },
    {
     "name": "stdout",
     "output_type": "stream",
     "text": [
      "Kujira  is finished\n",
      "Processing  Kujira\n"
     ]
    },
    {
     "name": "stderr",
     "output_type": "stream",
     "text": [
      "Ignoring index file '/home/dl392/data/yiwei/typhoon/EAR5/temp.grib.5b7b6.idx' older than GRIB file\n"
     ]
    },
    {
     "name": "stdout",
     "output_type": "stream",
     "text": [
      "Kujira  is finished\n",
      "Processing  Kujira\n"
     ]
    },
    {
     "name": "stderr",
     "output_type": "stream",
     "text": [
      "Ignoring index file '/home/dl392/data/yiwei/typhoon/EAR5/temp.grib.5b7b6.idx' older than GRIB file\n"
     ]
    },
    {
     "name": "stdout",
     "output_type": "stream",
     "text": [
      "Kujira  is finished\n",
      "Processing  Kujira\n"
     ]
    },
    {
     "name": "stderr",
     "output_type": "stream",
     "text": [
      "Ignoring index file '/home/dl392/data/yiwei/typhoon/EAR5/temp.grib.5b7b6.idx' older than GRIB file\n"
     ]
    },
    {
     "name": "stdout",
     "output_type": "stream",
     "text": [
      "Kujira  is finished\n",
      "Processing  Kujira\n"
     ]
    },
    {
     "name": "stderr",
     "output_type": "stream",
     "text": [
      "Ignoring index file '/home/dl392/data/yiwei/typhoon/EAR5/temp.grib.5b7b6.idx' older than GRIB file\n"
     ]
    },
    {
     "name": "stdout",
     "output_type": "stream",
     "text": [
      "Kujira  is finished\n",
      "Processing  Kujira\n"
     ]
    },
    {
     "name": "stderr",
     "output_type": "stream",
     "text": [
      "Ignoring index file '/home/dl392/data/yiwei/typhoon/EAR5/temp.grib.5b7b6.idx' older than GRIB file\n"
     ]
    },
    {
     "name": "stdout",
     "output_type": "stream",
     "text": [
      "Kujira  is finished\n",
      "Processing  Kujira\n"
     ]
    },
    {
     "name": "stderr",
     "output_type": "stream",
     "text": [
      "Ignoring index file '/home/dl392/data/yiwei/typhoon/EAR5/temp.grib.5b7b6.idx' older than GRIB file\n"
     ]
    },
    {
     "name": "stdout",
     "output_type": "stream",
     "text": [
      "Kujira  is finished\n",
      "Processing  Kujira\n"
     ]
    },
    {
     "name": "stderr",
     "output_type": "stream",
     "text": [
      "Ignoring index file '/home/dl392/data/yiwei/typhoon/EAR5/temp.grib.5b7b6.idx' older than GRIB file\n"
     ]
    },
    {
     "name": "stdout",
     "output_type": "stream",
     "text": [
      "Kujira  is finished\n",
      "Processing  Kujira\n"
     ]
    },
    {
     "name": "stderr",
     "output_type": "stream",
     "text": [
      "Ignoring index file '/home/dl392/data/yiwei/typhoon/EAR5/temp.grib.5b7b6.idx' older than GRIB file\n"
     ]
    },
    {
     "name": "stdout",
     "output_type": "stream",
     "text": [
      "Kujira  is finished\n",
      "Processing  Kujira\n"
     ]
    },
    {
     "name": "stderr",
     "output_type": "stream",
     "text": [
      "Ignoring index file '/home/dl392/data/yiwei/typhoon/EAR5/temp.grib.5b7b6.idx' older than GRIB file\n"
     ]
    },
    {
     "name": "stdout",
     "output_type": "stream",
     "text": [
      "Kujira  is finished\n",
      "Processing  Kujira\n"
     ]
    },
    {
     "name": "stderr",
     "output_type": "stream",
     "text": [
      "Ignoring index file '/home/dl392/data/yiwei/typhoon/EAR5/temp.grib.5b7b6.idx' older than GRIB file\n"
     ]
    },
    {
     "name": "stdout",
     "output_type": "stream",
     "text": [
      "Kujira  is finished\n",
      "Processing  Kujira\n"
     ]
    },
    {
     "name": "stderr",
     "output_type": "stream",
     "text": [
      "Ignoring index file '/home/dl392/data/yiwei/typhoon/EAR5/temp.grib.5b7b6.idx' older than GRIB file\n"
     ]
    },
    {
     "name": "stdout",
     "output_type": "stream",
     "text": [
      "Kujira  is finished\n",
      "Processing  Kujira\n"
     ]
    },
    {
     "name": "stderr",
     "output_type": "stream",
     "text": [
      "Ignoring index file '/home/dl392/data/yiwei/typhoon/EAR5/temp.grib.5b7b6.idx' older than GRIB file\n"
     ]
    },
    {
     "name": "stdout",
     "output_type": "stream",
     "text": [
      "Kujira  is finished\n",
      "Processing  Kujira\n"
     ]
    },
    {
     "name": "stderr",
     "output_type": "stream",
     "text": [
      "Ignoring index file '/home/dl392/data/yiwei/typhoon/EAR5/temp.grib.5b7b6.idx' older than GRIB file\n"
     ]
    },
    {
     "name": "stdout",
     "output_type": "stream",
     "text": [
      "Kujira  is finished\n",
      "Processing  Kujira\n"
     ]
    },
    {
     "name": "stderr",
     "output_type": "stream",
     "text": [
      "Ignoring index file '/home/dl392/data/yiwei/typhoon/EAR5/temp.grib.5b7b6.idx' older than GRIB file\n"
     ]
    },
    {
     "name": "stdout",
     "output_type": "stream",
     "text": [
      "Kujira  is finished\n",
      "Processing  Kujira\n"
     ]
    },
    {
     "name": "stderr",
     "output_type": "stream",
     "text": [
      "Ignoring index file '/home/dl392/data/yiwei/typhoon/EAR5/temp.grib.5b7b6.idx' older than GRIB file\n"
     ]
    },
    {
     "name": "stdout",
     "output_type": "stream",
     "text": [
      "Kujira  is finished\n",
      "Processing  Kujira\n"
     ]
    },
    {
     "name": "stderr",
     "output_type": "stream",
     "text": [
      "Ignoring index file '/home/dl392/data/yiwei/typhoon/EAR5/temp.grib.5b7b6.idx' older than GRIB file\n"
     ]
    },
    {
     "name": "stdout",
     "output_type": "stream",
     "text": [
      "Kujira  is finished\n",
      "Processing  Kujira\n"
     ]
    },
    {
     "name": "stderr",
     "output_type": "stream",
     "text": [
      "Ignoring index file '/home/dl392/data/yiwei/typhoon/EAR5/temp.grib.5b7b6.idx' older than GRIB file\n"
     ]
    },
    {
     "name": "stdout",
     "output_type": "stream",
     "text": [
      "Kujira  is finished\n",
      "Processing  Kujira\n",
      "Kujira  is finished\n",
      "Processing  Yanyan\n"
     ]
    },
    {
     "name": "stderr",
     "output_type": "stream",
     "text": [
      "2024-11-24 02:04:25,973 WARNING [2024-10-10T00:00:00] The final validated ERA5 differs from ERA5T from July 2024 until further notice - please refer to our\n",
      "[Forum announcement](https://forum.ecmwf.int/t/final-validated-era5-product-to-differ-from-era5t-in-july-2024/6685)\n",
      "for details and watch it for further updates on this.\n",
      "2024-11-24 02:04:25,975 INFO Request ID is 8b5c1800-f568-4857-b591-c5d00c66c984\n",
      "2024-11-24 02:04:26,964 INFO status has been updated to accepted\n",
      "2024-11-24 02:04:32,235 INFO status has been updated to running\n",
      "2024-11-24 02:04:34,698 INFO status has been updated to successful\n",
      "Ignoring index file '/home/dl392/data/yiwei/typhoon/EAR5/temp.grib.5b7b6.idx' older than GRIB file\n",
      "Ignoring index file '/home/dl392/data/yiwei/typhoon/EAR5/temp.grib.5b7b6.idx' older than GRIB file\n"
     ]
    },
    {
     "name": "stdout",
     "output_type": "stream",
     "text": [
      "Yanyan  is finished\n",
      "Processing  Yanyan\n"
     ]
    },
    {
     "name": "stderr",
     "output_type": "stream",
     "text": [
      "Ignoring index file '/home/dl392/data/yiwei/typhoon/EAR5/temp.grib.5b7b6.idx' older than GRIB file\n"
     ]
    },
    {
     "name": "stdout",
     "output_type": "stream",
     "text": [
      "Yanyan  is finished\n",
      "Processing  Yanyan\n"
     ]
    },
    {
     "name": "stderr",
     "output_type": "stream",
     "text": [
      "Ignoring index file '/home/dl392/data/yiwei/typhoon/EAR5/temp.grib.5b7b6.idx' older than GRIB file\n"
     ]
    },
    {
     "name": "stdout",
     "output_type": "stream",
     "text": [
      "Yanyan  is finished\n",
      "Processing  Yanyan\n"
     ]
    },
    {
     "name": "stderr",
     "output_type": "stream",
     "text": [
      "Ignoring index file '/home/dl392/data/yiwei/typhoon/EAR5/temp.grib.5b7b6.idx' older than GRIB file\n"
     ]
    },
    {
     "name": "stdout",
     "output_type": "stream",
     "text": [
      "Yanyan  is finished\n",
      "Processing  Yanyan\n"
     ]
    },
    {
     "name": "stderr",
     "output_type": "stream",
     "text": [
      "Ignoring index file '/home/dl392/data/yiwei/typhoon/EAR5/temp.grib.5b7b6.idx' older than GRIB file\n"
     ]
    },
    {
     "name": "stdout",
     "output_type": "stream",
     "text": [
      "Yanyan  is finished\n",
      "Processing  Yanyan\n"
     ]
    },
    {
     "name": "stderr",
     "output_type": "stream",
     "text": [
      "Ignoring index file '/home/dl392/data/yiwei/typhoon/EAR5/temp.grib.5b7b6.idx' older than GRIB file\n"
     ]
    },
    {
     "name": "stdout",
     "output_type": "stream",
     "text": [
      "Yanyan  is finished\n",
      "Processing  Yanyan\n"
     ]
    },
    {
     "name": "stderr",
     "output_type": "stream",
     "text": [
      "Ignoring index file '/home/dl392/data/yiwei/typhoon/EAR5/temp.grib.5b7b6.idx' older than GRIB file\n"
     ]
    },
    {
     "name": "stdout",
     "output_type": "stream",
     "text": [
      "Yanyan  is finished\n",
      "Processing  Yanyan\n"
     ]
    },
    {
     "name": "stderr",
     "output_type": "stream",
     "text": [
      "Ignoring index file '/home/dl392/data/yiwei/typhoon/EAR5/temp.grib.5b7b6.idx' older than GRIB file\n"
     ]
    },
    {
     "name": "stdout",
     "output_type": "stream",
     "text": [
      "Yanyan  is finished\n",
      "Processing  Yanyan\n"
     ]
    },
    {
     "name": "stderr",
     "output_type": "stream",
     "text": [
      "Ignoring index file '/home/dl392/data/yiwei/typhoon/EAR5/temp.grib.5b7b6.idx' older than GRIB file\n"
     ]
    },
    {
     "name": "stdout",
     "output_type": "stream",
     "text": [
      "Yanyan  is finished\n",
      "Processing  Yanyan\n"
     ]
    },
    {
     "name": "stderr",
     "output_type": "stream",
     "text": [
      "Ignoring index file '/home/dl392/data/yiwei/typhoon/EAR5/temp.grib.5b7b6.idx' older than GRIB file\n"
     ]
    },
    {
     "name": "stdout",
     "output_type": "stream",
     "text": [
      "Yanyan  is finished\n",
      "Processing  Yanyan\n"
     ]
    },
    {
     "name": "stderr",
     "output_type": "stream",
     "text": [
      "Ignoring index file '/home/dl392/data/yiwei/typhoon/EAR5/temp.grib.5b7b6.idx' older than GRIB file\n"
     ]
    },
    {
     "name": "stdout",
     "output_type": "stream",
     "text": [
      "Yanyan  is finished\n",
      "Processing  Yanyan\n"
     ]
    },
    {
     "name": "stderr",
     "output_type": "stream",
     "text": [
      "Ignoring index file '/home/dl392/data/yiwei/typhoon/EAR5/temp.grib.5b7b6.idx' older than GRIB file\n"
     ]
    },
    {
     "name": "stdout",
     "output_type": "stream",
     "text": [
      "Yanyan  is finished\n",
      "Processing  Yanyan\n"
     ]
    },
    {
     "name": "stderr",
     "output_type": "stream",
     "text": [
      "Ignoring index file '/home/dl392/data/yiwei/typhoon/EAR5/temp.grib.5b7b6.idx' older than GRIB file\n"
     ]
    },
    {
     "name": "stdout",
     "output_type": "stream",
     "text": [
      "Yanyan  is finished\n",
      "Processing  Yanyan\n"
     ]
    },
    {
     "name": "stderr",
     "output_type": "stream",
     "text": [
      "Ignoring index file '/home/dl392/data/yiwei/typhoon/EAR5/temp.grib.5b7b6.idx' older than GRIB file\n"
     ]
    },
    {
     "name": "stdout",
     "output_type": "stream",
     "text": [
      "Yanyan  is finished\n",
      "Processing  Yanyan\n"
     ]
    },
    {
     "name": "stderr",
     "output_type": "stream",
     "text": [
      "Ignoring index file '/home/dl392/data/yiwei/typhoon/EAR5/temp.grib.5b7b6.idx' older than GRIB file\n"
     ]
    },
    {
     "name": "stdout",
     "output_type": "stream",
     "text": [
      "Yanyan  is finished\n",
      "Processing  Yanyan\n"
     ]
    },
    {
     "name": "stderr",
     "output_type": "stream",
     "text": [
      "Ignoring index file '/home/dl392/data/yiwei/typhoon/EAR5/temp.grib.5b7b6.idx' older than GRIB file\n"
     ]
    },
    {
     "name": "stdout",
     "output_type": "stream",
     "text": [
      "Yanyan  is finished\n",
      "Processing  Yanyan\n"
     ]
    },
    {
     "name": "stderr",
     "output_type": "stream",
     "text": [
      "Ignoring index file '/home/dl392/data/yiwei/typhoon/EAR5/temp.grib.5b7b6.idx' older than GRIB file\n"
     ]
    },
    {
     "name": "stdout",
     "output_type": "stream",
     "text": [
      "Yanyan  is finished\n",
      "Processing  Yanyan\n"
     ]
    },
    {
     "name": "stderr",
     "output_type": "stream",
     "text": [
      "Ignoring index file '/home/dl392/data/yiwei/typhoon/EAR5/temp.grib.5b7b6.idx' older than GRIB file\n"
     ]
    },
    {
     "name": "stdout",
     "output_type": "stream",
     "text": [
      "Yanyan  is finished\n",
      "Processing  Yanyan\n"
     ]
    },
    {
     "name": "stderr",
     "output_type": "stream",
     "text": [
      "Ignoring index file '/home/dl392/data/yiwei/typhoon/EAR5/temp.grib.5b7b6.idx' older than GRIB file\n"
     ]
    },
    {
     "name": "stdout",
     "output_type": "stream",
     "text": [
      "Yanyan  is finished\n",
      "Processing  Yanyan\n"
     ]
    },
    {
     "name": "stderr",
     "output_type": "stream",
     "text": [
      "Ignoring index file '/home/dl392/data/yiwei/typhoon/EAR5/temp.grib.5b7b6.idx' older than GRIB file\n"
     ]
    },
    {
     "name": "stdout",
     "output_type": "stream",
     "text": [
      "Yanyan  is finished\n",
      "Processing  Yanyan\n"
     ]
    },
    {
     "name": "stderr",
     "output_type": "stream",
     "text": [
      "Ignoring index file '/home/dl392/data/yiwei/typhoon/EAR5/temp.grib.5b7b6.idx' older than GRIB file\n"
     ]
    },
    {
     "name": "stdout",
     "output_type": "stream",
     "text": [
      "Yanyan  is finished\n",
      "Processing  Yanyan\n"
     ]
    },
    {
     "name": "stderr",
     "output_type": "stream",
     "text": [
      "Ignoring index file '/home/dl392/data/yiwei/typhoon/EAR5/temp.grib.5b7b6.idx' older than GRIB file\n"
     ]
    },
    {
     "name": "stdout",
     "output_type": "stream",
     "text": [
      "Yanyan  is finished\n",
      "Processing  Yanyan\n"
     ]
    },
    {
     "name": "stderr",
     "output_type": "stream",
     "text": [
      "Ignoring index file '/home/dl392/data/yiwei/typhoon/EAR5/temp.grib.5b7b6.idx' older than GRIB file\n"
     ]
    },
    {
     "name": "stdout",
     "output_type": "stream",
     "text": [
      "Yanyan  is finished\n",
      "Processing  Yanyan\n",
      "Yanyan  is finished\n",
      "Processing  Ivy\n"
     ]
    },
    {
     "name": "stderr",
     "output_type": "stream",
     "text": [
      "2024-11-24 02:05:24,882 WARNING [2024-10-10T00:00:00] The final validated ERA5 differs from ERA5T from July 2024 until further notice - please refer to our\n",
      "[Forum announcement](https://forum.ecmwf.int/t/final-validated-era5-product-to-differ-from-era5t-in-july-2024/6685)\n",
      "for details and watch it for further updates on this.\n",
      "2024-11-24 02:05:24,884 INFO Request ID is a994bf49-7eac-4e77-9df2-055953e7c8b5\n",
      "2024-11-24 02:05:25,104 INFO status has been updated to accepted\n",
      "2024-11-24 02:05:28,023 INFO status has been updated to running\n",
      "2024-11-24 02:05:31,488 INFO status has been updated to successful\n",
      "Ignoring index file '/home/dl392/data/yiwei/typhoon/EAR5/temp.grib.5b7b6.idx' older than GRIB file\n",
      "Ignoring index file '/home/dl392/data/yiwei/typhoon/EAR5/temp.grib.5b7b6.idx' older than GRIB file\n"
     ]
    },
    {
     "name": "stdout",
     "output_type": "stream",
     "text": [
      "Ivy  is finished\n",
      "Processing  Ivy\n"
     ]
    },
    {
     "name": "stderr",
     "output_type": "stream",
     "text": [
      "Ignoring index file '/home/dl392/data/yiwei/typhoon/EAR5/temp.grib.5b7b6.idx' older than GRIB file\n"
     ]
    },
    {
     "name": "stdout",
     "output_type": "stream",
     "text": [
      "Ivy  is finished\n",
      "Processing  Ivy\n"
     ]
    },
    {
     "name": "stderr",
     "output_type": "stream",
     "text": [
      "Ignoring index file '/home/dl392/data/yiwei/typhoon/EAR5/temp.grib.5b7b6.idx' older than GRIB file\n"
     ]
    },
    {
     "name": "stdout",
     "output_type": "stream",
     "text": [
      "Ivy  is finished\n",
      "Processing  Ivy\n"
     ]
    },
    {
     "name": "stderr",
     "output_type": "stream",
     "text": [
      "Ignoring index file '/home/dl392/data/yiwei/typhoon/EAR5/temp.grib.5b7b6.idx' older than GRIB file\n"
     ]
    },
    {
     "name": "stdout",
     "output_type": "stream",
     "text": [
      "Ivy  is finished\n",
      "Processing  Ivy\n"
     ]
    },
    {
     "name": "stderr",
     "output_type": "stream",
     "text": [
      "Ignoring index file '/home/dl392/data/yiwei/typhoon/EAR5/temp.grib.5b7b6.idx' older than GRIB file\n"
     ]
    },
    {
     "name": "stdout",
     "output_type": "stream",
     "text": [
      "Ivy  is finished\n",
      "Processing  Ivy\n"
     ]
    },
    {
     "name": "stderr",
     "output_type": "stream",
     "text": [
      "Ignoring index file '/home/dl392/data/yiwei/typhoon/EAR5/temp.grib.5b7b6.idx' older than GRIB file\n"
     ]
    },
    {
     "name": "stdout",
     "output_type": "stream",
     "text": [
      "Ivy  is finished\n",
      "Processing  Ivy\n"
     ]
    },
    {
     "name": "stderr",
     "output_type": "stream",
     "text": [
      "Ignoring index file '/home/dl392/data/yiwei/typhoon/EAR5/temp.grib.5b7b6.idx' older than GRIB file\n"
     ]
    },
    {
     "name": "stdout",
     "output_type": "stream",
     "text": [
      "Ivy  is finished\n",
      "Processing  Ivy\n"
     ]
    },
    {
     "name": "stderr",
     "output_type": "stream",
     "text": [
      "Ignoring index file '/home/dl392/data/yiwei/typhoon/EAR5/temp.grib.5b7b6.idx' older than GRIB file\n"
     ]
    },
    {
     "name": "stdout",
     "output_type": "stream",
     "text": [
      "Ivy  is finished\n",
      "Processing  Ivy\n"
     ]
    },
    {
     "name": "stderr",
     "output_type": "stream",
     "text": [
      "Ignoring index file '/home/dl392/data/yiwei/typhoon/EAR5/temp.grib.5b7b6.idx' older than GRIB file\n"
     ]
    },
    {
     "name": "stdout",
     "output_type": "stream",
     "text": [
      "Ivy  is finished\n",
      "Processing  Ivy\n"
     ]
    },
    {
     "name": "stderr",
     "output_type": "stream",
     "text": [
      "Ignoring index file '/home/dl392/data/yiwei/typhoon/EAR5/temp.grib.5b7b6.idx' older than GRIB file\n"
     ]
    },
    {
     "name": "stdout",
     "output_type": "stream",
     "text": [
      "Ivy  is finished\n",
      "Processing  Ivy\n"
     ]
    },
    {
     "name": "stderr",
     "output_type": "stream",
     "text": [
      "Ignoring index file '/home/dl392/data/yiwei/typhoon/EAR5/temp.grib.5b7b6.idx' older than GRIB file\n"
     ]
    },
    {
     "name": "stdout",
     "output_type": "stream",
     "text": [
      "Ivy  is finished\n",
      "Processing  Ivy\n"
     ]
    },
    {
     "name": "stderr",
     "output_type": "stream",
     "text": [
      "Ignoring index file '/home/dl392/data/yiwei/typhoon/EAR5/temp.grib.5b7b6.idx' older than GRIB file\n"
     ]
    },
    {
     "name": "stdout",
     "output_type": "stream",
     "text": [
      "Ivy  is finished\n",
      "Processing  Ivy\n"
     ]
    },
    {
     "name": "stderr",
     "output_type": "stream",
     "text": [
      "Ignoring index file '/home/dl392/data/yiwei/typhoon/EAR5/temp.grib.5b7b6.idx' older than GRIB file\n"
     ]
    },
    {
     "name": "stdout",
     "output_type": "stream",
     "text": [
      "Ivy  is finished\n",
      "Processing  Ivy\n"
     ]
    },
    {
     "name": "stderr",
     "output_type": "stream",
     "text": [
      "Ignoring index file '/home/dl392/data/yiwei/typhoon/EAR5/temp.grib.5b7b6.idx' older than GRIB file\n"
     ]
    },
    {
     "name": "stdout",
     "output_type": "stream",
     "text": [
      "Ivy  is finished\n",
      "Processing  Ivy\n"
     ]
    },
    {
     "name": "stderr",
     "output_type": "stream",
     "text": [
      "Ignoring index file '/home/dl392/data/yiwei/typhoon/EAR5/temp.grib.5b7b6.idx' older than GRIB file\n"
     ]
    },
    {
     "name": "stdout",
     "output_type": "stream",
     "text": [
      "Ivy  is finished\n",
      "Processing  Ivy\n"
     ]
    },
    {
     "name": "stderr",
     "output_type": "stream",
     "text": [
      "Ignoring index file '/home/dl392/data/yiwei/typhoon/EAR5/temp.grib.5b7b6.idx' older than GRIB file\n"
     ]
    },
    {
     "name": "stdout",
     "output_type": "stream",
     "text": [
      "Ivy  is finished\n",
      "Processing  Ivy\n"
     ]
    },
    {
     "name": "stderr",
     "output_type": "stream",
     "text": [
      "Ignoring index file '/home/dl392/data/yiwei/typhoon/EAR5/temp.grib.5b7b6.idx' older than GRIB file\n"
     ]
    },
    {
     "name": "stdout",
     "output_type": "stream",
     "text": [
      "Ivy  is finished\n",
      "Processing  Ivy\n"
     ]
    },
    {
     "name": "stderr",
     "output_type": "stream",
     "text": [
      "Ignoring index file '/home/dl392/data/yiwei/typhoon/EAR5/temp.grib.5b7b6.idx' older than GRIB file\n"
     ]
    },
    {
     "name": "stdout",
     "output_type": "stream",
     "text": [
      "Ivy  is finished\n",
      "Processing  Ivy\n"
     ]
    },
    {
     "name": "stderr",
     "output_type": "stream",
     "text": [
      "Ignoring index file '/home/dl392/data/yiwei/typhoon/EAR5/temp.grib.5b7b6.idx' older than GRIB file\n"
     ]
    },
    {
     "name": "stdout",
     "output_type": "stream",
     "text": [
      "Ivy  is finished\n",
      "Processing  Ivy\n"
     ]
    },
    {
     "name": "stderr",
     "output_type": "stream",
     "text": [
      "Ignoring index file '/home/dl392/data/yiwei/typhoon/EAR5/temp.grib.5b7b6.idx' older than GRIB file\n"
     ]
    },
    {
     "name": "stdout",
     "output_type": "stream",
     "text": [
      "Ivy  is finished\n",
      "Processing  Ivy\n"
     ]
    },
    {
     "name": "stderr",
     "output_type": "stream",
     "text": [
      "Ignoring index file '/home/dl392/data/yiwei/typhoon/EAR5/temp.grib.5b7b6.idx' older than GRIB file\n"
     ]
    },
    {
     "name": "stdout",
     "output_type": "stream",
     "text": [
      "Ivy  is finished\n",
      "Processing  Ivy\n"
     ]
    },
    {
     "name": "stderr",
     "output_type": "stream",
     "text": [
      "Ignoring index file '/home/dl392/data/yiwei/typhoon/EAR5/temp.grib.5b7b6.idx' older than GRIB file\n"
     ]
    },
    {
     "name": "stdout",
     "output_type": "stream",
     "text": [
      "Ivy  is finished\n",
      "Processing  Ivy\n"
     ]
    },
    {
     "name": "stderr",
     "output_type": "stream",
     "text": [
      "Ignoring index file '/home/dl392/data/yiwei/typhoon/EAR5/temp.grib.5b7b6.idx' older than GRIB file\n"
     ]
    },
    {
     "name": "stdout",
     "output_type": "stream",
     "text": [
      "Ivy  is finished\n",
      "Processing  Ivy\n"
     ]
    },
    {
     "name": "stderr",
     "output_type": "stream",
     "text": [
      "Ignoring index file '/home/dl392/data/yiwei/typhoon/EAR5/temp.grib.5b7b6.idx' older than GRIB file\n"
     ]
    },
    {
     "name": "stdout",
     "output_type": "stream",
     "text": [
      "Ivy  is finished\n",
      "Processing  Ivy\n"
     ]
    },
    {
     "name": "stderr",
     "output_type": "stream",
     "text": [
      "Ignoring index file '/home/dl392/data/yiwei/typhoon/EAR5/temp.grib.5b7b6.idx' older than GRIB file\n"
     ]
    },
    {
     "name": "stdout",
     "output_type": "stream",
     "text": [
      "Ivy  is finished\n",
      "Processing  Ivy\n",
      "Ivy  is finished\n",
      "Processing  Nadine\n"
     ]
    },
    {
     "name": "stderr",
     "output_type": "stream",
     "text": [
      "2024-11-24 02:06:34,363 WARNING [2024-10-10T00:00:00] The final validated ERA5 differs from ERA5T from July 2024 until further notice - please refer to our\n",
      "[Forum announcement](https://forum.ecmwf.int/t/final-validated-era5-product-to-differ-from-era5t-in-july-2024/6685)\n",
      "for details and watch it for further updates on this.\n",
      "2024-11-24 02:06:34,365 INFO Request ID is 246c1ef6-d1bd-43bc-bb20-9af75477f304\n",
      "2024-11-24 02:06:34,640 INFO status has been updated to accepted\n",
      "2024-11-24 02:06:44,166 INFO status has been updated to successful\n",
      "Ignoring index file '/home/dl392/data/yiwei/typhoon/EAR5/temp.grib.5b7b6.idx' older than GRIB file\n",
      "Ignoring index file '/home/dl392/data/yiwei/typhoon/EAR5/temp.grib.5b7b6.idx' older than GRIB file\n"
     ]
    },
    {
     "name": "stdout",
     "output_type": "stream",
     "text": [
      "Nadine  is finished\n",
      "Processing  Nadine\n"
     ]
    },
    {
     "name": "stderr",
     "output_type": "stream",
     "text": [
      "Ignoring index file '/home/dl392/data/yiwei/typhoon/EAR5/temp.grib.5b7b6.idx' older than GRIB file\n"
     ]
    },
    {
     "name": "stdout",
     "output_type": "stream",
     "text": [
      "Nadine  is finished\n",
      "Processing  Nadine\n"
     ]
    },
    {
     "name": "stderr",
     "output_type": "stream",
     "text": [
      "Ignoring index file '/home/dl392/data/yiwei/typhoon/EAR5/temp.grib.5b7b6.idx' older than GRIB file\n"
     ]
    },
    {
     "name": "stdout",
     "output_type": "stream",
     "text": [
      "Nadine  is finished\n",
      "Processing  Nadine\n"
     ]
    },
    {
     "name": "stderr",
     "output_type": "stream",
     "text": [
      "Ignoring index file '/home/dl392/data/yiwei/typhoon/EAR5/temp.grib.5b7b6.idx' older than GRIB file\n"
     ]
    },
    {
     "name": "stdout",
     "output_type": "stream",
     "text": [
      "Nadine  is finished\n",
      "Processing  Nadine\n"
     ]
    },
    {
     "name": "stderr",
     "output_type": "stream",
     "text": [
      "Ignoring index file '/home/dl392/data/yiwei/typhoon/EAR5/temp.grib.5b7b6.idx' older than GRIB file\n"
     ]
    },
    {
     "name": "stdout",
     "output_type": "stream",
     "text": [
      "Nadine  is finished\n",
      "Processing  Nadine\n"
     ]
    },
    {
     "name": "stderr",
     "output_type": "stream",
     "text": [
      "Ignoring index file '/home/dl392/data/yiwei/typhoon/EAR5/temp.grib.5b7b6.idx' older than GRIB file\n"
     ]
    },
    {
     "name": "stdout",
     "output_type": "stream",
     "text": [
      "Nadine  is finished\n",
      "Processing  Nadine\n"
     ]
    },
    {
     "name": "stderr",
     "output_type": "stream",
     "text": [
      "Ignoring index file '/home/dl392/data/yiwei/typhoon/EAR5/temp.grib.5b7b6.idx' older than GRIB file\n"
     ]
    },
    {
     "name": "stdout",
     "output_type": "stream",
     "text": [
      "Nadine  is finished\n",
      "Processing  Nadine\n"
     ]
    },
    {
     "name": "stderr",
     "output_type": "stream",
     "text": [
      "Ignoring index file '/home/dl392/data/yiwei/typhoon/EAR5/temp.grib.5b7b6.idx' older than GRIB file\n"
     ]
    },
    {
     "name": "stdout",
     "output_type": "stream",
     "text": [
      "Nadine  is finished\n",
      "Processing  Nadine\n"
     ]
    },
    {
     "name": "stderr",
     "output_type": "stream",
     "text": [
      "Ignoring index file '/home/dl392/data/yiwei/typhoon/EAR5/temp.grib.5b7b6.idx' older than GRIB file\n"
     ]
    },
    {
     "name": "stdout",
     "output_type": "stream",
     "text": [
      "Nadine  is finished\n",
      "Processing  Nadine\n"
     ]
    },
    {
     "name": "stderr",
     "output_type": "stream",
     "text": [
      "Ignoring index file '/home/dl392/data/yiwei/typhoon/EAR5/temp.grib.5b7b6.idx' older than GRIB file\n"
     ]
    },
    {
     "name": "stdout",
     "output_type": "stream",
     "text": [
      "Nadine  is finished\n",
      "Processing  Nadine\n"
     ]
    },
    {
     "name": "stderr",
     "output_type": "stream",
     "text": [
      "Ignoring index file '/home/dl392/data/yiwei/typhoon/EAR5/temp.grib.5b7b6.idx' older than GRIB file\n"
     ]
    },
    {
     "name": "stdout",
     "output_type": "stream",
     "text": [
      "Nadine  is finished\n",
      "Processing  Nadine\n"
     ]
    },
    {
     "name": "stderr",
     "output_type": "stream",
     "text": [
      "Ignoring index file '/home/dl392/data/yiwei/typhoon/EAR5/temp.grib.5b7b6.idx' older than GRIB file\n"
     ]
    },
    {
     "name": "stdout",
     "output_type": "stream",
     "text": [
      "Nadine  is finished\n",
      "Processing  Nadine\n"
     ]
    },
    {
     "name": "stderr",
     "output_type": "stream",
     "text": [
      "Ignoring index file '/home/dl392/data/yiwei/typhoon/EAR5/temp.grib.5b7b6.idx' older than GRIB file\n"
     ]
    },
    {
     "name": "stdout",
     "output_type": "stream",
     "text": [
      "Nadine  is finished\n",
      "Processing  Nadine\n"
     ]
    },
    {
     "name": "stderr",
     "output_type": "stream",
     "text": [
      "Ignoring index file '/home/dl392/data/yiwei/typhoon/EAR5/temp.grib.5b7b6.idx' older than GRIB file\n"
     ]
    },
    {
     "name": "stdout",
     "output_type": "stream",
     "text": [
      "Nadine  is finished\n",
      "Processing  Nadine\n"
     ]
    },
    {
     "name": "stderr",
     "output_type": "stream",
     "text": [
      "Ignoring index file '/home/dl392/data/yiwei/typhoon/EAR5/temp.grib.5b7b6.idx' older than GRIB file\n"
     ]
    },
    {
     "name": "stdout",
     "output_type": "stream",
     "text": [
      "Nadine  is finished\n",
      "Processing  Nadine\n"
     ]
    },
    {
     "name": "stderr",
     "output_type": "stream",
     "text": [
      "Ignoring index file '/home/dl392/data/yiwei/typhoon/EAR5/temp.grib.5b7b6.idx' older than GRIB file\n"
     ]
    },
    {
     "name": "stdout",
     "output_type": "stream",
     "text": [
      "Nadine  is finished\n",
      "Processing  Nadine\n"
     ]
    },
    {
     "name": "stderr",
     "output_type": "stream",
     "text": [
      "Ignoring index file '/home/dl392/data/yiwei/typhoon/EAR5/temp.grib.5b7b6.idx' older than GRIB file\n"
     ]
    },
    {
     "name": "stdout",
     "output_type": "stream",
     "text": [
      "Nadine  is finished\n",
      "Processing  Nadine\n"
     ]
    },
    {
     "name": "stderr",
     "output_type": "stream",
     "text": [
      "Ignoring index file '/home/dl392/data/yiwei/typhoon/EAR5/temp.grib.5b7b6.idx' older than GRIB file\n"
     ]
    },
    {
     "name": "stdout",
     "output_type": "stream",
     "text": [
      "Nadine  is finished\n",
      "Processing  Nadine\n"
     ]
    },
    {
     "name": "stderr",
     "output_type": "stream",
     "text": [
      "Ignoring index file '/home/dl392/data/yiwei/typhoon/EAR5/temp.grib.5b7b6.idx' older than GRIB file\n"
     ]
    },
    {
     "name": "stdout",
     "output_type": "stream",
     "text": [
      "Nadine  is finished\n",
      "Processing  Nadine\n"
     ]
    },
    {
     "name": "stderr",
     "output_type": "stream",
     "text": [
      "Ignoring index file '/home/dl392/data/yiwei/typhoon/EAR5/temp.grib.5b7b6.idx' older than GRIB file\n"
     ]
    },
    {
     "name": "stdout",
     "output_type": "stream",
     "text": [
      "Nadine  is finished\n",
      "Processing  Nadine\n"
     ]
    },
    {
     "name": "stderr",
     "output_type": "stream",
     "text": [
      "Ignoring index file '/home/dl392/data/yiwei/typhoon/EAR5/temp.grib.5b7b6.idx' older than GRIB file\n"
     ]
    },
    {
     "name": "stdout",
     "output_type": "stream",
     "text": [
      "Nadine  is finished\n",
      "Processing  Nadine\n"
     ]
    },
    {
     "name": "stderr",
     "output_type": "stream",
     "text": [
      "Ignoring index file '/home/dl392/data/yiwei/typhoon/EAR5/temp.grib.5b7b6.idx' older than GRIB file\n"
     ]
    },
    {
     "name": "stdout",
     "output_type": "stream",
     "text": [
      "Nadine  is finished\n",
      "Processing  Nadine\n"
     ]
    },
    {
     "name": "stderr",
     "output_type": "stream",
     "text": [
      "Ignoring index file '/home/dl392/data/yiwei/typhoon/EAR5/temp.grib.5b7b6.idx' older than GRIB file\n"
     ]
    },
    {
     "name": "stdout",
     "output_type": "stream",
     "text": [
      "Nadine  is finished\n",
      "Processing  Nadine\n"
     ]
    },
    {
     "name": "stderr",
     "output_type": "stream",
     "text": [
      "Ignoring index file '/home/dl392/data/yiwei/typhoon/EAR5/temp.grib.5b7b6.idx' older than GRIB file\n"
     ]
    },
    {
     "name": "stdout",
     "output_type": "stream",
     "text": [
      "Nadine  is finished\n",
      "Processing  Nadine\n"
     ]
    },
    {
     "name": "stderr",
     "output_type": "stream",
     "text": [
      "Ignoring index file '/home/dl392/data/yiwei/typhoon/EAR5/temp.grib.5b7b6.idx' older than GRIB file\n"
     ]
    },
    {
     "name": "stdout",
     "output_type": "stream",
     "text": [
      "Nadine  is finished\n",
      "Processing  Nadine\n"
     ]
    },
    {
     "name": "stderr",
     "output_type": "stream",
     "text": [
      "Ignoring index file '/home/dl392/data/yiwei/typhoon/EAR5/temp.grib.5b7b6.idx' older than GRIB file\n"
     ]
    },
    {
     "name": "stdout",
     "output_type": "stream",
     "text": [
      "Nadine  is finished\n",
      "Processing  Nadine\n"
     ]
    },
    {
     "name": "stderr",
     "output_type": "stream",
     "text": [
      "Ignoring index file '/home/dl392/data/yiwei/typhoon/EAR5/temp.grib.5b7b6.idx' older than GRIB file\n"
     ]
    },
    {
     "name": "stdout",
     "output_type": "stream",
     "text": [
      "Nadine  is finished\n",
      "Processing  Nadine\n",
      "Nadine  is finished\n",
      "Processing  Carmen\n"
     ]
    },
    {
     "name": "stderr",
     "output_type": "stream",
     "text": [
      "2024-11-24 02:07:42,165 WARNING [2024-10-10T00:00:00] The final validated ERA5 differs from ERA5T from July 2024 until further notice - please refer to our\n",
      "[Forum announcement](https://forum.ecmwf.int/t/final-validated-era5-product-to-differ-from-era5t-in-july-2024/6685)\n",
      "for details and watch it for further updates on this.\n",
      "2024-11-24 02:07:42,167 INFO Request ID is 940898d1-4594-4773-8ef1-eea55a9ff772\n",
      "2024-11-24 02:07:44,171 INFO status has been updated to accepted\n",
      "2024-11-24 02:07:45,423 INFO status has been updated to running\n",
      "2024-11-24 02:07:47,982 INFO status has been updated to successful\n",
      "Ignoring index file '/home/dl392/data/yiwei/typhoon/EAR5/temp.grib.5b7b6.idx' older than GRIB file\n",
      "Ignoring index file '/home/dl392/data/yiwei/typhoon/EAR5/temp.grib.5b7b6.idx' older than GRIB file\n"
     ]
    },
    {
     "name": "stdout",
     "output_type": "stream",
     "text": [
      "Carmen  is finished\n",
      "Processing  Carmen\n"
     ]
    },
    {
     "name": "stderr",
     "output_type": "stream",
     "text": [
      "Ignoring index file '/home/dl392/data/yiwei/typhoon/EAR5/temp.grib.5b7b6.idx' older than GRIB file\n"
     ]
    },
    {
     "name": "stdout",
     "output_type": "stream",
     "text": [
      "Carmen  is finished\n",
      "Processing  Carmen\n"
     ]
    },
    {
     "name": "stderr",
     "output_type": "stream",
     "text": [
      "Ignoring index file '/home/dl392/data/yiwei/typhoon/EAR5/temp.grib.5b7b6.idx' older than GRIB file\n"
     ]
    },
    {
     "name": "stdout",
     "output_type": "stream",
     "text": [
      "Carmen  is finished\n",
      "Processing  Carmen\n"
     ]
    },
    {
     "name": "stderr",
     "output_type": "stream",
     "text": [
      "Ignoring index file '/home/dl392/data/yiwei/typhoon/EAR5/temp.grib.5b7b6.idx' older than GRIB file\n"
     ]
    },
    {
     "name": "stdout",
     "output_type": "stream",
     "text": [
      "Carmen  is finished\n",
      "Processing  Carmen\n"
     ]
    },
    {
     "name": "stderr",
     "output_type": "stream",
     "text": [
      "Ignoring index file '/home/dl392/data/yiwei/typhoon/EAR5/temp.grib.5b7b6.idx' older than GRIB file\n"
     ]
    },
    {
     "name": "stdout",
     "output_type": "stream",
     "text": [
      "Carmen  is finished\n",
      "Processing  Carmen\n"
     ]
    },
    {
     "name": "stderr",
     "output_type": "stream",
     "text": [
      "Ignoring index file '/home/dl392/data/yiwei/typhoon/EAR5/temp.grib.5b7b6.idx' older than GRIB file\n"
     ]
    },
    {
     "name": "stdout",
     "output_type": "stream",
     "text": [
      "Carmen  is finished\n",
      "Processing  Carmen\n"
     ]
    },
    {
     "name": "stderr",
     "output_type": "stream",
     "text": [
      "Ignoring index file '/home/dl392/data/yiwei/typhoon/EAR5/temp.grib.5b7b6.idx' older than GRIB file\n"
     ]
    },
    {
     "name": "stdout",
     "output_type": "stream",
     "text": [
      "Carmen  is finished\n",
      "Processing  Carmen\n"
     ]
    },
    {
     "name": "stderr",
     "output_type": "stream",
     "text": [
      "Ignoring index file '/home/dl392/data/yiwei/typhoon/EAR5/temp.grib.5b7b6.idx' older than GRIB file\n"
     ]
    },
    {
     "name": "stdout",
     "output_type": "stream",
     "text": [
      "Carmen  is finished\n",
      "Processing  Carmen\n"
     ]
    },
    {
     "name": "stderr",
     "output_type": "stream",
     "text": [
      "Ignoring index file '/home/dl392/data/yiwei/typhoon/EAR5/temp.grib.5b7b6.idx' older than GRIB file\n"
     ]
    },
    {
     "name": "stdout",
     "output_type": "stream",
     "text": [
      "Carmen  is finished\n",
      "Processing  Carmen\n"
     ]
    },
    {
     "name": "stderr",
     "output_type": "stream",
     "text": [
      "Ignoring index file '/home/dl392/data/yiwei/typhoon/EAR5/temp.grib.5b7b6.idx' older than GRIB file\n"
     ]
    },
    {
     "name": "stdout",
     "output_type": "stream",
     "text": [
      "Carmen  is finished\n",
      "Processing  Carmen\n"
     ]
    },
    {
     "name": "stderr",
     "output_type": "stream",
     "text": [
      "Ignoring index file '/home/dl392/data/yiwei/typhoon/EAR5/temp.grib.5b7b6.idx' older than GRIB file\n"
     ]
    },
    {
     "name": "stdout",
     "output_type": "stream",
     "text": [
      "Carmen  is finished\n",
      "Processing  Carmen\n"
     ]
    },
    {
     "name": "stderr",
     "output_type": "stream",
     "text": [
      "Ignoring index file '/home/dl392/data/yiwei/typhoon/EAR5/temp.grib.5b7b6.idx' older than GRIB file\n"
     ]
    },
    {
     "name": "stdout",
     "output_type": "stream",
     "text": [
      "Carmen  is finished\n",
      "Processing  Carmen\n"
     ]
    },
    {
     "name": "stderr",
     "output_type": "stream",
     "text": [
      "Ignoring index file '/home/dl392/data/yiwei/typhoon/EAR5/temp.grib.5b7b6.idx' older than GRIB file\n"
     ]
    },
    {
     "name": "stdout",
     "output_type": "stream",
     "text": [
      "Carmen  is finished\n",
      "Processing  Carmen\n"
     ]
    },
    {
     "name": "stderr",
     "output_type": "stream",
     "text": [
      "Ignoring index file '/home/dl392/data/yiwei/typhoon/EAR5/temp.grib.5b7b6.idx' older than GRIB file\n"
     ]
    },
    {
     "name": "stdout",
     "output_type": "stream",
     "text": [
      "Carmen  is finished\n",
      "Processing  Carmen\n"
     ]
    },
    {
     "name": "stderr",
     "output_type": "stream",
     "text": [
      "Ignoring index file '/home/dl392/data/yiwei/typhoon/EAR5/temp.grib.5b7b6.idx' older than GRIB file\n"
     ]
    },
    {
     "name": "stdout",
     "output_type": "stream",
     "text": [
      "Carmen  is finished\n",
      "Processing  Carmen\n"
     ]
    },
    {
     "name": "stderr",
     "output_type": "stream",
     "text": [
      "Ignoring index file '/home/dl392/data/yiwei/typhoon/EAR5/temp.grib.5b7b6.idx' older than GRIB file\n"
     ]
    },
    {
     "name": "stdout",
     "output_type": "stream",
     "text": [
      "Carmen  is finished\n",
      "Processing  Carmen\n"
     ]
    },
    {
     "name": "stderr",
     "output_type": "stream",
     "text": [
      "Ignoring index file '/home/dl392/data/yiwei/typhoon/EAR5/temp.grib.5b7b6.idx' older than GRIB file\n"
     ]
    },
    {
     "name": "stdout",
     "output_type": "stream",
     "text": [
      "Carmen  is finished\n",
      "Processing  Carmen\n"
     ]
    },
    {
     "name": "stderr",
     "output_type": "stream",
     "text": [
      "Ignoring index file '/home/dl392/data/yiwei/typhoon/EAR5/temp.grib.5b7b6.idx' older than GRIB file\n"
     ]
    },
    {
     "name": "stdout",
     "output_type": "stream",
     "text": [
      "Carmen  is finished\n",
      "Processing  Carmen\n"
     ]
    },
    {
     "name": "stderr",
     "output_type": "stream",
     "text": [
      "Ignoring index file '/home/dl392/data/yiwei/typhoon/EAR5/temp.grib.5b7b6.idx' older than GRIB file\n"
     ]
    },
    {
     "name": "stdout",
     "output_type": "stream",
     "text": [
      "Carmen  is finished\n",
      "Processing  Carmen\n"
     ]
    },
    {
     "name": "stderr",
     "output_type": "stream",
     "text": [
      "Ignoring index file '/home/dl392/data/yiwei/typhoon/EAR5/temp.grib.5b7b6.idx' older than GRIB file\n"
     ]
    },
    {
     "name": "stdout",
     "output_type": "stream",
     "text": [
      "Carmen  is finished\n",
      "Processing  Carmen\n"
     ]
    },
    {
     "name": "stderr",
     "output_type": "stream",
     "text": [
      "Ignoring index file '/home/dl392/data/yiwei/typhoon/EAR5/temp.grib.5b7b6.idx' older than GRIB file\n"
     ]
    },
    {
     "name": "stdout",
     "output_type": "stream",
     "text": [
      "Carmen  is finished\n",
      "Processing  Carmen\n"
     ]
    },
    {
     "name": "stderr",
     "output_type": "stream",
     "text": [
      "Ignoring index file '/home/dl392/data/yiwei/typhoon/EAR5/temp.grib.5b7b6.idx' older than GRIB file\n"
     ]
    },
    {
     "name": "stdout",
     "output_type": "stream",
     "text": [
      "Carmen  is finished\n",
      "Processing  Carmen\n"
     ]
    },
    {
     "name": "stderr",
     "output_type": "stream",
     "text": [
      "Ignoring index file '/home/dl392/data/yiwei/typhoon/EAR5/temp.grib.5b7b6.idx' older than GRIB file\n"
     ]
    },
    {
     "name": "stdout",
     "output_type": "stream",
     "text": [
      "Carmen  is finished\n",
      "Processing  Carmen\n"
     ]
    },
    {
     "name": "stderr",
     "output_type": "stream",
     "text": [
      "Ignoring index file '/home/dl392/data/yiwei/typhoon/EAR5/temp.grib.5b7b6.idx' older than GRIB file\n"
     ]
    },
    {
     "name": "stdout",
     "output_type": "stream",
     "text": [
      "Carmen  is finished\n",
      "Processing  Carmen\n"
     ]
    },
    {
     "name": "stderr",
     "output_type": "stream",
     "text": [
      "Ignoring index file '/home/dl392/data/yiwei/typhoon/EAR5/temp.grib.5b7b6.idx' older than GRIB file\n"
     ]
    },
    {
     "name": "stdout",
     "output_type": "stream",
     "text": [
      "Carmen  is finished\n",
      "Processing  Carmen\n"
     ]
    },
    {
     "name": "stderr",
     "output_type": "stream",
     "text": [
      "Ignoring index file '/home/dl392/data/yiwei/typhoon/EAR5/temp.grib.5b7b6.idx' older than GRIB file\n"
     ]
    },
    {
     "name": "stdout",
     "output_type": "stream",
     "text": [
      "Carmen  is finished\n",
      "Processing  Carmen\n"
     ]
    },
    {
     "name": "stderr",
     "output_type": "stream",
     "text": [
      "Ignoring index file '/home/dl392/data/yiwei/typhoon/EAR5/temp.grib.5b7b6.idx' older than GRIB file\n"
     ]
    },
    {
     "name": "stdout",
     "output_type": "stream",
     "text": [
      "Carmen  is finished\n",
      "Processing  Carmen\n"
     ]
    },
    {
     "name": "stderr",
     "output_type": "stream",
     "text": [
      "Ignoring index file '/home/dl392/data/yiwei/typhoon/EAR5/temp.grib.5b7b6.idx' older than GRIB file\n"
     ]
    },
    {
     "name": "stdout",
     "output_type": "stream",
     "text": [
      "Carmen  is finished\n",
      "Processing  Carmen\n"
     ]
    },
    {
     "name": "stderr",
     "output_type": "stream",
     "text": [
      "Ignoring index file '/home/dl392/data/yiwei/typhoon/EAR5/temp.grib.5b7b6.idx' older than GRIB file\n"
     ]
    },
    {
     "name": "stdout",
     "output_type": "stream",
     "text": [
      "Carmen  is finished\n",
      "Processing  Carmen\n"
     ]
    },
    {
     "name": "stderr",
     "output_type": "stream",
     "text": [
      "Ignoring index file '/home/dl392/data/yiwei/typhoon/EAR5/temp.grib.5b7b6.idx' older than GRIB file\n"
     ]
    },
    {
     "name": "stdout",
     "output_type": "stream",
     "text": [
      "Carmen  is finished\n",
      "Processing  Carmen\n"
     ]
    },
    {
     "name": "stderr",
     "output_type": "stream",
     "text": [
      "Ignoring index file '/home/dl392/data/yiwei/typhoon/EAR5/temp.grib.5b7b6.idx' older than GRIB file\n"
     ]
    },
    {
     "name": "stdout",
     "output_type": "stream",
     "text": [
      "Carmen  is finished\n",
      "Processing  Carmen\n"
     ]
    },
    {
     "name": "stderr",
     "output_type": "stream",
     "text": [
      "Ignoring index file '/home/dl392/data/yiwei/typhoon/EAR5/temp.grib.5b7b6.idx' older than GRIB file\n"
     ]
    },
    {
     "name": "stdout",
     "output_type": "stream",
     "text": [
      "Carmen  is finished\n",
      "Processing  Carmen\n"
     ]
    },
    {
     "name": "stderr",
     "output_type": "stream",
     "text": [
      "Ignoring index file '/home/dl392/data/yiwei/typhoon/EAR5/temp.grib.5b7b6.idx' older than GRIB file\n"
     ]
    },
    {
     "name": "stdout",
     "output_type": "stream",
     "text": [
      "Carmen  is finished\n",
      "Processing  Carmen\n"
     ]
    },
    {
     "name": "stderr",
     "output_type": "stream",
     "text": [
      "Ignoring index file '/home/dl392/data/yiwei/typhoon/EAR5/temp.grib.5b7b6.idx' older than GRIB file\n"
     ]
    },
    {
     "name": "stdout",
     "output_type": "stream",
     "text": [
      "Carmen  is finished\n",
      "Processing  Carmen\n"
     ]
    },
    {
     "name": "stderr",
     "output_type": "stream",
     "text": [
      "Ignoring index file '/home/dl392/data/yiwei/typhoon/EAR5/temp.grib.5b7b6.idx' older than GRIB file\n"
     ]
    },
    {
     "name": "stdout",
     "output_type": "stream",
     "text": [
      "Carmen  is finished\n",
      "Processing  Carmen\n"
     ]
    },
    {
     "name": "stderr",
     "output_type": "stream",
     "text": [
      "Ignoring index file '/home/dl392/data/yiwei/typhoon/EAR5/temp.grib.5b7b6.idx' older than GRIB file\n"
     ]
    },
    {
     "name": "stdout",
     "output_type": "stream",
     "text": [
      "Carmen  is finished\n",
      "Processing  Carmen\n"
     ]
    },
    {
     "name": "stderr",
     "output_type": "stream",
     "text": [
      "Ignoring index file '/home/dl392/data/yiwei/typhoon/EAR5/temp.grib.5b7b6.idx' older than GRIB file\n"
     ]
    },
    {
     "name": "stdout",
     "output_type": "stream",
     "text": [
      "Carmen  is finished\n",
      "Processing  Carmen\n"
     ]
    },
    {
     "name": "stderr",
     "output_type": "stream",
     "text": [
      "Ignoring index file '/home/dl392/data/yiwei/typhoon/EAR5/temp.grib.5b7b6.idx' older than GRIB file\n"
     ]
    },
    {
     "name": "stdout",
     "output_type": "stream",
     "text": [
      "Carmen  is finished\n",
      "Processing  Carmen\n"
     ]
    },
    {
     "name": "stderr",
     "output_type": "stream",
     "text": [
      "Ignoring index file '/home/dl392/data/yiwei/typhoon/EAR5/temp.grib.5b7b6.idx' older than GRIB file\n"
     ]
    },
    {
     "name": "stdout",
     "output_type": "stream",
     "text": [
      "Carmen  is finished\n",
      "Processing  Carmen\n"
     ]
    },
    {
     "name": "stderr",
     "output_type": "stream",
     "text": [
      "Ignoring index file '/home/dl392/data/yiwei/typhoon/EAR5/temp.grib.5b7b6.idx' older than GRIB file\n"
     ]
    },
    {
     "name": "stdout",
     "output_type": "stream",
     "text": [
      "Carmen  is finished\n",
      "Processing  Carmen\n"
     ]
    },
    {
     "name": "stderr",
     "output_type": "stream",
     "text": [
      "Ignoring index file '/home/dl392/data/yiwei/typhoon/EAR5/temp.grib.5b7b6.idx' older than GRIB file\n"
     ]
    },
    {
     "name": "stdout",
     "output_type": "stream",
     "text": [
      "Carmen  is finished\n",
      "Processing  Carmen\n"
     ]
    },
    {
     "name": "stderr",
     "output_type": "stream",
     "text": [
      "Ignoring index file '/home/dl392/data/yiwei/typhoon/EAR5/temp.grib.5b7b6.idx' older than GRIB file\n"
     ]
    },
    {
     "name": "stdout",
     "output_type": "stream",
     "text": [
      "Carmen  is finished\n",
      "Processing  Carmen\n"
     ]
    },
    {
     "name": "stderr",
     "output_type": "stream",
     "text": [
      "Ignoring index file '/home/dl392/data/yiwei/typhoon/EAR5/temp.grib.5b7b6.idx' older than GRIB file\n"
     ]
    },
    {
     "name": "stdout",
     "output_type": "stream",
     "text": [
      "Carmen  is finished\n",
      "Processing  Carmen\n"
     ]
    },
    {
     "name": "stderr",
     "output_type": "stream",
     "text": [
      "Ignoring index file '/home/dl392/data/yiwei/typhoon/EAR5/temp.grib.5b7b6.idx' older than GRIB file\n"
     ]
    },
    {
     "name": "stdout",
     "output_type": "stream",
     "text": [
      "Carmen  is finished\n",
      "Processing  Carmen\n"
     ]
    },
    {
     "name": "stderr",
     "output_type": "stream",
     "text": [
      "Ignoring index file '/home/dl392/data/yiwei/typhoon/EAR5/temp.grib.5b7b6.idx' older than GRIB file\n"
     ]
    },
    {
     "name": "stdout",
     "output_type": "stream",
     "text": [
      "Carmen  is finished\n",
      "Processing  Carmen\n"
     ]
    },
    {
     "name": "stderr",
     "output_type": "stream",
     "text": [
      "Ignoring index file '/home/dl392/data/yiwei/typhoon/EAR5/temp.grib.5b7b6.idx' older than GRIB file\n"
     ]
    },
    {
     "name": "stdout",
     "output_type": "stream",
     "text": [
      "Carmen  is finished\n",
      "Processing  Carmen\n"
     ]
    },
    {
     "name": "stderr",
     "output_type": "stream",
     "text": [
      "Ignoring index file '/home/dl392/data/yiwei/typhoon/EAR5/temp.grib.5b7b6.idx' older than GRIB file\n"
     ]
    },
    {
     "name": "stdout",
     "output_type": "stream",
     "text": [
      "Carmen  is finished\n",
      "Processing  Carmen\n"
     ]
    },
    {
     "name": "stderr",
     "output_type": "stream",
     "text": [
      "Ignoring index file '/home/dl392/data/yiwei/typhoon/EAR5/temp.grib.5b7b6.idx' older than GRIB file\n"
     ]
    },
    {
     "name": "stdout",
     "output_type": "stream",
     "text": [
      "Carmen  is finished\n",
      "Processing  Carmen\n",
      "Carmen  is finished\n",
      "Processing  Violet\n"
     ]
    },
    {
     "name": "stderr",
     "output_type": "stream",
     "text": [
      "2024-11-24 02:09:30,191 WARNING [2024-10-10T00:00:00] The final validated ERA5 differs from ERA5T from July 2024 until further notice - please refer to our\n",
      "[Forum announcement](https://forum.ecmwf.int/t/final-validated-era5-product-to-differ-from-era5t-in-july-2024/6685)\n",
      "for details and watch it for further updates on this.\n",
      "2024-11-24 02:09:30,193 INFO Request ID is d7f586a6-1ed3-4595-98ba-90cde9d43eb7\n",
      "2024-11-24 02:09:30,513 INFO status has been updated to accepted\n",
      "2024-11-24 02:09:33,451 INFO status has been updated to successful\n",
      "Ignoring index file '/home/dl392/data/yiwei/typhoon/EAR5/temp.grib.5b7b6.idx' older than GRIB file\n",
      "Ignoring index file '/home/dl392/data/yiwei/typhoon/EAR5/temp.grib.5b7b6.idx' older than GRIB file\n"
     ]
    },
    {
     "name": "stdout",
     "output_type": "stream",
     "text": [
      "Violet  is finished\n",
      "Processing  Violet\n"
     ]
    },
    {
     "name": "stderr",
     "output_type": "stream",
     "text": [
      "Ignoring index file '/home/dl392/data/yiwei/typhoon/EAR5/temp.grib.5b7b6.idx' older than GRIB file\n"
     ]
    },
    {
     "name": "stdout",
     "output_type": "stream",
     "text": [
      "Violet  is finished\n",
      "Processing  Violet\n"
     ]
    },
    {
     "name": "stderr",
     "output_type": "stream",
     "text": [
      "Ignoring index file '/home/dl392/data/yiwei/typhoon/EAR5/temp.grib.5b7b6.idx' older than GRIB file\n"
     ]
    },
    {
     "name": "stdout",
     "output_type": "stream",
     "text": [
      "Violet  is finished\n",
      "Processing  Violet\n"
     ]
    },
    {
     "name": "stderr",
     "output_type": "stream",
     "text": [
      "Ignoring index file '/home/dl392/data/yiwei/typhoon/EAR5/temp.grib.5b7b6.idx' older than GRIB file\n"
     ]
    },
    {
     "name": "stdout",
     "output_type": "stream",
     "text": [
      "Violet  is finished\n",
      "Processing  Violet\n"
     ]
    },
    {
     "name": "stderr",
     "output_type": "stream",
     "text": [
      "Ignoring index file '/home/dl392/data/yiwei/typhoon/EAR5/temp.grib.5b7b6.idx' older than GRIB file\n"
     ]
    },
    {
     "name": "stdout",
     "output_type": "stream",
     "text": [
      "Violet  is finished\n",
      "Processing  Violet\n"
     ]
    },
    {
     "name": "stderr",
     "output_type": "stream",
     "text": [
      "Ignoring index file '/home/dl392/data/yiwei/typhoon/EAR5/temp.grib.5b7b6.idx' older than GRIB file\n"
     ]
    },
    {
     "name": "stdout",
     "output_type": "stream",
     "text": [
      "Violet  is finished\n",
      "Processing  Violet\n"
     ]
    },
    {
     "name": "stderr",
     "output_type": "stream",
     "text": [
      "Ignoring index file '/home/dl392/data/yiwei/typhoon/EAR5/temp.grib.5b7b6.idx' older than GRIB file\n"
     ]
    },
    {
     "name": "stdout",
     "output_type": "stream",
     "text": [
      "Violet  is finished\n",
      "Processing  Violet\n"
     ]
    },
    {
     "name": "stderr",
     "output_type": "stream",
     "text": [
      "Ignoring index file '/home/dl392/data/yiwei/typhoon/EAR5/temp.grib.5b7b6.idx' older than GRIB file\n"
     ]
    },
    {
     "name": "stdout",
     "output_type": "stream",
     "text": [
      "Violet  is finished\n",
      "Processing  Violet\n"
     ]
    },
    {
     "name": "stderr",
     "output_type": "stream",
     "text": [
      "Ignoring index file '/home/dl392/data/yiwei/typhoon/EAR5/temp.grib.5b7b6.idx' older than GRIB file\n"
     ]
    },
    {
     "name": "stdout",
     "output_type": "stream",
     "text": [
      "Violet  is finished\n",
      "Processing  Violet\n"
     ]
    },
    {
     "name": "stderr",
     "output_type": "stream",
     "text": [
      "Ignoring index file '/home/dl392/data/yiwei/typhoon/EAR5/temp.grib.5b7b6.idx' older than GRIB file\n"
     ]
    },
    {
     "name": "stdout",
     "output_type": "stream",
     "text": [
      "Violet  is finished\n",
      "Processing  Violet\n"
     ]
    },
    {
     "name": "stderr",
     "output_type": "stream",
     "text": [
      "Ignoring index file '/home/dl392/data/yiwei/typhoon/EAR5/temp.grib.5b7b6.idx' older than GRIB file\n"
     ]
    },
    {
     "name": "stdout",
     "output_type": "stream",
     "text": [
      "Violet  is finished\n",
      "Processing  Violet\n"
     ]
    },
    {
     "name": "stderr",
     "output_type": "stream",
     "text": [
      "Ignoring index file '/home/dl392/data/yiwei/typhoon/EAR5/temp.grib.5b7b6.idx' older than GRIB file\n"
     ]
    },
    {
     "name": "stdout",
     "output_type": "stream",
     "text": [
      "Violet  is finished\n",
      "Processing  Violet\n"
     ]
    },
    {
     "name": "stderr",
     "output_type": "stream",
     "text": [
      "Ignoring index file '/home/dl392/data/yiwei/typhoon/EAR5/temp.grib.5b7b6.idx' older than GRIB file\n"
     ]
    },
    {
     "name": "stdout",
     "output_type": "stream",
     "text": [
      "Violet  is finished\n",
      "Processing  Violet\n"
     ]
    },
    {
     "name": "stderr",
     "output_type": "stream",
     "text": [
      "Ignoring index file '/home/dl392/data/yiwei/typhoon/EAR5/temp.grib.5b7b6.idx' older than GRIB file\n"
     ]
    },
    {
     "name": "stdout",
     "output_type": "stream",
     "text": [
      "Violet  is finished\n",
      "Processing  Violet\n"
     ]
    },
    {
     "name": "stderr",
     "output_type": "stream",
     "text": [
      "Ignoring index file '/home/dl392/data/yiwei/typhoon/EAR5/temp.grib.5b7b6.idx' older than GRIB file\n"
     ]
    },
    {
     "name": "stdout",
     "output_type": "stream",
     "text": [
      "Violet  is finished\n",
      "Processing  Violet\n"
     ]
    },
    {
     "name": "stderr",
     "output_type": "stream",
     "text": [
      "Ignoring index file '/home/dl392/data/yiwei/typhoon/EAR5/temp.grib.5b7b6.idx' older than GRIB file\n"
     ]
    },
    {
     "name": "stdout",
     "output_type": "stream",
     "text": [
      "Violet  is finished\n",
      "Processing  Violet\n"
     ]
    },
    {
     "name": "stderr",
     "output_type": "stream",
     "text": [
      "Ignoring index file '/home/dl392/data/yiwei/typhoon/EAR5/temp.grib.5b7b6.idx' older than GRIB file\n"
     ]
    },
    {
     "name": "stdout",
     "output_type": "stream",
     "text": [
      "Violet  is finished\n",
      "Processing  Violet\n"
     ]
    },
    {
     "name": "stderr",
     "output_type": "stream",
     "text": [
      "Ignoring index file '/home/dl392/data/yiwei/typhoon/EAR5/temp.grib.5b7b6.idx' older than GRIB file\n"
     ]
    },
    {
     "name": "stdout",
     "output_type": "stream",
     "text": [
      "Violet  is finished\n",
      "Processing  Violet\n"
     ]
    },
    {
     "name": "stderr",
     "output_type": "stream",
     "text": [
      "Ignoring index file '/home/dl392/data/yiwei/typhoon/EAR5/temp.grib.5b7b6.idx' older than GRIB file\n"
     ]
    },
    {
     "name": "stdout",
     "output_type": "stream",
     "text": [
      "Violet  is finished\n",
      "Processing  Violet\n"
     ]
    },
    {
     "name": "stderr",
     "output_type": "stream",
     "text": [
      "Ignoring index file '/home/dl392/data/yiwei/typhoon/EAR5/temp.grib.5b7b6.idx' older than GRIB file\n"
     ]
    },
    {
     "name": "stdout",
     "output_type": "stream",
     "text": [
      "Violet  is finished\n",
      "Processing  Violet\n"
     ]
    },
    {
     "name": "stderr",
     "output_type": "stream",
     "text": [
      "Ignoring index file '/home/dl392/data/yiwei/typhoon/EAR5/temp.grib.5b7b6.idx' older than GRIB file\n"
     ]
    },
    {
     "name": "stdout",
     "output_type": "stream",
     "text": [
      "Violet  is finished\n",
      "Processing  Violet\n"
     ]
    },
    {
     "name": "stderr",
     "output_type": "stream",
     "text": [
      "Ignoring index file '/home/dl392/data/yiwei/typhoon/EAR5/temp.grib.5b7b6.idx' older than GRIB file\n"
     ]
    },
    {
     "name": "stdout",
     "output_type": "stream",
     "text": [
      "Violet  is finished\n",
      "Processing  Violet\n"
     ]
    },
    {
     "name": "stderr",
     "output_type": "stream",
     "text": [
      "Ignoring index file '/home/dl392/data/yiwei/typhoon/EAR5/temp.grib.5b7b6.idx' older than GRIB file\n"
     ]
    },
    {
     "name": "stdout",
     "output_type": "stream",
     "text": [
      "Violet  is finished\n",
      "Processing  Violet\n"
     ]
    },
    {
     "name": "stderr",
     "output_type": "stream",
     "text": [
      "Ignoring index file '/home/dl392/data/yiwei/typhoon/EAR5/temp.grib.5b7b6.idx' older than GRIB file\n"
     ]
    },
    {
     "name": "stdout",
     "output_type": "stream",
     "text": [
      "Violet  is finished\n",
      "Processing  Violet\n"
     ]
    },
    {
     "name": "stderr",
     "output_type": "stream",
     "text": [
      "Ignoring index file '/home/dl392/data/yiwei/typhoon/EAR5/temp.grib.5b7b6.idx' older than GRIB file\n"
     ]
    },
    {
     "name": "stdout",
     "output_type": "stream",
     "text": [
      "Violet  is finished\n",
      "Processing  Violet\n"
     ]
    },
    {
     "name": "stderr",
     "output_type": "stream",
     "text": [
      "Ignoring index file '/home/dl392/data/yiwei/typhoon/EAR5/temp.grib.5b7b6.idx' older than GRIB file\n"
     ]
    },
    {
     "name": "stdout",
     "output_type": "stream",
     "text": [
      "Violet  is finished\n",
      "Processing  Violet\n"
     ]
    },
    {
     "name": "stderr",
     "output_type": "stream",
     "text": [
      "Ignoring index file '/home/dl392/data/yiwei/typhoon/EAR5/temp.grib.5b7b6.idx' older than GRIB file\n"
     ]
    },
    {
     "name": "stdout",
     "output_type": "stream",
     "text": [
      "Violet  is finished\n",
      "Processing  Violet\n"
     ]
    },
    {
     "name": "stderr",
     "output_type": "stream",
     "text": [
      "Ignoring index file '/home/dl392/data/yiwei/typhoon/EAR5/temp.grib.5b7b6.idx' older than GRIB file\n"
     ]
    },
    {
     "name": "stdout",
     "output_type": "stream",
     "text": [
      "Violet  is finished\n",
      "Processing  Violet\n"
     ]
    },
    {
     "name": "stderr",
     "output_type": "stream",
     "text": [
      "Ignoring index file '/home/dl392/data/yiwei/typhoon/EAR5/temp.grib.5b7b6.idx' older than GRIB file\n"
     ]
    },
    {
     "name": "stdout",
     "output_type": "stream",
     "text": [
      "Violet  is finished\n",
      "Processing  Violet\n"
     ]
    },
    {
     "name": "stderr",
     "output_type": "stream",
     "text": [
      "Ignoring index file '/home/dl392/data/yiwei/typhoon/EAR5/temp.grib.5b7b6.idx' older than GRIB file\n"
     ]
    },
    {
     "name": "stdout",
     "output_type": "stream",
     "text": [
      "Violet  is finished\n",
      "Processing  Violet\n",
      "Violet  is finished\n",
      "Processing  Kit\n"
     ]
    },
    {
     "name": "stderr",
     "output_type": "stream",
     "text": [
      "2024-11-24 02:10:43,581 WARNING [2024-10-10T00:00:00] The final validated ERA5 differs from ERA5T from July 2024 until further notice - please refer to our\n",
      "[Forum announcement](https://forum.ecmwf.int/t/final-validated-era5-product-to-differ-from-era5t-in-july-2024/6685)\n",
      "for details and watch it for further updates on this.\n",
      "2024-11-24 02:10:43,583 INFO Request ID is f245a3de-e099-4946-a91a-2549afe63e76\n",
      "2024-11-24 02:10:43,792 INFO status has been updated to accepted\n",
      "2024-11-24 02:10:46,723 INFO status has been updated to running\n",
      "2024-11-24 02:10:50,035 INFO status has been updated to successful\n",
      "Ignoring index file '/home/dl392/data/yiwei/typhoon/EAR5/temp.grib.5b7b6.idx' older than GRIB file\n",
      "Ignoring index file '/home/dl392/data/yiwei/typhoon/EAR5/temp.grib.5b7b6.idx' older than GRIB file\n"
     ]
    },
    {
     "name": "stdout",
     "output_type": "stream",
     "text": [
      "Kit  is finished\n",
      "Processing  Kit\n"
     ]
    },
    {
     "name": "stderr",
     "output_type": "stream",
     "text": [
      "Ignoring index file '/home/dl392/data/yiwei/typhoon/EAR5/temp.grib.5b7b6.idx' older than GRIB file\n"
     ]
    },
    {
     "name": "stdout",
     "output_type": "stream",
     "text": [
      "Kit  is finished\n",
      "Processing  Kit\n"
     ]
    },
    {
     "name": "stderr",
     "output_type": "stream",
     "text": [
      "Ignoring index file '/home/dl392/data/yiwei/typhoon/EAR5/temp.grib.5b7b6.idx' older than GRIB file\n"
     ]
    },
    {
     "name": "stdout",
     "output_type": "stream",
     "text": [
      "Kit  is finished\n",
      "Processing  Kit\n"
     ]
    },
    {
     "name": "stderr",
     "output_type": "stream",
     "text": [
      "Ignoring index file '/home/dl392/data/yiwei/typhoon/EAR5/temp.grib.5b7b6.idx' older than GRIB file\n"
     ]
    },
    {
     "name": "stdout",
     "output_type": "stream",
     "text": [
      "Kit  is finished\n",
      "Processing  Kit\n"
     ]
    },
    {
     "name": "stderr",
     "output_type": "stream",
     "text": [
      "Ignoring index file '/home/dl392/data/yiwei/typhoon/EAR5/temp.grib.5b7b6.idx' older than GRIB file\n"
     ]
    },
    {
     "name": "stdout",
     "output_type": "stream",
     "text": [
      "Kit  is finished\n",
      "Processing  Kit\n"
     ]
    },
    {
     "name": "stderr",
     "output_type": "stream",
     "text": [
      "Ignoring index file '/home/dl392/data/yiwei/typhoon/EAR5/temp.grib.5b7b6.idx' older than GRIB file\n"
     ]
    },
    {
     "name": "stdout",
     "output_type": "stream",
     "text": [
      "Kit  is finished\n",
      "Processing  Kit\n"
     ]
    },
    {
     "name": "stderr",
     "output_type": "stream",
     "text": [
      "Ignoring index file '/home/dl392/data/yiwei/typhoon/EAR5/temp.grib.5b7b6.idx' older than GRIB file\n"
     ]
    },
    {
     "name": "stdout",
     "output_type": "stream",
     "text": [
      "Kit  is finished\n",
      "Processing  Kit\n"
     ]
    },
    {
     "name": "stderr",
     "output_type": "stream",
     "text": [
      "Ignoring index file '/home/dl392/data/yiwei/typhoon/EAR5/temp.grib.5b7b6.idx' older than GRIB file\n"
     ]
    },
    {
     "name": "stdout",
     "output_type": "stream",
     "text": [
      "Kit  is finished\n",
      "Processing  Kit\n"
     ]
    },
    {
     "name": "stderr",
     "output_type": "stream",
     "text": [
      "Ignoring index file '/home/dl392/data/yiwei/typhoon/EAR5/temp.grib.5b7b6.idx' older than GRIB file\n"
     ]
    },
    {
     "name": "stdout",
     "output_type": "stream",
     "text": [
      "Kit  is finished\n",
      "Processing  Kit\n"
     ]
    },
    {
     "name": "stderr",
     "output_type": "stream",
     "text": [
      "Ignoring index file '/home/dl392/data/yiwei/typhoon/EAR5/temp.grib.5b7b6.idx' older than GRIB file\n"
     ]
    },
    {
     "name": "stdout",
     "output_type": "stream",
     "text": [
      "Kit  is finished\n",
      "Processing  Kit\n"
     ]
    },
    {
     "name": "stderr",
     "output_type": "stream",
     "text": [
      "Ignoring index file '/home/dl392/data/yiwei/typhoon/EAR5/temp.grib.5b7b6.idx' older than GRIB file\n"
     ]
    },
    {
     "name": "stdout",
     "output_type": "stream",
     "text": [
      "Kit  is finished\n",
      "Processing  Kit\n"
     ]
    },
    {
     "name": "stderr",
     "output_type": "stream",
     "text": [
      "Ignoring index file '/home/dl392/data/yiwei/typhoon/EAR5/temp.grib.5b7b6.idx' older than GRIB file\n"
     ]
    },
    {
     "name": "stdout",
     "output_type": "stream",
     "text": [
      "Kit  is finished\n",
      "Processing  Kit\n"
     ]
    },
    {
     "name": "stderr",
     "output_type": "stream",
     "text": [
      "Ignoring index file '/home/dl392/data/yiwei/typhoon/EAR5/temp.grib.5b7b6.idx' older than GRIB file\n"
     ]
    },
    {
     "name": "stdout",
     "output_type": "stream",
     "text": [
      "Kit  is finished\n",
      "Processing  Kit\n"
     ]
    },
    {
     "name": "stderr",
     "output_type": "stream",
     "text": [
      "Ignoring index file '/home/dl392/data/yiwei/typhoon/EAR5/temp.grib.5b7b6.idx' older than GRIB file\n"
     ]
    },
    {
     "name": "stdout",
     "output_type": "stream",
     "text": [
      "Kit  is finished\n",
      "Processing  Kit\n"
     ]
    },
    {
     "name": "stderr",
     "output_type": "stream",
     "text": [
      "Ignoring index file '/home/dl392/data/yiwei/typhoon/EAR5/temp.grib.5b7b6.idx' older than GRIB file\n"
     ]
    },
    {
     "name": "stdout",
     "output_type": "stream",
     "text": [
      "Kit  is finished\n",
      "Processing  Kit\n"
     ]
    },
    {
     "name": "stderr",
     "output_type": "stream",
     "text": [
      "Ignoring index file '/home/dl392/data/yiwei/typhoon/EAR5/temp.grib.5b7b6.idx' older than GRIB file\n"
     ]
    },
    {
     "name": "stdout",
     "output_type": "stream",
     "text": [
      "Kit  is finished\n",
      "Processing  Kit\n"
     ]
    },
    {
     "name": "stderr",
     "output_type": "stream",
     "text": [
      "Ignoring index file '/home/dl392/data/yiwei/typhoon/EAR5/temp.grib.5b7b6.idx' older than GRIB file\n"
     ]
    },
    {
     "name": "stdout",
     "output_type": "stream",
     "text": [
      "Kit  is finished\n",
      "Processing  Kit\n"
     ]
    },
    {
     "name": "stderr",
     "output_type": "stream",
     "text": [
      "Ignoring index file '/home/dl392/data/yiwei/typhoon/EAR5/temp.grib.5b7b6.idx' older than GRIB file\n"
     ]
    },
    {
     "name": "stdout",
     "output_type": "stream",
     "text": [
      "Kit  is finished\n",
      "Processing  Kit\n"
     ]
    },
    {
     "name": "stderr",
     "output_type": "stream",
     "text": [
      "Ignoring index file '/home/dl392/data/yiwei/typhoon/EAR5/temp.grib.5b7b6.idx' older than GRIB file\n"
     ]
    },
    {
     "name": "stdout",
     "output_type": "stream",
     "text": [
      "Kit  is finished\n",
      "Processing  Kit\n"
     ]
    },
    {
     "name": "stderr",
     "output_type": "stream",
     "text": [
      "Ignoring index file '/home/dl392/data/yiwei/typhoon/EAR5/temp.grib.5b7b6.idx' older than GRIB file\n"
     ]
    },
    {
     "name": "stdout",
     "output_type": "stream",
     "text": [
      "Kit  is finished\n",
      "Processing  Kit\n"
     ]
    },
    {
     "name": "stderr",
     "output_type": "stream",
     "text": [
      "Ignoring index file '/home/dl392/data/yiwei/typhoon/EAR5/temp.grib.5b7b6.idx' older than GRIB file\n"
     ]
    },
    {
     "name": "stdout",
     "output_type": "stream",
     "text": [
      "Kit  is finished\n",
      "Processing  Kit\n"
     ]
    },
    {
     "name": "stderr",
     "output_type": "stream",
     "text": [
      "Ignoring index file '/home/dl392/data/yiwei/typhoon/EAR5/temp.grib.5b7b6.idx' older than GRIB file\n"
     ]
    },
    {
     "name": "stdout",
     "output_type": "stream",
     "text": [
      "Kit  is finished\n",
      "Processing  Kit\n"
     ]
    },
    {
     "name": "stderr",
     "output_type": "stream",
     "text": [
      "Ignoring index file '/home/dl392/data/yiwei/typhoon/EAR5/temp.grib.5b7b6.idx' older than GRIB file\n"
     ]
    },
    {
     "name": "stdout",
     "output_type": "stream",
     "text": [
      "Kit  is finished\n",
      "Processing  Kit\n"
     ]
    },
    {
     "name": "stderr",
     "output_type": "stream",
     "text": [
      "Ignoring index file '/home/dl392/data/yiwei/typhoon/EAR5/temp.grib.5b7b6.idx' older than GRIB file\n"
     ]
    },
    {
     "name": "stdout",
     "output_type": "stream",
     "text": [
      "Kit  is finished\n",
      "Processing  Kit\n"
     ]
    },
    {
     "name": "stderr",
     "output_type": "stream",
     "text": [
      "Ignoring index file '/home/dl392/data/yiwei/typhoon/EAR5/temp.grib.5b7b6.idx' older than GRIB file\n"
     ]
    },
    {
     "name": "stdout",
     "output_type": "stream",
     "text": [
      "Kit  is finished\n",
      "Processing  Kit\n"
     ]
    },
    {
     "name": "stderr",
     "output_type": "stream",
     "text": [
      "Ignoring index file '/home/dl392/data/yiwei/typhoon/EAR5/temp.grib.5b7b6.idx' older than GRIB file\n"
     ]
    },
    {
     "name": "stdout",
     "output_type": "stream",
     "text": [
      "Kit  is finished\n",
      "Processing  Kit\n"
     ]
    },
    {
     "name": "stderr",
     "output_type": "stream",
     "text": [
      "Ignoring index file '/home/dl392/data/yiwei/typhoon/EAR5/temp.grib.5b7b6.idx' older than GRIB file\n"
     ]
    },
    {
     "name": "stdout",
     "output_type": "stream",
     "text": [
      "Kit  is finished\n",
      "Processing  Kit\n"
     ]
    },
    {
     "name": "stderr",
     "output_type": "stream",
     "text": [
      "Ignoring index file '/home/dl392/data/yiwei/typhoon/EAR5/temp.grib.5b7b6.idx' older than GRIB file\n"
     ]
    },
    {
     "name": "stdout",
     "output_type": "stream",
     "text": [
      "Kit  is finished\n",
      "Processing  Kit\n"
     ]
    },
    {
     "name": "stderr",
     "output_type": "stream",
     "text": [
      "Ignoring index file '/home/dl392/data/yiwei/typhoon/EAR5/temp.grib.5b7b6.idx' older than GRIB file\n"
     ]
    },
    {
     "name": "stdout",
     "output_type": "stream",
     "text": [
      "Kit  is finished\n",
      "Processing  Kit\n"
     ]
    },
    {
     "name": "stderr",
     "output_type": "stream",
     "text": [
      "Ignoring index file '/home/dl392/data/yiwei/typhoon/EAR5/temp.grib.5b7b6.idx' older than GRIB file\n"
     ]
    },
    {
     "name": "stdout",
     "output_type": "stream",
     "text": [
      "Kit  is finished\n",
      "Processing  Kit\n"
     ]
    },
    {
     "name": "stderr",
     "output_type": "stream",
     "text": [
      "Ignoring index file '/home/dl392/data/yiwei/typhoon/EAR5/temp.grib.5b7b6.idx' older than GRIB file\n"
     ]
    },
    {
     "name": "stdout",
     "output_type": "stream",
     "text": [
      "Kit  is finished\n",
      "Processing  Kit\n"
     ]
    },
    {
     "name": "stderr",
     "output_type": "stream",
     "text": [
      "Ignoring index file '/home/dl392/data/yiwei/typhoon/EAR5/temp.grib.5b7b6.idx' older than GRIB file\n"
     ]
    },
    {
     "name": "stdout",
     "output_type": "stream",
     "text": [
      "Kit  is finished\n",
      "Processing  Kit\n"
     ]
    },
    {
     "name": "stderr",
     "output_type": "stream",
     "text": [
      "Ignoring index file '/home/dl392/data/yiwei/typhoon/EAR5/temp.grib.5b7b6.idx' older than GRIB file\n"
     ]
    },
    {
     "name": "stdout",
     "output_type": "stream",
     "text": [
      "Kit  is finished\n",
      "Processing  Kit\n"
     ]
    },
    {
     "name": "stderr",
     "output_type": "stream",
     "text": [
      "Ignoring index file '/home/dl392/data/yiwei/typhoon/EAR5/temp.grib.5b7b6.idx' older than GRIB file\n"
     ]
    },
    {
     "name": "stdout",
     "output_type": "stream",
     "text": [
      "Kit  is finished\n",
      "Processing  Kit\n",
      "Kit  is finished\n",
      "Processing  BOLAVEN\n"
     ]
    },
    {
     "name": "stderr",
     "output_type": "stream",
     "text": [
      "2024-11-24 02:12:04,252 WARNING [2024-10-10T00:00:00] The final validated ERA5 differs from ERA5T from July 2024 until further notice - please refer to our\n",
      "[Forum announcement](https://forum.ecmwf.int/t/final-validated-era5-product-to-differ-from-era5t-in-july-2024/6685)\n",
      "for details and watch it for further updates on this.\n",
      "2024-11-24 02:12:04,254 INFO Request ID is 1d8be001-8b43-4633-8c33-f22592cccde6\n",
      "2024-11-24 02:12:04,505 INFO status has been updated to accepted\n",
      "2024-11-24 02:12:07,572 INFO status has been updated to running\n",
      "2024-11-24 02:12:10,080 INFO status has been updated to successful\n",
      "Ignoring index file '/home/dl392/data/yiwei/typhoon/EAR5/temp.grib.5b7b6.idx' older than GRIB file\n",
      "Ignoring index file '/home/dl392/data/yiwei/typhoon/EAR5/temp.grib.5b7b6.idx' older than GRIB file\n"
     ]
    },
    {
     "name": "stdout",
     "output_type": "stream",
     "text": [
      "BOLAVEN  is finished\n",
      "Processing  BOLAVEN\n"
     ]
    },
    {
     "name": "stderr",
     "output_type": "stream",
     "text": [
      "Ignoring index file '/home/dl392/data/yiwei/typhoon/EAR5/temp.grib.5b7b6.idx' older than GRIB file\n"
     ]
    },
    {
     "name": "stdout",
     "output_type": "stream",
     "text": [
      "BOLAVEN  is finished\n",
      "Processing  BOLAVEN\n"
     ]
    },
    {
     "name": "stderr",
     "output_type": "stream",
     "text": [
      "Ignoring index file '/home/dl392/data/yiwei/typhoon/EAR5/temp.grib.5b7b6.idx' older than GRIB file\n"
     ]
    },
    {
     "name": "stdout",
     "output_type": "stream",
     "text": [
      "BOLAVEN  is finished\n",
      "Processing  BOLAVEN\n"
     ]
    },
    {
     "name": "stderr",
     "output_type": "stream",
     "text": [
      "Ignoring index file '/home/dl392/data/yiwei/typhoon/EAR5/temp.grib.5b7b6.idx' older than GRIB file\n"
     ]
    },
    {
     "name": "stdout",
     "output_type": "stream",
     "text": [
      "BOLAVEN  is finished\n",
      "Processing  BOLAVEN\n"
     ]
    },
    {
     "name": "stderr",
     "output_type": "stream",
     "text": [
      "Ignoring index file '/home/dl392/data/yiwei/typhoon/EAR5/temp.grib.5b7b6.idx' older than GRIB file\n"
     ]
    },
    {
     "name": "stdout",
     "output_type": "stream",
     "text": [
      "BOLAVEN  is finished\n",
      "Processing  BOLAVEN\n"
     ]
    },
    {
     "name": "stderr",
     "output_type": "stream",
     "text": [
      "Ignoring index file '/home/dl392/data/yiwei/typhoon/EAR5/temp.grib.5b7b6.idx' older than GRIB file\n"
     ]
    },
    {
     "name": "stdout",
     "output_type": "stream",
     "text": [
      "BOLAVEN  is finished\n",
      "Processing  BOLAVEN\n"
     ]
    },
    {
     "name": "stderr",
     "output_type": "stream",
     "text": [
      "Ignoring index file '/home/dl392/data/yiwei/typhoon/EAR5/temp.grib.5b7b6.idx' older than GRIB file\n"
     ]
    },
    {
     "name": "stdout",
     "output_type": "stream",
     "text": [
      "BOLAVEN  is finished\n",
      "Processing  BOLAVEN\n"
     ]
    },
    {
     "name": "stderr",
     "output_type": "stream",
     "text": [
      "Ignoring index file '/home/dl392/data/yiwei/typhoon/EAR5/temp.grib.5b7b6.idx' older than GRIB file\n"
     ]
    },
    {
     "name": "stdout",
     "output_type": "stream",
     "text": [
      "BOLAVEN  is finished\n",
      "Processing  BOLAVEN\n"
     ]
    },
    {
     "name": "stderr",
     "output_type": "stream",
     "text": [
      "Ignoring index file '/home/dl392/data/yiwei/typhoon/EAR5/temp.grib.5b7b6.idx' older than GRIB file\n"
     ]
    },
    {
     "name": "stdout",
     "output_type": "stream",
     "text": [
      "BOLAVEN  is finished\n",
      "Processing  BOLAVEN\n"
     ]
    },
    {
     "name": "stderr",
     "output_type": "stream",
     "text": [
      "Ignoring index file '/home/dl392/data/yiwei/typhoon/EAR5/temp.grib.5b7b6.idx' older than GRIB file\n"
     ]
    },
    {
     "name": "stdout",
     "output_type": "stream",
     "text": [
      "BOLAVEN  is finished\n",
      "Processing  BOLAVEN\n"
     ]
    },
    {
     "name": "stderr",
     "output_type": "stream",
     "text": [
      "Ignoring index file '/home/dl392/data/yiwei/typhoon/EAR5/temp.grib.5b7b6.idx' older than GRIB file\n"
     ]
    },
    {
     "name": "stdout",
     "output_type": "stream",
     "text": [
      "BOLAVEN  is finished\n",
      "Processing  BOLAVEN\n"
     ]
    },
    {
     "name": "stderr",
     "output_type": "stream",
     "text": [
      "Ignoring index file '/home/dl392/data/yiwei/typhoon/EAR5/temp.grib.5b7b6.idx' older than GRIB file\n"
     ]
    },
    {
     "name": "stdout",
     "output_type": "stream",
     "text": [
      "BOLAVEN  is finished\n",
      "Processing  BOLAVEN\n"
     ]
    },
    {
     "name": "stderr",
     "output_type": "stream",
     "text": [
      "Ignoring index file '/home/dl392/data/yiwei/typhoon/EAR5/temp.grib.5b7b6.idx' older than GRIB file\n"
     ]
    },
    {
     "name": "stdout",
     "output_type": "stream",
     "text": [
      "BOLAVEN  is finished\n",
      "Processing  BOLAVEN\n"
     ]
    },
    {
     "name": "stderr",
     "output_type": "stream",
     "text": [
      "Ignoring index file '/home/dl392/data/yiwei/typhoon/EAR5/temp.grib.5b7b6.idx' older than GRIB file\n"
     ]
    },
    {
     "name": "stdout",
     "output_type": "stream",
     "text": [
      "BOLAVEN  is finished\n",
      "Processing  BOLAVEN\n"
     ]
    },
    {
     "name": "stderr",
     "output_type": "stream",
     "text": [
      "Ignoring index file '/home/dl392/data/yiwei/typhoon/EAR5/temp.grib.5b7b6.idx' older than GRIB file\n"
     ]
    },
    {
     "name": "stdout",
     "output_type": "stream",
     "text": [
      "BOLAVEN  is finished\n",
      "Processing  BOLAVEN\n"
     ]
    },
    {
     "name": "stderr",
     "output_type": "stream",
     "text": [
      "Ignoring index file '/home/dl392/data/yiwei/typhoon/EAR5/temp.grib.5b7b6.idx' older than GRIB file\n"
     ]
    },
    {
     "name": "stdout",
     "output_type": "stream",
     "text": [
      "BOLAVEN  is finished\n",
      "Processing  BOLAVEN\n"
     ]
    },
    {
     "name": "stderr",
     "output_type": "stream",
     "text": [
      "Ignoring index file '/home/dl392/data/yiwei/typhoon/EAR5/temp.grib.5b7b6.idx' older than GRIB file\n"
     ]
    },
    {
     "name": "stdout",
     "output_type": "stream",
     "text": [
      "BOLAVEN  is finished\n",
      "Processing  BOLAVEN\n"
     ]
    },
    {
     "name": "stderr",
     "output_type": "stream",
     "text": [
      "Ignoring index file '/home/dl392/data/yiwei/typhoon/EAR5/temp.grib.5b7b6.idx' older than GRIB file\n"
     ]
    },
    {
     "name": "stdout",
     "output_type": "stream",
     "text": [
      "BOLAVEN  is finished\n",
      "Processing  BOLAVEN\n",
      "BOLAVEN  is finished\n",
      "Processing  Fabian\n"
     ]
    },
    {
     "name": "stderr",
     "output_type": "stream",
     "text": [
      "2024-11-24 02:12:52,961 WARNING [2024-10-10T00:00:00] The final validated ERA5 differs from ERA5T from July 2024 until further notice - please refer to our\n",
      "[Forum announcement](https://forum.ecmwf.int/t/final-validated-era5-product-to-differ-from-era5t-in-july-2024/6685)\n",
      "for details and watch it for further updates on this.\n",
      "2024-11-24 02:12:52,962 INFO Request ID is c0c5f6eb-99a0-404a-ad06-8542aa804298\n",
      "2024-11-24 02:12:53,165 INFO status has been updated to accepted\n",
      "2024-11-24 02:12:59,261 INFO status has been updated to running\n",
      "2024-11-24 02:13:03,053 INFO status has been updated to successful\n",
      "Ignoring index file '/home/dl392/data/yiwei/typhoon/EAR5/temp.grib.5b7b6.idx' older than GRIB file\n",
      "Ignoring index file '/home/dl392/data/yiwei/typhoon/EAR5/temp.grib.5b7b6.idx' older than GRIB file\n"
     ]
    },
    {
     "name": "stdout",
     "output_type": "stream",
     "text": [
      "Fabian  is finished\n",
      "Processing  Fabian\n"
     ]
    },
    {
     "name": "stderr",
     "output_type": "stream",
     "text": [
      "Ignoring index file '/home/dl392/data/yiwei/typhoon/EAR5/temp.grib.5b7b6.idx' older than GRIB file\n"
     ]
    },
    {
     "name": "stdout",
     "output_type": "stream",
     "text": [
      "Fabian  is finished\n",
      "Processing  Fabian\n"
     ]
    },
    {
     "name": "stderr",
     "output_type": "stream",
     "text": [
      "Ignoring index file '/home/dl392/data/yiwei/typhoon/EAR5/temp.grib.5b7b6.idx' older than GRIB file\n"
     ]
    },
    {
     "name": "stdout",
     "output_type": "stream",
     "text": [
      "Fabian  is finished\n",
      "Processing  Fabian\n"
     ]
    },
    {
     "name": "stderr",
     "output_type": "stream",
     "text": [
      "Ignoring index file '/home/dl392/data/yiwei/typhoon/EAR5/temp.grib.5b7b6.idx' older than GRIB file\n"
     ]
    },
    {
     "name": "stdout",
     "output_type": "stream",
     "text": [
      "Fabian  is finished\n",
      "Processing  Fabian\n"
     ]
    },
    {
     "name": "stderr",
     "output_type": "stream",
     "text": [
      "Ignoring index file '/home/dl392/data/yiwei/typhoon/EAR5/temp.grib.5b7b6.idx' older than GRIB file\n"
     ]
    },
    {
     "name": "stdout",
     "output_type": "stream",
     "text": [
      "Fabian  is finished\n",
      "Processing  Fabian\n"
     ]
    },
    {
     "name": "stderr",
     "output_type": "stream",
     "text": [
      "Ignoring index file '/home/dl392/data/yiwei/typhoon/EAR5/temp.grib.5b7b6.idx' older than GRIB file\n"
     ]
    },
    {
     "name": "stdout",
     "output_type": "stream",
     "text": [
      "Fabian  is finished\n",
      "Processing  Fabian\n"
     ]
    },
    {
     "name": "stderr",
     "output_type": "stream",
     "text": [
      "Ignoring index file '/home/dl392/data/yiwei/typhoon/EAR5/temp.grib.5b7b6.idx' older than GRIB file\n"
     ]
    },
    {
     "name": "stdout",
     "output_type": "stream",
     "text": [
      "Fabian  is finished\n",
      "Processing  Fabian\n"
     ]
    },
    {
     "name": "stderr",
     "output_type": "stream",
     "text": [
      "Ignoring index file '/home/dl392/data/yiwei/typhoon/EAR5/temp.grib.5b7b6.idx' older than GRIB file\n"
     ]
    },
    {
     "name": "stdout",
     "output_type": "stream",
     "text": [
      "Fabian  is finished\n",
      "Processing  Fabian\n"
     ]
    },
    {
     "name": "stderr",
     "output_type": "stream",
     "text": [
      "Ignoring index file '/home/dl392/data/yiwei/typhoon/EAR5/temp.grib.5b7b6.idx' older than GRIB file\n"
     ]
    },
    {
     "name": "stdout",
     "output_type": "stream",
     "text": [
      "Fabian  is finished\n",
      "Processing  Fabian\n"
     ]
    },
    {
     "name": "stderr",
     "output_type": "stream",
     "text": [
      "Ignoring index file '/home/dl392/data/yiwei/typhoon/EAR5/temp.grib.5b7b6.idx' older than GRIB file\n"
     ]
    },
    {
     "name": "stdout",
     "output_type": "stream",
     "text": [
      "Fabian  is finished\n",
      "Processing  Fabian\n"
     ]
    },
    {
     "name": "stderr",
     "output_type": "stream",
     "text": [
      "Ignoring index file '/home/dl392/data/yiwei/typhoon/EAR5/temp.grib.5b7b6.idx' older than GRIB file\n"
     ]
    },
    {
     "name": "stdout",
     "output_type": "stream",
     "text": [
      "Fabian  is finished\n",
      "Processing  Fabian\n"
     ]
    },
    {
     "name": "stderr",
     "output_type": "stream",
     "text": [
      "Ignoring index file '/home/dl392/data/yiwei/typhoon/EAR5/temp.grib.5b7b6.idx' older than GRIB file\n"
     ]
    },
    {
     "name": "stdout",
     "output_type": "stream",
     "text": [
      "Fabian  is finished\n",
      "Processing  Fabian\n"
     ]
    },
    {
     "name": "stderr",
     "output_type": "stream",
     "text": [
      "Ignoring index file '/home/dl392/data/yiwei/typhoon/EAR5/temp.grib.5b7b6.idx' older than GRIB file\n"
     ]
    },
    {
     "name": "stdout",
     "output_type": "stream",
     "text": [
      "Fabian  is finished\n",
      "Processing  Fabian\n"
     ]
    },
    {
     "name": "stderr",
     "output_type": "stream",
     "text": [
      "Ignoring index file '/home/dl392/data/yiwei/typhoon/EAR5/temp.grib.5b7b6.idx' older than GRIB file\n"
     ]
    },
    {
     "name": "stdout",
     "output_type": "stream",
     "text": [
      "Fabian  is finished\n",
      "Processing  Fabian\n"
     ]
    },
    {
     "name": "stderr",
     "output_type": "stream",
     "text": [
      "Ignoring index file '/home/dl392/data/yiwei/typhoon/EAR5/temp.grib.5b7b6.idx' older than GRIB file\n"
     ]
    },
    {
     "name": "stdout",
     "output_type": "stream",
     "text": [
      "Fabian  is finished\n",
      "Processing  Fabian\n"
     ]
    },
    {
     "name": "stderr",
     "output_type": "stream",
     "text": [
      "Ignoring index file '/home/dl392/data/yiwei/typhoon/EAR5/temp.grib.5b7b6.idx' older than GRIB file\n"
     ]
    },
    {
     "name": "stdout",
     "output_type": "stream",
     "text": [
      "Fabian  is finished\n",
      "Processing  Fabian\n"
     ]
    },
    {
     "name": "stderr",
     "output_type": "stream",
     "text": [
      "Ignoring index file '/home/dl392/data/yiwei/typhoon/EAR5/temp.grib.5b7b6.idx' older than GRIB file\n"
     ]
    },
    {
     "name": "stdout",
     "output_type": "stream",
     "text": [
      "Fabian  is finished\n",
      "Processing  Fabian\n"
     ]
    },
    {
     "name": "stderr",
     "output_type": "stream",
     "text": [
      "Ignoring index file '/home/dl392/data/yiwei/typhoon/EAR5/temp.grib.5b7b6.idx' older than GRIB file\n"
     ]
    },
    {
     "name": "stdout",
     "output_type": "stream",
     "text": [
      "Fabian  is finished\n",
      "Processing  Fabian\n"
     ]
    },
    {
     "name": "stderr",
     "output_type": "stream",
     "text": [
      "Ignoring index file '/home/dl392/data/yiwei/typhoon/EAR5/temp.grib.5b7b6.idx' older than GRIB file\n"
     ]
    },
    {
     "name": "stdout",
     "output_type": "stream",
     "text": [
      "Fabian  is finished\n",
      "Processing  Fabian\n"
     ]
    },
    {
     "name": "stderr",
     "output_type": "stream",
     "text": [
      "Ignoring index file '/home/dl392/data/yiwei/typhoon/EAR5/temp.grib.5b7b6.idx' older than GRIB file\n"
     ]
    },
    {
     "name": "stdout",
     "output_type": "stream",
     "text": [
      "Fabian  is finished\n",
      "Processing  Fabian\n"
     ]
    },
    {
     "name": "stderr",
     "output_type": "stream",
     "text": [
      "Ignoring index file '/home/dl392/data/yiwei/typhoon/EAR5/temp.grib.5b7b6.idx' older than GRIB file\n"
     ]
    },
    {
     "name": "stdout",
     "output_type": "stream",
     "text": [
      "Fabian  is finished\n",
      "Processing  Fabian\n"
     ]
    },
    {
     "name": "stderr",
     "output_type": "stream",
     "text": [
      "Ignoring index file '/home/dl392/data/yiwei/typhoon/EAR5/temp.grib.5b7b6.idx' older than GRIB file\n"
     ]
    },
    {
     "name": "stdout",
     "output_type": "stream",
     "text": [
      "Fabian  is finished\n",
      "Processing  Fabian\n"
     ]
    },
    {
     "name": "stderr",
     "output_type": "stream",
     "text": [
      "Ignoring index file '/home/dl392/data/yiwei/typhoon/EAR5/temp.grib.5b7b6.idx' older than GRIB file\n"
     ]
    },
    {
     "name": "stdout",
     "output_type": "stream",
     "text": [
      "Fabian  is finished\n",
      "Processing  Fabian\n"
     ]
    },
    {
     "name": "stderr",
     "output_type": "stream",
     "text": [
      "Ignoring index file '/home/dl392/data/yiwei/typhoon/EAR5/temp.grib.5b7b6.idx' older than GRIB file\n"
     ]
    },
    {
     "name": "stdout",
     "output_type": "stream",
     "text": [
      "Fabian  is finished\n",
      "Processing  Fabian\n"
     ]
    },
    {
     "name": "stderr",
     "output_type": "stream",
     "text": [
      "Ignoring index file '/home/dl392/data/yiwei/typhoon/EAR5/temp.grib.5b7b6.idx' older than GRIB file\n"
     ]
    },
    {
     "name": "stdout",
     "output_type": "stream",
     "text": [
      "Fabian  is finished\n",
      "Processing  Fabian\n"
     ]
    },
    {
     "name": "stderr",
     "output_type": "stream",
     "text": [
      "Ignoring index file '/home/dl392/data/yiwei/typhoon/EAR5/temp.grib.5b7b6.idx' older than GRIB file\n"
     ]
    },
    {
     "name": "stdout",
     "output_type": "stream",
     "text": [
      "Fabian  is finished\n",
      "Processing  Fabian\n"
     ]
    },
    {
     "name": "stderr",
     "output_type": "stream",
     "text": [
      "Ignoring index file '/home/dl392/data/yiwei/typhoon/EAR5/temp.grib.5b7b6.idx' older than GRIB file\n"
     ]
    },
    {
     "name": "stdout",
     "output_type": "stream",
     "text": [
      "Fabian  is finished\n",
      "Processing  Fabian\n"
     ]
    },
    {
     "name": "stderr",
     "output_type": "stream",
     "text": [
      "Ignoring index file '/home/dl392/data/yiwei/typhoon/EAR5/temp.grib.5b7b6.idx' older than GRIB file\n"
     ]
    },
    {
     "name": "stdout",
     "output_type": "stream",
     "text": [
      "Fabian  is finished\n",
      "Processing  Fabian\n"
     ]
    },
    {
     "name": "stderr",
     "output_type": "stream",
     "text": [
      "Ignoring index file '/home/dl392/data/yiwei/typhoon/EAR5/temp.grib.5b7b6.idx' older than GRIB file\n"
     ]
    },
    {
     "name": "stdout",
     "output_type": "stream",
     "text": [
      "Fabian  is finished\n",
      "Processing  Fabian\n"
     ]
    },
    {
     "name": "stderr",
     "output_type": "stream",
     "text": [
      "Ignoring index file '/home/dl392/data/yiwei/typhoon/EAR5/temp.grib.5b7b6.idx' older than GRIB file\n"
     ]
    },
    {
     "name": "stdout",
     "output_type": "stream",
     "text": [
      "Fabian  is finished\n",
      "Processing  Fabian\n"
     ]
    },
    {
     "name": "stderr",
     "output_type": "stream",
     "text": [
      "Ignoring index file '/home/dl392/data/yiwei/typhoon/EAR5/temp.grib.5b7b6.idx' older than GRIB file\n"
     ]
    },
    {
     "name": "stdout",
     "output_type": "stream",
     "text": [
      "Fabian  is finished\n",
      "Processing  Fabian\n"
     ]
    },
    {
     "name": "stderr",
     "output_type": "stream",
     "text": [
      "Ignoring index file '/home/dl392/data/yiwei/typhoon/EAR5/temp.grib.5b7b6.idx' older than GRIB file\n"
     ]
    },
    {
     "name": "stdout",
     "output_type": "stream",
     "text": [
      "Fabian  is finished\n",
      "Processing  Fabian\n"
     ]
    },
    {
     "name": "stderr",
     "output_type": "stream",
     "text": [
      "Ignoring index file '/home/dl392/data/yiwei/typhoon/EAR5/temp.grib.5b7b6.idx' older than GRIB file\n"
     ]
    },
    {
     "name": "stdout",
     "output_type": "stream",
     "text": [
      "Fabian  is finished\n",
      "Processing  Fabian\n"
     ]
    },
    {
     "name": "stderr",
     "output_type": "stream",
     "text": [
      "Ignoring index file '/home/dl392/data/yiwei/typhoon/EAR5/temp.grib.5b7b6.idx' older than GRIB file\n"
     ]
    },
    {
     "name": "stdout",
     "output_type": "stream",
     "text": [
      "Fabian  is finished\n",
      "Processing  Fabian\n"
     ]
    },
    {
     "name": "stderr",
     "output_type": "stream",
     "text": [
      "Ignoring index file '/home/dl392/data/yiwei/typhoon/EAR5/temp.grib.5b7b6.idx' older than GRIB file\n"
     ]
    },
    {
     "name": "stdout",
     "output_type": "stream",
     "text": [
      "Fabian  is finished\n",
      "Processing  Fabian\n"
     ]
    },
    {
     "name": "stderr",
     "output_type": "stream",
     "text": [
      "Ignoring index file '/home/dl392/data/yiwei/typhoon/EAR5/temp.grib.5b7b6.idx' older than GRIB file\n"
     ]
    },
    {
     "name": "stdout",
     "output_type": "stream",
     "text": [
      "Fabian  is finished\n",
      "Processing  Fabian\n"
     ]
    },
    {
     "name": "stderr",
     "output_type": "stream",
     "text": [
      "Ignoring index file '/home/dl392/data/yiwei/typhoon/EAR5/temp.grib.5b7b6.idx' older than GRIB file\n"
     ]
    },
    {
     "name": "stdout",
     "output_type": "stream",
     "text": [
      "Fabian  is finished\n",
      "Processing  Fabian\n"
     ]
    },
    {
     "name": "stderr",
     "output_type": "stream",
     "text": [
      "Ignoring index file '/home/dl392/data/yiwei/typhoon/EAR5/temp.grib.5b7b6.idx' older than GRIB file\n"
     ]
    },
    {
     "name": "stdout",
     "output_type": "stream",
     "text": [
      "Fabian  is finished\n",
      "Processing  Fabian\n"
     ]
    },
    {
     "name": "stderr",
     "output_type": "stream",
     "text": [
      "Ignoring index file '/home/dl392/data/yiwei/typhoon/EAR5/temp.grib.5b7b6.idx' older than GRIB file\n"
     ]
    },
    {
     "name": "stdout",
     "output_type": "stream",
     "text": [
      "Fabian  is finished\n",
      "Processing  Fabian\n"
     ]
    },
    {
     "name": "stderr",
     "output_type": "stream",
     "text": [
      "Ignoring index file '/home/dl392/data/yiwei/typhoon/EAR5/temp.grib.5b7b6.idx' older than GRIB file\n"
     ]
    },
    {
     "name": "stdout",
     "output_type": "stream",
     "text": [
      "Fabian  is finished\n",
      "Processing  Fabian\n"
     ]
    },
    {
     "name": "stderr",
     "output_type": "stream",
     "text": [
      "Ignoring index file '/home/dl392/data/yiwei/typhoon/EAR5/temp.grib.5b7b6.idx' older than GRIB file\n"
     ]
    },
    {
     "name": "stdout",
     "output_type": "stream",
     "text": [
      "Fabian  is finished\n",
      "Processing  Fabian\n",
      "Fabian  is finished\n",
      "Processing  IRIS\n"
     ]
    },
    {
     "name": "stderr",
     "output_type": "stream",
     "text": [
      "2024-11-24 02:14:22,530 WARNING [2024-10-10T00:00:00] The final validated ERA5 differs from ERA5T from July 2024 until further notice - please refer to our\n",
      "[Forum announcement](https://forum.ecmwf.int/t/final-validated-era5-product-to-differ-from-era5t-in-july-2024/6685)\n",
      "for details and watch it for further updates on this.\n",
      "2024-11-24 02:14:22,531 INFO Request ID is 3a1e3558-0fd1-4996-84ed-230d3c421d20\n",
      "2024-11-24 02:14:22,902 INFO status has been updated to accepted\n",
      "2024-11-24 02:14:28,712 INFO status has been updated to running\n",
      "2024-11-24 02:14:32,550 INFO status has been updated to accepted\n",
      "2024-11-24 02:14:57,414 INFO status has been updated to successful\n",
      "Ignoring index file '/home/dl392/data/yiwei/typhoon/EAR5/temp.grib.5b7b6.idx' older than GRIB file\n",
      "Ignoring index file '/home/dl392/data/yiwei/typhoon/EAR5/temp.grib.5b7b6.idx' older than GRIB file\n"
     ]
    },
    {
     "name": "stdout",
     "output_type": "stream",
     "text": [
      "IRIS  is finished\n",
      "Processing  IRIS\n"
     ]
    },
    {
     "name": "stderr",
     "output_type": "stream",
     "text": [
      "Ignoring index file '/home/dl392/data/yiwei/typhoon/EAR5/temp.grib.5b7b6.idx' older than GRIB file\n"
     ]
    },
    {
     "name": "stdout",
     "output_type": "stream",
     "text": [
      "IRIS  is finished\n",
      "Processing  IRIS\n"
     ]
    },
    {
     "name": "stderr",
     "output_type": "stream",
     "text": [
      "Ignoring index file '/home/dl392/data/yiwei/typhoon/EAR5/temp.grib.5b7b6.idx' older than GRIB file\n"
     ]
    },
    {
     "name": "stdout",
     "output_type": "stream",
     "text": [
      "IRIS  is finished\n",
      "Processing  IRIS\n"
     ]
    },
    {
     "name": "stderr",
     "output_type": "stream",
     "text": [
      "Ignoring index file '/home/dl392/data/yiwei/typhoon/EAR5/temp.grib.5b7b6.idx' older than GRIB file\n"
     ]
    },
    {
     "name": "stdout",
     "output_type": "stream",
     "text": [
      "IRIS  is finished\n",
      "Processing  IRIS\n"
     ]
    },
    {
     "name": "stderr",
     "output_type": "stream",
     "text": [
      "Ignoring index file '/home/dl392/data/yiwei/typhoon/EAR5/temp.grib.5b7b6.idx' older than GRIB file\n"
     ]
    },
    {
     "name": "stdout",
     "output_type": "stream",
     "text": [
      "IRIS  is finished\n",
      "Processing  IRIS\n"
     ]
    },
    {
     "name": "stderr",
     "output_type": "stream",
     "text": [
      "Ignoring index file '/home/dl392/data/yiwei/typhoon/EAR5/temp.grib.5b7b6.idx' older than GRIB file\n"
     ]
    },
    {
     "name": "stdout",
     "output_type": "stream",
     "text": [
      "IRIS  is finished\n",
      "Processing  IRIS\n"
     ]
    },
    {
     "name": "stderr",
     "output_type": "stream",
     "text": [
      "Ignoring index file '/home/dl392/data/yiwei/typhoon/EAR5/temp.grib.5b7b6.idx' older than GRIB file\n"
     ]
    },
    {
     "name": "stdout",
     "output_type": "stream",
     "text": [
      "IRIS  is finished\n",
      "Processing  IRIS\n"
     ]
    },
    {
     "name": "stderr",
     "output_type": "stream",
     "text": [
      "Ignoring index file '/home/dl392/data/yiwei/typhoon/EAR5/temp.grib.5b7b6.idx' older than GRIB file\n"
     ]
    },
    {
     "name": "stdout",
     "output_type": "stream",
     "text": [
      "IRIS  is finished\n",
      "Processing  IRIS\n"
     ]
    },
    {
     "name": "stderr",
     "output_type": "stream",
     "text": [
      "Ignoring index file '/home/dl392/data/yiwei/typhoon/EAR5/temp.grib.5b7b6.idx' older than GRIB file\n"
     ]
    },
    {
     "name": "stdout",
     "output_type": "stream",
     "text": [
      "IRIS  is finished\n",
      "Processing  IRIS\n",
      "IRIS  is finished\n",
      "Processing  Tapah\n"
     ]
    },
    {
     "name": "stderr",
     "output_type": "stream",
     "text": [
      "2024-11-24 02:15:18,702 WARNING [2024-10-10T00:00:00] The final validated ERA5 differs from ERA5T from July 2024 until further notice - please refer to our\n",
      "[Forum announcement](https://forum.ecmwf.int/t/final-validated-era5-product-to-differ-from-era5t-in-july-2024/6685)\n",
      "for details and watch it for further updates on this.\n",
      "2024-11-24 02:15:18,704 INFO Request ID is 6dc23fe9-e4e3-4fcb-9063-ac5da83f7998\n",
      "2024-11-24 02:15:18,914 INFO status has been updated to accepted\n",
      "2024-11-24 02:15:21,905 INFO status has been updated to running\n",
      "2024-11-24 02:15:33,608 INFO status has been updated to successful\n",
      "Ignoring index file '/home/dl392/data/yiwei/typhoon/EAR5/temp.grib.5b7b6.idx' older than GRIB file\n",
      "Ignoring index file '/home/dl392/data/yiwei/typhoon/EAR5/temp.grib.5b7b6.idx' older than GRIB file\n"
     ]
    },
    {
     "name": "stdout",
     "output_type": "stream",
     "text": [
      "Tapah  is finished\n",
      "Processing  Tapah\n"
     ]
    },
    {
     "name": "stderr",
     "output_type": "stream",
     "text": [
      "Ignoring index file '/home/dl392/data/yiwei/typhoon/EAR5/temp.grib.5b7b6.idx' older than GRIB file\n"
     ]
    },
    {
     "name": "stdout",
     "output_type": "stream",
     "text": [
      "Tapah  is finished\n",
      "Processing  Tapah\n"
     ]
    },
    {
     "name": "stderr",
     "output_type": "stream",
     "text": [
      "Ignoring index file '/home/dl392/data/yiwei/typhoon/EAR5/temp.grib.5b7b6.idx' older than GRIB file\n"
     ]
    },
    {
     "name": "stdout",
     "output_type": "stream",
     "text": [
      "Tapah  is finished\n",
      "Processing  Tapah\n"
     ]
    },
    {
     "name": "stderr",
     "output_type": "stream",
     "text": [
      "Ignoring index file '/home/dl392/data/yiwei/typhoon/EAR5/temp.grib.5b7b6.idx' older than GRIB file\n"
     ]
    },
    {
     "name": "stdout",
     "output_type": "stream",
     "text": [
      "Tapah  is finished\n",
      "Processing  Tapah\n"
     ]
    },
    {
     "name": "stderr",
     "output_type": "stream",
     "text": [
      "Ignoring index file '/home/dl392/data/yiwei/typhoon/EAR5/temp.grib.5b7b6.idx' older than GRIB file\n"
     ]
    },
    {
     "name": "stdout",
     "output_type": "stream",
     "text": [
      "Tapah  is finished\n",
      "Processing  Tapah\n"
     ]
    },
    {
     "name": "stderr",
     "output_type": "stream",
     "text": [
      "Ignoring index file '/home/dl392/data/yiwei/typhoon/EAR5/temp.grib.5b7b6.idx' older than GRIB file\n"
     ]
    },
    {
     "name": "stdout",
     "output_type": "stream",
     "text": [
      "Tapah  is finished\n",
      "Processing  Tapah\n"
     ]
    },
    {
     "name": "stderr",
     "output_type": "stream",
     "text": [
      "Ignoring index file '/home/dl392/data/yiwei/typhoon/EAR5/temp.grib.5b7b6.idx' older than GRIB file\n"
     ]
    },
    {
     "name": "stdout",
     "output_type": "stream",
     "text": [
      "Tapah  is finished\n",
      "Processing  Tapah\n"
     ]
    },
    {
     "name": "stderr",
     "output_type": "stream",
     "text": [
      "Ignoring index file '/home/dl392/data/yiwei/typhoon/EAR5/temp.grib.5b7b6.idx' older than GRIB file\n"
     ]
    },
    {
     "name": "stdout",
     "output_type": "stream",
     "text": [
      "Tapah  is finished\n",
      "Processing  Tapah\n"
     ]
    },
    {
     "name": "stderr",
     "output_type": "stream",
     "text": [
      "Ignoring index file '/home/dl392/data/yiwei/typhoon/EAR5/temp.grib.5b7b6.idx' older than GRIB file\n"
     ]
    },
    {
     "name": "stdout",
     "output_type": "stream",
     "text": [
      "Tapah  is finished\n",
      "Processing  Tapah\n"
     ]
    },
    {
     "name": "stderr",
     "output_type": "stream",
     "text": [
      "Ignoring index file '/home/dl392/data/yiwei/typhoon/EAR5/temp.grib.5b7b6.idx' older than GRIB file\n"
     ]
    },
    {
     "name": "stdout",
     "output_type": "stream",
     "text": [
      "Tapah  is finished\n",
      "Processing  Tapah\n"
     ]
    },
    {
     "name": "stderr",
     "output_type": "stream",
     "text": [
      "Ignoring index file '/home/dl392/data/yiwei/typhoon/EAR5/temp.grib.5b7b6.idx' older than GRIB file\n"
     ]
    },
    {
     "name": "stdout",
     "output_type": "stream",
     "text": [
      "Tapah  is finished\n",
      "Processing  Tapah\n"
     ]
    },
    {
     "name": "stderr",
     "output_type": "stream",
     "text": [
      "Ignoring index file '/home/dl392/data/yiwei/typhoon/EAR5/temp.grib.5b7b6.idx' older than GRIB file\n"
     ]
    },
    {
     "name": "stdout",
     "output_type": "stream",
     "text": [
      "Tapah  is finished\n",
      "Processing  Tapah\n"
     ]
    },
    {
     "name": "stderr",
     "output_type": "stream",
     "text": [
      "Ignoring index file '/home/dl392/data/yiwei/typhoon/EAR5/temp.grib.5b7b6.idx' older than GRIB file\n"
     ]
    },
    {
     "name": "stdout",
     "output_type": "stream",
     "text": [
      "Tapah  is finished\n",
      "Processing  Tapah\n"
     ]
    },
    {
     "name": "stderr",
     "output_type": "stream",
     "text": [
      "Ignoring index file '/home/dl392/data/yiwei/typhoon/EAR5/temp.grib.5b7b6.idx' older than GRIB file\n"
     ]
    },
    {
     "name": "stdout",
     "output_type": "stream",
     "text": [
      "Tapah  is finished\n",
      "Processing  Tapah\n"
     ]
    },
    {
     "name": "stderr",
     "output_type": "stream",
     "text": [
      "Ignoring index file '/home/dl392/data/yiwei/typhoon/EAR5/temp.grib.5b7b6.idx' older than GRIB file\n"
     ]
    },
    {
     "name": "stdout",
     "output_type": "stream",
     "text": [
      "Tapah  is finished\n",
      "Processing  Tapah\n",
      "Tapah  is finished\n",
      "Processing  Chuck\n"
     ]
    },
    {
     "name": "stderr",
     "output_type": "stream",
     "text": [
      "2024-11-24 02:16:06,172 WARNING [2024-10-10T00:00:00] The final validated ERA5 differs from ERA5T from July 2024 until further notice - please refer to our\n",
      "[Forum announcement](https://forum.ecmwf.int/t/final-validated-era5-product-to-differ-from-era5t-in-july-2024/6685)\n",
      "for details and watch it for further updates on this.\n",
      "2024-11-24 02:16:06,174 INFO Request ID is 20de59c2-88a6-4dd6-90f4-69ebf3c1fa31\n",
      "2024-11-24 02:16:08,003 INFO status has been updated to accepted\n",
      "2024-11-24 02:16:09,228 INFO status has been updated to running\n",
      "2024-11-24 02:16:10,936 INFO status has been updated to successful\n",
      "Ignoring index file '/home/dl392/data/yiwei/typhoon/EAR5/temp.grib.5b7b6.idx' older than GRIB file\n",
      "Ignoring index file '/home/dl392/data/yiwei/typhoon/EAR5/temp.grib.5b7b6.idx' older than GRIB file\n"
     ]
    },
    {
     "name": "stdout",
     "output_type": "stream",
     "text": [
      "Chuck  is finished\n",
      "Processing  Chuck\n"
     ]
    },
    {
     "name": "stderr",
     "output_type": "stream",
     "text": [
      "Ignoring index file '/home/dl392/data/yiwei/typhoon/EAR5/temp.grib.5b7b6.idx' older than GRIB file\n"
     ]
    },
    {
     "name": "stdout",
     "output_type": "stream",
     "text": [
      "Chuck  is finished\n",
      "Processing  Chuck\n"
     ]
    },
    {
     "name": "stderr",
     "output_type": "stream",
     "text": [
      "Ignoring index file '/home/dl392/data/yiwei/typhoon/EAR5/temp.grib.5b7b6.idx' older than GRIB file\n"
     ]
    },
    {
     "name": "stdout",
     "output_type": "stream",
     "text": [
      "Chuck  is finished\n",
      "Processing  Chuck\n"
     ]
    },
    {
     "name": "stderr",
     "output_type": "stream",
     "text": [
      "Ignoring index file '/home/dl392/data/yiwei/typhoon/EAR5/temp.grib.5b7b6.idx' older than GRIB file\n"
     ]
    },
    {
     "name": "stdout",
     "output_type": "stream",
     "text": [
      "Chuck  is finished\n",
      "Processing  Chuck\n"
     ]
    },
    {
     "name": "stderr",
     "output_type": "stream",
     "text": [
      "Ignoring index file '/home/dl392/data/yiwei/typhoon/EAR5/temp.grib.5b7b6.idx' older than GRIB file\n"
     ]
    },
    {
     "name": "stdout",
     "output_type": "stream",
     "text": [
      "Chuck  is finished\n",
      "Processing  Chuck\n"
     ]
    },
    {
     "name": "stderr",
     "output_type": "stream",
     "text": [
      "Ignoring index file '/home/dl392/data/yiwei/typhoon/EAR5/temp.grib.5b7b6.idx' older than GRIB file\n"
     ]
    },
    {
     "name": "stdout",
     "output_type": "stream",
     "text": [
      "Chuck  is finished\n",
      "Processing  Chuck\n"
     ]
    },
    {
     "name": "stderr",
     "output_type": "stream",
     "text": [
      "Ignoring index file '/home/dl392/data/yiwei/typhoon/EAR5/temp.grib.5b7b6.idx' older than GRIB file\n"
     ]
    },
    {
     "name": "stdout",
     "output_type": "stream",
     "text": [
      "Chuck  is finished\n",
      "Processing  Chuck\n"
     ]
    },
    {
     "name": "stderr",
     "output_type": "stream",
     "text": [
      "Ignoring index file '/home/dl392/data/yiwei/typhoon/EAR5/temp.grib.5b7b6.idx' older than GRIB file\n"
     ]
    },
    {
     "name": "stdout",
     "output_type": "stream",
     "text": [
      "Chuck  is finished\n",
      "Processing  Chuck\n"
     ]
    },
    {
     "name": "stderr",
     "output_type": "stream",
     "text": [
      "Ignoring index file '/home/dl392/data/yiwei/typhoon/EAR5/temp.grib.5b7b6.idx' older than GRIB file\n"
     ]
    },
    {
     "name": "stdout",
     "output_type": "stream",
     "text": [
      "Chuck  is finished\n",
      "Processing  Chuck\n"
     ]
    },
    {
     "name": "stderr",
     "output_type": "stream",
     "text": [
      "Ignoring index file '/home/dl392/data/yiwei/typhoon/EAR5/temp.grib.5b7b6.idx' older than GRIB file\n"
     ]
    },
    {
     "name": "stdout",
     "output_type": "stream",
     "text": [
      "Chuck  is finished\n",
      "Processing  Chuck\n"
     ]
    },
    {
     "name": "stderr",
     "output_type": "stream",
     "text": [
      "Ignoring index file '/home/dl392/data/yiwei/typhoon/EAR5/temp.grib.5b7b6.idx' older than GRIB file\n"
     ]
    },
    {
     "name": "stdout",
     "output_type": "stream",
     "text": [
      "Chuck  is finished\n",
      "Processing  Chuck\n"
     ]
    },
    {
     "name": "stderr",
     "output_type": "stream",
     "text": [
      "Ignoring index file '/home/dl392/data/yiwei/typhoon/EAR5/temp.grib.5b7b6.idx' older than GRIB file\n"
     ]
    },
    {
     "name": "stdout",
     "output_type": "stream",
     "text": [
      "Chuck  is finished\n",
      "Processing  Chuck\n"
     ]
    },
    {
     "name": "stderr",
     "output_type": "stream",
     "text": [
      "Ignoring index file '/home/dl392/data/yiwei/typhoon/EAR5/temp.grib.5b7b6.idx' older than GRIB file\n"
     ]
    },
    {
     "name": "stdout",
     "output_type": "stream",
     "text": [
      "Chuck  is finished\n",
      "Processing  Chuck\n"
     ]
    },
    {
     "name": "stderr",
     "output_type": "stream",
     "text": [
      "Ignoring index file '/home/dl392/data/yiwei/typhoon/EAR5/temp.grib.5b7b6.idx' older than GRIB file\n"
     ]
    },
    {
     "name": "stdout",
     "output_type": "stream",
     "text": [
      "Chuck  is finished\n",
      "Processing  Chuck\n"
     ]
    },
    {
     "name": "stderr",
     "output_type": "stream",
     "text": [
      "Ignoring index file '/home/dl392/data/yiwei/typhoon/EAR5/temp.grib.5b7b6.idx' older than GRIB file\n"
     ]
    },
    {
     "name": "stdout",
     "output_type": "stream",
     "text": [
      "Chuck  is finished\n",
      "Processing  Chuck\n"
     ]
    },
    {
     "name": "stderr",
     "output_type": "stream",
     "text": [
      "Ignoring index file '/home/dl392/data/yiwei/typhoon/EAR5/temp.grib.5b7b6.idx' older than GRIB file\n"
     ]
    },
    {
     "name": "stdout",
     "output_type": "stream",
     "text": [
      "Chuck  is finished\n",
      "Processing  Chuck\n"
     ]
    },
    {
     "name": "stderr",
     "output_type": "stream",
     "text": [
      "Ignoring index file '/home/dl392/data/yiwei/typhoon/EAR5/temp.grib.5b7b6.idx' older than GRIB file\n"
     ]
    },
    {
     "name": "stdout",
     "output_type": "stream",
     "text": [
      "Chuck  is finished\n",
      "Processing  Chuck\n"
     ]
    },
    {
     "name": "stderr",
     "output_type": "stream",
     "text": [
      "Ignoring index file '/home/dl392/data/yiwei/typhoon/EAR5/temp.grib.5b7b6.idx' older than GRIB file\n"
     ]
    },
    {
     "name": "stdout",
     "output_type": "stream",
     "text": [
      "Chuck  is finished\n",
      "Processing  Chuck\n"
     ]
    },
    {
     "name": "stderr",
     "output_type": "stream",
     "text": [
      "Ignoring index file '/home/dl392/data/yiwei/typhoon/EAR5/temp.grib.5b7b6.idx' older than GRIB file\n"
     ]
    },
    {
     "name": "stdout",
     "output_type": "stream",
     "text": [
      "Chuck  is finished\n",
      "Processing  Chuck\n"
     ]
    },
    {
     "name": "stderr",
     "output_type": "stream",
     "text": [
      "Ignoring index file '/home/dl392/data/yiwei/typhoon/EAR5/temp.grib.5b7b6.idx' older than GRIB file\n"
     ]
    },
    {
     "name": "stdout",
     "output_type": "stream",
     "text": [
      "Chuck  is finished\n",
      "Processing  Chuck\n"
     ]
    },
    {
     "name": "stderr",
     "output_type": "stream",
     "text": [
      "Ignoring index file '/home/dl392/data/yiwei/typhoon/EAR5/temp.grib.5b7b6.idx' older than GRIB file\n"
     ]
    },
    {
     "name": "stdout",
     "output_type": "stream",
     "text": [
      "Chuck  is finished\n",
      "Processing  Chuck\n"
     ]
    },
    {
     "name": "stderr",
     "output_type": "stream",
     "text": [
      "Ignoring index file '/home/dl392/data/yiwei/typhoon/EAR5/temp.grib.5b7b6.idx' older than GRIB file\n"
     ]
    },
    {
     "name": "stdout",
     "output_type": "stream",
     "text": [
      "Chuck  is finished\n",
      "Processing  Chuck\n"
     ]
    },
    {
     "name": "stderr",
     "output_type": "stream",
     "text": [
      "Ignoring index file '/home/dl392/data/yiwei/typhoon/EAR5/temp.grib.5b7b6.idx' older than GRIB file\n"
     ]
    },
    {
     "name": "stdout",
     "output_type": "stream",
     "text": [
      "Chuck  is finished\n",
      "Processing  Chuck\n"
     ]
    },
    {
     "name": "stderr",
     "output_type": "stream",
     "text": [
      "Ignoring index file '/home/dl392/data/yiwei/typhoon/EAR5/temp.grib.5b7b6.idx' older than GRIB file\n"
     ]
    },
    {
     "name": "stdout",
     "output_type": "stream",
     "text": [
      "Chuck  is finished\n",
      "Processing  Chuck\n"
     ]
    },
    {
     "name": "stderr",
     "output_type": "stream",
     "text": [
      "Ignoring index file '/home/dl392/data/yiwei/typhoon/EAR5/temp.grib.5b7b6.idx' older than GRIB file\n"
     ]
    },
    {
     "name": "stdout",
     "output_type": "stream",
     "text": [
      "Chuck  is finished\n",
      "Processing  Chuck\n",
      "Chuck  is finished\n",
      "Processing  Mamie\n"
     ]
    },
    {
     "name": "stderr",
     "output_type": "stream",
     "text": [
      "2024-11-24 02:17:08,781 WARNING [2024-10-10T00:00:00] The final validated ERA5 differs from ERA5T from July 2024 until further notice - please refer to our\n",
      "[Forum announcement](https://forum.ecmwf.int/t/final-validated-era5-product-to-differ-from-era5t-in-july-2024/6685)\n",
      "for details and watch it for further updates on this.\n",
      "2024-11-24 02:17:08,783 INFO Request ID is fe3ec217-fac1-46ea-b602-bd4d7ca8e240\n",
      "2024-11-24 02:17:09,056 INFO status has been updated to accepted\n",
      "2024-11-24 02:17:11,180 INFO status has been updated to running\n",
      "2024-11-24 02:17:12,951 INFO status has been updated to successful\n",
      "Ignoring index file '/home/dl392/data/yiwei/typhoon/EAR5/temp.grib.5b7b6.idx' older than GRIB file\n",
      "Ignoring index file '/home/dl392/data/yiwei/typhoon/EAR5/temp.grib.5b7b6.idx' older than GRIB file\n"
     ]
    },
    {
     "name": "stdout",
     "output_type": "stream",
     "text": [
      "Mamie  is finished\n",
      "Processing  Mamie\n"
     ]
    },
    {
     "name": "stderr",
     "output_type": "stream",
     "text": [
      "Ignoring index file '/home/dl392/data/yiwei/typhoon/EAR5/temp.grib.5b7b6.idx' older than GRIB file\n"
     ]
    },
    {
     "name": "stdout",
     "output_type": "stream",
     "text": [
      "Mamie  is finished\n",
      "Processing  Mamie\n"
     ]
    },
    {
     "name": "stderr",
     "output_type": "stream",
     "text": [
      "Ignoring index file '/home/dl392/data/yiwei/typhoon/EAR5/temp.grib.5b7b6.idx' older than GRIB file\n"
     ]
    },
    {
     "name": "stdout",
     "output_type": "stream",
     "text": [
      "Mamie  is finished\n",
      "Processing  Mamie\n"
     ]
    },
    {
     "name": "stderr",
     "output_type": "stream",
     "text": [
      "Ignoring index file '/home/dl392/data/yiwei/typhoon/EAR5/temp.grib.5b7b6.idx' older than GRIB file\n"
     ]
    },
    {
     "name": "stdout",
     "output_type": "stream",
     "text": [
      "Mamie  is finished\n",
      "Processing  Mamie\n"
     ]
    },
    {
     "name": "stderr",
     "output_type": "stream",
     "text": [
      "Ignoring index file '/home/dl392/data/yiwei/typhoon/EAR5/temp.grib.5b7b6.idx' older than GRIB file\n"
     ]
    },
    {
     "name": "stdout",
     "output_type": "stream",
     "text": [
      "Mamie  is finished\n",
      "Processing  Mamie\n"
     ]
    },
    {
     "name": "stderr",
     "output_type": "stream",
     "text": [
      "Ignoring index file '/home/dl392/data/yiwei/typhoon/EAR5/temp.grib.5b7b6.idx' older than GRIB file\n"
     ]
    },
    {
     "name": "stdout",
     "output_type": "stream",
     "text": [
      "Mamie  is finished\n",
      "Processing  Mamie\n"
     ]
    },
    {
     "name": "stderr",
     "output_type": "stream",
     "text": [
      "Ignoring index file '/home/dl392/data/yiwei/typhoon/EAR5/temp.grib.5b7b6.idx' older than GRIB file\n"
     ]
    },
    {
     "name": "stdout",
     "output_type": "stream",
     "text": [
      "Mamie  is finished\n",
      "Processing  Mamie\n"
     ]
    },
    {
     "name": "stderr",
     "output_type": "stream",
     "text": [
      "Ignoring index file '/home/dl392/data/yiwei/typhoon/EAR5/temp.grib.5b7b6.idx' older than GRIB file\n"
     ]
    },
    {
     "name": "stdout",
     "output_type": "stream",
     "text": [
      "Mamie  is finished\n",
      "Processing  Mamie\n"
     ]
    },
    {
     "name": "stderr",
     "output_type": "stream",
     "text": [
      "Ignoring index file '/home/dl392/data/yiwei/typhoon/EAR5/temp.grib.5b7b6.idx' older than GRIB file\n"
     ]
    },
    {
     "name": "stdout",
     "output_type": "stream",
     "text": [
      "Mamie  is finished\n",
      "Processing  Mamie\n"
     ]
    },
    {
     "name": "stderr",
     "output_type": "stream",
     "text": [
      "Ignoring index file '/home/dl392/data/yiwei/typhoon/EAR5/temp.grib.5b7b6.idx' older than GRIB file\n"
     ]
    },
    {
     "name": "stdout",
     "output_type": "stream",
     "text": [
      "Mamie  is finished\n",
      "Processing  Mamie\n"
     ]
    },
    {
     "name": "stderr",
     "output_type": "stream",
     "text": [
      "Ignoring index file '/home/dl392/data/yiwei/typhoon/EAR5/temp.grib.5b7b6.idx' older than GRIB file\n"
     ]
    },
    {
     "name": "stdout",
     "output_type": "stream",
     "text": [
      "Mamie  is finished\n",
      "Processing  Mamie\n"
     ]
    },
    {
     "name": "stderr",
     "output_type": "stream",
     "text": [
      "Ignoring index file '/home/dl392/data/yiwei/typhoon/EAR5/temp.grib.5b7b6.idx' older than GRIB file\n"
     ]
    },
    {
     "name": "stdout",
     "output_type": "stream",
     "text": [
      "Mamie  is finished\n",
      "Processing  Mamie\n"
     ]
    },
    {
     "name": "stderr",
     "output_type": "stream",
     "text": [
      "Ignoring index file '/home/dl392/data/yiwei/typhoon/EAR5/temp.grib.5b7b6.idx' older than GRIB file\n"
     ]
    },
    {
     "name": "stdout",
     "output_type": "stream",
     "text": [
      "Mamie  is finished\n",
      "Processing  Mamie\n"
     ]
    },
    {
     "name": "stderr",
     "output_type": "stream",
     "text": [
      "Ignoring index file '/home/dl392/data/yiwei/typhoon/EAR5/temp.grib.5b7b6.idx' older than GRIB file\n"
     ]
    },
    {
     "name": "stdout",
     "output_type": "stream",
     "text": [
      "Mamie  is finished\n",
      "Processing  Mamie\n"
     ]
    },
    {
     "name": "stderr",
     "output_type": "stream",
     "text": [
      "Ignoring index file '/home/dl392/data/yiwei/typhoon/EAR5/temp.grib.5b7b6.idx' older than GRIB file\n"
     ]
    },
    {
     "name": "stdout",
     "output_type": "stream",
     "text": [
      "Mamie  is finished\n",
      "Processing  Mamie\n"
     ]
    },
    {
     "name": "stderr",
     "output_type": "stream",
     "text": [
      "Ignoring index file '/home/dl392/data/yiwei/typhoon/EAR5/temp.grib.5b7b6.idx' older than GRIB file\n"
     ]
    },
    {
     "name": "stdout",
     "output_type": "stream",
     "text": [
      "Mamie  is finished\n",
      "Processing  Mamie\n"
     ]
    },
    {
     "name": "stderr",
     "output_type": "stream",
     "text": [
      "Ignoring index file '/home/dl392/data/yiwei/typhoon/EAR5/temp.grib.5b7b6.idx' older than GRIB file\n"
     ]
    },
    {
     "name": "stdout",
     "output_type": "stream",
     "text": [
      "Mamie  is finished\n",
      "Processing  Mamie\n"
     ]
    },
    {
     "name": "stderr",
     "output_type": "stream",
     "text": [
      "Ignoring index file '/home/dl392/data/yiwei/typhoon/EAR5/temp.grib.5b7b6.idx' older than GRIB file\n"
     ]
    },
    {
     "name": "stdout",
     "output_type": "stream",
     "text": [
      "Mamie  is finished\n",
      "Processing  Mamie\n"
     ]
    },
    {
     "name": "stderr",
     "output_type": "stream",
     "text": [
      "Ignoring index file '/home/dl392/data/yiwei/typhoon/EAR5/temp.grib.5b7b6.idx' older than GRIB file\n"
     ]
    },
    {
     "name": "stdout",
     "output_type": "stream",
     "text": [
      "Mamie  is finished\n",
      "Processing  Mamie\n"
     ]
    },
    {
     "name": "stderr",
     "output_type": "stream",
     "text": [
      "Ignoring index file '/home/dl392/data/yiwei/typhoon/EAR5/temp.grib.5b7b6.idx' older than GRIB file\n"
     ]
    },
    {
     "name": "stdout",
     "output_type": "stream",
     "text": [
      "Mamie  is finished\n",
      "Processing  Mamie\n"
     ]
    },
    {
     "name": "stderr",
     "output_type": "stream",
     "text": [
      "Ignoring index file '/home/dl392/data/yiwei/typhoon/EAR5/temp.grib.5b7b6.idx' older than GRIB file\n"
     ]
    },
    {
     "name": "stdout",
     "output_type": "stream",
     "text": [
      "Mamie  is finished\n",
      "Processing  Mamie\n"
     ]
    },
    {
     "name": "stderr",
     "output_type": "stream",
     "text": [
      "Ignoring index file '/home/dl392/data/yiwei/typhoon/EAR5/temp.grib.5b7b6.idx' older than GRIB file\n"
     ]
    },
    {
     "name": "stdout",
     "output_type": "stream",
     "text": [
      "Mamie  is finished\n",
      "Processing  Mamie\n"
     ]
    },
    {
     "name": "stderr",
     "output_type": "stream",
     "text": [
      "Ignoring index file '/home/dl392/data/yiwei/typhoon/EAR5/temp.grib.5b7b6.idx' older than GRIB file\n"
     ]
    },
    {
     "name": "stdout",
     "output_type": "stream",
     "text": [
      "Mamie  is finished\n",
      "Processing  Mamie\n"
     ]
    },
    {
     "name": "stderr",
     "output_type": "stream",
     "text": [
      "Ignoring index file '/home/dl392/data/yiwei/typhoon/EAR5/temp.grib.5b7b6.idx' older than GRIB file\n"
     ]
    },
    {
     "name": "stdout",
     "output_type": "stream",
     "text": [
      "Mamie  is finished\n",
      "Processing  Mamie\n"
     ]
    },
    {
     "name": "stderr",
     "output_type": "stream",
     "text": [
      "Ignoring index file '/home/dl392/data/yiwei/typhoon/EAR5/temp.grib.5b7b6.idx' older than GRIB file\n"
     ]
    },
    {
     "name": "stdout",
     "output_type": "stream",
     "text": [
      "Mamie  is finished\n",
      "Processing  Mamie\n"
     ]
    },
    {
     "name": "stderr",
     "output_type": "stream",
     "text": [
      "Ignoring index file '/home/dl392/data/yiwei/typhoon/EAR5/temp.grib.5b7b6.idx' older than GRIB file\n"
     ]
    },
    {
     "name": "stdout",
     "output_type": "stream",
     "text": [
      "Mamie  is finished\n",
      "Processing  Mamie\n"
     ]
    },
    {
     "name": "stderr",
     "output_type": "stream",
     "text": [
      "Ignoring index file '/home/dl392/data/yiwei/typhoon/EAR5/temp.grib.5b7b6.idx' older than GRIB file\n"
     ]
    },
    {
     "name": "stdout",
     "output_type": "stream",
     "text": [
      "Mamie  is finished\n",
      "Processing  Mamie\n"
     ]
    },
    {
     "name": "stderr",
     "output_type": "stream",
     "text": [
      "Ignoring index file '/home/dl392/data/yiwei/typhoon/EAR5/temp.grib.5b7b6.idx' older than GRIB file\n"
     ]
    },
    {
     "name": "stdout",
     "output_type": "stream",
     "text": [
      "Mamie  is finished\n",
      "Processing  Mamie\n"
     ]
    },
    {
     "name": "stderr",
     "output_type": "stream",
     "text": [
      "Ignoring index file '/home/dl392/data/yiwei/typhoon/EAR5/temp.grib.5b7b6.idx' older than GRIB file\n"
     ]
    },
    {
     "name": "stdout",
     "output_type": "stream",
     "text": [
      "Mamie  is finished\n",
      "Processing  Mamie\n"
     ]
    },
    {
     "name": "stderr",
     "output_type": "stream",
     "text": [
      "Ignoring index file '/home/dl392/data/yiwei/typhoon/EAR5/temp.grib.5b7b6.idx' older than GRIB file\n"
     ]
    },
    {
     "name": "stdout",
     "output_type": "stream",
     "text": [
      "Mamie  is finished\n",
      "Processing  Mamie\n"
     ]
    },
    {
     "name": "stderr",
     "output_type": "stream",
     "text": [
      "Ignoring index file '/home/dl392/data/yiwei/typhoon/EAR5/temp.grib.5b7b6.idx' older than GRIB file\n"
     ]
    },
    {
     "name": "stdout",
     "output_type": "stream",
     "text": [
      "Mamie  is finished\n",
      "Processing  Mamie\n"
     ]
    },
    {
     "name": "stderr",
     "output_type": "stream",
     "text": [
      "Ignoring index file '/home/dl392/data/yiwei/typhoon/EAR5/temp.grib.5b7b6.idx' older than GRIB file\n"
     ]
    },
    {
     "name": "stdout",
     "output_type": "stream",
     "text": [
      "Mamie  is finished\n",
      "Processing  Mamie\n"
     ]
    },
    {
     "name": "stderr",
     "output_type": "stream",
     "text": [
      "Ignoring index file '/home/dl392/data/yiwei/typhoon/EAR5/temp.grib.5b7b6.idx' older than GRIB file\n"
     ]
    },
    {
     "name": "stdout",
     "output_type": "stream",
     "text": [
      "Mamie  is finished\n",
      "Processing  Mamie\n"
     ]
    },
    {
     "name": "stderr",
     "output_type": "stream",
     "text": [
      "Ignoring index file '/home/dl392/data/yiwei/typhoon/EAR5/temp.grib.5b7b6.idx' older than GRIB file\n"
     ]
    },
    {
     "name": "stdout",
     "output_type": "stream",
     "text": [
      "Mamie  is finished\n",
      "Processing  Mamie\n"
     ]
    },
    {
     "name": "stderr",
     "output_type": "stream",
     "text": [
      "Ignoring index file '/home/dl392/data/yiwei/typhoon/EAR5/temp.grib.5b7b6.idx' older than GRIB file\n"
     ]
    },
    {
     "name": "stdout",
     "output_type": "stream",
     "text": [
      "Mamie  is finished\n",
      "Processing  Mamie\n"
     ]
    },
    {
     "name": "stderr",
     "output_type": "stream",
     "text": [
      "Ignoring index file '/home/dl392/data/yiwei/typhoon/EAR5/temp.grib.5b7b6.idx' older than GRIB file\n"
     ]
    },
    {
     "name": "stdout",
     "output_type": "stream",
     "text": [
      "Mamie  is finished\n",
      "Processing  Mamie\n"
     ]
    },
    {
     "name": "stderr",
     "output_type": "stream",
     "text": [
      "Ignoring index file '/home/dl392/data/yiwei/typhoon/EAR5/temp.grib.5b7b6.idx' older than GRIB file\n"
     ]
    },
    {
     "name": "stdout",
     "output_type": "stream",
     "text": [
      "Mamie  is finished\n",
      "Processing  Mamie\n"
     ]
    },
    {
     "name": "stderr",
     "output_type": "stream",
     "text": [
      "Ignoring index file '/home/dl392/data/yiwei/typhoon/EAR5/temp.grib.5b7b6.idx' older than GRIB file\n"
     ]
    },
    {
     "name": "stdout",
     "output_type": "stream",
     "text": [
      "Mamie  is finished\n",
      "Processing  Mamie\n"
     ]
    },
    {
     "name": "stderr",
     "output_type": "stream",
     "text": [
      "Ignoring index file '/home/dl392/data/yiwei/typhoon/EAR5/temp.grib.5b7b6.idx' older than GRIB file\n"
     ]
    },
    {
     "name": "stdout",
     "output_type": "stream",
     "text": [
      "Mamie  is finished\n",
      "Processing  Mamie\n"
     ]
    },
    {
     "name": "stderr",
     "output_type": "stream",
     "text": [
      "Ignoring index file '/home/dl392/data/yiwei/typhoon/EAR5/temp.grib.5b7b6.idx' older than GRIB file\n"
     ]
    },
    {
     "name": "stdout",
     "output_type": "stream",
     "text": [
      "Mamie  is finished\n",
      "Processing  Mamie\n",
      "Mamie  is finished\n",
      "Processing  Damrey\n"
     ]
    },
    {
     "name": "stderr",
     "output_type": "stream",
     "text": [
      "2024-11-24 02:18:37,594 WARNING [2024-10-10T00:00:00] The final validated ERA5 differs from ERA5T from July 2024 until further notice - please refer to our\n",
      "[Forum announcement](https://forum.ecmwf.int/t/final-validated-era5-product-to-differ-from-era5t-in-july-2024/6685)\n",
      "for details and watch it for further updates on this.\n",
      "2024-11-24 02:18:37,595 INFO Request ID is 1cbe98f0-cbed-4c85-9695-66a039f034f8\n",
      "2024-11-24 02:18:38,115 INFO status has been updated to accepted\n",
      "2024-11-24 02:18:44,338 INFO status has been updated to successful\n",
      "Ignoring index file '/home/dl392/data/yiwei/typhoon/EAR5/temp.grib.5b7b6.idx' older than GRIB file\n",
      "Ignoring index file '/home/dl392/data/yiwei/typhoon/EAR5/temp.grib.5b7b6.idx' older than GRIB file\n"
     ]
    },
    {
     "name": "stdout",
     "output_type": "stream",
     "text": [
      "Damrey  is finished\n",
      "Processing  Damrey\n"
     ]
    },
    {
     "name": "stderr",
     "output_type": "stream",
     "text": [
      "Ignoring index file '/home/dl392/data/yiwei/typhoon/EAR5/temp.grib.5b7b6.idx' older than GRIB file\n"
     ]
    },
    {
     "name": "stdout",
     "output_type": "stream",
     "text": [
      "Damrey  is finished\n",
      "Processing  Damrey\n"
     ]
    },
    {
     "name": "stderr",
     "output_type": "stream",
     "text": [
      "Ignoring index file '/home/dl392/data/yiwei/typhoon/EAR5/temp.grib.5b7b6.idx' older than GRIB file\n"
     ]
    },
    {
     "name": "stdout",
     "output_type": "stream",
     "text": [
      "Damrey  is finished\n",
      "Processing  Damrey\n"
     ]
    },
    {
     "name": "stderr",
     "output_type": "stream",
     "text": [
      "Ignoring index file '/home/dl392/data/yiwei/typhoon/EAR5/temp.grib.5b7b6.idx' older than GRIB file\n"
     ]
    },
    {
     "name": "stdout",
     "output_type": "stream",
     "text": [
      "Damrey  is finished\n",
      "Processing  Damrey\n"
     ]
    },
    {
     "name": "stderr",
     "output_type": "stream",
     "text": [
      "Ignoring index file '/home/dl392/data/yiwei/typhoon/EAR5/temp.grib.5b7b6.idx' older than GRIB file\n"
     ]
    },
    {
     "name": "stdout",
     "output_type": "stream",
     "text": [
      "Damrey  is finished\n",
      "Processing  Damrey\n"
     ]
    },
    {
     "name": "stderr",
     "output_type": "stream",
     "text": [
      "Ignoring index file '/home/dl392/data/yiwei/typhoon/EAR5/temp.grib.5b7b6.idx' older than GRIB file\n"
     ]
    },
    {
     "name": "stdout",
     "output_type": "stream",
     "text": [
      "Damrey  is finished\n",
      "Processing  Damrey\n"
     ]
    },
    {
     "name": "stderr",
     "output_type": "stream",
     "text": [
      "Ignoring index file '/home/dl392/data/yiwei/typhoon/EAR5/temp.grib.5b7b6.idx' older than GRIB file\n"
     ]
    },
    {
     "name": "stdout",
     "output_type": "stream",
     "text": [
      "Damrey  is finished\n",
      "Processing  Damrey\n"
     ]
    },
    {
     "name": "stderr",
     "output_type": "stream",
     "text": [
      "Ignoring index file '/home/dl392/data/yiwei/typhoon/EAR5/temp.grib.5b7b6.idx' older than GRIB file\n"
     ]
    },
    {
     "name": "stdout",
     "output_type": "stream",
     "text": [
      "Damrey  is finished\n",
      "Processing  Damrey\n"
     ]
    },
    {
     "name": "stderr",
     "output_type": "stream",
     "text": [
      "Ignoring index file '/home/dl392/data/yiwei/typhoon/EAR5/temp.grib.5b7b6.idx' older than GRIB file\n"
     ]
    },
    {
     "name": "stdout",
     "output_type": "stream",
     "text": [
      "Damrey  is finished\n",
      "Processing  Damrey\n"
     ]
    },
    {
     "name": "stderr",
     "output_type": "stream",
     "text": [
      "Ignoring index file '/home/dl392/data/yiwei/typhoon/EAR5/temp.grib.5b7b6.idx' older than GRIB file\n"
     ]
    },
    {
     "name": "stdout",
     "output_type": "stream",
     "text": [
      "Damrey  is finished\n",
      "Processing  Damrey\n"
     ]
    },
    {
     "name": "stderr",
     "output_type": "stream",
     "text": [
      "Ignoring index file '/home/dl392/data/yiwei/typhoon/EAR5/temp.grib.5b7b6.idx' older than GRIB file\n"
     ]
    },
    {
     "name": "stdout",
     "output_type": "stream",
     "text": [
      "Damrey  is finished\n",
      "Processing  Damrey\n"
     ]
    },
    {
     "name": "stderr",
     "output_type": "stream",
     "text": [
      "Ignoring index file '/home/dl392/data/yiwei/typhoon/EAR5/temp.grib.5b7b6.idx' older than GRIB file\n"
     ]
    },
    {
     "name": "stdout",
     "output_type": "stream",
     "text": [
      "Damrey  is finished\n",
      "Processing  Damrey\n"
     ]
    },
    {
     "name": "stderr",
     "output_type": "stream",
     "text": [
      "Ignoring index file '/home/dl392/data/yiwei/typhoon/EAR5/temp.grib.5b7b6.idx' older than GRIB file\n"
     ]
    },
    {
     "name": "stdout",
     "output_type": "stream",
     "text": [
      "Damrey  is finished\n",
      "Processing  Damrey\n"
     ]
    },
    {
     "name": "stderr",
     "output_type": "stream",
     "text": [
      "Ignoring index file '/home/dl392/data/yiwei/typhoon/EAR5/temp.grib.5b7b6.idx' older than GRIB file\n"
     ]
    },
    {
     "name": "stdout",
     "output_type": "stream",
     "text": [
      "Damrey  is finished\n",
      "Processing  Damrey\n"
     ]
    },
    {
     "name": "stderr",
     "output_type": "stream",
     "text": [
      "Ignoring index file '/home/dl392/data/yiwei/typhoon/EAR5/temp.grib.5b7b6.idx' older than GRIB file\n"
     ]
    },
    {
     "name": "stdout",
     "output_type": "stream",
     "text": [
      "Damrey  is finished\n",
      "Processing  Damrey\n"
     ]
    },
    {
     "name": "stderr",
     "output_type": "stream",
     "text": [
      "Ignoring index file '/home/dl392/data/yiwei/typhoon/EAR5/temp.grib.5b7b6.idx' older than GRIB file\n"
     ]
    },
    {
     "name": "stdout",
     "output_type": "stream",
     "text": [
      "Damrey  is finished\n",
      "Processing  Damrey\n"
     ]
    },
    {
     "name": "stderr",
     "output_type": "stream",
     "text": [
      "Ignoring index file '/home/dl392/data/yiwei/typhoon/EAR5/temp.grib.5b7b6.idx' older than GRIB file\n"
     ]
    },
    {
     "name": "stdout",
     "output_type": "stream",
     "text": [
      "Damrey  is finished\n",
      "Processing  Damrey\n"
     ]
    },
    {
     "name": "stderr",
     "output_type": "stream",
     "text": [
      "Ignoring index file '/home/dl392/data/yiwei/typhoon/EAR5/temp.grib.5b7b6.idx' older than GRIB file\n"
     ]
    },
    {
     "name": "stdout",
     "output_type": "stream",
     "text": [
      "Damrey  is finished\n",
      "Processing  Damrey\n"
     ]
    },
    {
     "name": "stderr",
     "output_type": "stream",
     "text": [
      "Ignoring index file '/home/dl392/data/yiwei/typhoon/EAR5/temp.grib.5b7b6.idx' older than GRIB file\n"
     ]
    },
    {
     "name": "stdout",
     "output_type": "stream",
     "text": [
      "Damrey  is finished\n",
      "Processing  Damrey\n"
     ]
    },
    {
     "name": "stderr",
     "output_type": "stream",
     "text": [
      "Ignoring index file '/home/dl392/data/yiwei/typhoon/EAR5/temp.grib.5b7b6.idx' older than GRIB file\n"
     ]
    },
    {
     "name": "stdout",
     "output_type": "stream",
     "text": [
      "Damrey  is finished\n",
      "Processing  Damrey\n"
     ]
    },
    {
     "name": "stderr",
     "output_type": "stream",
     "text": [
      "Ignoring index file '/home/dl392/data/yiwei/typhoon/EAR5/temp.grib.5b7b6.idx' older than GRIB file\n"
     ]
    },
    {
     "name": "stdout",
     "output_type": "stream",
     "text": [
      "Damrey  is finished\n",
      "Processing  Damrey\n"
     ]
    },
    {
     "name": "stderr",
     "output_type": "stream",
     "text": [
      "Ignoring index file '/home/dl392/data/yiwei/typhoon/EAR5/temp.grib.5b7b6.idx' older than GRIB file\n"
     ]
    },
    {
     "name": "stdout",
     "output_type": "stream",
     "text": [
      "Damrey  is finished\n",
      "Processing  Damrey\n"
     ]
    },
    {
     "name": "stderr",
     "output_type": "stream",
     "text": [
      "Ignoring index file '/home/dl392/data/yiwei/typhoon/EAR5/temp.grib.5b7b6.idx' older than GRIB file\n"
     ]
    },
    {
     "name": "stdout",
     "output_type": "stream",
     "text": [
      "Damrey  is finished\n",
      "Processing  Damrey\n"
     ]
    },
    {
     "name": "stderr",
     "output_type": "stream",
     "text": [
      "Ignoring index file '/home/dl392/data/yiwei/typhoon/EAR5/temp.grib.5b7b6.idx' older than GRIB file\n"
     ]
    },
    {
     "name": "stdout",
     "output_type": "stream",
     "text": [
      "Damrey  is finished\n",
      "Processing  Damrey\n"
     ]
    },
    {
     "name": "stderr",
     "output_type": "stream",
     "text": [
      "Ignoring index file '/home/dl392/data/yiwei/typhoon/EAR5/temp.grib.5b7b6.idx' older than GRIB file\n"
     ]
    },
    {
     "name": "stdout",
     "output_type": "stream",
     "text": [
      "Damrey  is finished\n",
      "Processing  Damrey\n"
     ]
    },
    {
     "name": "stderr",
     "output_type": "stream",
     "text": [
      "Ignoring index file '/home/dl392/data/yiwei/typhoon/EAR5/temp.grib.5b7b6.idx' older than GRIB file\n"
     ]
    },
    {
     "name": "stdout",
     "output_type": "stream",
     "text": [
      "Damrey  is finished\n",
      "Processing  Damrey\n"
     ]
    },
    {
     "name": "stderr",
     "output_type": "stream",
     "text": [
      "Ignoring index file '/home/dl392/data/yiwei/typhoon/EAR5/temp.grib.5b7b6.idx' older than GRIB file\n"
     ]
    },
    {
     "name": "stdout",
     "output_type": "stream",
     "text": [
      "Damrey  is finished\n",
      "Processing  Damrey\n"
     ]
    },
    {
     "name": "stderr",
     "output_type": "stream",
     "text": [
      "Ignoring index file '/home/dl392/data/yiwei/typhoon/EAR5/temp.grib.5b7b6.idx' older than GRIB file\n"
     ]
    },
    {
     "name": "stdout",
     "output_type": "stream",
     "text": [
      "Damrey  is finished\n",
      "Processing  Damrey\n"
     ]
    },
    {
     "name": "stderr",
     "output_type": "stream",
     "text": [
      "Ignoring index file '/home/dl392/data/yiwei/typhoon/EAR5/temp.grib.5b7b6.idx' older than GRIB file\n"
     ]
    },
    {
     "name": "stdout",
     "output_type": "stream",
     "text": [
      "Damrey  is finished\n",
      "Processing  Damrey\n"
     ]
    },
    {
     "name": "stderr",
     "output_type": "stream",
     "text": [
      "Ignoring index file '/home/dl392/data/yiwei/typhoon/EAR5/temp.grib.5b7b6.idx' older than GRIB file\n"
     ]
    },
    {
     "name": "stdout",
     "output_type": "stream",
     "text": [
      "Damrey  is finished\n",
      "Processing  Damrey\n",
      "Damrey  is finished\n",
      "Processing  Roy\n"
     ]
    },
    {
     "name": "stderr",
     "output_type": "stream",
     "text": [
      "2024-11-24 02:19:46,879 WARNING [2024-10-10T00:00:00] The final validated ERA5 differs from ERA5T from July 2024 until further notice - please refer to our\n",
      "[Forum announcement](https://forum.ecmwf.int/t/final-validated-era5-product-to-differ-from-era5t-in-july-2024/6685)\n",
      "for details and watch it for further updates on this.\n",
      "2024-11-24 02:19:46,881 INFO Request ID is 88cf6339-93b3-4978-9db2-83c7eb6ebdea\n",
      "2024-11-24 02:19:47,108 INFO status has been updated to accepted\n",
      "2024-11-24 02:19:53,321 INFO status has been updated to running\n",
      "2024-11-24 02:19:58,180 INFO status has been updated to successful\n",
      "Ignoring index file '/home/dl392/data/yiwei/typhoon/EAR5/temp.grib.5b7b6.idx' older than GRIB file\n",
      "Ignoring index file '/home/dl392/data/yiwei/typhoon/EAR5/temp.grib.5b7b6.idx' older than GRIB file\n"
     ]
    },
    {
     "name": "stdout",
     "output_type": "stream",
     "text": [
      "Roy  is finished\n",
      "Processing  Roy\n"
     ]
    },
    {
     "name": "stderr",
     "output_type": "stream",
     "text": [
      "Ignoring index file '/home/dl392/data/yiwei/typhoon/EAR5/temp.grib.5b7b6.idx' older than GRIB file\n"
     ]
    },
    {
     "name": "stdout",
     "output_type": "stream",
     "text": [
      "Roy  is finished\n",
      "Processing  Roy\n"
     ]
    },
    {
     "name": "stderr",
     "output_type": "stream",
     "text": [
      "Ignoring index file '/home/dl392/data/yiwei/typhoon/EAR5/temp.grib.5b7b6.idx' older than GRIB file\n"
     ]
    },
    {
     "name": "stdout",
     "output_type": "stream",
     "text": [
      "Roy  is finished\n",
      "Processing  Roy\n"
     ]
    },
    {
     "name": "stderr",
     "output_type": "stream",
     "text": [
      "Ignoring index file '/home/dl392/data/yiwei/typhoon/EAR5/temp.grib.5b7b6.idx' older than GRIB file\n"
     ]
    },
    {
     "name": "stdout",
     "output_type": "stream",
     "text": [
      "Roy  is finished\n",
      "Processing  Roy\n"
     ]
    },
    {
     "name": "stderr",
     "output_type": "stream",
     "text": [
      "Ignoring index file '/home/dl392/data/yiwei/typhoon/EAR5/temp.grib.5b7b6.idx' older than GRIB file\n"
     ]
    },
    {
     "name": "stdout",
     "output_type": "stream",
     "text": [
      "Roy  is finished\n",
      "Processing  Roy\n"
     ]
    },
    {
     "name": "stderr",
     "output_type": "stream",
     "text": [
      "Ignoring index file '/home/dl392/data/yiwei/typhoon/EAR5/temp.grib.5b7b6.idx' older than GRIB file\n"
     ]
    },
    {
     "name": "stdout",
     "output_type": "stream",
     "text": [
      "Roy  is finished\n",
      "Processing  Roy\n"
     ]
    },
    {
     "name": "stderr",
     "output_type": "stream",
     "text": [
      "Ignoring index file '/home/dl392/data/yiwei/typhoon/EAR5/temp.grib.5b7b6.idx' older than GRIB file\n"
     ]
    },
    {
     "name": "stdout",
     "output_type": "stream",
     "text": [
      "Roy  is finished\n",
      "Processing  Roy\n"
     ]
    },
    {
     "name": "stderr",
     "output_type": "stream",
     "text": [
      "Ignoring index file '/home/dl392/data/yiwei/typhoon/EAR5/temp.grib.5b7b6.idx' older than GRIB file\n"
     ]
    },
    {
     "name": "stdout",
     "output_type": "stream",
     "text": [
      "Roy  is finished\n",
      "Processing  Roy\n"
     ]
    },
    {
     "name": "stderr",
     "output_type": "stream",
     "text": [
      "Ignoring index file '/home/dl392/data/yiwei/typhoon/EAR5/temp.grib.5b7b6.idx' older than GRIB file\n"
     ]
    },
    {
     "name": "stdout",
     "output_type": "stream",
     "text": [
      "Roy  is finished\n",
      "Processing  Roy\n"
     ]
    },
    {
     "name": "stderr",
     "output_type": "stream",
     "text": [
      "Ignoring index file '/home/dl392/data/yiwei/typhoon/EAR5/temp.grib.5b7b6.idx' older than GRIB file\n"
     ]
    },
    {
     "name": "stdout",
     "output_type": "stream",
     "text": [
      "Roy  is finished\n",
      "Processing  Roy\n"
     ]
    },
    {
     "name": "stderr",
     "output_type": "stream",
     "text": [
      "Ignoring index file '/home/dl392/data/yiwei/typhoon/EAR5/temp.grib.5b7b6.idx' older than GRIB file\n"
     ]
    },
    {
     "name": "stdout",
     "output_type": "stream",
     "text": [
      "Roy  is finished\n",
      "Processing  Roy\n"
     ]
    },
    {
     "name": "stderr",
     "output_type": "stream",
     "text": [
      "Ignoring index file '/home/dl392/data/yiwei/typhoon/EAR5/temp.grib.5b7b6.idx' older than GRIB file\n"
     ]
    },
    {
     "name": "stdout",
     "output_type": "stream",
     "text": [
      "Roy  is finished\n",
      "Processing  Roy\n"
     ]
    },
    {
     "name": "stderr",
     "output_type": "stream",
     "text": [
      "Ignoring index file '/home/dl392/data/yiwei/typhoon/EAR5/temp.grib.5b7b6.idx' older than GRIB file\n"
     ]
    },
    {
     "name": "stdout",
     "output_type": "stream",
     "text": [
      "Roy  is finished\n",
      "Processing  Roy\n"
     ]
    },
    {
     "name": "stderr",
     "output_type": "stream",
     "text": [
      "Ignoring index file '/home/dl392/data/yiwei/typhoon/EAR5/temp.grib.5b7b6.idx' older than GRIB file\n"
     ]
    },
    {
     "name": "stdout",
     "output_type": "stream",
     "text": [
      "Roy  is finished\n",
      "Processing  Roy\n"
     ]
    },
    {
     "name": "stderr",
     "output_type": "stream",
     "text": [
      "Ignoring index file '/home/dl392/data/yiwei/typhoon/EAR5/temp.grib.5b7b6.idx' older than GRIB file\n"
     ]
    },
    {
     "name": "stdout",
     "output_type": "stream",
     "text": [
      "Roy  is finished\n",
      "Processing  Roy\n"
     ]
    },
    {
     "name": "stderr",
     "output_type": "stream",
     "text": [
      "Ignoring index file '/home/dl392/data/yiwei/typhoon/EAR5/temp.grib.5b7b6.idx' older than GRIB file\n"
     ]
    },
    {
     "name": "stdout",
     "output_type": "stream",
     "text": [
      "Roy  is finished\n",
      "Processing  Roy\n"
     ]
    },
    {
     "name": "stderr",
     "output_type": "stream",
     "text": [
      "Ignoring index file '/home/dl392/data/yiwei/typhoon/EAR5/temp.grib.5b7b6.idx' older than GRIB file\n"
     ]
    },
    {
     "name": "stdout",
     "output_type": "stream",
     "text": [
      "Roy  is finished\n",
      "Processing  Roy\n"
     ]
    },
    {
     "name": "stderr",
     "output_type": "stream",
     "text": [
      "Ignoring index file '/home/dl392/data/yiwei/typhoon/EAR5/temp.grib.5b7b6.idx' older than GRIB file\n"
     ]
    },
    {
     "name": "stdout",
     "output_type": "stream",
     "text": [
      "Roy  is finished\n",
      "Processing  Roy\n"
     ]
    },
    {
     "name": "stderr",
     "output_type": "stream",
     "text": [
      "Ignoring index file '/home/dl392/data/yiwei/typhoon/EAR5/temp.grib.5b7b6.idx' older than GRIB file\n"
     ]
    },
    {
     "name": "stdout",
     "output_type": "stream",
     "text": [
      "Roy  is finished\n",
      "Processing  Roy\n"
     ]
    },
    {
     "name": "stderr",
     "output_type": "stream",
     "text": [
      "Ignoring index file '/home/dl392/data/yiwei/typhoon/EAR5/temp.grib.5b7b6.idx' older than GRIB file\n"
     ]
    },
    {
     "name": "stdout",
     "output_type": "stream",
     "text": [
      "Roy  is finished\n",
      "Processing  Roy\n"
     ]
    },
    {
     "name": "stderr",
     "output_type": "stream",
     "text": [
      "Ignoring index file '/home/dl392/data/yiwei/typhoon/EAR5/temp.grib.5b7b6.idx' older than GRIB file\n"
     ]
    },
    {
     "name": "stdout",
     "output_type": "stream",
     "text": [
      "Roy  is finished\n",
      "Processing  Roy\n"
     ]
    },
    {
     "name": "stderr",
     "output_type": "stream",
     "text": [
      "Ignoring index file '/home/dl392/data/yiwei/typhoon/EAR5/temp.grib.5b7b6.idx' older than GRIB file\n"
     ]
    },
    {
     "name": "stdout",
     "output_type": "stream",
     "text": [
      "Roy  is finished\n",
      "Processing  Roy\n"
     ]
    },
    {
     "name": "stderr",
     "output_type": "stream",
     "text": [
      "Ignoring index file '/home/dl392/data/yiwei/typhoon/EAR5/temp.grib.5b7b6.idx' older than GRIB file\n"
     ]
    },
    {
     "name": "stdout",
     "output_type": "stream",
     "text": [
      "Roy  is finished\n",
      "Processing  Roy\n"
     ]
    },
    {
     "name": "stderr",
     "output_type": "stream",
     "text": [
      "Ignoring index file '/home/dl392/data/yiwei/typhoon/EAR5/temp.grib.5b7b6.idx' older than GRIB file\n"
     ]
    },
    {
     "name": "stdout",
     "output_type": "stream",
     "text": [
      "Roy  is finished\n",
      "Processing  Roy\n"
     ]
    },
    {
     "name": "stderr",
     "output_type": "stream",
     "text": [
      "Ignoring index file '/home/dl392/data/yiwei/typhoon/EAR5/temp.grib.5b7b6.idx' older than GRIB file\n"
     ]
    },
    {
     "name": "stdout",
     "output_type": "stream",
     "text": [
      "Roy  is finished\n",
      "Processing  Roy\n"
     ]
    },
    {
     "name": "stderr",
     "output_type": "stream",
     "text": [
      "Ignoring index file '/home/dl392/data/yiwei/typhoon/EAR5/temp.grib.5b7b6.idx' older than GRIB file\n"
     ]
    },
    {
     "name": "stdout",
     "output_type": "stream",
     "text": [
      "Roy  is finished\n",
      "Processing  Roy\n"
     ]
    },
    {
     "name": "stderr",
     "output_type": "stream",
     "text": [
      "Ignoring index file '/home/dl392/data/yiwei/typhoon/EAR5/temp.grib.5b7b6.idx' older than GRIB file\n"
     ]
    },
    {
     "name": "stdout",
     "output_type": "stream",
     "text": [
      "Roy  is finished\n",
      "Processing  Roy\n"
     ]
    },
    {
     "name": "stderr",
     "output_type": "stream",
     "text": [
      "Ignoring index file '/home/dl392/data/yiwei/typhoon/EAR5/temp.grib.5b7b6.idx' older than GRIB file\n"
     ]
    },
    {
     "name": "stdout",
     "output_type": "stream",
     "text": [
      "Roy  is finished\n",
      "Processing  Roy\n"
     ]
    },
    {
     "name": "stderr",
     "output_type": "stream",
     "text": [
      "Ignoring index file '/home/dl392/data/yiwei/typhoon/EAR5/temp.grib.5b7b6.idx' older than GRIB file\n"
     ]
    },
    {
     "name": "stdout",
     "output_type": "stream",
     "text": [
      "Roy  is finished\n",
      "Processing  Roy\n"
     ]
    },
    {
     "name": "stderr",
     "output_type": "stream",
     "text": [
      "Ignoring index file '/home/dl392/data/yiwei/typhoon/EAR5/temp.grib.5b7b6.idx' older than GRIB file\n"
     ]
    },
    {
     "name": "stdout",
     "output_type": "stream",
     "text": [
      "Roy  is finished\n",
      "Processing  Roy\n"
     ]
    },
    {
     "name": "stderr",
     "output_type": "stream",
     "text": [
      "Ignoring index file '/home/dl392/data/yiwei/typhoon/EAR5/temp.grib.5b7b6.idx' older than GRIB file\n"
     ]
    },
    {
     "name": "stdout",
     "output_type": "stream",
     "text": [
      "Roy  is finished\n",
      "Processing  Roy\n"
     ]
    },
    {
     "name": "stderr",
     "output_type": "stream",
     "text": [
      "Ignoring index file '/home/dl392/data/yiwei/typhoon/EAR5/temp.grib.5b7b6.idx' older than GRIB file\n"
     ]
    },
    {
     "name": "stdout",
     "output_type": "stream",
     "text": [
      "Roy  is finished\n",
      "Processing  Roy\n"
     ]
    },
    {
     "name": "stderr",
     "output_type": "stream",
     "text": [
      "Ignoring index file '/home/dl392/data/yiwei/typhoon/EAR5/temp.grib.5b7b6.idx' older than GRIB file\n"
     ]
    },
    {
     "name": "stdout",
     "output_type": "stream",
     "text": [
      "Roy  is finished\n",
      "Processing  Roy\n"
     ]
    },
    {
     "name": "stderr",
     "output_type": "stream",
     "text": [
      "Ignoring index file '/home/dl392/data/yiwei/typhoon/EAR5/temp.grib.5b7b6.idx' older than GRIB file\n"
     ]
    },
    {
     "name": "stdout",
     "output_type": "stream",
     "text": [
      "Roy  is finished\n",
      "Processing  Roy\n"
     ]
    },
    {
     "name": "stderr",
     "output_type": "stream",
     "text": [
      "Ignoring index file '/home/dl392/data/yiwei/typhoon/EAR5/temp.grib.5b7b6.idx' older than GRIB file\n"
     ]
    },
    {
     "name": "stdout",
     "output_type": "stream",
     "text": [
      "Roy  is finished\n",
      "Processing  Roy\n"
     ]
    },
    {
     "name": "stderr",
     "output_type": "stream",
     "text": [
      "Ignoring index file '/home/dl392/data/yiwei/typhoon/EAR5/temp.grib.5b7b6.idx' older than GRIB file\n"
     ]
    },
    {
     "name": "stdout",
     "output_type": "stream",
     "text": [
      "Roy  is finished\n",
      "Processing  Roy\n"
     ]
    },
    {
     "name": "stderr",
     "output_type": "stream",
     "text": [
      "Ignoring index file '/home/dl392/data/yiwei/typhoon/EAR5/temp.grib.5b7b6.idx' older than GRIB file\n"
     ]
    },
    {
     "name": "stdout",
     "output_type": "stream",
     "text": [
      "Roy  is finished\n",
      "Processing  Roy\n"
     ]
    },
    {
     "name": "stderr",
     "output_type": "stream",
     "text": [
      "Ignoring index file '/home/dl392/data/yiwei/typhoon/EAR5/temp.grib.5b7b6.idx' older than GRIB file\n"
     ]
    },
    {
     "name": "stdout",
     "output_type": "stream",
     "text": [
      "Roy  is finished\n",
      "Processing  Roy\n"
     ]
    },
    {
     "name": "stderr",
     "output_type": "stream",
     "text": [
      "Ignoring index file '/home/dl392/data/yiwei/typhoon/EAR5/temp.grib.5b7b6.idx' older than GRIB file\n"
     ]
    },
    {
     "name": "stdout",
     "output_type": "stream",
     "text": [
      "Roy  is finished\n",
      "Processing  Roy\n"
     ]
    },
    {
     "name": "stderr",
     "output_type": "stream",
     "text": [
      "Ignoring index file '/home/dl392/data/yiwei/typhoon/EAR5/temp.grib.5b7b6.idx' older than GRIB file\n"
     ]
    },
    {
     "name": "stdout",
     "output_type": "stream",
     "text": [
      "Roy  is finished\n",
      "Processing  Roy\n"
     ]
    },
    {
     "name": "stderr",
     "output_type": "stream",
     "text": [
      "Ignoring index file '/home/dl392/data/yiwei/typhoon/EAR5/temp.grib.5b7b6.idx' older than GRIB file\n"
     ]
    },
    {
     "name": "stdout",
     "output_type": "stream",
     "text": [
      "Roy  is finished\n",
      "Processing  Roy\n"
     ]
    },
    {
     "name": "stderr",
     "output_type": "stream",
     "text": [
      "Ignoring index file '/home/dl392/data/yiwei/typhoon/EAR5/temp.grib.5b7b6.idx' older than GRIB file\n"
     ]
    },
    {
     "name": "stdout",
     "output_type": "stream",
     "text": [
      "Roy  is finished\n",
      "Processing  Roy\n",
      "Roy  is finished\n",
      "Processing  Winona\n"
     ]
    },
    {
     "name": "stderr",
     "output_type": "stream",
     "text": [
      "2024-11-24 02:21:26,250 WARNING [2024-10-10T00:00:00] The final validated ERA5 differs from ERA5T from July 2024 until further notice - please refer to our\n",
      "[Forum announcement](https://forum.ecmwf.int/t/final-validated-era5-product-to-differ-from-era5t-in-july-2024/6685)\n",
      "for details and watch it for further updates on this.\n",
      "2024-11-24 02:21:26,252 INFO Request ID is c9cc6045-90a8-4fff-8830-b5e14179e992\n",
      "2024-11-24 02:21:27,977 INFO status has been updated to accepted\n",
      "2024-11-24 02:21:30,959 INFO status has been updated to successful\n",
      "Ignoring index file '/home/dl392/data/yiwei/typhoon/EAR5/temp.grib.5b7b6.idx' older than GRIB file\n",
      "Ignoring index file '/home/dl392/data/yiwei/typhoon/EAR5/temp.grib.5b7b6.idx' older than GRIB file\n"
     ]
    },
    {
     "name": "stdout",
     "output_type": "stream",
     "text": [
      "Winona  is finished\n",
      "Processing  Winona\n"
     ]
    },
    {
     "name": "stderr",
     "output_type": "stream",
     "text": [
      "Ignoring index file '/home/dl392/data/yiwei/typhoon/EAR5/temp.grib.5b7b6.idx' older than GRIB file\n"
     ]
    },
    {
     "name": "stdout",
     "output_type": "stream",
     "text": [
      "Winona  is finished\n",
      "Processing  Winona\n"
     ]
    },
    {
     "name": "stderr",
     "output_type": "stream",
     "text": [
      "Ignoring index file '/home/dl392/data/yiwei/typhoon/EAR5/temp.grib.5b7b6.idx' older than GRIB file\n"
     ]
    },
    {
     "name": "stdout",
     "output_type": "stream",
     "text": [
      "Winona  is finished\n",
      "Processing  Winona\n"
     ]
    },
    {
     "name": "stderr",
     "output_type": "stream",
     "text": [
      "Ignoring index file '/home/dl392/data/yiwei/typhoon/EAR5/temp.grib.5b7b6.idx' older than GRIB file\n"
     ]
    },
    {
     "name": "stdout",
     "output_type": "stream",
     "text": [
      "Winona  is finished\n",
      "Processing  Winona\n"
     ]
    },
    {
     "name": "stderr",
     "output_type": "stream",
     "text": [
      "Ignoring index file '/home/dl392/data/yiwei/typhoon/EAR5/temp.grib.5b7b6.idx' older than GRIB file\n"
     ]
    },
    {
     "name": "stdout",
     "output_type": "stream",
     "text": [
      "Winona  is finished\n",
      "Processing  Winona\n"
     ]
    },
    {
     "name": "stderr",
     "output_type": "stream",
     "text": [
      "Ignoring index file '/home/dl392/data/yiwei/typhoon/EAR5/temp.grib.5b7b6.idx' older than GRIB file\n"
     ]
    },
    {
     "name": "stdout",
     "output_type": "stream",
     "text": [
      "Winona  is finished\n",
      "Processing  Winona\n"
     ]
    },
    {
     "name": "stderr",
     "output_type": "stream",
     "text": [
      "Ignoring index file '/home/dl392/data/yiwei/typhoon/EAR5/temp.grib.5b7b6.idx' older than GRIB file\n"
     ]
    },
    {
     "name": "stdout",
     "output_type": "stream",
     "text": [
      "Winona  is finished\n",
      "Processing  Winona\n"
     ]
    },
    {
     "name": "stderr",
     "output_type": "stream",
     "text": [
      "Ignoring index file '/home/dl392/data/yiwei/typhoon/EAR5/temp.grib.5b7b6.idx' older than GRIB file\n"
     ]
    },
    {
     "name": "stdout",
     "output_type": "stream",
     "text": [
      "Winona  is finished\n",
      "Processing  Winona\n"
     ]
    },
    {
     "name": "stderr",
     "output_type": "stream",
     "text": [
      "Ignoring index file '/home/dl392/data/yiwei/typhoon/EAR5/temp.grib.5b7b6.idx' older than GRIB file\n"
     ]
    },
    {
     "name": "stdout",
     "output_type": "stream",
     "text": [
      "Winona  is finished\n",
      "Processing  Winona\n"
     ]
    },
    {
     "name": "stderr",
     "output_type": "stream",
     "text": [
      "Ignoring index file '/home/dl392/data/yiwei/typhoon/EAR5/temp.grib.5b7b6.idx' older than GRIB file\n"
     ]
    },
    {
     "name": "stdout",
     "output_type": "stream",
     "text": [
      "Winona  is finished\n",
      "Processing  Winona\n"
     ]
    },
    {
     "name": "stderr",
     "output_type": "stream",
     "text": [
      "Ignoring index file '/home/dl392/data/yiwei/typhoon/EAR5/temp.grib.5b7b6.idx' older than GRIB file\n"
     ]
    },
    {
     "name": "stdout",
     "output_type": "stream",
     "text": [
      "Winona  is finished\n",
      "Processing  Winona\n"
     ]
    },
    {
     "name": "stderr",
     "output_type": "stream",
     "text": [
      "Ignoring index file '/home/dl392/data/yiwei/typhoon/EAR5/temp.grib.5b7b6.idx' older than GRIB file\n"
     ]
    },
    {
     "name": "stdout",
     "output_type": "stream",
     "text": [
      "Winona  is finished\n",
      "Processing  Winona\n"
     ]
    },
    {
     "name": "stderr",
     "output_type": "stream",
     "text": [
      "Ignoring index file '/home/dl392/data/yiwei/typhoon/EAR5/temp.grib.5b7b6.idx' older than GRIB file\n"
     ]
    },
    {
     "name": "stdout",
     "output_type": "stream",
     "text": [
      "Winona  is finished\n",
      "Processing  Winona\n",
      "Winona  is finished\n",
      "Processing  NICHOLE\n"
     ]
    },
    {
     "name": "stderr",
     "output_type": "stream",
     "text": [
      "2024-11-24 02:22:01,155 WARNING [2024-10-10T00:00:00] The final validated ERA5 differs from ERA5T from July 2024 until further notice - please refer to our\n",
      "[Forum announcement](https://forum.ecmwf.int/t/final-validated-era5-product-to-differ-from-era5t-in-july-2024/6685)\n",
      "for details and watch it for further updates on this.\n",
      "2024-11-24 02:22:01,157 INFO Request ID is b54d26d2-3e96-4694-8be8-72fdc030042c\n",
      "2024-11-24 02:22:01,399 INFO status has been updated to accepted\n",
      "2024-11-24 02:22:18,354 INFO status has been updated to successful\n",
      "Ignoring index file '/home/dl392/data/yiwei/typhoon/EAR5/temp.grib.5b7b6.idx' older than GRIB file\n",
      "Ignoring index file '/home/dl392/data/yiwei/typhoon/EAR5/temp.grib.5b7b6.idx' older than GRIB file\n"
     ]
    },
    {
     "name": "stdout",
     "output_type": "stream",
     "text": [
      "NICHOLE  is finished\n",
      "Processing  NICHOLE\n"
     ]
    },
    {
     "name": "stderr",
     "output_type": "stream",
     "text": [
      "Ignoring index file '/home/dl392/data/yiwei/typhoon/EAR5/temp.grib.5b7b6.idx' older than GRIB file\n"
     ]
    },
    {
     "name": "stdout",
     "output_type": "stream",
     "text": [
      "NICHOLE  is finished\n",
      "Processing  NICHOLE\n"
     ]
    },
    {
     "name": "stderr",
     "output_type": "stream",
     "text": [
      "Ignoring index file '/home/dl392/data/yiwei/typhoon/EAR5/temp.grib.5b7b6.idx' older than GRIB file\n"
     ]
    },
    {
     "name": "stdout",
     "output_type": "stream",
     "text": [
      "NICHOLE  is finished\n",
      "Processing  NICHOLE\n"
     ]
    },
    {
     "name": "stderr",
     "output_type": "stream",
     "text": [
      "Ignoring index file '/home/dl392/data/yiwei/typhoon/EAR5/temp.grib.5b7b6.idx' older than GRIB file\n"
     ]
    },
    {
     "name": "stdout",
     "output_type": "stream",
     "text": [
      "NICHOLE  is finished\n",
      "Processing  NICHOLE\n"
     ]
    },
    {
     "name": "stderr",
     "output_type": "stream",
     "text": [
      "Ignoring index file '/home/dl392/data/yiwei/typhoon/EAR5/temp.grib.5b7b6.idx' older than GRIB file\n"
     ]
    },
    {
     "name": "stdout",
     "output_type": "stream",
     "text": [
      "NICHOLE  is finished\n",
      "Processing  NICHOLE\n"
     ]
    },
    {
     "name": "stderr",
     "output_type": "stream",
     "text": [
      "Ignoring index file '/home/dl392/data/yiwei/typhoon/EAR5/temp.grib.5b7b6.idx' older than GRIB file\n"
     ]
    },
    {
     "name": "stdout",
     "output_type": "stream",
     "text": [
      "NICHOLE  is finished\n",
      "Processing  NICHOLE\n"
     ]
    },
    {
     "name": "stderr",
     "output_type": "stream",
     "text": [
      "Ignoring index file '/home/dl392/data/yiwei/typhoon/EAR5/temp.grib.5b7b6.idx' older than GRIB file\n"
     ]
    },
    {
     "name": "stdout",
     "output_type": "stream",
     "text": [
      "NICHOLE  is finished\n",
      "Processing  NICHOLE\n"
     ]
    },
    {
     "name": "stderr",
     "output_type": "stream",
     "text": [
      "Ignoring index file '/home/dl392/data/yiwei/typhoon/EAR5/temp.grib.5b7b6.idx' older than GRIB file\n"
     ]
    },
    {
     "name": "stdout",
     "output_type": "stream",
     "text": [
      "NICHOLE  is finished\n",
      "Processing  NICHOLE\n"
     ]
    },
    {
     "name": "stderr",
     "output_type": "stream",
     "text": [
      "Ignoring index file '/home/dl392/data/yiwei/typhoon/EAR5/temp.grib.5b7b6.idx' older than GRIB file\n"
     ]
    },
    {
     "name": "stdout",
     "output_type": "stream",
     "text": [
      "NICHOLE  is finished\n",
      "Processing  NICHOLE\n"
     ]
    },
    {
     "name": "stderr",
     "output_type": "stream",
     "text": [
      "Ignoring index file '/home/dl392/data/yiwei/typhoon/EAR5/temp.grib.5b7b6.idx' older than GRIB file\n"
     ]
    },
    {
     "name": "stdout",
     "output_type": "stream",
     "text": [
      "NICHOLE  is finished\n",
      "Processing  NICHOLE\n"
     ]
    },
    {
     "name": "stderr",
     "output_type": "stream",
     "text": [
      "Ignoring index file '/home/dl392/data/yiwei/typhoon/EAR5/temp.grib.5b7b6.idx' older than GRIB file\n"
     ]
    },
    {
     "name": "stdout",
     "output_type": "stream",
     "text": [
      "NICHOLE  is finished\n",
      "Processing  NICHOLE\n"
     ]
    },
    {
     "name": "stderr",
     "output_type": "stream",
     "text": [
      "Ignoring index file '/home/dl392/data/yiwei/typhoon/EAR5/temp.grib.5b7b6.idx' older than GRIB file\n"
     ]
    },
    {
     "name": "stdout",
     "output_type": "stream",
     "text": [
      "NICHOLE  is finished\n",
      "Processing  Irma\n"
     ]
    },
    {
     "name": "stderr",
     "output_type": "stream",
     "text": [
      "Ignoring index file '/home/dl392/data/yiwei/typhoon/EAR5/temp.grib.5b7b6.idx' older than GRIB file\n"
     ]
    },
    {
     "name": "stdout",
     "output_type": "stream",
     "text": [
      "Irma  is finished\n",
      "Processing  Irma\n"
     ]
    },
    {
     "name": "stderr",
     "output_type": "stream",
     "text": [
      "Ignoring index file '/home/dl392/data/yiwei/typhoon/EAR5/temp.grib.5b7b6.idx' older than GRIB file\n"
     ]
    },
    {
     "name": "stdout",
     "output_type": "stream",
     "text": [
      "Irma  is finished\n",
      "Processing  Irma\n"
     ]
    },
    {
     "name": "stderr",
     "output_type": "stream",
     "text": [
      "Ignoring index file '/home/dl392/data/yiwei/typhoon/EAR5/temp.grib.5b7b6.idx' older than GRIB file\n"
     ]
    },
    {
     "name": "stdout",
     "output_type": "stream",
     "text": [
      "Irma  is finished\n",
      "Processing  Irma\n"
     ]
    },
    {
     "name": "stderr",
     "output_type": "stream",
     "text": [
      "Ignoring index file '/home/dl392/data/yiwei/typhoon/EAR5/temp.grib.5b7b6.idx' older than GRIB file\n"
     ]
    },
    {
     "name": "stdout",
     "output_type": "stream",
     "text": [
      "Irma  is finished\n",
      "Processing  Irma\n"
     ]
    },
    {
     "name": "stderr",
     "output_type": "stream",
     "text": [
      "Ignoring index file '/home/dl392/data/yiwei/typhoon/EAR5/temp.grib.5b7b6.idx' older than GRIB file\n"
     ]
    },
    {
     "name": "stdout",
     "output_type": "stream",
     "text": [
      "Irma  is finished\n",
      "Processing  Irma\n"
     ]
    },
    {
     "name": "stderr",
     "output_type": "stream",
     "text": [
      "Ignoring index file '/home/dl392/data/yiwei/typhoon/EAR5/temp.grib.5b7b6.idx' older than GRIB file\n"
     ]
    },
    {
     "name": "stdout",
     "output_type": "stream",
     "text": [
      "Irma  is finished\n",
      "Processing  Irma\n"
     ]
    },
    {
     "name": "stderr",
     "output_type": "stream",
     "text": [
      "Ignoring index file '/home/dl392/data/yiwei/typhoon/EAR5/temp.grib.5b7b6.idx' older than GRIB file\n"
     ]
    },
    {
     "name": "stdout",
     "output_type": "stream",
     "text": [
      "Irma  is finished\n",
      "Processing  Irma\n"
     ]
    },
    {
     "name": "stderr",
     "output_type": "stream",
     "text": [
      "Ignoring index file '/home/dl392/data/yiwei/typhoon/EAR5/temp.grib.5b7b6.idx' older than GRIB file\n"
     ]
    },
    {
     "name": "stdout",
     "output_type": "stream",
     "text": [
      "Irma  is finished\n",
      "Processing  Irma\n"
     ]
    },
    {
     "name": "stderr",
     "output_type": "stream",
     "text": [
      "Ignoring index file '/home/dl392/data/yiwei/typhoon/EAR5/temp.grib.5b7b6.idx' older than GRIB file\n"
     ]
    },
    {
     "name": "stdout",
     "output_type": "stream",
     "text": [
      "Irma  is finished\n",
      "Processing  Irma\n"
     ]
    },
    {
     "name": "stderr",
     "output_type": "stream",
     "text": [
      "Ignoring index file '/home/dl392/data/yiwei/typhoon/EAR5/temp.grib.5b7b6.idx' older than GRIB file\n"
     ]
    },
    {
     "name": "stdout",
     "output_type": "stream",
     "text": [
      "Irma  is finished\n",
      "Processing  Irma\n"
     ]
    },
    {
     "name": "stderr",
     "output_type": "stream",
     "text": [
      "Ignoring index file '/home/dl392/data/yiwei/typhoon/EAR5/temp.grib.5b7b6.idx' older than GRIB file\n"
     ]
    },
    {
     "name": "stdout",
     "output_type": "stream",
     "text": [
      "Irma  is finished\n",
      "Processing  Irma\n"
     ]
    },
    {
     "name": "stderr",
     "output_type": "stream",
     "text": [
      "Ignoring index file '/home/dl392/data/yiwei/typhoon/EAR5/temp.grib.5b7b6.idx' older than GRIB file\n"
     ]
    },
    {
     "name": "stdout",
     "output_type": "stream",
     "text": [
      "Irma  is finished\n",
      "Processing  Irma\n"
     ]
    },
    {
     "name": "stderr",
     "output_type": "stream",
     "text": [
      "Ignoring index file '/home/dl392/data/yiwei/typhoon/EAR5/temp.grib.5b7b6.idx' older than GRIB file\n"
     ]
    },
    {
     "name": "stdout",
     "output_type": "stream",
     "text": [
      "Irma  is finished\n",
      "Processing  Irma\n"
     ]
    },
    {
     "name": "stderr",
     "output_type": "stream",
     "text": [
      "Ignoring index file '/home/dl392/data/yiwei/typhoon/EAR5/temp.grib.5b7b6.idx' older than GRIB file\n"
     ]
    },
    {
     "name": "stdout",
     "output_type": "stream",
     "text": [
      "Irma  is finished\n",
      "Processing  Irma\n"
     ]
    },
    {
     "name": "stderr",
     "output_type": "stream",
     "text": [
      "Ignoring index file '/home/dl392/data/yiwei/typhoon/EAR5/temp.grib.5b7b6.idx' older than GRIB file\n"
     ]
    },
    {
     "name": "stdout",
     "output_type": "stream",
     "text": [
      "Irma  is finished\n",
      "Processing  Irma\n"
     ]
    },
    {
     "name": "stderr",
     "output_type": "stream",
     "text": [
      "Ignoring index file '/home/dl392/data/yiwei/typhoon/EAR5/temp.grib.5b7b6.idx' older than GRIB file\n"
     ]
    },
    {
     "name": "stdout",
     "output_type": "stream",
     "text": [
      "Irma  is finished\n",
      "Processing  Irma\n"
     ]
    },
    {
     "name": "stderr",
     "output_type": "stream",
     "text": [
      "Ignoring index file '/home/dl392/data/yiwei/typhoon/EAR5/temp.grib.5b7b6.idx' older than GRIB file\n"
     ]
    },
    {
     "name": "stdout",
     "output_type": "stream",
     "text": [
      "Irma  is finished\n",
      "Processing  Irma\n"
     ]
    },
    {
     "name": "stderr",
     "output_type": "stream",
     "text": [
      "Ignoring index file '/home/dl392/data/yiwei/typhoon/EAR5/temp.grib.5b7b6.idx' older than GRIB file\n"
     ]
    },
    {
     "name": "stdout",
     "output_type": "stream",
     "text": [
      "Irma  is finished\n",
      "Processing  Irma\n"
     ]
    },
    {
     "name": "stderr",
     "output_type": "stream",
     "text": [
      "Ignoring index file '/home/dl392/data/yiwei/typhoon/EAR5/temp.grib.5b7b6.idx' older than GRIB file\n"
     ]
    },
    {
     "name": "stdout",
     "output_type": "stream",
     "text": [
      "Irma  is finished\n",
      "Processing  Irma\n"
     ]
    },
    {
     "name": "stderr",
     "output_type": "stream",
     "text": [
      "Ignoring index file '/home/dl392/data/yiwei/typhoon/EAR5/temp.grib.5b7b6.idx' older than GRIB file\n"
     ]
    },
    {
     "name": "stdout",
     "output_type": "stream",
     "text": [
      "Irma  is finished\n",
      "Processing  Irma\n"
     ]
    },
    {
     "name": "stderr",
     "output_type": "stream",
     "text": [
      "Ignoring index file '/home/dl392/data/yiwei/typhoon/EAR5/temp.grib.5b7b6.idx' older than GRIB file\n"
     ]
    },
    {
     "name": "stdout",
     "output_type": "stream",
     "text": [
      "Irma  is finished\n",
      "Processing  Irma\n"
     ]
    },
    {
     "name": "stderr",
     "output_type": "stream",
     "text": [
      "Ignoring index file '/home/dl392/data/yiwei/typhoon/EAR5/temp.grib.5b7b6.idx' older than GRIB file\n"
     ]
    },
    {
     "name": "stdout",
     "output_type": "stream",
     "text": [
      "Irma  is finished\n",
      "Processing  Irma\n"
     ]
    },
    {
     "name": "stderr",
     "output_type": "stream",
     "text": [
      "Ignoring index file '/home/dl392/data/yiwei/typhoon/EAR5/temp.grib.5b7b6.idx' older than GRIB file\n"
     ]
    },
    {
     "name": "stdout",
     "output_type": "stream",
     "text": [
      "Irma  is finished\n",
      "Processing  Irma\n"
     ]
    },
    {
     "name": "stderr",
     "output_type": "stream",
     "text": [
      "Ignoring index file '/home/dl392/data/yiwei/typhoon/EAR5/temp.grib.5b7b6.idx' older than GRIB file\n"
     ]
    },
    {
     "name": "stdout",
     "output_type": "stream",
     "text": [
      "Irma  is finished\n",
      "Processing  Irma\n"
     ]
    },
    {
     "name": "stderr",
     "output_type": "stream",
     "text": [
      "Ignoring index file '/home/dl392/data/yiwei/typhoon/EAR5/temp.grib.5b7b6.idx' older than GRIB file\n"
     ]
    },
    {
     "name": "stdout",
     "output_type": "stream",
     "text": [
      "Irma  is finished\n",
      "Processing  Irma\n"
     ]
    },
    {
     "name": "stderr",
     "output_type": "stream",
     "text": [
      "Ignoring index file '/home/dl392/data/yiwei/typhoon/EAR5/temp.grib.5b7b6.idx' older than GRIB file\n"
     ]
    },
    {
     "name": "stdout",
     "output_type": "stream",
     "text": [
      "Irma  is finished\n",
      "Processing  Irma\n"
     ]
    },
    {
     "name": "stderr",
     "output_type": "stream",
     "text": [
      "Ignoring index file '/home/dl392/data/yiwei/typhoon/EAR5/temp.grib.5b7b6.idx' older than GRIB file\n"
     ]
    },
    {
     "name": "stdout",
     "output_type": "stream",
     "text": [
      "Irma  is finished\n",
      "Processing  Irma\n"
     ]
    },
    {
     "name": "stderr",
     "output_type": "stream",
     "text": [
      "Ignoring index file '/home/dl392/data/yiwei/typhoon/EAR5/temp.grib.5b7b6.idx' older than GRIB file\n"
     ]
    },
    {
     "name": "stdout",
     "output_type": "stream",
     "text": [
      "Irma  is finished\n",
      "Processing  Irma\n"
     ]
    },
    {
     "name": "stderr",
     "output_type": "stream",
     "text": [
      "Ignoring index file '/home/dl392/data/yiwei/typhoon/EAR5/temp.grib.5b7b6.idx' older than GRIB file\n"
     ]
    },
    {
     "name": "stdout",
     "output_type": "stream",
     "text": [
      "Irma  is finished\n",
      "Processing  Irma\n"
     ]
    },
    {
     "name": "stderr",
     "output_type": "stream",
     "text": [
      "Ignoring index file '/home/dl392/data/yiwei/typhoon/EAR5/temp.grib.5b7b6.idx' older than GRIB file\n"
     ]
    },
    {
     "name": "stdout",
     "output_type": "stream",
     "text": [
      "Irma  is finished\n",
      "Processing  Irma\n"
     ]
    },
    {
     "name": "stderr",
     "output_type": "stream",
     "text": [
      "Ignoring index file '/home/dl392/data/yiwei/typhoon/EAR5/temp.grib.5b7b6.idx' older than GRIB file\n"
     ]
    },
    {
     "name": "stdout",
     "output_type": "stream",
     "text": [
      "Irma  is finished\n",
      "Processing  Irma\n"
     ]
    },
    {
     "name": "stderr",
     "output_type": "stream",
     "text": [
      "Ignoring index file '/home/dl392/data/yiwei/typhoon/EAR5/temp.grib.5b7b6.idx' older than GRIB file\n"
     ]
    },
    {
     "name": "stdout",
     "output_type": "stream",
     "text": [
      "Irma  is finished\n",
      "Processing  Irma\n"
     ]
    },
    {
     "name": "stderr",
     "output_type": "stream",
     "text": [
      "Ignoring index file '/home/dl392/data/yiwei/typhoon/EAR5/temp.grib.5b7b6.idx' older than GRIB file\n"
     ]
    },
    {
     "name": "stdout",
     "output_type": "stream",
     "text": [
      "Irma  is finished\n",
      "Processing  Irma\n"
     ]
    },
    {
     "name": "stderr",
     "output_type": "stream",
     "text": [
      "Ignoring index file '/home/dl392/data/yiwei/typhoon/EAR5/temp.grib.5b7b6.idx' older than GRIB file\n"
     ]
    },
    {
     "name": "stdout",
     "output_type": "stream",
     "text": [
      "Irma  is finished\n",
      "Processing  Irma\n",
      "Irma  is finished\n",
      "Processing  Rita\n"
     ]
    },
    {
     "name": "stderr",
     "output_type": "stream",
     "text": [
      "2024-11-24 02:23:44,669 WARNING [2024-10-10T00:00:00] The final validated ERA5 differs from ERA5T from July 2024 until further notice - please refer to our\n",
      "[Forum announcement](https://forum.ecmwf.int/t/final-validated-era5-product-to-differ-from-era5t-in-july-2024/6685)\n",
      "for details and watch it for further updates on this.\n",
      "2024-11-24 02:23:44,670 INFO Request ID is c375ef7e-b035-4a0d-93c3-6eefd61a9ae7\n",
      "2024-11-24 02:23:44,872 INFO status has been updated to accepted\n",
      "2024-11-24 02:23:50,355 INFO status has been updated to running\n",
      "2024-11-24 02:23:59,222 INFO status has been updated to successful\n",
      "Ignoring index file '/home/dl392/data/yiwei/typhoon/EAR5/temp.grib.5b7b6.idx' older than GRIB file\n",
      "Ignoring index file '/home/dl392/data/yiwei/typhoon/EAR5/temp.grib.5b7b6.idx' older than GRIB file\n"
     ]
    },
    {
     "name": "stdout",
     "output_type": "stream",
     "text": [
      "Rita  is finished\n",
      "Processing  Rita\n"
     ]
    },
    {
     "name": "stderr",
     "output_type": "stream",
     "text": [
      "Ignoring index file '/home/dl392/data/yiwei/typhoon/EAR5/temp.grib.5b7b6.idx' older than GRIB file\n"
     ]
    },
    {
     "name": "stdout",
     "output_type": "stream",
     "text": [
      "Rita  is finished\n",
      "Processing  Rita\n"
     ]
    },
    {
     "name": "stderr",
     "output_type": "stream",
     "text": [
      "Ignoring index file '/home/dl392/data/yiwei/typhoon/EAR5/temp.grib.5b7b6.idx' older than GRIB file\n"
     ]
    },
    {
     "name": "stdout",
     "output_type": "stream",
     "text": [
      "Rita  is finished\n",
      "Processing  Rita\n"
     ]
    },
    {
     "name": "stderr",
     "output_type": "stream",
     "text": [
      "Ignoring index file '/home/dl392/data/yiwei/typhoon/EAR5/temp.grib.5b7b6.idx' older than GRIB file\n"
     ]
    },
    {
     "name": "stdout",
     "output_type": "stream",
     "text": [
      "Rita  is finished\n",
      "Processing  Rita\n"
     ]
    },
    {
     "name": "stderr",
     "output_type": "stream",
     "text": [
      "Ignoring index file '/home/dl392/data/yiwei/typhoon/EAR5/temp.grib.5b7b6.idx' older than GRIB file\n"
     ]
    },
    {
     "name": "stdout",
     "output_type": "stream",
     "text": [
      "Rita  is finished\n",
      "Processing  Rita\n"
     ]
    },
    {
     "name": "stderr",
     "output_type": "stream",
     "text": [
      "Ignoring index file '/home/dl392/data/yiwei/typhoon/EAR5/temp.grib.5b7b6.idx' older than GRIB file\n"
     ]
    },
    {
     "name": "stdout",
     "output_type": "stream",
     "text": [
      "Rita  is finished\n",
      "Processing  Rita\n"
     ]
    },
    {
     "name": "stderr",
     "output_type": "stream",
     "text": [
      "Ignoring index file '/home/dl392/data/yiwei/typhoon/EAR5/temp.grib.5b7b6.idx' older than GRIB file\n"
     ]
    },
    {
     "name": "stdout",
     "output_type": "stream",
     "text": [
      "Rita  is finished\n",
      "Processing  Rita\n"
     ]
    },
    {
     "name": "stderr",
     "output_type": "stream",
     "text": [
      "Ignoring index file '/home/dl392/data/yiwei/typhoon/EAR5/temp.grib.5b7b6.idx' older than GRIB file\n"
     ]
    },
    {
     "name": "stdout",
     "output_type": "stream",
     "text": [
      "Rita  is finished\n",
      "Processing  Rita\n"
     ]
    },
    {
     "name": "stderr",
     "output_type": "stream",
     "text": [
      "Ignoring index file '/home/dl392/data/yiwei/typhoon/EAR5/temp.grib.5b7b6.idx' older than GRIB file\n"
     ]
    },
    {
     "name": "stdout",
     "output_type": "stream",
     "text": [
      "Rita  is finished\n",
      "Processing  Rita\n"
     ]
    },
    {
     "name": "stderr",
     "output_type": "stream",
     "text": [
      "Ignoring index file '/home/dl392/data/yiwei/typhoon/EAR5/temp.grib.5b7b6.idx' older than GRIB file\n"
     ]
    },
    {
     "name": "stdout",
     "output_type": "stream",
     "text": [
      "Rita  is finished\n",
      "Processing  Rita\n"
     ]
    },
    {
     "name": "stderr",
     "output_type": "stream",
     "text": [
      "Ignoring index file '/home/dl392/data/yiwei/typhoon/EAR5/temp.grib.5b7b6.idx' older than GRIB file\n"
     ]
    },
    {
     "name": "stdout",
     "output_type": "stream",
     "text": [
      "Rita  is finished\n",
      "Processing  Rita\n"
     ]
    },
    {
     "name": "stderr",
     "output_type": "stream",
     "text": [
      "Ignoring index file '/home/dl392/data/yiwei/typhoon/EAR5/temp.grib.5b7b6.idx' older than GRIB file\n"
     ]
    },
    {
     "name": "stdout",
     "output_type": "stream",
     "text": [
      "Rita  is finished\n",
      "Processing  Rita\n"
     ]
    },
    {
     "name": "stderr",
     "output_type": "stream",
     "text": [
      "Ignoring index file '/home/dl392/data/yiwei/typhoon/EAR5/temp.grib.5b7b6.idx' older than GRIB file\n"
     ]
    },
    {
     "name": "stdout",
     "output_type": "stream",
     "text": [
      "Rita  is finished\n",
      "Processing  Rita\n"
     ]
    },
    {
     "name": "stderr",
     "output_type": "stream",
     "text": [
      "Ignoring index file '/home/dl392/data/yiwei/typhoon/EAR5/temp.grib.5b7b6.idx' older than GRIB file\n"
     ]
    },
    {
     "name": "stdout",
     "output_type": "stream",
     "text": [
      "Rita  is finished\n",
      "Processing  Rita\n"
     ]
    },
    {
     "name": "stderr",
     "output_type": "stream",
     "text": [
      "Ignoring index file '/home/dl392/data/yiwei/typhoon/EAR5/temp.grib.5b7b6.idx' older than GRIB file\n"
     ]
    },
    {
     "name": "stdout",
     "output_type": "stream",
     "text": [
      "Rita  is finished\n",
      "Processing  Rita\n"
     ]
    },
    {
     "name": "stderr",
     "output_type": "stream",
     "text": [
      "Ignoring index file '/home/dl392/data/yiwei/typhoon/EAR5/temp.grib.5b7b6.idx' older than GRIB file\n"
     ]
    },
    {
     "name": "stdout",
     "output_type": "stream",
     "text": [
      "Rita  is finished\n",
      "Processing  Rita\n"
     ]
    },
    {
     "name": "stderr",
     "output_type": "stream",
     "text": [
      "Ignoring index file '/home/dl392/data/yiwei/typhoon/EAR5/temp.grib.5b7b6.idx' older than GRIB file\n"
     ]
    },
    {
     "name": "stdout",
     "output_type": "stream",
     "text": [
      "Rita  is finished\n",
      "Processing  Rita\n"
     ]
    },
    {
     "name": "stderr",
     "output_type": "stream",
     "text": [
      "Ignoring index file '/home/dl392/data/yiwei/typhoon/EAR5/temp.grib.5b7b6.idx' older than GRIB file\n"
     ]
    },
    {
     "name": "stdout",
     "output_type": "stream",
     "text": [
      "Rita  is finished\n",
      "Processing  Rita\n"
     ]
    },
    {
     "name": "stderr",
     "output_type": "stream",
     "text": [
      "Ignoring index file '/home/dl392/data/yiwei/typhoon/EAR5/temp.grib.5b7b6.idx' older than GRIB file\n"
     ]
    },
    {
     "name": "stdout",
     "output_type": "stream",
     "text": [
      "Rita  is finished\n",
      "Processing  Rita\n"
     ]
    },
    {
     "name": "stderr",
     "output_type": "stream",
     "text": [
      "Ignoring index file '/home/dl392/data/yiwei/typhoon/EAR5/temp.grib.5b7b6.idx' older than GRIB file\n"
     ]
    },
    {
     "name": "stdout",
     "output_type": "stream",
     "text": [
      "Rita  is finished\n",
      "Processing  Rita\n"
     ]
    },
    {
     "name": "stderr",
     "output_type": "stream",
     "text": [
      "Ignoring index file '/home/dl392/data/yiwei/typhoon/EAR5/temp.grib.5b7b6.idx' older than GRIB file\n"
     ]
    },
    {
     "name": "stdout",
     "output_type": "stream",
     "text": [
      "Rita  is finished\n",
      "Processing  Rita\n"
     ]
    },
    {
     "name": "stderr",
     "output_type": "stream",
     "text": [
      "Ignoring index file '/home/dl392/data/yiwei/typhoon/EAR5/temp.grib.5b7b6.idx' older than GRIB file\n"
     ]
    },
    {
     "name": "stdout",
     "output_type": "stream",
     "text": [
      "Rita  is finished\n",
      "Processing  Rita\n"
     ]
    },
    {
     "name": "stderr",
     "output_type": "stream",
     "text": [
      "Ignoring index file '/home/dl392/data/yiwei/typhoon/EAR5/temp.grib.5b7b6.idx' older than GRIB file\n"
     ]
    },
    {
     "name": "stdout",
     "output_type": "stream",
     "text": [
      "Rita  is finished\n",
      "Processing  Rita\n"
     ]
    },
    {
     "name": "stderr",
     "output_type": "stream",
     "text": [
      "Ignoring index file '/home/dl392/data/yiwei/typhoon/EAR5/temp.grib.5b7b6.idx' older than GRIB file\n"
     ]
    },
    {
     "name": "stdout",
     "output_type": "stream",
     "text": [
      "Rita  is finished\n",
      "Processing  Rita\n"
     ]
    },
    {
     "name": "stderr",
     "output_type": "stream",
     "text": [
      "Ignoring index file '/home/dl392/data/yiwei/typhoon/EAR5/temp.grib.5b7b6.idx' older than GRIB file\n"
     ]
    },
    {
     "name": "stdout",
     "output_type": "stream",
     "text": [
      "Rita  is finished\n",
      "Processing  Rita\n"
     ]
    },
    {
     "name": "stderr",
     "output_type": "stream",
     "text": [
      "Ignoring index file '/home/dl392/data/yiwei/typhoon/EAR5/temp.grib.5b7b6.idx' older than GRIB file\n"
     ]
    },
    {
     "name": "stdout",
     "output_type": "stream",
     "text": [
      "Rita  is finished\n",
      "Processing  Rita\n"
     ]
    },
    {
     "name": "stderr",
     "output_type": "stream",
     "text": [
      "Ignoring index file '/home/dl392/data/yiwei/typhoon/EAR5/temp.grib.5b7b6.idx' older than GRIB file\n"
     ]
    },
    {
     "name": "stdout",
     "output_type": "stream",
     "text": [
      "Rita  is finished\n",
      "Processing  Rita\n",
      "Rita  is finished\n",
      "Processing  Judy\n"
     ]
    },
    {
     "name": "stderr",
     "output_type": "stream",
     "text": [
      "2024-11-24 02:24:55,437 WARNING [2024-10-10T00:00:00] The final validated ERA5 differs from ERA5T from July 2024 until further notice - please refer to our\n",
      "[Forum announcement](https://forum.ecmwf.int/t/final-validated-era5-product-to-differ-from-era5t-in-july-2024/6685)\n",
      "for details and watch it for further updates on this.\n",
      "2024-11-24 02:24:55,439 INFO Request ID is 05d76ab8-f9dc-427e-a1e2-e2355ae8ec46\n",
      "2024-11-24 02:24:55,730 INFO status has been updated to accepted\n",
      "2024-11-24 02:25:08,740 INFO status has been updated to successful\n",
      "Ignoring index file '/home/dl392/data/yiwei/typhoon/EAR5/temp.grib.5b7b6.idx' older than GRIB file\n",
      "Ignoring index file '/home/dl392/data/yiwei/typhoon/EAR5/temp.grib.5b7b6.idx' older than GRIB file\n"
     ]
    },
    {
     "name": "stdout",
     "output_type": "stream",
     "text": [
      "Judy  is finished\n",
      "Processing  Judy\n"
     ]
    },
    {
     "name": "stderr",
     "output_type": "stream",
     "text": [
      "Ignoring index file '/home/dl392/data/yiwei/typhoon/EAR5/temp.grib.5b7b6.idx' older than GRIB file\n"
     ]
    },
    {
     "name": "stdout",
     "output_type": "stream",
     "text": [
      "Judy  is finished\n",
      "Processing  Judy\n"
     ]
    },
    {
     "name": "stderr",
     "output_type": "stream",
     "text": [
      "Ignoring index file '/home/dl392/data/yiwei/typhoon/EAR5/temp.grib.5b7b6.idx' older than GRIB file\n"
     ]
    },
    {
     "name": "stdout",
     "output_type": "stream",
     "text": [
      "Judy  is finished\n",
      "Processing  Judy\n"
     ]
    },
    {
     "name": "stderr",
     "output_type": "stream",
     "text": [
      "Ignoring index file '/home/dl392/data/yiwei/typhoon/EAR5/temp.grib.5b7b6.idx' older than GRIB file\n"
     ]
    },
    {
     "name": "stdout",
     "output_type": "stream",
     "text": [
      "Judy  is finished\n",
      "Processing  Judy\n"
     ]
    },
    {
     "name": "stderr",
     "output_type": "stream",
     "text": [
      "Ignoring index file '/home/dl392/data/yiwei/typhoon/EAR5/temp.grib.5b7b6.idx' older than GRIB file\n"
     ]
    },
    {
     "name": "stdout",
     "output_type": "stream",
     "text": [
      "Judy  is finished\n",
      "Processing  Judy\n"
     ]
    },
    {
     "name": "stderr",
     "output_type": "stream",
     "text": [
      "Ignoring index file '/home/dl392/data/yiwei/typhoon/EAR5/temp.grib.5b7b6.idx' older than GRIB file\n"
     ]
    },
    {
     "name": "stdout",
     "output_type": "stream",
     "text": [
      "Judy  is finished\n",
      "Processing  Judy\n"
     ]
    },
    {
     "name": "stderr",
     "output_type": "stream",
     "text": [
      "Ignoring index file '/home/dl392/data/yiwei/typhoon/EAR5/temp.grib.5b7b6.idx' older than GRIB file\n"
     ]
    },
    {
     "name": "stdout",
     "output_type": "stream",
     "text": [
      "Judy  is finished\n",
      "Processing  Judy\n"
     ]
    },
    {
     "name": "stderr",
     "output_type": "stream",
     "text": [
      "Ignoring index file '/home/dl392/data/yiwei/typhoon/EAR5/temp.grib.5b7b6.idx' older than GRIB file\n"
     ]
    },
    {
     "name": "stdout",
     "output_type": "stream",
     "text": [
      "Judy  is finished\n",
      "Processing  Judy\n"
     ]
    },
    {
     "name": "stderr",
     "output_type": "stream",
     "text": [
      "Ignoring index file '/home/dl392/data/yiwei/typhoon/EAR5/temp.grib.5b7b6.idx' older than GRIB file\n"
     ]
    },
    {
     "name": "stdout",
     "output_type": "stream",
     "text": [
      "Judy  is finished\n",
      "Processing  Judy\n"
     ]
    },
    {
     "name": "stderr",
     "output_type": "stream",
     "text": [
      "Ignoring index file '/home/dl392/data/yiwei/typhoon/EAR5/temp.grib.5b7b6.idx' older than GRIB file\n"
     ]
    },
    {
     "name": "stdout",
     "output_type": "stream",
     "text": [
      "Judy  is finished\n",
      "Processing  Judy\n"
     ]
    },
    {
     "name": "stderr",
     "output_type": "stream",
     "text": [
      "Ignoring index file '/home/dl392/data/yiwei/typhoon/EAR5/temp.grib.5b7b6.idx' older than GRIB file\n"
     ]
    },
    {
     "name": "stdout",
     "output_type": "stream",
     "text": [
      "Judy  is finished\n",
      "Processing  Judy\n"
     ]
    },
    {
     "name": "stderr",
     "output_type": "stream",
     "text": [
      "Ignoring index file '/home/dl392/data/yiwei/typhoon/EAR5/temp.grib.5b7b6.idx' older than GRIB file\n"
     ]
    },
    {
     "name": "stdout",
     "output_type": "stream",
     "text": [
      "Judy  is finished\n",
      "Processing  Judy\n"
     ]
    },
    {
     "name": "stderr",
     "output_type": "stream",
     "text": [
      "Ignoring index file '/home/dl392/data/yiwei/typhoon/EAR5/temp.grib.5b7b6.idx' older than GRIB file\n"
     ]
    },
    {
     "name": "stdout",
     "output_type": "stream",
     "text": [
      "Judy  is finished\n",
      "Processing  Judy\n"
     ]
    },
    {
     "name": "stderr",
     "output_type": "stream",
     "text": [
      "Ignoring index file '/home/dl392/data/yiwei/typhoon/EAR5/temp.grib.5b7b6.idx' older than GRIB file\n"
     ]
    },
    {
     "name": "stdout",
     "output_type": "stream",
     "text": [
      "Judy  is finished\n",
      "Processing  Judy\n"
     ]
    },
    {
     "name": "stderr",
     "output_type": "stream",
     "text": [
      "Ignoring index file '/home/dl392/data/yiwei/typhoon/EAR5/temp.grib.5b7b6.idx' older than GRIB file\n"
     ]
    },
    {
     "name": "stdout",
     "output_type": "stream",
     "text": [
      "Judy  is finished\n",
      "Processing  Judy\n"
     ]
    },
    {
     "name": "stderr",
     "output_type": "stream",
     "text": [
      "Ignoring index file '/home/dl392/data/yiwei/typhoon/EAR5/temp.grib.5b7b6.idx' older than GRIB file\n"
     ]
    },
    {
     "name": "stdout",
     "output_type": "stream",
     "text": [
      "Judy  is finished\n",
      "Processing  Judy\n"
     ]
    },
    {
     "name": "stderr",
     "output_type": "stream",
     "text": [
      "Ignoring index file '/home/dl392/data/yiwei/typhoon/EAR5/temp.grib.5b7b6.idx' older than GRIB file\n"
     ]
    },
    {
     "name": "stdout",
     "output_type": "stream",
     "text": [
      "Judy  is finished\n",
      "Processing  Judy\n"
     ]
    },
    {
     "name": "stderr",
     "output_type": "stream",
     "text": [
      "Ignoring index file '/home/dl392/data/yiwei/typhoon/EAR5/temp.grib.5b7b6.idx' older than GRIB file\n"
     ]
    },
    {
     "name": "stdout",
     "output_type": "stream",
     "text": [
      "Judy  is finished\n",
      "Processing  Judy\n"
     ]
    },
    {
     "name": "stderr",
     "output_type": "stream",
     "text": [
      "Ignoring index file '/home/dl392/data/yiwei/typhoon/EAR5/temp.grib.5b7b6.idx' older than GRIB file\n"
     ]
    },
    {
     "name": "stdout",
     "output_type": "stream",
     "text": [
      "Judy  is finished\n",
      "Processing  Judy\n"
     ]
    },
    {
     "name": "stderr",
     "output_type": "stream",
     "text": [
      "Ignoring index file '/home/dl392/data/yiwei/typhoon/EAR5/temp.grib.5b7b6.idx' older than GRIB file\n"
     ]
    },
    {
     "name": "stdout",
     "output_type": "stream",
     "text": [
      "Judy  is finished\n",
      "Processing  Judy\n"
     ]
    },
    {
     "name": "stderr",
     "output_type": "stream",
     "text": [
      "Ignoring index file '/home/dl392/data/yiwei/typhoon/EAR5/temp.grib.5b7b6.idx' older than GRIB file\n"
     ]
    },
    {
     "name": "stdout",
     "output_type": "stream",
     "text": [
      "Judy  is finished\n",
      "Processing  Judy\n"
     ]
    },
    {
     "name": "stderr",
     "output_type": "stream",
     "text": [
      "Ignoring index file '/home/dl392/data/yiwei/typhoon/EAR5/temp.grib.5b7b6.idx' older than GRIB file\n"
     ]
    },
    {
     "name": "stdout",
     "output_type": "stream",
     "text": [
      "Judy  is finished\n",
      "Processing  Judy\n"
     ]
    },
    {
     "name": "stderr",
     "output_type": "stream",
     "text": [
      "Ignoring index file '/home/dl392/data/yiwei/typhoon/EAR5/temp.grib.5b7b6.idx' older than GRIB file\n"
     ]
    },
    {
     "name": "stdout",
     "output_type": "stream",
     "text": [
      "Judy  is finished\n",
      "Processing  Judy\n"
     ]
    },
    {
     "name": "stderr",
     "output_type": "stream",
     "text": [
      "Ignoring index file '/home/dl392/data/yiwei/typhoon/EAR5/temp.grib.5b7b6.idx' older than GRIB file\n"
     ]
    },
    {
     "name": "stdout",
     "output_type": "stream",
     "text": [
      "Judy  is finished\n",
      "Processing  Judy\n"
     ]
    },
    {
     "name": "stderr",
     "output_type": "stream",
     "text": [
      "Ignoring index file '/home/dl392/data/yiwei/typhoon/EAR5/temp.grib.5b7b6.idx' older than GRIB file\n"
     ]
    },
    {
     "name": "stdout",
     "output_type": "stream",
     "text": [
      "Judy  is finished\n",
      "Processing  Judy\n"
     ]
    },
    {
     "name": "stderr",
     "output_type": "stream",
     "text": [
      "Ignoring index file '/home/dl392/data/yiwei/typhoon/EAR5/temp.grib.5b7b6.idx' older than GRIB file\n"
     ]
    },
    {
     "name": "stdout",
     "output_type": "stream",
     "text": [
      "Judy  is finished\n",
      "Processing  Judy\n",
      "Judy  is finished\n",
      "Processing  Sonamu\n"
     ]
    },
    {
     "name": "stderr",
     "output_type": "stream",
     "text": [
      "2024-11-24 02:26:05,854 WARNING [2024-10-10T00:00:00] The final validated ERA5 differs from ERA5T from July 2024 until further notice - please refer to our\n",
      "[Forum announcement](https://forum.ecmwf.int/t/final-validated-era5-product-to-differ-from-era5t-in-july-2024/6685)\n",
      "for details and watch it for further updates on this.\n",
      "2024-11-24 02:26:05,856 INFO Request ID is 93b170fa-c4d7-41bd-8d4b-f2c5855efd1e\n",
      "2024-11-24 02:26:06,443 INFO status has been updated to accepted\n",
      "2024-11-24 02:26:16,308 INFO status has been updated to successful\n",
      "Ignoring index file '/home/dl392/data/yiwei/typhoon/EAR5/temp.grib.5b7b6.idx' older than GRIB file\n",
      "Ignoring index file '/home/dl392/data/yiwei/typhoon/EAR5/temp.grib.5b7b6.idx' older than GRIB file\n"
     ]
    },
    {
     "name": "stdout",
     "output_type": "stream",
     "text": [
      "Sonamu  is finished\n",
      "Processing  Sonamu\n"
     ]
    },
    {
     "name": "stderr",
     "output_type": "stream",
     "text": [
      "Ignoring index file '/home/dl392/data/yiwei/typhoon/EAR5/temp.grib.5b7b6.idx' older than GRIB file\n"
     ]
    },
    {
     "name": "stdout",
     "output_type": "stream",
     "text": [
      "Sonamu  is finished\n",
      "Processing  Sonamu\n"
     ]
    },
    {
     "name": "stderr",
     "output_type": "stream",
     "text": [
      "Ignoring index file '/home/dl392/data/yiwei/typhoon/EAR5/temp.grib.5b7b6.idx' older than GRIB file\n"
     ]
    },
    {
     "name": "stdout",
     "output_type": "stream",
     "text": [
      "Sonamu  is finished\n",
      "Processing  Sonamu\n"
     ]
    },
    {
     "name": "stderr",
     "output_type": "stream",
     "text": [
      "Ignoring index file '/home/dl392/data/yiwei/typhoon/EAR5/temp.grib.5b7b6.idx' older than GRIB file\n"
     ]
    },
    {
     "name": "stdout",
     "output_type": "stream",
     "text": [
      "Sonamu  is finished\n",
      "Processing  Sonamu\n"
     ]
    },
    {
     "name": "stderr",
     "output_type": "stream",
     "text": [
      "Ignoring index file '/home/dl392/data/yiwei/typhoon/EAR5/temp.grib.5b7b6.idx' older than GRIB file\n"
     ]
    },
    {
     "name": "stdout",
     "output_type": "stream",
     "text": [
      "Sonamu  is finished\n",
      "Processing  Sonamu\n"
     ]
    },
    {
     "name": "stderr",
     "output_type": "stream",
     "text": [
      "Ignoring index file '/home/dl392/data/yiwei/typhoon/EAR5/temp.grib.5b7b6.idx' older than GRIB file\n"
     ]
    },
    {
     "name": "stdout",
     "output_type": "stream",
     "text": [
      "Sonamu  is finished\n",
      "Processing  Sonamu\n"
     ]
    },
    {
     "name": "stderr",
     "output_type": "stream",
     "text": [
      "Ignoring index file '/home/dl392/data/yiwei/typhoon/EAR5/temp.grib.5b7b6.idx' older than GRIB file\n"
     ]
    },
    {
     "name": "stdout",
     "output_type": "stream",
     "text": [
      "Sonamu  is finished\n",
      "Processing  Sonamu\n"
     ]
    },
    {
     "name": "stderr",
     "output_type": "stream",
     "text": [
      "Ignoring index file '/home/dl392/data/yiwei/typhoon/EAR5/temp.grib.5b7b6.idx' older than GRIB file\n"
     ]
    },
    {
     "name": "stdout",
     "output_type": "stream",
     "text": [
      "Sonamu  is finished\n",
      "Processing  Sonamu\n"
     ]
    },
    {
     "name": "stderr",
     "output_type": "stream",
     "text": [
      "Ignoring index file '/home/dl392/data/yiwei/typhoon/EAR5/temp.grib.5b7b6.idx' older than GRIB file\n"
     ]
    },
    {
     "name": "stdout",
     "output_type": "stream",
     "text": [
      "Sonamu  is finished\n",
      "Processing  Sonamu\n"
     ]
    },
    {
     "name": "stderr",
     "output_type": "stream",
     "text": [
      "Ignoring index file '/home/dl392/data/yiwei/typhoon/EAR5/temp.grib.5b7b6.idx' older than GRIB file\n"
     ]
    },
    {
     "name": "stdout",
     "output_type": "stream",
     "text": [
      "Sonamu  is finished\n",
      "Processing  Sonamu\n"
     ]
    },
    {
     "name": "stderr",
     "output_type": "stream",
     "text": [
      "Ignoring index file '/home/dl392/data/yiwei/typhoon/EAR5/temp.grib.5b7b6.idx' older than GRIB file\n"
     ]
    },
    {
     "name": "stdout",
     "output_type": "stream",
     "text": [
      "Sonamu  is finished\n",
      "Processing  Sonamu\n"
     ]
    },
    {
     "name": "stderr",
     "output_type": "stream",
     "text": [
      "Ignoring index file '/home/dl392/data/yiwei/typhoon/EAR5/temp.grib.5b7b6.idx' older than GRIB file\n"
     ]
    },
    {
     "name": "stdout",
     "output_type": "stream",
     "text": [
      "Sonamu  is finished\n",
      "Processing  Sonamu\n"
     ]
    },
    {
     "name": "stderr",
     "output_type": "stream",
     "text": [
      "Ignoring index file '/home/dl392/data/yiwei/typhoon/EAR5/temp.grib.5b7b6.idx' older than GRIB file\n"
     ]
    },
    {
     "name": "stdout",
     "output_type": "stream",
     "text": [
      "Sonamu  is finished\n",
      "Processing  Sonamu\n"
     ]
    },
    {
     "name": "stderr",
     "output_type": "stream",
     "text": [
      "Ignoring index file '/home/dl392/data/yiwei/typhoon/EAR5/temp.grib.5b7b6.idx' older than GRIB file\n"
     ]
    },
    {
     "name": "stdout",
     "output_type": "stream",
     "text": [
      "Sonamu  is finished\n",
      "Processing  Sonamu\n"
     ]
    },
    {
     "name": "stderr",
     "output_type": "stream",
     "text": [
      "Ignoring index file '/home/dl392/data/yiwei/typhoon/EAR5/temp.grib.5b7b6.idx' older than GRIB file\n"
     ]
    },
    {
     "name": "stdout",
     "output_type": "stream",
     "text": [
      "Sonamu  is finished\n",
      "Processing  Sonamu\n"
     ]
    },
    {
     "name": "stderr",
     "output_type": "stream",
     "text": [
      "Ignoring index file '/home/dl392/data/yiwei/typhoon/EAR5/temp.grib.5b7b6.idx' older than GRIB file\n"
     ]
    },
    {
     "name": "stdout",
     "output_type": "stream",
     "text": [
      "Sonamu  is finished\n",
      "Processing  Sonamu\n"
     ]
    },
    {
     "name": "stderr",
     "output_type": "stream",
     "text": [
      "Ignoring index file '/home/dl392/data/yiwei/typhoon/EAR5/temp.grib.5b7b6.idx' older than GRIB file\n"
     ]
    },
    {
     "name": "stdout",
     "output_type": "stream",
     "text": [
      "Sonamu  is finished\n",
      "Processing  Sonamu\n"
     ]
    },
    {
     "name": "stderr",
     "output_type": "stream",
     "text": [
      "Ignoring index file '/home/dl392/data/yiwei/typhoon/EAR5/temp.grib.5b7b6.idx' older than GRIB file\n"
     ]
    },
    {
     "name": "stdout",
     "output_type": "stream",
     "text": [
      "Sonamu  is finished\n",
      "Processing  Sonamu\n"
     ]
    },
    {
     "name": "stderr",
     "output_type": "stream",
     "text": [
      "Ignoring index file '/home/dl392/data/yiwei/typhoon/EAR5/temp.grib.5b7b6.idx' older than GRIB file\n"
     ]
    },
    {
     "name": "stdout",
     "output_type": "stream",
     "text": [
      "Sonamu  is finished\n",
      "Processing  Sonamu\n"
     ]
    },
    {
     "name": "stderr",
     "output_type": "stream",
     "text": [
      "Ignoring index file '/home/dl392/data/yiwei/typhoon/EAR5/temp.grib.5b7b6.idx' older than GRIB file\n"
     ]
    },
    {
     "name": "stdout",
     "output_type": "stream",
     "text": [
      "Sonamu  is finished\n",
      "Processing  Sonamu\n"
     ]
    },
    {
     "name": "stderr",
     "output_type": "stream",
     "text": [
      "Ignoring index file '/home/dl392/data/yiwei/typhoon/EAR5/temp.grib.5b7b6.idx' older than GRIB file\n"
     ]
    },
    {
     "name": "stdout",
     "output_type": "stream",
     "text": [
      "Sonamu  is finished\n",
      "Processing  Sonamu\n"
     ]
    },
    {
     "name": "stderr",
     "output_type": "stream",
     "text": [
      "Ignoring index file '/home/dl392/data/yiwei/typhoon/EAR5/temp.grib.5b7b6.idx' older than GRIB file\n"
     ]
    },
    {
     "name": "stdout",
     "output_type": "stream",
     "text": [
      "Sonamu  is finished\n",
      "Processing  Sonamu\n"
     ]
    },
    {
     "name": "stderr",
     "output_type": "stream",
     "text": [
      "Ignoring index file '/home/dl392/data/yiwei/typhoon/EAR5/temp.grib.5b7b6.idx' older than GRIB file\n"
     ]
    },
    {
     "name": "stdout",
     "output_type": "stream",
     "text": [
      "Sonamu  is finished\n",
      "Processing  Sonamu\n"
     ]
    },
    {
     "name": "stderr",
     "output_type": "stream",
     "text": [
      "Ignoring index file '/home/dl392/data/yiwei/typhoon/EAR5/temp.grib.5b7b6.idx' older than GRIB file\n"
     ]
    },
    {
     "name": "stdout",
     "output_type": "stream",
     "text": [
      "Sonamu  is finished\n",
      "Processing  Sonamu\n"
     ]
    },
    {
     "name": "stderr",
     "output_type": "stream",
     "text": [
      "Ignoring index file '/home/dl392/data/yiwei/typhoon/EAR5/temp.grib.5b7b6.idx' older than GRIB file\n"
     ]
    },
    {
     "name": "stdout",
     "output_type": "stream",
     "text": [
      "Sonamu  is finished\n",
      "Processing  Sonamu\n"
     ]
    },
    {
     "name": "stderr",
     "output_type": "stream",
     "text": [
      "Ignoring index file '/home/dl392/data/yiwei/typhoon/EAR5/temp.grib.5b7b6.idx' older than GRIB file\n"
     ]
    },
    {
     "name": "stdout",
     "output_type": "stream",
     "text": [
      "Sonamu  is finished\n",
      "Processing  Sonamu\n"
     ]
    },
    {
     "name": "stderr",
     "output_type": "stream",
     "text": [
      "Ignoring index file '/home/dl392/data/yiwei/typhoon/EAR5/temp.grib.5b7b6.idx' older than GRIB file\n"
     ]
    },
    {
     "name": "stdout",
     "output_type": "stream",
     "text": [
      "Sonamu  is finished\n",
      "Processing  Sonamu\n"
     ]
    },
    {
     "name": "stderr",
     "output_type": "stream",
     "text": [
      "Ignoring index file '/home/dl392/data/yiwei/typhoon/EAR5/temp.grib.5b7b6.idx' older than GRIB file\n"
     ]
    },
    {
     "name": "stdout",
     "output_type": "stream",
     "text": [
      "Sonamu  is finished\n",
      "Processing  Sonamu\n"
     ]
    },
    {
     "name": "stderr",
     "output_type": "stream",
     "text": [
      "Ignoring index file '/home/dl392/data/yiwei/typhoon/EAR5/temp.grib.5b7b6.idx' older than GRIB file\n"
     ]
    },
    {
     "name": "stdout",
     "output_type": "stream",
     "text": [
      "Sonamu  is finished\n",
      "Processing  Sonamu\n"
     ]
    },
    {
     "name": "stderr",
     "output_type": "stream",
     "text": [
      "Ignoring index file '/home/dl392/data/yiwei/typhoon/EAR5/temp.grib.5b7b6.idx' older than GRIB file\n"
     ]
    },
    {
     "name": "stdout",
     "output_type": "stream",
     "text": [
      "Sonamu  is finished\n",
      "Processing  Sonamu\n"
     ]
    },
    {
     "name": "stderr",
     "output_type": "stream",
     "text": [
      "Ignoring index file '/home/dl392/data/yiwei/typhoon/EAR5/temp.grib.5b7b6.idx' older than GRIB file\n"
     ]
    },
    {
     "name": "stdout",
     "output_type": "stream",
     "text": [
      "Sonamu  is finished\n",
      "Processing  Sonamu\n"
     ]
    },
    {
     "name": "stderr",
     "output_type": "stream",
     "text": [
      "Ignoring index file '/home/dl392/data/yiwei/typhoon/EAR5/temp.grib.5b7b6.idx' older than GRIB file\n"
     ]
    },
    {
     "name": "stdout",
     "output_type": "stream",
     "text": [
      "Sonamu  is finished\n",
      "Processing  Sonamu\n"
     ]
    },
    {
     "name": "stderr",
     "output_type": "stream",
     "text": [
      "Ignoring index file '/home/dl392/data/yiwei/typhoon/EAR5/temp.grib.5b7b6.idx' older than GRIB file\n"
     ]
    },
    {
     "name": "stdout",
     "output_type": "stream",
     "text": [
      "Sonamu  is finished\n",
      "Processing  Sonamu\n",
      "Sonamu  is finished\n",
      "Processing  Koryn\n"
     ]
    },
    {
     "name": "stderr",
     "output_type": "stream",
     "text": [
      "2024-11-24 02:27:38,381 WARNING [2024-10-10T00:00:00] The final validated ERA5 differs from ERA5T from July 2024 until further notice - please refer to our\n",
      "[Forum announcement](https://forum.ecmwf.int/t/final-validated-era5-product-to-differ-from-era5t-in-july-2024/6685)\n",
      "for details and watch it for further updates on this.\n",
      "2024-11-24 02:27:38,384 INFO Request ID is 9cfebe9a-9a32-4818-8d85-fd8a67c4e2a0\n",
      "2024-11-24 02:27:38,651 INFO status has been updated to accepted\n",
      "2024-11-24 02:27:45,901 INFO status has been updated to successful\n",
      "Ignoring index file '/home/dl392/data/yiwei/typhoon/EAR5/temp.grib.5b7b6.idx' older than GRIB file\n",
      "Ignoring index file '/home/dl392/data/yiwei/typhoon/EAR5/temp.grib.5b7b6.idx' older than GRIB file\n"
     ]
    },
    {
     "name": "stdout",
     "output_type": "stream",
     "text": [
      "Koryn  is finished\n",
      "Processing  Koryn\n"
     ]
    },
    {
     "name": "stderr",
     "output_type": "stream",
     "text": [
      "Ignoring index file '/home/dl392/data/yiwei/typhoon/EAR5/temp.grib.5b7b6.idx' older than GRIB file\n"
     ]
    },
    {
     "name": "stdout",
     "output_type": "stream",
     "text": [
      "Koryn  is finished\n",
      "Processing  Koryn\n"
     ]
    },
    {
     "name": "stderr",
     "output_type": "stream",
     "text": [
      "Ignoring index file '/home/dl392/data/yiwei/typhoon/EAR5/temp.grib.5b7b6.idx' older than GRIB file\n"
     ]
    },
    {
     "name": "stdout",
     "output_type": "stream",
     "text": [
      "Koryn  is finished\n",
      "Processing  Koryn\n"
     ]
    },
    {
     "name": "stderr",
     "output_type": "stream",
     "text": [
      "Ignoring index file '/home/dl392/data/yiwei/typhoon/EAR5/temp.grib.5b7b6.idx' older than GRIB file\n"
     ]
    },
    {
     "name": "stdout",
     "output_type": "stream",
     "text": [
      "Koryn  is finished\n",
      "Processing  Koryn\n"
     ]
    },
    {
     "name": "stderr",
     "output_type": "stream",
     "text": [
      "Ignoring index file '/home/dl392/data/yiwei/typhoon/EAR5/temp.grib.5b7b6.idx' older than GRIB file\n"
     ]
    },
    {
     "name": "stdout",
     "output_type": "stream",
     "text": [
      "Koryn  is finished\n",
      "Processing  Koryn\n"
     ]
    },
    {
     "name": "stderr",
     "output_type": "stream",
     "text": [
      "Ignoring index file '/home/dl392/data/yiwei/typhoon/EAR5/temp.grib.5b7b6.idx' older than GRIB file\n"
     ]
    },
    {
     "name": "stdout",
     "output_type": "stream",
     "text": [
      "Koryn  is finished\n",
      "Processing  Koryn\n"
     ]
    },
    {
     "name": "stderr",
     "output_type": "stream",
     "text": [
      "Ignoring index file '/home/dl392/data/yiwei/typhoon/EAR5/temp.grib.5b7b6.idx' older than GRIB file\n"
     ]
    },
    {
     "name": "stdout",
     "output_type": "stream",
     "text": [
      "Koryn  is finished\n",
      "Processing  Koryn\n"
     ]
    },
    {
     "name": "stderr",
     "output_type": "stream",
     "text": [
      "Ignoring index file '/home/dl392/data/yiwei/typhoon/EAR5/temp.grib.5b7b6.idx' older than GRIB file\n"
     ]
    },
    {
     "name": "stdout",
     "output_type": "stream",
     "text": [
      "Koryn  is finished\n",
      "Processing  Koryn\n"
     ]
    },
    {
     "name": "stderr",
     "output_type": "stream",
     "text": [
      "Ignoring index file '/home/dl392/data/yiwei/typhoon/EAR5/temp.grib.5b7b6.idx' older than GRIB file\n"
     ]
    },
    {
     "name": "stdout",
     "output_type": "stream",
     "text": [
      "Koryn  is finished\n",
      "Processing  Koryn\n"
     ]
    },
    {
     "name": "stderr",
     "output_type": "stream",
     "text": [
      "Ignoring index file '/home/dl392/data/yiwei/typhoon/EAR5/temp.grib.5b7b6.idx' older than GRIB file\n"
     ]
    },
    {
     "name": "stdout",
     "output_type": "stream",
     "text": [
      "Koryn  is finished\n",
      "Processing  Koryn\n"
     ]
    },
    {
     "name": "stderr",
     "output_type": "stream",
     "text": [
      "Ignoring index file '/home/dl392/data/yiwei/typhoon/EAR5/temp.grib.5b7b6.idx' older than GRIB file\n"
     ]
    },
    {
     "name": "stdout",
     "output_type": "stream",
     "text": [
      "Koryn  is finished\n",
      "Processing  Koryn\n"
     ]
    },
    {
     "name": "stderr",
     "output_type": "stream",
     "text": [
      "Ignoring index file '/home/dl392/data/yiwei/typhoon/EAR5/temp.grib.5b7b6.idx' older than GRIB file\n"
     ]
    },
    {
     "name": "stdout",
     "output_type": "stream",
     "text": [
      "Koryn  is finished\n",
      "Processing  Koryn\n"
     ]
    },
    {
     "name": "stderr",
     "output_type": "stream",
     "text": [
      "Ignoring index file '/home/dl392/data/yiwei/typhoon/EAR5/temp.grib.5b7b6.idx' older than GRIB file\n"
     ]
    },
    {
     "name": "stdout",
     "output_type": "stream",
     "text": [
      "Koryn  is finished\n",
      "Processing  Koryn\n"
     ]
    },
    {
     "name": "stderr",
     "output_type": "stream",
     "text": [
      "Ignoring index file '/home/dl392/data/yiwei/typhoon/EAR5/temp.grib.5b7b6.idx' older than GRIB file\n"
     ]
    },
    {
     "name": "stdout",
     "output_type": "stream",
     "text": [
      "Koryn  is finished\n",
      "Processing  Koryn\n"
     ]
    },
    {
     "name": "stderr",
     "output_type": "stream",
     "text": [
      "Ignoring index file '/home/dl392/data/yiwei/typhoon/EAR5/temp.grib.5b7b6.idx' older than GRIB file\n"
     ]
    },
    {
     "name": "stdout",
     "output_type": "stream",
     "text": [
      "Koryn  is finished\n",
      "Processing  Koryn\n"
     ]
    },
    {
     "name": "stderr",
     "output_type": "stream",
     "text": [
      "Ignoring index file '/home/dl392/data/yiwei/typhoon/EAR5/temp.grib.5b7b6.idx' older than GRIB file\n"
     ]
    },
    {
     "name": "stdout",
     "output_type": "stream",
     "text": [
      "Koryn  is finished\n",
      "Processing  Koryn\n"
     ]
    },
    {
     "name": "stderr",
     "output_type": "stream",
     "text": [
      "Ignoring index file '/home/dl392/data/yiwei/typhoon/EAR5/temp.grib.5b7b6.idx' older than GRIB file\n"
     ]
    },
    {
     "name": "stdout",
     "output_type": "stream",
     "text": [
      "Koryn  is finished\n",
      "Processing  Koryn\n"
     ]
    },
    {
     "name": "stderr",
     "output_type": "stream",
     "text": [
      "Ignoring index file '/home/dl392/data/yiwei/typhoon/EAR5/temp.grib.5b7b6.idx' older than GRIB file\n"
     ]
    },
    {
     "name": "stdout",
     "output_type": "stream",
     "text": [
      "Koryn  is finished\n",
      "Processing  Koryn\n"
     ]
    },
    {
     "name": "stderr",
     "output_type": "stream",
     "text": [
      "Ignoring index file '/home/dl392/data/yiwei/typhoon/EAR5/temp.grib.5b7b6.idx' older than GRIB file\n"
     ]
    },
    {
     "name": "stdout",
     "output_type": "stream",
     "text": [
      "Koryn  is finished\n",
      "Processing  Koryn\n"
     ]
    },
    {
     "name": "stderr",
     "output_type": "stream",
     "text": [
      "Ignoring index file '/home/dl392/data/yiwei/typhoon/EAR5/temp.grib.5b7b6.idx' older than GRIB file\n"
     ]
    },
    {
     "name": "stdout",
     "output_type": "stream",
     "text": [
      "Koryn  is finished\n",
      "Processing  Koryn\n"
     ]
    },
    {
     "name": "stderr",
     "output_type": "stream",
     "text": [
      "Ignoring index file '/home/dl392/data/yiwei/typhoon/EAR5/temp.grib.5b7b6.idx' older than GRIB file\n"
     ]
    },
    {
     "name": "stdout",
     "output_type": "stream",
     "text": [
      "Koryn  is finished\n",
      "Processing  Koryn\n",
      "Koryn  is finished\n",
      "Processing  Georgia\n"
     ]
    },
    {
     "name": "stderr",
     "output_type": "stream",
     "text": [
      "2024-11-24 02:28:38,079 WARNING [2024-10-10T00:00:00] The final validated ERA5 differs from ERA5T from July 2024 until further notice - please refer to our\n",
      "[Forum announcement](https://forum.ecmwf.int/t/final-validated-era5-product-to-differ-from-era5t-in-july-2024/6685)\n",
      "for details and watch it for further updates on this.\n",
      "2024-11-24 02:28:38,081 INFO Request ID is 797906a1-6c57-4f43-868b-5e30f7c26bfe\n",
      "2024-11-24 02:28:38,301 INFO status has been updated to accepted\n",
      "2024-11-24 02:28:44,260 INFO status has been updated to running\n",
      "2024-11-24 02:28:47,861 INFO status has been updated to successful\n",
      "Ignoring index file '/home/dl392/data/yiwei/typhoon/EAR5/temp.grib.5b7b6.idx' older than GRIB file\n",
      "Ignoring index file '/home/dl392/data/yiwei/typhoon/EAR5/temp.grib.5b7b6.idx' older than GRIB file\n"
     ]
    },
    {
     "name": "stdout",
     "output_type": "stream",
     "text": [
      "Georgia  is finished\n",
      "Processing  Georgia\n"
     ]
    },
    {
     "name": "stderr",
     "output_type": "stream",
     "text": [
      "Ignoring index file '/home/dl392/data/yiwei/typhoon/EAR5/temp.grib.5b7b6.idx' older than GRIB file\n"
     ]
    },
    {
     "name": "stdout",
     "output_type": "stream",
     "text": [
      "Georgia  is finished\n",
      "Processing  Georgia\n"
     ]
    },
    {
     "name": "stderr",
     "output_type": "stream",
     "text": [
      "Ignoring index file '/home/dl392/data/yiwei/typhoon/EAR5/temp.grib.5b7b6.idx' older than GRIB file\n"
     ]
    },
    {
     "name": "stdout",
     "output_type": "stream",
     "text": [
      "Georgia  is finished\n",
      "Processing  Georgia\n"
     ]
    },
    {
     "name": "stderr",
     "output_type": "stream",
     "text": [
      "Ignoring index file '/home/dl392/data/yiwei/typhoon/EAR5/temp.grib.5b7b6.idx' older than GRIB file\n"
     ]
    },
    {
     "name": "stdout",
     "output_type": "stream",
     "text": [
      "Georgia  is finished\n",
      "Processing  Georgia\n"
     ]
    },
    {
     "name": "stderr",
     "output_type": "stream",
     "text": [
      "Ignoring index file '/home/dl392/data/yiwei/typhoon/EAR5/temp.grib.5b7b6.idx' older than GRIB file\n"
     ]
    },
    {
     "name": "stdout",
     "output_type": "stream",
     "text": [
      "Georgia  is finished\n",
      "Processing  Georgia\n"
     ]
    },
    {
     "name": "stderr",
     "output_type": "stream",
     "text": [
      "Ignoring index file '/home/dl392/data/yiwei/typhoon/EAR5/temp.grib.5b7b6.idx' older than GRIB file\n"
     ]
    },
    {
     "name": "stdout",
     "output_type": "stream",
     "text": [
      "Georgia  is finished\n",
      "Processing  Georgia\n"
     ]
    },
    {
     "name": "stderr",
     "output_type": "stream",
     "text": [
      "Ignoring index file '/home/dl392/data/yiwei/typhoon/EAR5/temp.grib.5b7b6.idx' older than GRIB file\n"
     ]
    },
    {
     "name": "stdout",
     "output_type": "stream",
     "text": [
      "Georgia  is finished\n",
      "Processing  Georgia\n"
     ]
    },
    {
     "name": "stderr",
     "output_type": "stream",
     "text": [
      "Ignoring index file '/home/dl392/data/yiwei/typhoon/EAR5/temp.grib.5b7b6.idx' older than GRIB file\n"
     ]
    },
    {
     "name": "stdout",
     "output_type": "stream",
     "text": [
      "Georgia  is finished\n",
      "Processing  Georgia\n"
     ]
    },
    {
     "name": "stderr",
     "output_type": "stream",
     "text": [
      "Ignoring index file '/home/dl392/data/yiwei/typhoon/EAR5/temp.grib.5b7b6.idx' older than GRIB file\n"
     ]
    },
    {
     "name": "stdout",
     "output_type": "stream",
     "text": [
      "Georgia  is finished\n",
      "Processing  Georgia\n"
     ]
    },
    {
     "name": "stderr",
     "output_type": "stream",
     "text": [
      "Ignoring index file '/home/dl392/data/yiwei/typhoon/EAR5/temp.grib.5b7b6.idx' older than GRIB file\n"
     ]
    },
    {
     "name": "stdout",
     "output_type": "stream",
     "text": [
      "Georgia  is finished\n",
      "Processing  Georgia\n"
     ]
    },
    {
     "name": "stderr",
     "output_type": "stream",
     "text": [
      "Ignoring index file '/home/dl392/data/yiwei/typhoon/EAR5/temp.grib.5b7b6.idx' older than GRIB file\n"
     ]
    },
    {
     "name": "stdout",
     "output_type": "stream",
     "text": [
      "Georgia  is finished\n",
      "Processing  Georgia\n"
     ]
    },
    {
     "name": "stderr",
     "output_type": "stream",
     "text": [
      "Ignoring index file '/home/dl392/data/yiwei/typhoon/EAR5/temp.grib.5b7b6.idx' older than GRIB file\n"
     ]
    },
    {
     "name": "stdout",
     "output_type": "stream",
     "text": [
      "Georgia  is finished\n",
      "Processing  Georgia\n"
     ]
    },
    {
     "name": "stderr",
     "output_type": "stream",
     "text": [
      "Ignoring index file '/home/dl392/data/yiwei/typhoon/EAR5/temp.grib.5b7b6.idx' older than GRIB file\n"
     ]
    },
    {
     "name": "stdout",
     "output_type": "stream",
     "text": [
      "Georgia  is finished\n",
      "Processing  Georgia\n"
     ]
    },
    {
     "name": "stderr",
     "output_type": "stream",
     "text": [
      "Ignoring index file '/home/dl392/data/yiwei/typhoon/EAR5/temp.grib.5b7b6.idx' older than GRIB file\n"
     ]
    },
    {
     "name": "stdout",
     "output_type": "stream",
     "text": [
      "Georgia  is finished\n",
      "Processing  Georgia\n"
     ]
    },
    {
     "name": "stderr",
     "output_type": "stream",
     "text": [
      "Ignoring index file '/home/dl392/data/yiwei/typhoon/EAR5/temp.grib.5b7b6.idx' older than GRIB file\n"
     ]
    },
    {
     "name": "stdout",
     "output_type": "stream",
     "text": [
      "Georgia  is finished\n",
      "Processing  Georgia\n"
     ]
    },
    {
     "name": "stderr",
     "output_type": "stream",
     "text": [
      "Ignoring index file '/home/dl392/data/yiwei/typhoon/EAR5/temp.grib.5b7b6.idx' older than GRIB file\n"
     ]
    },
    {
     "name": "stdout",
     "output_type": "stream",
     "text": [
      "Georgia  is finished\n",
      "Processing  Georgia\n"
     ]
    },
    {
     "name": "stderr",
     "output_type": "stream",
     "text": [
      "Ignoring index file '/home/dl392/data/yiwei/typhoon/EAR5/temp.grib.5b7b6.idx' older than GRIB file\n"
     ]
    },
    {
     "name": "stdout",
     "output_type": "stream",
     "text": [
      "Georgia  is finished\n",
      "Processing  Georgia\n"
     ]
    },
    {
     "name": "stderr",
     "output_type": "stream",
     "text": [
      "Ignoring index file '/home/dl392/data/yiwei/typhoon/EAR5/temp.grib.5b7b6.idx' older than GRIB file\n"
     ]
    },
    {
     "name": "stdout",
     "output_type": "stream",
     "text": [
      "Georgia  is finished\n",
      "Processing  Georgia\n"
     ]
    },
    {
     "name": "stderr",
     "output_type": "stream",
     "text": [
      "Ignoring index file '/home/dl392/data/yiwei/typhoon/EAR5/temp.grib.5b7b6.idx' older than GRIB file\n"
     ]
    },
    {
     "name": "stdout",
     "output_type": "stream",
     "text": [
      "Georgia  is finished\n",
      "Processing  Georgia\n"
     ]
    },
    {
     "name": "stderr",
     "output_type": "stream",
     "text": [
      "Ignoring index file '/home/dl392/data/yiwei/typhoon/EAR5/temp.grib.5b7b6.idx' older than GRIB file\n"
     ]
    },
    {
     "name": "stdout",
     "output_type": "stream",
     "text": [
      "Georgia  is finished\n",
      "Processing  Georgia\n"
     ]
    },
    {
     "name": "stderr",
     "output_type": "stream",
     "text": [
      "Ignoring index file '/home/dl392/data/yiwei/typhoon/EAR5/temp.grib.5b7b6.idx' older than GRIB file\n"
     ]
    },
    {
     "name": "stdout",
     "output_type": "stream",
     "text": [
      "Georgia  is finished\n",
      "Processing  Georgia\n"
     ]
    },
    {
     "name": "stderr",
     "output_type": "stream",
     "text": [
      "Ignoring index file '/home/dl392/data/yiwei/typhoon/EAR5/temp.grib.5b7b6.idx' older than GRIB file\n"
     ]
    },
    {
     "name": "stdout",
     "output_type": "stream",
     "text": [
      "Georgia  is finished\n",
      "Processing  Georgia\n"
     ]
    },
    {
     "name": "stderr",
     "output_type": "stream",
     "text": [
      "Ignoring index file '/home/dl392/data/yiwei/typhoon/EAR5/temp.grib.5b7b6.idx' older than GRIB file\n"
     ]
    },
    {
     "name": "stdout",
     "output_type": "stream",
     "text": [
      "Georgia  is finished\n",
      "Processing  Georgia\n"
     ]
    },
    {
     "name": "stderr",
     "output_type": "stream",
     "text": [
      "Ignoring index file '/home/dl392/data/yiwei/typhoon/EAR5/temp.grib.5b7b6.idx' older than GRIB file\n"
     ]
    },
    {
     "name": "stdout",
     "output_type": "stream",
     "text": [
      "Georgia  is finished\n",
      "Processing  Georgia\n"
     ]
    },
    {
     "name": "stderr",
     "output_type": "stream",
     "text": [
      "Ignoring index file '/home/dl392/data/yiwei/typhoon/EAR5/temp.grib.5b7b6.idx' older than GRIB file\n"
     ]
    },
    {
     "name": "stdout",
     "output_type": "stream",
     "text": [
      "Georgia  is finished\n",
      "Processing  Georgia\n"
     ]
    },
    {
     "name": "stderr",
     "output_type": "stream",
     "text": [
      "Ignoring index file '/home/dl392/data/yiwei/typhoon/EAR5/temp.grib.5b7b6.idx' older than GRIB file\n"
     ]
    },
    {
     "name": "stdout",
     "output_type": "stream",
     "text": [
      "Georgia  is finished\n",
      "Processing  Georgia\n"
     ]
    },
    {
     "name": "stderr",
     "output_type": "stream",
     "text": [
      "Ignoring index file '/home/dl392/data/yiwei/typhoon/EAR5/temp.grib.5b7b6.idx' older than GRIB file\n"
     ]
    },
    {
     "name": "stdout",
     "output_type": "stream",
     "text": [
      "Georgia  is finished\n",
      "Processing  Georgia\n"
     ]
    },
    {
     "name": "stderr",
     "output_type": "stream",
     "text": [
      "Ignoring index file '/home/dl392/data/yiwei/typhoon/EAR5/temp.grib.5b7b6.idx' older than GRIB file\n"
     ]
    },
    {
     "name": "stdout",
     "output_type": "stream",
     "text": [
      "Georgia  is finished\n",
      "Processing  Georgia\n"
     ]
    },
    {
     "name": "stderr",
     "output_type": "stream",
     "text": [
      "Ignoring index file '/home/dl392/data/yiwei/typhoon/EAR5/temp.grib.5b7b6.idx' older than GRIB file\n"
     ]
    },
    {
     "name": "stdout",
     "output_type": "stream",
     "text": [
      "Georgia  is finished\n",
      "Processing  Georgia\n"
     ]
    },
    {
     "name": "stderr",
     "output_type": "stream",
     "text": [
      "Ignoring index file '/home/dl392/data/yiwei/typhoon/EAR5/temp.grib.5b7b6.idx' older than GRIB file\n"
     ]
    },
    {
     "name": "stdout",
     "output_type": "stream",
     "text": [
      "Georgia  is finished\n",
      "Processing  Georgia\n"
     ]
    },
    {
     "name": "stderr",
     "output_type": "stream",
     "text": [
      "Ignoring index file '/home/dl392/data/yiwei/typhoon/EAR5/temp.grib.5b7b6.idx' older than GRIB file\n"
     ]
    },
    {
     "name": "stdout",
     "output_type": "stream",
     "text": [
      "Georgia  is finished\n",
      "Processing  Georgia\n"
     ]
    },
    {
     "name": "stderr",
     "output_type": "stream",
     "text": [
      "Ignoring index file '/home/dl392/data/yiwei/typhoon/EAR5/temp.grib.5b7b6.idx' older than GRIB file\n"
     ]
    },
    {
     "name": "stdout",
     "output_type": "stream",
     "text": [
      "Georgia  is finished\n",
      "Processing  Georgia\n"
     ]
    },
    {
     "name": "stderr",
     "output_type": "stream",
     "text": [
      "Ignoring index file '/home/dl392/data/yiwei/typhoon/EAR5/temp.grib.5b7b6.idx' older than GRIB file\n"
     ]
    },
    {
     "name": "stdout",
     "output_type": "stream",
     "text": [
      "Georgia  is finished\n",
      "Processing  Georgia\n"
     ]
    },
    {
     "name": "stderr",
     "output_type": "stream",
     "text": [
      "Ignoring index file '/home/dl392/data/yiwei/typhoon/EAR5/temp.grib.5b7b6.idx' older than GRIB file\n"
     ]
    },
    {
     "name": "stdout",
     "output_type": "stream",
     "text": [
      "Georgia  is finished\n",
      "Processing  Georgia\n"
     ]
    },
    {
     "name": "stderr",
     "output_type": "stream",
     "text": [
      "Ignoring index file '/home/dl392/data/yiwei/typhoon/EAR5/temp.grib.5b7b6.idx' older than GRIB file\n"
     ]
    },
    {
     "name": "stdout",
     "output_type": "stream",
     "text": [
      "Georgia  is finished\n",
      "Processing  Georgia\n"
     ]
    },
    {
     "name": "stderr",
     "output_type": "stream",
     "text": [
      "Ignoring index file '/home/dl392/data/yiwei/typhoon/EAR5/temp.grib.5b7b6.idx' older than GRIB file\n"
     ]
    },
    {
     "name": "stdout",
     "output_type": "stream",
     "text": [
      "Georgia  is finished\n",
      "Processing  Georgia\n",
      "Georgia  is finished\n",
      "Processing  Tess\n"
     ]
    },
    {
     "name": "stderr",
     "output_type": "stream",
     "text": [
      "2024-11-24 02:30:03,072 WARNING [2024-10-10T00:00:00] The final validated ERA5 differs from ERA5T from July 2024 until further notice - please refer to our\n",
      "[Forum announcement](https://forum.ecmwf.int/t/final-validated-era5-product-to-differ-from-era5t-in-july-2024/6685)\n",
      "for details and watch it for further updates on this.\n",
      "2024-11-24 02:30:03,074 INFO Request ID is 330d09f7-7efa-492e-9c15-18fea3a56734\n",
      "2024-11-24 02:30:04,584 INFO status has been updated to accepted\n",
      "2024-11-24 02:30:10,116 INFO status has been updated to running\n",
      "2024-11-24 02:30:15,538 INFO status has been updated to successful\n",
      "Ignoring index file '/home/dl392/data/yiwei/typhoon/EAR5/temp.grib.5b7b6.idx' older than GRIB file\n",
      "Ignoring index file '/home/dl392/data/yiwei/typhoon/EAR5/temp.grib.5b7b6.idx' older than GRIB file\n"
     ]
    },
    {
     "name": "stdout",
     "output_type": "stream",
     "text": [
      "Tess  is finished\n",
      "Processing  Tess\n"
     ]
    },
    {
     "name": "stderr",
     "output_type": "stream",
     "text": [
      "Ignoring index file '/home/dl392/data/yiwei/typhoon/EAR5/temp.grib.5b7b6.idx' older than GRIB file\n"
     ]
    },
    {
     "name": "stdout",
     "output_type": "stream",
     "text": [
      "Tess  is finished\n",
      "Processing  Tess\n"
     ]
    },
    {
     "name": "stderr",
     "output_type": "stream",
     "text": [
      "Ignoring index file '/home/dl392/data/yiwei/typhoon/EAR5/temp.grib.5b7b6.idx' older than GRIB file\n"
     ]
    },
    {
     "name": "stdout",
     "output_type": "stream",
     "text": [
      "Tess  is finished\n",
      "Processing  Tess\n"
     ]
    },
    {
     "name": "stderr",
     "output_type": "stream",
     "text": [
      "Ignoring index file '/home/dl392/data/yiwei/typhoon/EAR5/temp.grib.5b7b6.idx' older than GRIB file\n"
     ]
    },
    {
     "name": "stdout",
     "output_type": "stream",
     "text": [
      "Tess  is finished\n",
      "Processing  Tess\n"
     ]
    },
    {
     "name": "stderr",
     "output_type": "stream",
     "text": [
      "Ignoring index file '/home/dl392/data/yiwei/typhoon/EAR5/temp.grib.5b7b6.idx' older than GRIB file\n"
     ]
    },
    {
     "name": "stdout",
     "output_type": "stream",
     "text": [
      "Tess  is finished\n",
      "Processing  Tess\n"
     ]
    },
    {
     "name": "stderr",
     "output_type": "stream",
     "text": [
      "Ignoring index file '/home/dl392/data/yiwei/typhoon/EAR5/temp.grib.5b7b6.idx' older than GRIB file\n"
     ]
    },
    {
     "name": "stdout",
     "output_type": "stream",
     "text": [
      "Tess  is finished\n",
      "Processing  Tess\n"
     ]
    },
    {
     "name": "stderr",
     "output_type": "stream",
     "text": [
      "Ignoring index file '/home/dl392/data/yiwei/typhoon/EAR5/temp.grib.5b7b6.idx' older than GRIB file\n"
     ]
    },
    {
     "name": "stdout",
     "output_type": "stream",
     "text": [
      "Tess  is finished\n",
      "Processing  Tess\n"
     ]
    },
    {
     "name": "stderr",
     "output_type": "stream",
     "text": [
      "Ignoring index file '/home/dl392/data/yiwei/typhoon/EAR5/temp.grib.5b7b6.idx' older than GRIB file\n"
     ]
    },
    {
     "name": "stdout",
     "output_type": "stream",
     "text": [
      "Tess  is finished\n",
      "Processing  Tess\n"
     ]
    },
    {
     "name": "stderr",
     "output_type": "stream",
     "text": [
      "Ignoring index file '/home/dl392/data/yiwei/typhoon/EAR5/temp.grib.5b7b6.idx' older than GRIB file\n"
     ]
    },
    {
     "name": "stdout",
     "output_type": "stream",
     "text": [
      "Tess  is finished\n",
      "Processing  Tess\n"
     ]
    },
    {
     "name": "stderr",
     "output_type": "stream",
     "text": [
      "Ignoring index file '/home/dl392/data/yiwei/typhoon/EAR5/temp.grib.5b7b6.idx' older than GRIB file\n"
     ]
    },
    {
     "name": "stdout",
     "output_type": "stream",
     "text": [
      "Tess  is finished\n",
      "Processing  Tess\n"
     ]
    },
    {
     "name": "stderr",
     "output_type": "stream",
     "text": [
      "Ignoring index file '/home/dl392/data/yiwei/typhoon/EAR5/temp.grib.5b7b6.idx' older than GRIB file\n"
     ]
    },
    {
     "name": "stdout",
     "output_type": "stream",
     "text": [
      "Tess  is finished\n",
      "Processing  Tess\n"
     ]
    },
    {
     "name": "stderr",
     "output_type": "stream",
     "text": [
      "Ignoring index file '/home/dl392/data/yiwei/typhoon/EAR5/temp.grib.5b7b6.idx' older than GRIB file\n"
     ]
    },
    {
     "name": "stdout",
     "output_type": "stream",
     "text": [
      "Tess  is finished\n",
      "Processing  Tess\n"
     ]
    },
    {
     "name": "stderr",
     "output_type": "stream",
     "text": [
      "Ignoring index file '/home/dl392/data/yiwei/typhoon/EAR5/temp.grib.5b7b6.idx' older than GRIB file\n"
     ]
    },
    {
     "name": "stdout",
     "output_type": "stream",
     "text": [
      "Tess  is finished\n",
      "Processing  Tess\n"
     ]
    },
    {
     "name": "stderr",
     "output_type": "stream",
     "text": [
      "Ignoring index file '/home/dl392/data/yiwei/typhoon/EAR5/temp.grib.5b7b6.idx' older than GRIB file\n"
     ]
    },
    {
     "name": "stdout",
     "output_type": "stream",
     "text": [
      "Tess  is finished\n",
      "Processing  Tess\n"
     ]
    },
    {
     "name": "stderr",
     "output_type": "stream",
     "text": [
      "Ignoring index file '/home/dl392/data/yiwei/typhoon/EAR5/temp.grib.5b7b6.idx' older than GRIB file\n"
     ]
    },
    {
     "name": "stdout",
     "output_type": "stream",
     "text": [
      "Tess  is finished\n",
      "Processing  Tess\n"
     ]
    },
    {
     "name": "stderr",
     "output_type": "stream",
     "text": [
      "Ignoring index file '/home/dl392/data/yiwei/typhoon/EAR5/temp.grib.5b7b6.idx' older than GRIB file\n"
     ]
    },
    {
     "name": "stdout",
     "output_type": "stream",
     "text": [
      "Tess  is finished\n",
      "Processing  Tess\n"
     ]
    },
    {
     "name": "stderr",
     "output_type": "stream",
     "text": [
      "Ignoring index file '/home/dl392/data/yiwei/typhoon/EAR5/temp.grib.5b7b6.idx' older than GRIB file\n"
     ]
    },
    {
     "name": "stdout",
     "output_type": "stream",
     "text": [
      "Tess  is finished\n",
      "Processing  Tess\n"
     ]
    },
    {
     "name": "stderr",
     "output_type": "stream",
     "text": [
      "Ignoring index file '/home/dl392/data/yiwei/typhoon/EAR5/temp.grib.5b7b6.idx' older than GRIB file\n"
     ]
    },
    {
     "name": "stdout",
     "output_type": "stream",
     "text": [
      "Tess  is finished\n",
      "Processing  Tess\n"
     ]
    },
    {
     "name": "stderr",
     "output_type": "stream",
     "text": [
      "Ignoring index file '/home/dl392/data/yiwei/typhoon/EAR5/temp.grib.5b7b6.idx' older than GRIB file\n"
     ]
    },
    {
     "name": "stdout",
     "output_type": "stream",
     "text": [
      "Tess  is finished\n",
      "Processing  Tess\n"
     ]
    },
    {
     "name": "stderr",
     "output_type": "stream",
     "text": [
      "Ignoring index file '/home/dl392/data/yiwei/typhoon/EAR5/temp.grib.5b7b6.idx' older than GRIB file\n"
     ]
    },
    {
     "name": "stdout",
     "output_type": "stream",
     "text": [
      "Tess  is finished\n",
      "Processing  Tess\n"
     ]
    },
    {
     "name": "stderr",
     "output_type": "stream",
     "text": [
      "Ignoring index file '/home/dl392/data/yiwei/typhoon/EAR5/temp.grib.5b7b6.idx' older than GRIB file\n"
     ]
    },
    {
     "name": "stdout",
     "output_type": "stream",
     "text": [
      "Tess  is finished\n",
      "Processing  Tess\n"
     ]
    },
    {
     "name": "stderr",
     "output_type": "stream",
     "text": [
      "Ignoring index file '/home/dl392/data/yiwei/typhoon/EAR5/temp.grib.5b7b6.idx' older than GRIB file\n"
     ]
    },
    {
     "name": "stdout",
     "output_type": "stream",
     "text": [
      "Tess  is finished\n",
      "Processing  Tess\n"
     ]
    },
    {
     "name": "stderr",
     "output_type": "stream",
     "text": [
      "Ignoring index file '/home/dl392/data/yiwei/typhoon/EAR5/temp.grib.5b7b6.idx' older than GRIB file\n"
     ]
    },
    {
     "name": "stdout",
     "output_type": "stream",
     "text": [
      "Tess  is finished\n",
      "Processing  Tess\n"
     ]
    },
    {
     "name": "stderr",
     "output_type": "stream",
     "text": [
      "Ignoring index file '/home/dl392/data/yiwei/typhoon/EAR5/temp.grib.5b7b6.idx' older than GRIB file\n"
     ]
    },
    {
     "name": "stdout",
     "output_type": "stream",
     "text": [
      "Tess  is finished\n",
      "Processing  Tess\n"
     ]
    },
    {
     "name": "stderr",
     "output_type": "stream",
     "text": [
      "Ignoring index file '/home/dl392/data/yiwei/typhoon/EAR5/temp.grib.5b7b6.idx' older than GRIB file\n"
     ]
    },
    {
     "name": "stdout",
     "output_type": "stream",
     "text": [
      "Tess  is finished\n",
      "Processing  Tess\n"
     ]
    },
    {
     "name": "stderr",
     "output_type": "stream",
     "text": [
      "Ignoring index file '/home/dl392/data/yiwei/typhoon/EAR5/temp.grib.5b7b6.idx' older than GRIB file\n"
     ]
    },
    {
     "name": "stdout",
     "output_type": "stream",
     "text": [
      "Tess  is finished\n",
      "Processing  Tess\n"
     ]
    },
    {
     "name": "stderr",
     "output_type": "stream",
     "text": [
      "Ignoring index file '/home/dl392/data/yiwei/typhoon/EAR5/temp.grib.5b7b6.idx' older than GRIB file\n"
     ]
    },
    {
     "name": "stdout",
     "output_type": "stream",
     "text": [
      "Tess  is finished\n",
      "Processing  Tess\n"
     ]
    },
    {
     "name": "stderr",
     "output_type": "stream",
     "text": [
      "Ignoring index file '/home/dl392/data/yiwei/typhoon/EAR5/temp.grib.5b7b6.idx' older than GRIB file\n"
     ]
    },
    {
     "name": "stdout",
     "output_type": "stream",
     "text": [
      "Tess  is finished\n",
      "Processing  Tess\n"
     ]
    },
    {
     "name": "stderr",
     "output_type": "stream",
     "text": [
      "Ignoring index file '/home/dl392/data/yiwei/typhoon/EAR5/temp.grib.5b7b6.idx' older than GRIB file\n"
     ]
    },
    {
     "name": "stdout",
     "output_type": "stream",
     "text": [
      "Tess  is finished\n",
      "Processing  Tess\n"
     ]
    },
    {
     "name": "stderr",
     "output_type": "stream",
     "text": [
      "Ignoring index file '/home/dl392/data/yiwei/typhoon/EAR5/temp.grib.5b7b6.idx' older than GRIB file\n"
     ]
    },
    {
     "name": "stdout",
     "output_type": "stream",
     "text": [
      "Tess  is finished\n",
      "Processing  Tess\n"
     ]
    },
    {
     "name": "stderr",
     "output_type": "stream",
     "text": [
      "Ignoring index file '/home/dl392/data/yiwei/typhoon/EAR5/temp.grib.5b7b6.idx' older than GRIB file\n"
     ]
    },
    {
     "name": "stdout",
     "output_type": "stream",
     "text": [
      "Tess  is finished\n",
      "Processing  Tess\n"
     ]
    },
    {
     "name": "stderr",
     "output_type": "stream",
     "text": [
      "Ignoring index file '/home/dl392/data/yiwei/typhoon/EAR5/temp.grib.5b7b6.idx' older than GRIB file\n"
     ]
    },
    {
     "name": "stdout",
     "output_type": "stream",
     "text": [
      "Tess  is finished\n",
      "Processing  Tess\n"
     ]
    },
    {
     "name": "stderr",
     "output_type": "stream",
     "text": [
      "Ignoring index file '/home/dl392/data/yiwei/typhoon/EAR5/temp.grib.5b7b6.idx' older than GRIB file\n"
     ]
    },
    {
     "name": "stdout",
     "output_type": "stream",
     "text": [
      "Tess  is finished\n",
      "Processing  Tess\n"
     ]
    },
    {
     "name": "stderr",
     "output_type": "stream",
     "text": [
      "Ignoring index file '/home/dl392/data/yiwei/typhoon/EAR5/temp.grib.5b7b6.idx' older than GRIB file\n"
     ]
    },
    {
     "name": "stdout",
     "output_type": "stream",
     "text": [
      "Tess  is finished\n",
      "Processing  Tess\n"
     ]
    },
    {
     "name": "stderr",
     "output_type": "stream",
     "text": [
      "Ignoring index file '/home/dl392/data/yiwei/typhoon/EAR5/temp.grib.5b7b6.idx' older than GRIB file\n"
     ]
    },
    {
     "name": "stdout",
     "output_type": "stream",
     "text": [
      "Tess  is finished\n",
      "Processing  Tess\n"
     ]
    },
    {
     "name": "stderr",
     "output_type": "stream",
     "text": [
      "Ignoring index file '/home/dl392/data/yiwei/typhoon/EAR5/temp.grib.5b7b6.idx' older than GRIB file\n"
     ]
    },
    {
     "name": "stdout",
     "output_type": "stream",
     "text": [
      "Tess  is finished\n",
      "Processing  Tess\n"
     ]
    },
    {
     "name": "stderr",
     "output_type": "stream",
     "text": [
      "Ignoring index file '/home/dl392/data/yiwei/typhoon/EAR5/temp.grib.5b7b6.idx' older than GRIB file\n"
     ]
    },
    {
     "name": "stdout",
     "output_type": "stream",
     "text": [
      "Tess  is finished\n",
      "Processing  Tess\n"
     ]
    },
    {
     "name": "stderr",
     "output_type": "stream",
     "text": [
      "Ignoring index file '/home/dl392/data/yiwei/typhoon/EAR5/temp.grib.5b7b6.idx' older than GRIB file\n"
     ]
    },
    {
     "name": "stdout",
     "output_type": "stream",
     "text": [
      "Tess  is finished\n",
      "Processing  Tess\n"
     ]
    },
    {
     "name": "stderr",
     "output_type": "stream",
     "text": [
      "Ignoring index file '/home/dl392/data/yiwei/typhoon/EAR5/temp.grib.5b7b6.idx' older than GRIB file\n"
     ]
    },
    {
     "name": "stdout",
     "output_type": "stream",
     "text": [
      "Tess  is finished\n",
      "Processing  Tess\n"
     ]
    },
    {
     "name": "stderr",
     "output_type": "stream",
     "text": [
      "Ignoring index file '/home/dl392/data/yiwei/typhoon/EAR5/temp.grib.5b7b6.idx' older than GRIB file\n"
     ]
    },
    {
     "name": "stdout",
     "output_type": "stream",
     "text": [
      "Tess  is finished\n",
      "Processing  Tess\n"
     ]
    },
    {
     "name": "stderr",
     "output_type": "stream",
     "text": [
      "Ignoring index file '/home/dl392/data/yiwei/typhoon/EAR5/temp.grib.5b7b6.idx' older than GRIB file\n"
     ]
    },
    {
     "name": "stdout",
     "output_type": "stream",
     "text": [
      "Tess  is finished\n",
      "Processing  Tess\n"
     ]
    },
    {
     "name": "stderr",
     "output_type": "stream",
     "text": [
      "Ignoring index file '/home/dl392/data/yiwei/typhoon/EAR5/temp.grib.5b7b6.idx' older than GRIB file\n"
     ]
    },
    {
     "name": "stdout",
     "output_type": "stream",
     "text": [
      "Tess  is finished\n",
      "Processing  Tess\n"
     ]
    },
    {
     "name": "stderr",
     "output_type": "stream",
     "text": [
      "Ignoring index file '/home/dl392/data/yiwei/typhoon/EAR5/temp.grib.5b7b6.idx' older than GRIB file\n"
     ]
    },
    {
     "name": "stdout",
     "output_type": "stream",
     "text": [
      "Tess  is finished\n",
      "Processing  Tess\n"
     ]
    },
    {
     "name": "stderr",
     "output_type": "stream",
     "text": [
      "Ignoring index file '/home/dl392/data/yiwei/typhoon/EAR5/temp.grib.5b7b6.idx' older than GRIB file\n"
     ]
    },
    {
     "name": "stdout",
     "output_type": "stream",
     "text": [
      "Tess  is finished\n",
      "Processing  Tess\n"
     ]
    },
    {
     "name": "stderr",
     "output_type": "stream",
     "text": [
      "Ignoring index file '/home/dl392/data/yiwei/typhoon/EAR5/temp.grib.5b7b6.idx' older than GRIB file\n"
     ]
    },
    {
     "name": "stdout",
     "output_type": "stream",
     "text": [
      "Tess  is finished\n",
      "Processing  Tess\n"
     ]
    },
    {
     "name": "stderr",
     "output_type": "stream",
     "text": [
      "Ignoring index file '/home/dl392/data/yiwei/typhoon/EAR5/temp.grib.5b7b6.idx' older than GRIB file\n"
     ]
    },
    {
     "name": "stdout",
     "output_type": "stream",
     "text": [
      "Tess  is finished\n",
      "Processing  Tess\n"
     ]
    },
    {
     "name": "stderr",
     "output_type": "stream",
     "text": [
      "Ignoring index file '/home/dl392/data/yiwei/typhoon/EAR5/temp.grib.5b7b6.idx' older than GRIB file\n"
     ]
    },
    {
     "name": "stdout",
     "output_type": "stream",
     "text": [
      "Tess  is finished\n",
      "Processing  Tess\n"
     ]
    },
    {
     "name": "stderr",
     "output_type": "stream",
     "text": [
      "Ignoring index file '/home/dl392/data/yiwei/typhoon/EAR5/temp.grib.5b7b6.idx' older than GRIB file\n"
     ]
    },
    {
     "name": "stdout",
     "output_type": "stream",
     "text": [
      "Tess  is finished\n",
      "Processing  Tess\n"
     ]
    },
    {
     "name": "stderr",
     "output_type": "stream",
     "text": [
      "Ignoring index file '/home/dl392/data/yiwei/typhoon/EAR5/temp.grib.5b7b6.idx' older than GRIB file\n"
     ]
    },
    {
     "name": "stdout",
     "output_type": "stream",
     "text": [
      "Tess  is finished\n",
      "Processing  Tess\n"
     ]
    },
    {
     "name": "stderr",
     "output_type": "stream",
     "text": [
      "Ignoring index file '/home/dl392/data/yiwei/typhoon/EAR5/temp.grib.5b7b6.idx' older than GRIB file\n"
     ]
    },
    {
     "name": "stdout",
     "output_type": "stream",
     "text": [
      "Tess  is finished\n",
      "Processing  Tess\n"
     ]
    },
    {
     "name": "stderr",
     "output_type": "stream",
     "text": [
      "Ignoring index file '/home/dl392/data/yiwei/typhoon/EAR5/temp.grib.5b7b6.idx' older than GRIB file\n"
     ]
    },
    {
     "name": "stdout",
     "output_type": "stream",
     "text": [
      "Tess  is finished\n",
      "Processing  Tess\n"
     ]
    },
    {
     "name": "stderr",
     "output_type": "stream",
     "text": [
      "Ignoring index file '/home/dl392/data/yiwei/typhoon/EAR5/temp.grib.5b7b6.idx' older than GRIB file\n"
     ]
    },
    {
     "name": "stdout",
     "output_type": "stream",
     "text": [
      "Tess  is finished\n",
      "Processing  Tess\n"
     ]
    },
    {
     "name": "stderr",
     "output_type": "stream",
     "text": [
      "Ignoring index file '/home/dl392/data/yiwei/typhoon/EAR5/temp.grib.5b7b6.idx' older than GRIB file\n"
     ]
    },
    {
     "name": "stdout",
     "output_type": "stream",
     "text": [
      "Tess  is finished\n",
      "Processing  Tess\n"
     ]
    },
    {
     "name": "stderr",
     "output_type": "stream",
     "text": [
      "Ignoring index file '/home/dl392/data/yiwei/typhoon/EAR5/temp.grib.5b7b6.idx' older than GRIB file\n"
     ]
    },
    {
     "name": "stdout",
     "output_type": "stream",
     "text": [
      "Tess  is finished\n",
      "Processing  Tess\n"
     ]
    },
    {
     "name": "stderr",
     "output_type": "stream",
     "text": [
      "Ignoring index file '/home/dl392/data/yiwei/typhoon/EAR5/temp.grib.5b7b6.idx' older than GRIB file\n"
     ]
    },
    {
     "name": "stdout",
     "output_type": "stream",
     "text": [
      "Tess  is finished\n",
      "Processing  Tess\n"
     ]
    },
    {
     "name": "stderr",
     "output_type": "stream",
     "text": [
      "Ignoring index file '/home/dl392/data/yiwei/typhoon/EAR5/temp.grib.5b7b6.idx' older than GRIB file\n"
     ]
    },
    {
     "name": "stdout",
     "output_type": "stream",
     "text": [
      "Tess  is finished\n",
      "Processing  Tess\n"
     ]
    },
    {
     "name": "stderr",
     "output_type": "stream",
     "text": [
      "Ignoring index file '/home/dl392/data/yiwei/typhoon/EAR5/temp.grib.5b7b6.idx' older than GRIB file\n"
     ]
    },
    {
     "name": "stdout",
     "output_type": "stream",
     "text": [
      "Tess  is finished\n",
      "Processing  Tess\n",
      "Tess  is finished\n",
      "Processing  Malakas\n"
     ]
    },
    {
     "name": "stderr",
     "output_type": "stream",
     "text": [
      "2024-11-24 02:32:27,820 WARNING [2024-10-10T00:00:00] The final validated ERA5 differs from ERA5T from July 2024 until further notice - please refer to our\n",
      "[Forum announcement](https://forum.ecmwf.int/t/final-validated-era5-product-to-differ-from-era5t-in-july-2024/6685)\n",
      "for details and watch it for further updates on this.\n",
      "2024-11-24 02:32:27,822 INFO Request ID is b2478247-c460-4d29-8dde-9672fd18da81\n",
      "2024-11-24 02:32:28,800 INFO status has been updated to accepted\n",
      "2024-11-24 02:32:31,836 INFO status has been updated to running\n",
      "2024-11-24 02:32:38,825 INFO status has been updated to successful\n",
      "Ignoring index file '/home/dl392/data/yiwei/typhoon/EAR5/temp.grib.5b7b6.idx' older than GRIB file\n",
      "Ignoring index file '/home/dl392/data/yiwei/typhoon/EAR5/temp.grib.5b7b6.idx' older than GRIB file\n"
     ]
    },
    {
     "name": "stdout",
     "output_type": "stream",
     "text": [
      "Malakas  is finished\n",
      "Processing  Malakas\n"
     ]
    },
    {
     "name": "stderr",
     "output_type": "stream",
     "text": [
      "Ignoring index file '/home/dl392/data/yiwei/typhoon/EAR5/temp.grib.5b7b6.idx' older than GRIB file\n"
     ]
    },
    {
     "name": "stdout",
     "output_type": "stream",
     "text": [
      "Malakas  is finished\n",
      "Processing  Malakas\n"
     ]
    },
    {
     "name": "stderr",
     "output_type": "stream",
     "text": [
      "Ignoring index file '/home/dl392/data/yiwei/typhoon/EAR5/temp.grib.5b7b6.idx' older than GRIB file\n"
     ]
    },
    {
     "name": "stdout",
     "output_type": "stream",
     "text": [
      "Malakas  is finished\n",
      "Processing  Malakas\n"
     ]
    },
    {
     "name": "stderr",
     "output_type": "stream",
     "text": [
      "Ignoring index file '/home/dl392/data/yiwei/typhoon/EAR5/temp.grib.5b7b6.idx' older than GRIB file\n"
     ]
    },
    {
     "name": "stdout",
     "output_type": "stream",
     "text": [
      "Malakas  is finished\n",
      "Processing  Malakas\n"
     ]
    },
    {
     "name": "stderr",
     "output_type": "stream",
     "text": [
      "Ignoring index file '/home/dl392/data/yiwei/typhoon/EAR5/temp.grib.5b7b6.idx' older than GRIB file\n"
     ]
    },
    {
     "name": "stdout",
     "output_type": "stream",
     "text": [
      "Malakas  is finished\n",
      "Processing  Malakas\n"
     ]
    },
    {
     "name": "stderr",
     "output_type": "stream",
     "text": [
      "Ignoring index file '/home/dl392/data/yiwei/typhoon/EAR5/temp.grib.5b7b6.idx' older than GRIB file\n"
     ]
    },
    {
     "name": "stdout",
     "output_type": "stream",
     "text": [
      "Malakas  is finished\n",
      "Processing  Malakas\n"
     ]
    },
    {
     "name": "stderr",
     "output_type": "stream",
     "text": [
      "Ignoring index file '/home/dl392/data/yiwei/typhoon/EAR5/temp.grib.5b7b6.idx' older than GRIB file\n"
     ]
    },
    {
     "name": "stdout",
     "output_type": "stream",
     "text": [
      "Malakas  is finished\n",
      "Processing  Malakas\n"
     ]
    },
    {
     "name": "stderr",
     "output_type": "stream",
     "text": [
      "Ignoring index file '/home/dl392/data/yiwei/typhoon/EAR5/temp.grib.5b7b6.idx' older than GRIB file\n"
     ]
    },
    {
     "name": "stdout",
     "output_type": "stream",
     "text": [
      "Malakas  is finished\n",
      "Processing  Malakas\n"
     ]
    },
    {
     "name": "stderr",
     "output_type": "stream",
     "text": [
      "Ignoring index file '/home/dl392/data/yiwei/typhoon/EAR5/temp.grib.5b7b6.idx' older than GRIB file\n"
     ]
    },
    {
     "name": "stdout",
     "output_type": "stream",
     "text": [
      "Malakas  is finished\n",
      "Processing  Malakas\n"
     ]
    },
    {
     "name": "stderr",
     "output_type": "stream",
     "text": [
      "Ignoring index file '/home/dl392/data/yiwei/typhoon/EAR5/temp.grib.5b7b6.idx' older than GRIB file\n"
     ]
    },
    {
     "name": "stdout",
     "output_type": "stream",
     "text": [
      "Malakas  is finished\n",
      "Processing  Malakas\n"
     ]
    },
    {
     "name": "stderr",
     "output_type": "stream",
     "text": [
      "Ignoring index file '/home/dl392/data/yiwei/typhoon/EAR5/temp.grib.5b7b6.idx' older than GRIB file\n"
     ]
    },
    {
     "name": "stdout",
     "output_type": "stream",
     "text": [
      "Malakas  is finished\n",
      "Processing  Malakas\n"
     ]
    },
    {
     "name": "stderr",
     "output_type": "stream",
     "text": [
      "Ignoring index file '/home/dl392/data/yiwei/typhoon/EAR5/temp.grib.5b7b6.idx' older than GRIB file\n"
     ]
    },
    {
     "name": "stdout",
     "output_type": "stream",
     "text": [
      "Malakas  is finished\n",
      "Processing  Malakas\n"
     ]
    },
    {
     "name": "stderr",
     "output_type": "stream",
     "text": [
      "Ignoring index file '/home/dl392/data/yiwei/typhoon/EAR5/temp.grib.5b7b6.idx' older than GRIB file\n"
     ]
    },
    {
     "name": "stdout",
     "output_type": "stream",
     "text": [
      "Malakas  is finished\n",
      "Processing  Malakas\n"
     ]
    },
    {
     "name": "stderr",
     "output_type": "stream",
     "text": [
      "Ignoring index file '/home/dl392/data/yiwei/typhoon/EAR5/temp.grib.5b7b6.idx' older than GRIB file\n"
     ]
    },
    {
     "name": "stdout",
     "output_type": "stream",
     "text": [
      "Malakas  is finished\n",
      "Processing  Malakas\n"
     ]
    },
    {
     "name": "stderr",
     "output_type": "stream",
     "text": [
      "Ignoring index file '/home/dl392/data/yiwei/typhoon/EAR5/temp.grib.5b7b6.idx' older than GRIB file\n"
     ]
    },
    {
     "name": "stdout",
     "output_type": "stream",
     "text": [
      "Malakas  is finished\n",
      "Processing  Malakas\n"
     ]
    },
    {
     "name": "stderr",
     "output_type": "stream",
     "text": [
      "Ignoring index file '/home/dl392/data/yiwei/typhoon/EAR5/temp.grib.5b7b6.idx' older than GRIB file\n"
     ]
    },
    {
     "name": "stdout",
     "output_type": "stream",
     "text": [
      "Malakas  is finished\n",
      "Processing  Malakas\n"
     ]
    },
    {
     "name": "stderr",
     "output_type": "stream",
     "text": [
      "Ignoring index file '/home/dl392/data/yiwei/typhoon/EAR5/temp.grib.5b7b6.idx' older than GRIB file\n"
     ]
    },
    {
     "name": "stdout",
     "output_type": "stream",
     "text": [
      "Malakas  is finished\n",
      "Processing  Malakas\n"
     ]
    },
    {
     "name": "stderr",
     "output_type": "stream",
     "text": [
      "Ignoring index file '/home/dl392/data/yiwei/typhoon/EAR5/temp.grib.5b7b6.idx' older than GRIB file\n"
     ]
    },
    {
     "name": "stdout",
     "output_type": "stream",
     "text": [
      "Malakas  is finished\n",
      "Processing  Malakas\n"
     ]
    },
    {
     "name": "stderr",
     "output_type": "stream",
     "text": [
      "Ignoring index file '/home/dl392/data/yiwei/typhoon/EAR5/temp.grib.5b7b6.idx' older than GRIB file\n"
     ]
    },
    {
     "name": "stdout",
     "output_type": "stream",
     "text": [
      "Malakas  is finished\n",
      "Processing  Malakas\n"
     ]
    },
    {
     "name": "stderr",
     "output_type": "stream",
     "text": [
      "Ignoring index file '/home/dl392/data/yiwei/typhoon/EAR5/temp.grib.5b7b6.idx' older than GRIB file\n"
     ]
    },
    {
     "name": "stdout",
     "output_type": "stream",
     "text": [
      "Malakas  is finished\n",
      "Processing  Malakas\n"
     ]
    },
    {
     "name": "stderr",
     "output_type": "stream",
     "text": [
      "Ignoring index file '/home/dl392/data/yiwei/typhoon/EAR5/temp.grib.5b7b6.idx' older than GRIB file\n"
     ]
    },
    {
     "name": "stdout",
     "output_type": "stream",
     "text": [
      "Malakas  is finished\n",
      "Processing  Malakas\n"
     ]
    },
    {
     "name": "stderr",
     "output_type": "stream",
     "text": [
      "Ignoring index file '/home/dl392/data/yiwei/typhoon/EAR5/temp.grib.5b7b6.idx' older than GRIB file\n"
     ]
    },
    {
     "name": "stdout",
     "output_type": "stream",
     "text": [
      "Malakas  is finished\n",
      "Processing  Malakas\n"
     ]
    },
    {
     "name": "stderr",
     "output_type": "stream",
     "text": [
      "Ignoring index file '/home/dl392/data/yiwei/typhoon/EAR5/temp.grib.5b7b6.idx' older than GRIB file\n"
     ]
    },
    {
     "name": "stdout",
     "output_type": "stream",
     "text": [
      "Malakas  is finished\n",
      "Processing  Malakas\n"
     ]
    },
    {
     "name": "stderr",
     "output_type": "stream",
     "text": [
      "Ignoring index file '/home/dl392/data/yiwei/typhoon/EAR5/temp.grib.5b7b6.idx' older than GRIB file\n"
     ]
    },
    {
     "name": "stdout",
     "output_type": "stream",
     "text": [
      "Malakas  is finished\n",
      "Processing  Malakas\n"
     ]
    },
    {
     "name": "stderr",
     "output_type": "stream",
     "text": [
      "Ignoring index file '/home/dl392/data/yiwei/typhoon/EAR5/temp.grib.5b7b6.idx' older than GRIB file\n"
     ]
    },
    {
     "name": "stdout",
     "output_type": "stream",
     "text": [
      "Malakas  is finished\n",
      "Processing  Malakas\n"
     ]
    },
    {
     "name": "stderr",
     "output_type": "stream",
     "text": [
      "Ignoring index file '/home/dl392/data/yiwei/typhoon/EAR5/temp.grib.5b7b6.idx' older than GRIB file\n"
     ]
    },
    {
     "name": "stdout",
     "output_type": "stream",
     "text": [
      "Malakas  is finished\n",
      "Processing  Malakas\n"
     ]
    },
    {
     "name": "stderr",
     "output_type": "stream",
     "text": [
      "Ignoring index file '/home/dl392/data/yiwei/typhoon/EAR5/temp.grib.5b7b6.idx' older than GRIB file\n"
     ]
    },
    {
     "name": "stdout",
     "output_type": "stream",
     "text": [
      "Malakas  is finished\n",
      "Processing  Malakas\n"
     ]
    },
    {
     "name": "stderr",
     "output_type": "stream",
     "text": [
      "Ignoring index file '/home/dl392/data/yiwei/typhoon/EAR5/temp.grib.5b7b6.idx' older than GRIB file\n"
     ]
    },
    {
     "name": "stdout",
     "output_type": "stream",
     "text": [
      "Malakas  is finished\n",
      "Processing  Malakas\n"
     ]
    },
    {
     "name": "stderr",
     "output_type": "stream",
     "text": [
      "Ignoring index file '/home/dl392/data/yiwei/typhoon/EAR5/temp.grib.5b7b6.idx' older than GRIB file\n"
     ]
    },
    {
     "name": "stdout",
     "output_type": "stream",
     "text": [
      "Malakas  is finished\n",
      "Processing  Malakas\n"
     ]
    },
    {
     "name": "stderr",
     "output_type": "stream",
     "text": [
      "Ignoring index file '/home/dl392/data/yiwei/typhoon/EAR5/temp.grib.5b7b6.idx' older than GRIB file\n"
     ]
    },
    {
     "name": "stdout",
     "output_type": "stream",
     "text": [
      "Malakas  is finished\n",
      "Processing  Malakas\n"
     ]
    },
    {
     "name": "stderr",
     "output_type": "stream",
     "text": [
      "Ignoring index file '/home/dl392/data/yiwei/typhoon/EAR5/temp.grib.5b7b6.idx' older than GRIB file\n"
     ]
    },
    {
     "name": "stdout",
     "output_type": "stream",
     "text": [
      "Malakas  is finished\n",
      "Processing  Malakas\n"
     ]
    },
    {
     "name": "stderr",
     "output_type": "stream",
     "text": [
      "Ignoring index file '/home/dl392/data/yiwei/typhoon/EAR5/temp.grib.5b7b6.idx' older than GRIB file\n"
     ]
    },
    {
     "name": "stdout",
     "output_type": "stream",
     "text": [
      "Malakas  is finished\n",
      "Processing  Malakas\n"
     ]
    },
    {
     "name": "stderr",
     "output_type": "stream",
     "text": [
      "Ignoring index file '/home/dl392/data/yiwei/typhoon/EAR5/temp.grib.5b7b6.idx' older than GRIB file\n"
     ]
    },
    {
     "name": "stdout",
     "output_type": "stream",
     "text": [
      "Malakas  is finished\n",
      "Processing  Malakas\n"
     ]
    },
    {
     "name": "stderr",
     "output_type": "stream",
     "text": [
      "Ignoring index file '/home/dl392/data/yiwei/typhoon/EAR5/temp.grib.5b7b6.idx' older than GRIB file\n"
     ]
    },
    {
     "name": "stdout",
     "output_type": "stream",
     "text": [
      "Malakas  is finished\n",
      "Processing  Malakas\n"
     ]
    },
    {
     "name": "stderr",
     "output_type": "stream",
     "text": [
      "Ignoring index file '/home/dl392/data/yiwei/typhoon/EAR5/temp.grib.5b7b6.idx' older than GRIB file\n"
     ]
    },
    {
     "name": "stdout",
     "output_type": "stream",
     "text": [
      "Malakas  is finished\n",
      "Processing  Malakas\n"
     ]
    },
    {
     "name": "stderr",
     "output_type": "stream",
     "text": [
      "Ignoring index file '/home/dl392/data/yiwei/typhoon/EAR5/temp.grib.5b7b6.idx' older than GRIB file\n"
     ]
    },
    {
     "name": "stdout",
     "output_type": "stream",
     "text": [
      "Malakas  is finished\n",
      "Processing  Malakas\n"
     ]
    },
    {
     "name": "stderr",
     "output_type": "stream",
     "text": [
      "Ignoring index file '/home/dl392/data/yiwei/typhoon/EAR5/temp.grib.5b7b6.idx' older than GRIB file\n"
     ]
    },
    {
     "name": "stdout",
     "output_type": "stream",
     "text": [
      "Malakas  is finished\n",
      "Processing  Malakas\n"
     ]
    },
    {
     "name": "stderr",
     "output_type": "stream",
     "text": [
      "Ignoring index file '/home/dl392/data/yiwei/typhoon/EAR5/temp.grib.5b7b6.idx' older than GRIB file\n"
     ]
    },
    {
     "name": "stdout",
     "output_type": "stream",
     "text": [
      "Malakas  is finished\n",
      "Processing  Malakas\n"
     ]
    },
    {
     "name": "stderr",
     "output_type": "stream",
     "text": [
      "Ignoring index file '/home/dl392/data/yiwei/typhoon/EAR5/temp.grib.5b7b6.idx' older than GRIB file\n"
     ]
    },
    {
     "name": "stdout",
     "output_type": "stream",
     "text": [
      "Malakas  is finished\n",
      "Processing  Malakas\n"
     ]
    },
    {
     "name": "stderr",
     "output_type": "stream",
     "text": [
      "Ignoring index file '/home/dl392/data/yiwei/typhoon/EAR5/temp.grib.5b7b6.idx' older than GRIB file\n"
     ]
    },
    {
     "name": "stdout",
     "output_type": "stream",
     "text": [
      "Malakas  is finished\n",
      "Processing  Malakas\n"
     ]
    },
    {
     "name": "stderr",
     "output_type": "stream",
     "text": [
      "Ignoring index file '/home/dl392/data/yiwei/typhoon/EAR5/temp.grib.5b7b6.idx' older than GRIB file\n"
     ]
    },
    {
     "name": "stdout",
     "output_type": "stream",
     "text": [
      "Malakas  is finished\n",
      "Processing  Malakas\n"
     ]
    },
    {
     "name": "stderr",
     "output_type": "stream",
     "text": [
      "Ignoring index file '/home/dl392/data/yiwei/typhoon/EAR5/temp.grib.5b7b6.idx' older than GRIB file\n"
     ]
    },
    {
     "name": "stdout",
     "output_type": "stream",
     "text": [
      "Malakas  is finished\n",
      "Processing  Malakas\n"
     ]
    },
    {
     "name": "stderr",
     "output_type": "stream",
     "text": [
      "Ignoring index file '/home/dl392/data/yiwei/typhoon/EAR5/temp.grib.5b7b6.idx' older than GRIB file\n"
     ]
    },
    {
     "name": "stdout",
     "output_type": "stream",
     "text": [
      "Malakas  is finished\n",
      "Processing  Malakas\n"
     ]
    },
    {
     "name": "stderr",
     "output_type": "stream",
     "text": [
      "Ignoring index file '/home/dl392/data/yiwei/typhoon/EAR5/temp.grib.5b7b6.idx' older than GRIB file\n"
     ]
    },
    {
     "name": "stdout",
     "output_type": "stream",
     "text": [
      "Malakas  is finished\n",
      "Processing  Malakas\n",
      "Malakas  is finished\n",
      "Processing  Kathy\n"
     ]
    },
    {
     "name": "stderr",
     "output_type": "stream",
     "text": [
      "2024-11-24 02:34:36,123 WARNING [2024-10-10T00:00:00] The final validated ERA5 differs from ERA5T from July 2024 until further notice - please refer to our\n",
      "[Forum announcement](https://forum.ecmwf.int/t/final-validated-era5-product-to-differ-from-era5t-in-july-2024/6685)\n",
      "for details and watch it for further updates on this.\n",
      "2024-11-24 02:34:36,125 INFO Request ID is 998dad5f-1edb-42a3-b24f-5b242c15c50c\n",
      "2024-11-24 02:34:36,332 INFO status has been updated to accepted\n",
      "2024-11-24 02:34:45,452 INFO status has been updated to successful\n",
      "Ignoring index file '/home/dl392/data/yiwei/typhoon/EAR5/temp.grib.5b7b6.idx' older than GRIB file\n",
      "Ignoring index file '/home/dl392/data/yiwei/typhoon/EAR5/temp.grib.5b7b6.idx' older than GRIB file\n"
     ]
    },
    {
     "name": "stdout",
     "output_type": "stream",
     "text": [
      "Kathy  is finished\n",
      "Processing  Kathy\n"
     ]
    },
    {
     "name": "stderr",
     "output_type": "stream",
     "text": [
      "Ignoring index file '/home/dl392/data/yiwei/typhoon/EAR5/temp.grib.5b7b6.idx' older than GRIB file\n"
     ]
    },
    {
     "name": "stdout",
     "output_type": "stream",
     "text": [
      "Kathy  is finished\n",
      "Processing  Kathy\n"
     ]
    },
    {
     "name": "stderr",
     "output_type": "stream",
     "text": [
      "Ignoring index file '/home/dl392/data/yiwei/typhoon/EAR5/temp.grib.5b7b6.idx' older than GRIB file\n"
     ]
    },
    {
     "name": "stdout",
     "output_type": "stream",
     "text": [
      "Kathy  is finished\n",
      "Processing  Kathy\n"
     ]
    },
    {
     "name": "stderr",
     "output_type": "stream",
     "text": [
      "Ignoring index file '/home/dl392/data/yiwei/typhoon/EAR5/temp.grib.5b7b6.idx' older than GRIB file\n"
     ]
    },
    {
     "name": "stdout",
     "output_type": "stream",
     "text": [
      "Kathy  is finished\n",
      "Processing  Kathy\n"
     ]
    },
    {
     "name": "stderr",
     "output_type": "stream",
     "text": [
      "Ignoring index file '/home/dl392/data/yiwei/typhoon/EAR5/temp.grib.5b7b6.idx' older than GRIB file\n"
     ]
    },
    {
     "name": "stdout",
     "output_type": "stream",
     "text": [
      "Kathy  is finished\n",
      "Processing  Kathy\n"
     ]
    },
    {
     "name": "stderr",
     "output_type": "stream",
     "text": [
      "Ignoring index file '/home/dl392/data/yiwei/typhoon/EAR5/temp.grib.5b7b6.idx' older than GRIB file\n"
     ]
    },
    {
     "name": "stdout",
     "output_type": "stream",
     "text": [
      "Kathy  is finished\n",
      "Processing  Kathy\n"
     ]
    },
    {
     "name": "stderr",
     "output_type": "stream",
     "text": [
      "Ignoring index file '/home/dl392/data/yiwei/typhoon/EAR5/temp.grib.5b7b6.idx' older than GRIB file\n"
     ]
    },
    {
     "name": "stdout",
     "output_type": "stream",
     "text": [
      "Kathy  is finished\n",
      "Processing  Kathy\n"
     ]
    },
    {
     "name": "stderr",
     "output_type": "stream",
     "text": [
      "Ignoring index file '/home/dl392/data/yiwei/typhoon/EAR5/temp.grib.5b7b6.idx' older than GRIB file\n"
     ]
    },
    {
     "name": "stdout",
     "output_type": "stream",
     "text": [
      "Kathy  is finished\n",
      "Processing  Kathy\n"
     ]
    },
    {
     "name": "stderr",
     "output_type": "stream",
     "text": [
      "Ignoring index file '/home/dl392/data/yiwei/typhoon/EAR5/temp.grib.5b7b6.idx' older than GRIB file\n"
     ]
    },
    {
     "name": "stdout",
     "output_type": "stream",
     "text": [
      "Kathy  is finished\n",
      "Processing  Kathy\n"
     ]
    },
    {
     "name": "stderr",
     "output_type": "stream",
     "text": [
      "Ignoring index file '/home/dl392/data/yiwei/typhoon/EAR5/temp.grib.5b7b6.idx' older than GRIB file\n"
     ]
    },
    {
     "name": "stdout",
     "output_type": "stream",
     "text": [
      "Kathy  is finished\n",
      "Processing  Kathy\n"
     ]
    },
    {
     "name": "stderr",
     "output_type": "stream",
     "text": [
      "Ignoring index file '/home/dl392/data/yiwei/typhoon/EAR5/temp.grib.5b7b6.idx' older than GRIB file\n"
     ]
    },
    {
     "name": "stdout",
     "output_type": "stream",
     "text": [
      "Kathy  is finished\n",
      "Processing  Kathy\n"
     ]
    },
    {
     "name": "stderr",
     "output_type": "stream",
     "text": [
      "Ignoring index file '/home/dl392/data/yiwei/typhoon/EAR5/temp.grib.5b7b6.idx' older than GRIB file\n"
     ]
    },
    {
     "name": "stdout",
     "output_type": "stream",
     "text": [
      "Kathy  is finished\n",
      "Processing  Kathy\n"
     ]
    },
    {
     "name": "stderr",
     "output_type": "stream",
     "text": [
      "Ignoring index file '/home/dl392/data/yiwei/typhoon/EAR5/temp.grib.5b7b6.idx' older than GRIB file\n"
     ]
    },
    {
     "name": "stdout",
     "output_type": "stream",
     "text": [
      "Kathy  is finished\n",
      "Processing  Kathy\n"
     ]
    },
    {
     "name": "stderr",
     "output_type": "stream",
     "text": [
      "Ignoring index file '/home/dl392/data/yiwei/typhoon/EAR5/temp.grib.5b7b6.idx' older than GRIB file\n"
     ]
    },
    {
     "name": "stdout",
     "output_type": "stream",
     "text": [
      "Kathy  is finished\n",
      "Processing  Kathy\n"
     ]
    },
    {
     "name": "stderr",
     "output_type": "stream",
     "text": [
      "Ignoring index file '/home/dl392/data/yiwei/typhoon/EAR5/temp.grib.5b7b6.idx' older than GRIB file\n"
     ]
    },
    {
     "name": "stdout",
     "output_type": "stream",
     "text": [
      "Kathy  is finished\n",
      "Processing  Kathy\n"
     ]
    },
    {
     "name": "stderr",
     "output_type": "stream",
     "text": [
      "Ignoring index file '/home/dl392/data/yiwei/typhoon/EAR5/temp.grib.5b7b6.idx' older than GRIB file\n"
     ]
    },
    {
     "name": "stdout",
     "output_type": "stream",
     "text": [
      "Kathy  is finished\n",
      "Processing  Kathy\n"
     ]
    },
    {
     "name": "stderr",
     "output_type": "stream",
     "text": [
      "Ignoring index file '/home/dl392/data/yiwei/typhoon/EAR5/temp.grib.5b7b6.idx' older than GRIB file\n"
     ]
    },
    {
     "name": "stdout",
     "output_type": "stream",
     "text": [
      "Kathy  is finished\n",
      "Processing  Kathy\n"
     ]
    },
    {
     "name": "stderr",
     "output_type": "stream",
     "text": [
      "Ignoring index file '/home/dl392/data/yiwei/typhoon/EAR5/temp.grib.5b7b6.idx' older than GRIB file\n"
     ]
    },
    {
     "name": "stdout",
     "output_type": "stream",
     "text": [
      "Kathy  is finished\n",
      "Processing  Kathy\n"
     ]
    },
    {
     "name": "stderr",
     "output_type": "stream",
     "text": [
      "Ignoring index file '/home/dl392/data/yiwei/typhoon/EAR5/temp.grib.5b7b6.idx' older than GRIB file\n"
     ]
    },
    {
     "name": "stdout",
     "output_type": "stream",
     "text": [
      "Kathy  is finished\n",
      "Processing  Kathy\n"
     ]
    },
    {
     "name": "stderr",
     "output_type": "stream",
     "text": [
      "Ignoring index file '/home/dl392/data/yiwei/typhoon/EAR5/temp.grib.5b7b6.idx' older than GRIB file\n"
     ]
    },
    {
     "name": "stdout",
     "output_type": "stream",
     "text": [
      "Kathy  is finished\n",
      "Processing  Kathy\n"
     ]
    },
    {
     "name": "stderr",
     "output_type": "stream",
     "text": [
      "Ignoring index file '/home/dl392/data/yiwei/typhoon/EAR5/temp.grib.5b7b6.idx' older than GRIB file\n"
     ]
    },
    {
     "name": "stdout",
     "output_type": "stream",
     "text": [
      "Kathy  is finished\n",
      "Processing  Kathy\n"
     ]
    },
    {
     "name": "stderr",
     "output_type": "stream",
     "text": [
      "Ignoring index file '/home/dl392/data/yiwei/typhoon/EAR5/temp.grib.5b7b6.idx' older than GRIB file\n"
     ]
    },
    {
     "name": "stdout",
     "output_type": "stream",
     "text": [
      "Kathy  is finished\n",
      "Processing  Kathy\n"
     ]
    },
    {
     "name": "stderr",
     "output_type": "stream",
     "text": [
      "Ignoring index file '/home/dl392/data/yiwei/typhoon/EAR5/temp.grib.5b7b6.idx' older than GRIB file\n"
     ]
    },
    {
     "name": "stdout",
     "output_type": "stream",
     "text": [
      "Kathy  is finished\n",
      "Processing  Kathy\n",
      "Kathy  is finished\n",
      "Processing  Nancy\n"
     ]
    },
    {
     "name": "stderr",
     "output_type": "stream",
     "text": [
      "2024-11-24 02:35:35,422 WARNING [2024-10-10T00:00:00] The final validated ERA5 differs from ERA5T from July 2024 until further notice - please refer to our\n",
      "[Forum announcement](https://forum.ecmwf.int/t/final-validated-era5-product-to-differ-from-era5t-in-july-2024/6685)\n",
      "for details and watch it for further updates on this.\n",
      "2024-11-24 02:35:35,423 INFO Request ID is df0c8d84-c18a-4150-8990-bae6880333a6\n",
      "2024-11-24 02:35:35,639 INFO status has been updated to accepted\n",
      "2024-11-24 02:35:44,664 INFO status has been updated to successful\n",
      "Ignoring index file '/home/dl392/data/yiwei/typhoon/EAR5/temp.grib.5b7b6.idx' older than GRIB file\n",
      "Ignoring index file '/home/dl392/data/yiwei/typhoon/EAR5/temp.grib.5b7b6.idx' older than GRIB file\n"
     ]
    },
    {
     "name": "stdout",
     "output_type": "stream",
     "text": [
      "Nancy  is finished\n",
      "Processing  Nancy\n"
     ]
    },
    {
     "name": "stderr",
     "output_type": "stream",
     "text": [
      "Ignoring index file '/home/dl392/data/yiwei/typhoon/EAR5/temp.grib.5b7b6.idx' older than GRIB file\n"
     ]
    },
    {
     "name": "stdout",
     "output_type": "stream",
     "text": [
      "Nancy  is finished\n",
      "Processing  Nancy\n"
     ]
    },
    {
     "name": "stderr",
     "output_type": "stream",
     "text": [
      "Ignoring index file '/home/dl392/data/yiwei/typhoon/EAR5/temp.grib.5b7b6.idx' older than GRIB file\n"
     ]
    },
    {
     "name": "stdout",
     "output_type": "stream",
     "text": [
      "Nancy  is finished\n",
      "Processing  Nancy\n"
     ]
    },
    {
     "name": "stderr",
     "output_type": "stream",
     "text": [
      "Ignoring index file '/home/dl392/data/yiwei/typhoon/EAR5/temp.grib.5b7b6.idx' older than GRIB file\n"
     ]
    },
    {
     "name": "stdout",
     "output_type": "stream",
     "text": [
      "Nancy  is finished\n",
      "Processing  Nancy\n"
     ]
    },
    {
     "name": "stderr",
     "output_type": "stream",
     "text": [
      "Ignoring index file '/home/dl392/data/yiwei/typhoon/EAR5/temp.grib.5b7b6.idx' older than GRIB file\n"
     ]
    },
    {
     "name": "stdout",
     "output_type": "stream",
     "text": [
      "Nancy  is finished\n",
      "Processing  Nancy\n"
     ]
    },
    {
     "name": "stderr",
     "output_type": "stream",
     "text": [
      "Ignoring index file '/home/dl392/data/yiwei/typhoon/EAR5/temp.grib.5b7b6.idx' older than GRIB file\n"
     ]
    },
    {
     "name": "stdout",
     "output_type": "stream",
     "text": [
      "Nancy  is finished\n",
      "Processing  Nancy\n"
     ]
    },
    {
     "name": "stderr",
     "output_type": "stream",
     "text": [
      "Ignoring index file '/home/dl392/data/yiwei/typhoon/EAR5/temp.grib.5b7b6.idx' older than GRIB file\n"
     ]
    },
    {
     "name": "stdout",
     "output_type": "stream",
     "text": [
      "Nancy  is finished\n",
      "Processing  Nancy\n"
     ]
    },
    {
     "name": "stderr",
     "output_type": "stream",
     "text": [
      "Ignoring index file '/home/dl392/data/yiwei/typhoon/EAR5/temp.grib.5b7b6.idx' older than GRIB file\n"
     ]
    },
    {
     "name": "stdout",
     "output_type": "stream",
     "text": [
      "Nancy  is finished\n",
      "Processing  Nancy\n"
     ]
    },
    {
     "name": "stderr",
     "output_type": "stream",
     "text": [
      "Ignoring index file '/home/dl392/data/yiwei/typhoon/EAR5/temp.grib.5b7b6.idx' older than GRIB file\n"
     ]
    },
    {
     "name": "stdout",
     "output_type": "stream",
     "text": [
      "Nancy  is finished\n",
      "Processing  Nancy\n"
     ]
    },
    {
     "name": "stderr",
     "output_type": "stream",
     "text": [
      "Ignoring index file '/home/dl392/data/yiwei/typhoon/EAR5/temp.grib.5b7b6.idx' older than GRIB file\n"
     ]
    },
    {
     "name": "stdout",
     "output_type": "stream",
     "text": [
      "Nancy  is finished\n",
      "Processing  Nancy\n"
     ]
    },
    {
     "name": "stderr",
     "output_type": "stream",
     "text": [
      "Ignoring index file '/home/dl392/data/yiwei/typhoon/EAR5/temp.grib.5b7b6.idx' older than GRIB file\n"
     ]
    },
    {
     "name": "stdout",
     "output_type": "stream",
     "text": [
      "Nancy  is finished\n",
      "Processing  Nancy\n"
     ]
    },
    {
     "name": "stderr",
     "output_type": "stream",
     "text": [
      "Ignoring index file '/home/dl392/data/yiwei/typhoon/EAR5/temp.grib.5b7b6.idx' older than GRIB file\n"
     ]
    },
    {
     "name": "stdout",
     "output_type": "stream",
     "text": [
      "Nancy  is finished\n",
      "Processing  Nancy\n"
     ]
    },
    {
     "name": "stderr",
     "output_type": "stream",
     "text": [
      "Ignoring index file '/home/dl392/data/yiwei/typhoon/EAR5/temp.grib.5b7b6.idx' older than GRIB file\n"
     ]
    },
    {
     "name": "stdout",
     "output_type": "stream",
     "text": [
      "Nancy  is finished\n",
      "Processing  Nancy\n"
     ]
    },
    {
     "name": "stderr",
     "output_type": "stream",
     "text": [
      "Ignoring index file '/home/dl392/data/yiwei/typhoon/EAR5/temp.grib.5b7b6.idx' older than GRIB file\n"
     ]
    },
    {
     "name": "stdout",
     "output_type": "stream",
     "text": [
      "Nancy  is finished\n",
      "Processing  Nancy\n"
     ]
    },
    {
     "name": "stderr",
     "output_type": "stream",
     "text": [
      "Ignoring index file '/home/dl392/data/yiwei/typhoon/EAR5/temp.grib.5b7b6.idx' older than GRIB file\n"
     ]
    },
    {
     "name": "stdout",
     "output_type": "stream",
     "text": [
      "Nancy  is finished\n",
      "Processing  Nancy\n"
     ]
    },
    {
     "name": "stderr",
     "output_type": "stream",
     "text": [
      "Ignoring index file '/home/dl392/data/yiwei/typhoon/EAR5/temp.grib.5b7b6.idx' older than GRIB file\n"
     ]
    },
    {
     "name": "stdout",
     "output_type": "stream",
     "text": [
      "Nancy  is finished\n",
      "Processing  Nancy\n"
     ]
    },
    {
     "name": "stderr",
     "output_type": "stream",
     "text": [
      "Ignoring index file '/home/dl392/data/yiwei/typhoon/EAR5/temp.grib.5b7b6.idx' older than GRIB file\n"
     ]
    },
    {
     "name": "stdout",
     "output_type": "stream",
     "text": [
      "Nancy  is finished\n",
      "Processing  Nancy\n"
     ]
    },
    {
     "name": "stderr",
     "output_type": "stream",
     "text": [
      "Ignoring index file '/home/dl392/data/yiwei/typhoon/EAR5/temp.grib.5b7b6.idx' older than GRIB file\n"
     ]
    },
    {
     "name": "stdout",
     "output_type": "stream",
     "text": [
      "Nancy  is finished\n",
      "Processing  Nancy\n"
     ]
    },
    {
     "name": "stderr",
     "output_type": "stream",
     "text": [
      "Ignoring index file '/home/dl392/data/yiwei/typhoon/EAR5/temp.grib.5b7b6.idx' older than GRIB file\n"
     ]
    },
    {
     "name": "stdout",
     "output_type": "stream",
     "text": [
      "Nancy  is finished\n",
      "Processing  Nancy\n"
     ]
    },
    {
     "name": "stderr",
     "output_type": "stream",
     "text": [
      "Ignoring index file '/home/dl392/data/yiwei/typhoon/EAR5/temp.grib.5b7b6.idx' older than GRIB file\n"
     ]
    },
    {
     "name": "stdout",
     "output_type": "stream",
     "text": [
      "Nancy  is finished\n",
      "Processing  Nancy\n"
     ]
    },
    {
     "name": "stderr",
     "output_type": "stream",
     "text": [
      "Ignoring index file '/home/dl392/data/yiwei/typhoon/EAR5/temp.grib.5b7b6.idx' older than GRIB file\n"
     ]
    },
    {
     "name": "stdout",
     "output_type": "stream",
     "text": [
      "Nancy  is finished\n",
      "Processing  Nancy\n"
     ]
    },
    {
     "name": "stderr",
     "output_type": "stream",
     "text": [
      "Ignoring index file '/home/dl392/data/yiwei/typhoon/EAR5/temp.grib.5b7b6.idx' older than GRIB file\n"
     ]
    },
    {
     "name": "stdout",
     "output_type": "stream",
     "text": [
      "Nancy  is finished\n",
      "Processing  Nancy\n"
     ]
    },
    {
     "name": "stderr",
     "output_type": "stream",
     "text": [
      "Ignoring index file '/home/dl392/data/yiwei/typhoon/EAR5/temp.grib.5b7b6.idx' older than GRIB file\n"
     ]
    },
    {
     "name": "stdout",
     "output_type": "stream",
     "text": [
      "Nancy  is finished\n",
      "Processing  Nancy\n"
     ]
    },
    {
     "name": "stderr",
     "output_type": "stream",
     "text": [
      "Ignoring index file '/home/dl392/data/yiwei/typhoon/EAR5/temp.grib.5b7b6.idx' older than GRIB file\n"
     ]
    },
    {
     "name": "stdout",
     "output_type": "stream",
     "text": [
      "Nancy  is finished\n",
      "Processing  Nancy\n"
     ]
    },
    {
     "name": "stderr",
     "output_type": "stream",
     "text": [
      "Ignoring index file '/home/dl392/data/yiwei/typhoon/EAR5/temp.grib.5b7b6.idx' older than GRIB file\n"
     ]
    },
    {
     "name": "stdout",
     "output_type": "stream",
     "text": [
      "Nancy  is finished\n",
      "Processing  Nancy\n"
     ]
    },
    {
     "name": "stderr",
     "output_type": "stream",
     "text": [
      "Ignoring index file '/home/dl392/data/yiwei/typhoon/EAR5/temp.grib.5b7b6.idx' older than GRIB file\n"
     ]
    },
    {
     "name": "stdout",
     "output_type": "stream",
     "text": [
      "Nancy  is finished\n",
      "Processing  Nancy\n"
     ]
    },
    {
     "name": "stderr",
     "output_type": "stream",
     "text": [
      "Ignoring index file '/home/dl392/data/yiwei/typhoon/EAR5/temp.grib.5b7b6.idx' older than GRIB file\n"
     ]
    },
    {
     "name": "stdout",
     "output_type": "stream",
     "text": [
      "Nancy  is finished\n",
      "Processing  Nancy\n"
     ]
    },
    {
     "name": "stderr",
     "output_type": "stream",
     "text": [
      "Ignoring index file '/home/dl392/data/yiwei/typhoon/EAR5/temp.grib.5b7b6.idx' older than GRIB file\n"
     ]
    },
    {
     "name": "stdout",
     "output_type": "stream",
     "text": [
      "Nancy  is finished\n",
      "Processing  Nancy\n"
     ]
    },
    {
     "name": "stderr",
     "output_type": "stream",
     "text": [
      "Ignoring index file '/home/dl392/data/yiwei/typhoon/EAR5/temp.grib.5b7b6.idx' older than GRIB file\n"
     ]
    },
    {
     "name": "stdout",
     "output_type": "stream",
     "text": [
      "Nancy  is finished\n",
      "Processing  Nancy\n"
     ]
    },
    {
     "name": "stderr",
     "output_type": "stream",
     "text": [
      "Ignoring index file '/home/dl392/data/yiwei/typhoon/EAR5/temp.grib.5b7b6.idx' older than GRIB file\n"
     ]
    },
    {
     "name": "stdout",
     "output_type": "stream",
     "text": [
      "Nancy  is finished\n",
      "Processing  Nancy\n"
     ]
    },
    {
     "name": "stderr",
     "output_type": "stream",
     "text": [
      "Ignoring index file '/home/dl392/data/yiwei/typhoon/EAR5/temp.grib.5b7b6.idx' older than GRIB file\n"
     ]
    },
    {
     "name": "stdout",
     "output_type": "stream",
     "text": [
      "Nancy  is finished\n",
      "Processing  Nancy\n"
     ]
    },
    {
     "name": "stderr",
     "output_type": "stream",
     "text": [
      "Ignoring index file '/home/dl392/data/yiwei/typhoon/EAR5/temp.grib.5b7b6.idx' older than GRIB file\n"
     ]
    },
    {
     "name": "stdout",
     "output_type": "stream",
     "text": [
      "Nancy  is finished\n",
      "Processing  Nancy\n"
     ]
    },
    {
     "name": "stderr",
     "output_type": "stream",
     "text": [
      "Ignoring index file '/home/dl392/data/yiwei/typhoon/EAR5/temp.grib.5b7b6.idx' older than GRIB file\n"
     ]
    },
    {
     "name": "stdout",
     "output_type": "stream",
     "text": [
      "Nancy  is finished\n",
      "Processing  Nancy\n"
     ]
    },
    {
     "name": "stderr",
     "output_type": "stream",
     "text": [
      "Ignoring index file '/home/dl392/data/yiwei/typhoon/EAR5/temp.grib.5b7b6.idx' older than GRIB file\n"
     ]
    },
    {
     "name": "stdout",
     "output_type": "stream",
     "text": [
      "Nancy  is finished\n",
      "Processing  Nancy\n"
     ]
    },
    {
     "name": "stderr",
     "output_type": "stream",
     "text": [
      "Ignoring index file '/home/dl392/data/yiwei/typhoon/EAR5/temp.grib.5b7b6.idx' older than GRIB file\n"
     ]
    },
    {
     "name": "stdout",
     "output_type": "stream",
     "text": [
      "Nancy  is finished\n",
      "Processing  Nancy\n"
     ]
    },
    {
     "name": "stderr",
     "output_type": "stream",
     "text": [
      "Ignoring index file '/home/dl392/data/yiwei/typhoon/EAR5/temp.grib.5b7b6.idx' older than GRIB file\n"
     ]
    },
    {
     "name": "stdout",
     "output_type": "stream",
     "text": [
      "Nancy  is finished\n",
      "Processing  Nancy\n",
      "Nancy  is finished\n",
      "Processing  HANNAH\n"
     ]
    },
    {
     "name": "stderr",
     "output_type": "stream",
     "text": [
      "2024-11-24 02:37:01,504 WARNING [2024-10-10T00:00:00] The final validated ERA5 differs from ERA5T from July 2024 until further notice - please refer to our\n",
      "[Forum announcement](https://forum.ecmwf.int/t/final-validated-era5-product-to-differ-from-era5t-in-july-2024/6685)\n",
      "for details and watch it for further updates on this.\n",
      "2024-11-24 02:37:01,506 INFO Request ID is 99348cbd-1683-463d-aba7-8bb316dc00b1\n",
      "2024-11-24 02:37:01,731 INFO status has been updated to accepted\n",
      "2024-11-24 02:37:07,536 INFO status has been updated to running\n",
      "2024-11-24 02:37:14,717 INFO status has been updated to successful\n",
      "Ignoring index file '/home/dl392/data/yiwei/typhoon/EAR5/temp.grib.5b7b6.idx' older than GRIB file\n",
      "Ignoring index file '/home/dl392/data/yiwei/typhoon/EAR5/temp.grib.5b7b6.idx' older than GRIB file\n"
     ]
    },
    {
     "name": "stdout",
     "output_type": "stream",
     "text": [
      "HANNAH  is finished\n",
      "Processing  HANNAH\n"
     ]
    },
    {
     "name": "stderr",
     "output_type": "stream",
     "text": [
      "Ignoring index file '/home/dl392/data/yiwei/typhoon/EAR5/temp.grib.5b7b6.idx' older than GRIB file\n"
     ]
    },
    {
     "name": "stdout",
     "output_type": "stream",
     "text": [
      "HANNAH  is finished\n",
      "Processing  HANNAH\n"
     ]
    },
    {
     "name": "stderr",
     "output_type": "stream",
     "text": [
      "Ignoring index file '/home/dl392/data/yiwei/typhoon/EAR5/temp.grib.5b7b6.idx' older than GRIB file\n"
     ]
    },
    {
     "name": "stdout",
     "output_type": "stream",
     "text": [
      "HANNAH  is finished\n",
      "Processing  HANNAH\n"
     ]
    },
    {
     "name": "stderr",
     "output_type": "stream",
     "text": [
      "Ignoring index file '/home/dl392/data/yiwei/typhoon/EAR5/temp.grib.5b7b6.idx' older than GRIB file\n"
     ]
    },
    {
     "name": "stdout",
     "output_type": "stream",
     "text": [
      "HANNAH  is finished\n",
      "Processing  HANNAH\n"
     ]
    },
    {
     "name": "stderr",
     "output_type": "stream",
     "text": [
      "Ignoring index file '/home/dl392/data/yiwei/typhoon/EAR5/temp.grib.5b7b6.idx' older than GRIB file\n"
     ]
    },
    {
     "name": "stdout",
     "output_type": "stream",
     "text": [
      "HANNAH  is finished\n",
      "Processing  HANNAH\n"
     ]
    },
    {
     "name": "stderr",
     "output_type": "stream",
     "text": [
      "Ignoring index file '/home/dl392/data/yiwei/typhoon/EAR5/temp.grib.5b7b6.idx' older than GRIB file\n"
     ]
    },
    {
     "name": "stdout",
     "output_type": "stream",
     "text": [
      "HANNAH  is finished\n",
      "Processing  HANNAH\n"
     ]
    },
    {
     "name": "stderr",
     "output_type": "stream",
     "text": [
      "Ignoring index file '/home/dl392/data/yiwei/typhoon/EAR5/temp.grib.5b7b6.idx' older than GRIB file\n"
     ]
    },
    {
     "name": "stdout",
     "output_type": "stream",
     "text": [
      "HANNAH  is finished\n",
      "Processing  HANNAH\n"
     ]
    },
    {
     "name": "stderr",
     "output_type": "stream",
     "text": [
      "Ignoring index file '/home/dl392/data/yiwei/typhoon/EAR5/temp.grib.5b7b6.idx' older than GRIB file\n"
     ]
    },
    {
     "name": "stdout",
     "output_type": "stream",
     "text": [
      "HANNAH  is finished\n",
      "Processing  HANNAH\n",
      "HANNAH  is finished\n",
      "Processing  PABUK\n"
     ]
    },
    {
     "name": "stderr",
     "output_type": "stream",
     "text": [
      "2024-11-24 02:37:37,680 WARNING [2024-10-10T00:00:00] The final validated ERA5 differs from ERA5T from July 2024 until further notice - please refer to our\n",
      "[Forum announcement](https://forum.ecmwf.int/t/final-validated-era5-product-to-differ-from-era5t-in-july-2024/6685)\n",
      "for details and watch it for further updates on this.\n",
      "2024-11-24 02:37:37,681 INFO Request ID is 9463be9a-20b4-400f-8102-7a40d0b2bdae\n",
      "2024-11-24 02:37:38,373 INFO status has been updated to accepted\n",
      "2024-11-24 02:37:44,532 INFO status has been updated to successful\n",
      "Ignoring index file '/home/dl392/data/yiwei/typhoon/EAR5/temp.grib.5b7b6.idx' older than GRIB file\n",
      "Ignoring index file '/home/dl392/data/yiwei/typhoon/EAR5/temp.grib.5b7b6.idx' older than GRIB file\n"
     ]
    },
    {
     "name": "stdout",
     "output_type": "stream",
     "text": [
      "PABUK  is finished\n",
      "Processing  PABUK\n"
     ]
    },
    {
     "name": "stderr",
     "output_type": "stream",
     "text": [
      "Ignoring index file '/home/dl392/data/yiwei/typhoon/EAR5/temp.grib.5b7b6.idx' older than GRIB file\n"
     ]
    },
    {
     "name": "stdout",
     "output_type": "stream",
     "text": [
      "PABUK  is finished\n",
      "Processing  PABUK\n"
     ]
    },
    {
     "name": "stderr",
     "output_type": "stream",
     "text": [
      "Ignoring index file '/home/dl392/data/yiwei/typhoon/EAR5/temp.grib.5b7b6.idx' older than GRIB file\n"
     ]
    },
    {
     "name": "stdout",
     "output_type": "stream",
     "text": [
      "PABUK  is finished\n",
      "Processing  PABUK\n"
     ]
    },
    {
     "name": "stderr",
     "output_type": "stream",
     "text": [
      "Ignoring index file '/home/dl392/data/yiwei/typhoon/EAR5/temp.grib.5b7b6.idx' older than GRIB file\n"
     ]
    },
    {
     "name": "stdout",
     "output_type": "stream",
     "text": [
      "PABUK  is finished\n",
      "Processing  PABUK\n"
     ]
    },
    {
     "name": "stderr",
     "output_type": "stream",
     "text": [
      "Ignoring index file '/home/dl392/data/yiwei/typhoon/EAR5/temp.grib.5b7b6.idx' older than GRIB file\n"
     ]
    },
    {
     "name": "stdout",
     "output_type": "stream",
     "text": [
      "PABUK  is finished\n",
      "Processing  PABUK\n"
     ]
    },
    {
     "name": "stderr",
     "output_type": "stream",
     "text": [
      "Ignoring index file '/home/dl392/data/yiwei/typhoon/EAR5/temp.grib.5b7b6.idx' older than GRIB file\n"
     ]
    },
    {
     "name": "stdout",
     "output_type": "stream",
     "text": [
      "PABUK  is finished\n",
      "Processing  PABUK\n"
     ]
    },
    {
     "name": "stderr",
     "output_type": "stream",
     "text": [
      "Ignoring index file '/home/dl392/data/yiwei/typhoon/EAR5/temp.grib.5b7b6.idx' older than GRIB file\n"
     ]
    },
    {
     "name": "stdout",
     "output_type": "stream",
     "text": [
      "PABUK  is finished\n",
      "Processing  PABUK\n"
     ]
    },
    {
     "name": "stderr",
     "output_type": "stream",
     "text": [
      "Ignoring index file '/home/dl392/data/yiwei/typhoon/EAR5/temp.grib.5b7b6.idx' older than GRIB file\n"
     ]
    },
    {
     "name": "stdout",
     "output_type": "stream",
     "text": [
      "PABUK  is finished\n",
      "Processing  PABUK\n"
     ]
    },
    {
     "name": "stderr",
     "output_type": "stream",
     "text": [
      "Ignoring index file '/home/dl392/data/yiwei/typhoon/EAR5/temp.grib.5b7b6.idx' older than GRIB file\n"
     ]
    },
    {
     "name": "stdout",
     "output_type": "stream",
     "text": [
      "PABUK  is finished\n",
      "Processing  PABUK\n"
     ]
    },
    {
     "name": "stderr",
     "output_type": "stream",
     "text": [
      "Ignoring index file '/home/dl392/data/yiwei/typhoon/EAR5/temp.grib.5b7b6.idx' older than GRIB file\n"
     ]
    },
    {
     "name": "stdout",
     "output_type": "stream",
     "text": [
      "PABUK  is finished\n",
      "Processing  PABUK\n"
     ]
    },
    {
     "name": "stderr",
     "output_type": "stream",
     "text": [
      "Ignoring index file '/home/dl392/data/yiwei/typhoon/EAR5/temp.grib.5b7b6.idx' older than GRIB file\n"
     ]
    },
    {
     "name": "stdout",
     "output_type": "stream",
     "text": [
      "PABUK  is finished\n",
      "Processing  PABUK\n"
     ]
    },
    {
     "name": "stderr",
     "output_type": "stream",
     "text": [
      "Ignoring index file '/home/dl392/data/yiwei/typhoon/EAR5/temp.grib.5b7b6.idx' older than GRIB file\n"
     ]
    },
    {
     "name": "stdout",
     "output_type": "stream",
     "text": [
      "PABUK  is finished\n",
      "Processing  PABUK\n"
     ]
    },
    {
     "name": "stderr",
     "output_type": "stream",
     "text": [
      "Ignoring index file '/home/dl392/data/yiwei/typhoon/EAR5/temp.grib.5b7b6.idx' older than GRIB file\n"
     ]
    },
    {
     "name": "stdout",
     "output_type": "stream",
     "text": [
      "PABUK  is finished\n",
      "Processing  PABUK\n"
     ]
    },
    {
     "name": "stderr",
     "output_type": "stream",
     "text": [
      "Ignoring index file '/home/dl392/data/yiwei/typhoon/EAR5/temp.grib.5b7b6.idx' older than GRIB file\n"
     ]
    },
    {
     "name": "stdout",
     "output_type": "stream",
     "text": [
      "PABUK  is finished\n",
      "Processing  PABUK\n"
     ]
    },
    {
     "name": "stderr",
     "output_type": "stream",
     "text": [
      "Ignoring index file '/home/dl392/data/yiwei/typhoon/EAR5/temp.grib.5b7b6.idx' older than GRIB file\n"
     ]
    },
    {
     "name": "stdout",
     "output_type": "stream",
     "text": [
      "PABUK  is finished\n",
      "Processing  PABUK\n"
     ]
    },
    {
     "name": "stderr",
     "output_type": "stream",
     "text": [
      "Ignoring index file '/home/dl392/data/yiwei/typhoon/EAR5/temp.grib.5b7b6.idx' older than GRIB file\n"
     ]
    },
    {
     "name": "stdout",
     "output_type": "stream",
     "text": [
      "PABUK  is finished\n",
      "Processing  PABUK\n",
      "PABUK  is finished\n",
      "Processing  Cimaron\n"
     ]
    },
    {
     "name": "stderr",
     "output_type": "stream",
     "text": [
      "2024-11-24 02:38:21,606 WARNING [2024-10-10T00:00:00] The final validated ERA5 differs from ERA5T from July 2024 until further notice - please refer to our\n",
      "[Forum announcement](https://forum.ecmwf.int/t/final-validated-era5-product-to-differ-from-era5t-in-july-2024/6685)\n",
      "for details and watch it for further updates on this.\n",
      "2024-11-24 02:38:21,607 INFO Request ID is a282c6b0-dd93-49d4-90ec-ded0f5185f4d\n",
      "2024-11-24 02:38:21,823 INFO status has been updated to accepted\n",
      "2024-11-24 02:38:25,345 INFO status has been updated to running\n",
      "2024-11-24 02:38:27,804 INFO status has been updated to successful\n",
      "Ignoring index file '/home/dl392/data/yiwei/typhoon/EAR5/temp.grib.5b7b6.idx' older than GRIB file\n",
      "Ignoring index file '/home/dl392/data/yiwei/typhoon/EAR5/temp.grib.5b7b6.idx' older than GRIB file\n"
     ]
    },
    {
     "name": "stdout",
     "output_type": "stream",
     "text": [
      "Cimaron  is finished\n",
      "Processing  Cimaron\n"
     ]
    },
    {
     "name": "stderr",
     "output_type": "stream",
     "text": [
      "Ignoring index file '/home/dl392/data/yiwei/typhoon/EAR5/temp.grib.5b7b6.idx' older than GRIB file\n"
     ]
    },
    {
     "name": "stdout",
     "output_type": "stream",
     "text": [
      "Cimaron  is finished\n",
      "Processing  Cimaron\n"
     ]
    },
    {
     "name": "stderr",
     "output_type": "stream",
     "text": [
      "Ignoring index file '/home/dl392/data/yiwei/typhoon/EAR5/temp.grib.5b7b6.idx' older than GRIB file\n"
     ]
    },
    {
     "name": "stdout",
     "output_type": "stream",
     "text": [
      "Cimaron  is finished\n",
      "Processing  Cimaron\n"
     ]
    },
    {
     "name": "stderr",
     "output_type": "stream",
     "text": [
      "Ignoring index file '/home/dl392/data/yiwei/typhoon/EAR5/temp.grib.5b7b6.idx' older than GRIB file\n"
     ]
    },
    {
     "name": "stdout",
     "output_type": "stream",
     "text": [
      "Cimaron  is finished\n",
      "Processing  Cimaron\n"
     ]
    },
    {
     "name": "stderr",
     "output_type": "stream",
     "text": [
      "Ignoring index file '/home/dl392/data/yiwei/typhoon/EAR5/temp.grib.5b7b6.idx' older than GRIB file\n"
     ]
    },
    {
     "name": "stdout",
     "output_type": "stream",
     "text": [
      "Cimaron  is finished\n",
      "Processing  Cimaron\n"
     ]
    },
    {
     "name": "stderr",
     "output_type": "stream",
     "text": [
      "Ignoring index file '/home/dl392/data/yiwei/typhoon/EAR5/temp.grib.5b7b6.idx' older than GRIB file\n"
     ]
    },
    {
     "name": "stdout",
     "output_type": "stream",
     "text": [
      "Cimaron  is finished\n",
      "Processing  Cimaron\n"
     ]
    },
    {
     "name": "stderr",
     "output_type": "stream",
     "text": [
      "Ignoring index file '/home/dl392/data/yiwei/typhoon/EAR5/temp.grib.5b7b6.idx' older than GRIB file\n"
     ]
    },
    {
     "name": "stdout",
     "output_type": "stream",
     "text": [
      "Cimaron  is finished\n",
      "Processing  Cimaron\n"
     ]
    },
    {
     "name": "stderr",
     "output_type": "stream",
     "text": [
      "Ignoring index file '/home/dl392/data/yiwei/typhoon/EAR5/temp.grib.5b7b6.idx' older than GRIB file\n"
     ]
    },
    {
     "name": "stdout",
     "output_type": "stream",
     "text": [
      "Cimaron  is finished\n",
      "Processing  Cimaron\n"
     ]
    },
    {
     "name": "stderr",
     "output_type": "stream",
     "text": [
      "Ignoring index file '/home/dl392/data/yiwei/typhoon/EAR5/temp.grib.5b7b6.idx' older than GRIB file\n"
     ]
    },
    {
     "name": "stdout",
     "output_type": "stream",
     "text": [
      "Cimaron  is finished\n",
      "Processing  Cimaron\n"
     ]
    },
    {
     "name": "stderr",
     "output_type": "stream",
     "text": [
      "Ignoring index file '/home/dl392/data/yiwei/typhoon/EAR5/temp.grib.5b7b6.idx' older than GRIB file\n"
     ]
    },
    {
     "name": "stdout",
     "output_type": "stream",
     "text": [
      "Cimaron  is finished\n",
      "Processing  Cimaron\n"
     ]
    },
    {
     "name": "stderr",
     "output_type": "stream",
     "text": [
      "Ignoring index file '/home/dl392/data/yiwei/typhoon/EAR5/temp.grib.5b7b6.idx' older than GRIB file\n"
     ]
    },
    {
     "name": "stdout",
     "output_type": "stream",
     "text": [
      "Cimaron  is finished\n",
      "Processing  Cimaron\n"
     ]
    },
    {
     "name": "stderr",
     "output_type": "stream",
     "text": [
      "Ignoring index file '/home/dl392/data/yiwei/typhoon/EAR5/temp.grib.5b7b6.idx' older than GRIB file\n"
     ]
    },
    {
     "name": "stdout",
     "output_type": "stream",
     "text": [
      "Cimaron  is finished\n",
      "Processing  Cimaron\n"
     ]
    },
    {
     "name": "stderr",
     "output_type": "stream",
     "text": [
      "Ignoring index file '/home/dl392/data/yiwei/typhoon/EAR5/temp.grib.5b7b6.idx' older than GRIB file\n"
     ]
    },
    {
     "name": "stdout",
     "output_type": "stream",
     "text": [
      "Cimaron  is finished\n",
      "Processing  Cimaron\n"
     ]
    },
    {
     "name": "stderr",
     "output_type": "stream",
     "text": [
      "Ignoring index file '/home/dl392/data/yiwei/typhoon/EAR5/temp.grib.5b7b6.idx' older than GRIB file\n"
     ]
    },
    {
     "name": "stdout",
     "output_type": "stream",
     "text": [
      "Cimaron  is finished\n",
      "Processing  Cimaron\n"
     ]
    },
    {
     "name": "stderr",
     "output_type": "stream",
     "text": [
      "Ignoring index file '/home/dl392/data/yiwei/typhoon/EAR5/temp.grib.5b7b6.idx' older than GRIB file\n"
     ]
    },
    {
     "name": "stdout",
     "output_type": "stream",
     "text": [
      "Cimaron  is finished\n",
      "Processing  Cimaron\n"
     ]
    },
    {
     "name": "stderr",
     "output_type": "stream",
     "text": [
      "Ignoring index file '/home/dl392/data/yiwei/typhoon/EAR5/temp.grib.5b7b6.idx' older than GRIB file\n"
     ]
    },
    {
     "name": "stdout",
     "output_type": "stream",
     "text": [
      "Cimaron  is finished\n",
      "Processing  Cimaron\n"
     ]
    },
    {
     "name": "stderr",
     "output_type": "stream",
     "text": [
      "Ignoring index file '/home/dl392/data/yiwei/typhoon/EAR5/temp.grib.5b7b6.idx' older than GRIB file\n"
     ]
    },
    {
     "name": "stdout",
     "output_type": "stream",
     "text": [
      "Cimaron  is finished\n",
      "Processing  Cimaron\n"
     ]
    },
    {
     "name": "stderr",
     "output_type": "stream",
     "text": [
      "Ignoring index file '/home/dl392/data/yiwei/typhoon/EAR5/temp.grib.5b7b6.idx' older than GRIB file\n"
     ]
    },
    {
     "name": "stdout",
     "output_type": "stream",
     "text": [
      "Cimaron  is finished\n",
      "Processing  Cimaron\n"
     ]
    },
    {
     "name": "stderr",
     "output_type": "stream",
     "text": [
      "Ignoring index file '/home/dl392/data/yiwei/typhoon/EAR5/temp.grib.5b7b6.idx' older than GRIB file\n"
     ]
    },
    {
     "name": "stdout",
     "output_type": "stream",
     "text": [
      "Cimaron  is finished\n",
      "Processing  Cimaron\n"
     ]
    },
    {
     "name": "stderr",
     "output_type": "stream",
     "text": [
      "Ignoring index file '/home/dl392/data/yiwei/typhoon/EAR5/temp.grib.5b7b6.idx' older than GRIB file\n"
     ]
    },
    {
     "name": "stdout",
     "output_type": "stream",
     "text": [
      "Cimaron  is finished\n",
      "Processing  Cimaron\n"
     ]
    },
    {
     "name": "stderr",
     "output_type": "stream",
     "text": [
      "Ignoring index file '/home/dl392/data/yiwei/typhoon/EAR5/temp.grib.5b7b6.idx' older than GRIB file\n"
     ]
    },
    {
     "name": "stdout",
     "output_type": "stream",
     "text": [
      "Cimaron  is finished\n",
      "Processing  Cimaron\n"
     ]
    },
    {
     "name": "stderr",
     "output_type": "stream",
     "text": [
      "Ignoring index file '/home/dl392/data/yiwei/typhoon/EAR5/temp.grib.5b7b6.idx' older than GRIB file\n"
     ]
    },
    {
     "name": "stdout",
     "output_type": "stream",
     "text": [
      "Cimaron  is finished\n",
      "Processing  Cimaron\n"
     ]
    },
    {
     "name": "stderr",
     "output_type": "stream",
     "text": [
      "Ignoring index file '/home/dl392/data/yiwei/typhoon/EAR5/temp.grib.5b7b6.idx' older than GRIB file\n"
     ]
    },
    {
     "name": "stdout",
     "output_type": "stream",
     "text": [
      "Cimaron  is finished\n",
      "Processing  Cimaron\n"
     ]
    },
    {
     "name": "stderr",
     "output_type": "stream",
     "text": [
      "Ignoring index file '/home/dl392/data/yiwei/typhoon/EAR5/temp.grib.5b7b6.idx' older than GRIB file\n"
     ]
    },
    {
     "name": "stdout",
     "output_type": "stream",
     "text": [
      "Cimaron  is finished\n",
      "Processing  Cimaron\n",
      "Cimaron  is finished\n",
      "Processing  Sharon\n"
     ]
    },
    {
     "name": "stderr",
     "output_type": "stream",
     "text": [
      "2024-11-24 02:39:19,809 WARNING [2024-10-10T00:00:00] The final validated ERA5 differs from ERA5T from July 2024 until further notice - please refer to our\n",
      "[Forum announcement](https://forum.ecmwf.int/t/final-validated-era5-product-to-differ-from-era5t-in-july-2024/6685)\n",
      "for details and watch it for further updates on this.\n",
      "2024-11-24 02:39:19,811 INFO Request ID is e988b456-42f8-4058-8868-a7db387159ab\n",
      "2024-11-24 02:39:20,049 INFO status has been updated to accepted\n",
      "2024-11-24 02:39:26,458 INFO status has been updated to running\n",
      "2024-11-24 02:39:35,573 INFO status has been updated to successful\n",
      "Ignoring index file '/home/dl392/data/yiwei/typhoon/EAR5/temp.grib.5b7b6.idx' older than GRIB file\n",
      "Ignoring index file '/home/dl392/data/yiwei/typhoon/EAR5/temp.grib.5b7b6.idx' older than GRIB file\n"
     ]
    },
    {
     "name": "stdout",
     "output_type": "stream",
     "text": [
      "Sharon  is finished\n",
      "Processing  Sharon\n"
     ]
    },
    {
     "name": "stderr",
     "output_type": "stream",
     "text": [
      "Ignoring index file '/home/dl392/data/yiwei/typhoon/EAR5/temp.grib.5b7b6.idx' older than GRIB file\n"
     ]
    },
    {
     "name": "stdout",
     "output_type": "stream",
     "text": [
      "Sharon  is finished\n",
      "Processing  Sharon\n"
     ]
    },
    {
     "name": "stderr",
     "output_type": "stream",
     "text": [
      "Ignoring index file '/home/dl392/data/yiwei/typhoon/EAR5/temp.grib.5b7b6.idx' older than GRIB file\n"
     ]
    },
    {
     "name": "stdout",
     "output_type": "stream",
     "text": [
      "Sharon  is finished\n",
      "Processing  Sharon\n"
     ]
    },
    {
     "name": "stderr",
     "output_type": "stream",
     "text": [
      "Ignoring index file '/home/dl392/data/yiwei/typhoon/EAR5/temp.grib.5b7b6.idx' older than GRIB file\n"
     ]
    },
    {
     "name": "stdout",
     "output_type": "stream",
     "text": [
      "Sharon  is finished\n",
      "Processing  Sharon\n"
     ]
    },
    {
     "name": "stderr",
     "output_type": "stream",
     "text": [
      "Ignoring index file '/home/dl392/data/yiwei/typhoon/EAR5/temp.grib.5b7b6.idx' older than GRIB file\n"
     ]
    },
    {
     "name": "stdout",
     "output_type": "stream",
     "text": [
      "Sharon  is finished\n",
      "Processing  Sharon\n"
     ]
    },
    {
     "name": "stderr",
     "output_type": "stream",
     "text": [
      "Ignoring index file '/home/dl392/data/yiwei/typhoon/EAR5/temp.grib.5b7b6.idx' older than GRIB file\n"
     ]
    },
    {
     "name": "stdout",
     "output_type": "stream",
     "text": [
      "Sharon  is finished\n",
      "Processing  Sharon\n"
     ]
    },
    {
     "name": "stderr",
     "output_type": "stream",
     "text": [
      "Ignoring index file '/home/dl392/data/yiwei/typhoon/EAR5/temp.grib.5b7b6.idx' older than GRIB file\n"
     ]
    },
    {
     "name": "stdout",
     "output_type": "stream",
     "text": [
      "Sharon  is finished\n",
      "Processing  Sharon\n"
     ]
    },
    {
     "name": "stderr",
     "output_type": "stream",
     "text": [
      "Ignoring index file '/home/dl392/data/yiwei/typhoon/EAR5/temp.grib.5b7b6.idx' older than GRIB file\n"
     ]
    },
    {
     "name": "stdout",
     "output_type": "stream",
     "text": [
      "Sharon  is finished\n",
      "Processing  Sharon\n"
     ]
    },
    {
     "name": "stderr",
     "output_type": "stream",
     "text": [
      "Ignoring index file '/home/dl392/data/yiwei/typhoon/EAR5/temp.grib.5b7b6.idx' older than GRIB file\n"
     ]
    },
    {
     "name": "stdout",
     "output_type": "stream",
     "text": [
      "Sharon  is finished\n",
      "Processing  Sharon\n"
     ]
    },
    {
     "name": "stderr",
     "output_type": "stream",
     "text": [
      "Ignoring index file '/home/dl392/data/yiwei/typhoon/EAR5/temp.grib.5b7b6.idx' older than GRIB file\n"
     ]
    },
    {
     "name": "stdout",
     "output_type": "stream",
     "text": [
      "Sharon  is finished\n",
      "Processing  Sharon\n"
     ]
    },
    {
     "name": "stderr",
     "output_type": "stream",
     "text": [
      "Ignoring index file '/home/dl392/data/yiwei/typhoon/EAR5/temp.grib.5b7b6.idx' older than GRIB file\n"
     ]
    },
    {
     "name": "stdout",
     "output_type": "stream",
     "text": [
      "Sharon  is finished\n",
      "Processing  Sharon\n"
     ]
    },
    {
     "name": "stderr",
     "output_type": "stream",
     "text": [
      "Ignoring index file '/home/dl392/data/yiwei/typhoon/EAR5/temp.grib.5b7b6.idx' older than GRIB file\n"
     ]
    },
    {
     "name": "stdout",
     "output_type": "stream",
     "text": [
      "Sharon  is finished\n",
      "Processing  Sharon\n"
     ]
    },
    {
     "name": "stderr",
     "output_type": "stream",
     "text": [
      "Ignoring index file '/home/dl392/data/yiwei/typhoon/EAR5/temp.grib.5b7b6.idx' older than GRIB file\n"
     ]
    },
    {
     "name": "stdout",
     "output_type": "stream",
     "text": [
      "Sharon  is finished\n",
      "Processing  Sharon\n"
     ]
    },
    {
     "name": "stderr",
     "output_type": "stream",
     "text": [
      "Ignoring index file '/home/dl392/data/yiwei/typhoon/EAR5/temp.grib.5b7b6.idx' older than GRIB file\n"
     ]
    },
    {
     "name": "stdout",
     "output_type": "stream",
     "text": [
      "Sharon  is finished\n",
      "Processing  Sharon\n"
     ]
    },
    {
     "name": "stderr",
     "output_type": "stream",
     "text": [
      "Ignoring index file '/home/dl392/data/yiwei/typhoon/EAR5/temp.grib.5b7b6.idx' older than GRIB file\n"
     ]
    },
    {
     "name": "stdout",
     "output_type": "stream",
     "text": [
      "Sharon  is finished\n",
      "Processing  Sharon\n"
     ]
    },
    {
     "name": "stderr",
     "output_type": "stream",
     "text": [
      "Ignoring index file '/home/dl392/data/yiwei/typhoon/EAR5/temp.grib.5b7b6.idx' older than GRIB file\n"
     ]
    },
    {
     "name": "stdout",
     "output_type": "stream",
     "text": [
      "Sharon  is finished\n",
      "Processing  Sharon\n"
     ]
    },
    {
     "name": "stderr",
     "output_type": "stream",
     "text": [
      "Ignoring index file '/home/dl392/data/yiwei/typhoon/EAR5/temp.grib.5b7b6.idx' older than GRIB file\n"
     ]
    },
    {
     "name": "stdout",
     "output_type": "stream",
     "text": [
      "Sharon  is finished\n",
      "Processing  Sharon\n"
     ]
    },
    {
     "name": "stderr",
     "output_type": "stream",
     "text": [
      "Ignoring index file '/home/dl392/data/yiwei/typhoon/EAR5/temp.grib.5b7b6.idx' older than GRIB file\n"
     ]
    },
    {
     "name": "stdout",
     "output_type": "stream",
     "text": [
      "Sharon  is finished\n",
      "Processing  Sharon\n"
     ]
    },
    {
     "name": "stderr",
     "output_type": "stream",
     "text": [
      "Ignoring index file '/home/dl392/data/yiwei/typhoon/EAR5/temp.grib.5b7b6.idx' older than GRIB file\n"
     ]
    },
    {
     "name": "stdout",
     "output_type": "stream",
     "text": [
      "Sharon  is finished\n",
      "Processing  Sharon\n"
     ]
    },
    {
     "name": "stderr",
     "output_type": "stream",
     "text": [
      "Ignoring index file '/home/dl392/data/yiwei/typhoon/EAR5/temp.grib.5b7b6.idx' older than GRIB file\n"
     ]
    },
    {
     "name": "stdout",
     "output_type": "stream",
     "text": [
      "Sharon  is finished\n",
      "Processing  Sharon\n"
     ]
    },
    {
     "name": "stderr",
     "output_type": "stream",
     "text": [
      "Ignoring index file '/home/dl392/data/yiwei/typhoon/EAR5/temp.grib.5b7b6.idx' older than GRIB file\n"
     ]
    },
    {
     "name": "stdout",
     "output_type": "stream",
     "text": [
      "Sharon  is finished\n",
      "Processing  Sharon\n"
     ]
    },
    {
     "name": "stderr",
     "output_type": "stream",
     "text": [
      "Ignoring index file '/home/dl392/data/yiwei/typhoon/EAR5/temp.grib.5b7b6.idx' older than GRIB file\n"
     ]
    },
    {
     "name": "stdout",
     "output_type": "stream",
     "text": [
      "Sharon  is finished\n",
      "Processing  Sharon\n"
     ]
    },
    {
     "name": "stderr",
     "output_type": "stream",
     "text": [
      "Ignoring index file '/home/dl392/data/yiwei/typhoon/EAR5/temp.grib.5b7b6.idx' older than GRIB file\n"
     ]
    },
    {
     "name": "stdout",
     "output_type": "stream",
     "text": [
      "Sharon  is finished\n",
      "Processing  Sharon\n"
     ]
    },
    {
     "name": "stderr",
     "output_type": "stream",
     "text": [
      "Ignoring index file '/home/dl392/data/yiwei/typhoon/EAR5/temp.grib.5b7b6.idx' older than GRIB file\n"
     ]
    },
    {
     "name": "stdout",
     "output_type": "stream",
     "text": [
      "Sharon  is finished\n",
      "Processing  Sharon\n"
     ]
    },
    {
     "name": "stderr",
     "output_type": "stream",
     "text": [
      "Ignoring index file '/home/dl392/data/yiwei/typhoon/EAR5/temp.grib.5b7b6.idx' older than GRIB file\n"
     ]
    },
    {
     "name": "stdout",
     "output_type": "stream",
     "text": [
      "Sharon  is finished\n",
      "Processing  Sharon\n"
     ]
    },
    {
     "name": "stderr",
     "output_type": "stream",
     "text": [
      "Ignoring index file '/home/dl392/data/yiwei/typhoon/EAR5/temp.grib.5b7b6.idx' older than GRIB file\n"
     ]
    },
    {
     "name": "stdout",
     "output_type": "stream",
     "text": [
      "Sharon  is finished\n",
      "Processing  Sharon\n"
     ]
    },
    {
     "name": "stderr",
     "output_type": "stream",
     "text": [
      "Ignoring index file '/home/dl392/data/yiwei/typhoon/EAR5/temp.grib.5b7b6.idx' older than GRIB file\n"
     ]
    },
    {
     "name": "stdout",
     "output_type": "stream",
     "text": [
      "Sharon  is finished\n",
      "Processing  Sharon\n"
     ]
    },
    {
     "name": "stderr",
     "output_type": "stream",
     "text": [
      "Ignoring index file '/home/dl392/data/yiwei/typhoon/EAR5/temp.grib.5b7b6.idx' older than GRIB file\n"
     ]
    },
    {
     "name": "stdout",
     "output_type": "stream",
     "text": [
      "Sharon  is finished\n",
      "Processing  Sharon\n"
     ]
    },
    {
     "name": "stderr",
     "output_type": "stream",
     "text": [
      "Ignoring index file '/home/dl392/data/yiwei/typhoon/EAR5/temp.grib.5b7b6.idx' older than GRIB file\n"
     ]
    },
    {
     "name": "stdout",
     "output_type": "stream",
     "text": [
      "Sharon  is finished\n",
      "Processing  Sharon\n"
     ]
    },
    {
     "name": "stderr",
     "output_type": "stream",
     "text": [
      "Ignoring index file '/home/dl392/data/yiwei/typhoon/EAR5/temp.grib.5b7b6.idx' older than GRIB file\n"
     ]
    },
    {
     "name": "stdout",
     "output_type": "stream",
     "text": [
      "Sharon  is finished\n",
      "Processing  Sharon\n"
     ]
    },
    {
     "name": "stderr",
     "output_type": "stream",
     "text": [
      "Ignoring index file '/home/dl392/data/yiwei/typhoon/EAR5/temp.grib.5b7b6.idx' older than GRIB file\n"
     ]
    },
    {
     "name": "stdout",
     "output_type": "stream",
     "text": [
      "Sharon  is finished\n",
      "Processing  Sharon\n"
     ]
    },
    {
     "name": "stderr",
     "output_type": "stream",
     "text": [
      "Ignoring index file '/home/dl392/data/yiwei/typhoon/EAR5/temp.grib.5b7b6.idx' older than GRIB file\n"
     ]
    },
    {
     "name": "stdout",
     "output_type": "stream",
     "text": [
      "Sharon  is finished\n",
      "Processing  Sharon\n"
     ]
    },
    {
     "name": "stderr",
     "output_type": "stream",
     "text": [
      "Ignoring index file '/home/dl392/data/yiwei/typhoon/EAR5/temp.grib.5b7b6.idx' older than GRIB file\n"
     ]
    },
    {
     "name": "stdout",
     "output_type": "stream",
     "text": [
      "Sharon  is finished\n",
      "Processing  Sharon\n",
      "Sharon  is finished\n",
      "Processing  Kong-rey\n"
     ]
    },
    {
     "name": "stderr",
     "output_type": "stream",
     "text": [
      "2024-11-24 02:40:47,696 WARNING [2024-10-10T00:00:00] The final validated ERA5 differs from ERA5T from July 2024 until further notice - please refer to our\n",
      "[Forum announcement](https://forum.ecmwf.int/t/final-validated-era5-product-to-differ-from-era5t-in-july-2024/6685)\n",
      "for details and watch it for further updates on this.\n",
      "2024-11-24 02:40:47,698 INFO Request ID is 5896b3d0-a868-43fe-b997-13d8c5dea643\n",
      "2024-11-24 02:40:47,939 INFO status has been updated to accepted\n",
      "2024-11-24 02:40:53,826 INFO status has been updated to running\n",
      "2024-11-24 02:40:57,557 INFO status has been updated to successful\n",
      "Ignoring index file '/home/dl392/data/yiwei/typhoon/EAR5/temp.grib.5b7b6.idx' older than GRIB file\n",
      "Ignoring index file '/home/dl392/data/yiwei/typhoon/EAR5/temp.grib.5b7b6.idx' older than GRIB file\n"
     ]
    },
    {
     "name": "stdout",
     "output_type": "stream",
     "text": [
      "Kong-rey  is finished\n",
      "Processing  Kong-rey\n"
     ]
    },
    {
     "name": "stderr",
     "output_type": "stream",
     "text": [
      "Ignoring index file '/home/dl392/data/yiwei/typhoon/EAR5/temp.grib.5b7b6.idx' older than GRIB file\n"
     ]
    },
    {
     "name": "stdout",
     "output_type": "stream",
     "text": [
      "Kong-rey  is finished\n",
      "Processing  Kong-rey\n"
     ]
    },
    {
     "name": "stderr",
     "output_type": "stream",
     "text": [
      "Ignoring index file '/home/dl392/data/yiwei/typhoon/EAR5/temp.grib.5b7b6.idx' older than GRIB file\n"
     ]
    },
    {
     "name": "stdout",
     "output_type": "stream",
     "text": [
      "Kong-rey  is finished\n",
      "Processing  Kong-rey\n"
     ]
    },
    {
     "name": "stderr",
     "output_type": "stream",
     "text": [
      "Ignoring index file '/home/dl392/data/yiwei/typhoon/EAR5/temp.grib.5b7b6.idx' older than GRIB file\n"
     ]
    },
    {
     "name": "stdout",
     "output_type": "stream",
     "text": [
      "Kong-rey  is finished\n",
      "Processing  Kong-rey\n"
     ]
    },
    {
     "name": "stderr",
     "output_type": "stream",
     "text": [
      "Ignoring index file '/home/dl392/data/yiwei/typhoon/EAR5/temp.grib.5b7b6.idx' older than GRIB file\n"
     ]
    },
    {
     "name": "stdout",
     "output_type": "stream",
     "text": [
      "Kong-rey  is finished\n",
      "Processing  Kong-rey\n"
     ]
    },
    {
     "name": "stderr",
     "output_type": "stream",
     "text": [
      "Ignoring index file '/home/dl392/data/yiwei/typhoon/EAR5/temp.grib.5b7b6.idx' older than GRIB file\n"
     ]
    },
    {
     "name": "stdout",
     "output_type": "stream",
     "text": [
      "Kong-rey  is finished\n",
      "Processing  Kong-rey\n"
     ]
    },
    {
     "name": "stderr",
     "output_type": "stream",
     "text": [
      "Ignoring index file '/home/dl392/data/yiwei/typhoon/EAR5/temp.grib.5b7b6.idx' older than GRIB file\n"
     ]
    },
    {
     "name": "stdout",
     "output_type": "stream",
     "text": [
      "Kong-rey  is finished\n",
      "Processing  Kong-rey\n"
     ]
    },
    {
     "name": "stderr",
     "output_type": "stream",
     "text": [
      "Ignoring index file '/home/dl392/data/yiwei/typhoon/EAR5/temp.grib.5b7b6.idx' older than GRIB file\n"
     ]
    },
    {
     "name": "stdout",
     "output_type": "stream",
     "text": [
      "Kong-rey  is finished\n",
      "Processing  Kong-rey\n"
     ]
    },
    {
     "name": "stderr",
     "output_type": "stream",
     "text": [
      "Ignoring index file '/home/dl392/data/yiwei/typhoon/EAR5/temp.grib.5b7b6.idx' older than GRIB file\n"
     ]
    },
    {
     "name": "stdout",
     "output_type": "stream",
     "text": [
      "Kong-rey  is finished\n",
      "Processing  Kong-rey\n"
     ]
    },
    {
     "name": "stderr",
     "output_type": "stream",
     "text": [
      "Ignoring index file '/home/dl392/data/yiwei/typhoon/EAR5/temp.grib.5b7b6.idx' older than GRIB file\n"
     ]
    },
    {
     "name": "stdout",
     "output_type": "stream",
     "text": [
      "Kong-rey  is finished\n",
      "Processing  Kong-rey\n"
     ]
    },
    {
     "name": "stderr",
     "output_type": "stream",
     "text": [
      "Ignoring index file '/home/dl392/data/yiwei/typhoon/EAR5/temp.grib.5b7b6.idx' older than GRIB file\n"
     ]
    },
    {
     "name": "stdout",
     "output_type": "stream",
     "text": [
      "Kong-rey  is finished\n",
      "Processing  Kong-rey\n"
     ]
    },
    {
     "name": "stderr",
     "output_type": "stream",
     "text": [
      "Ignoring index file '/home/dl392/data/yiwei/typhoon/EAR5/temp.grib.5b7b6.idx' older than GRIB file\n"
     ]
    },
    {
     "name": "stdout",
     "output_type": "stream",
     "text": [
      "Kong-rey  is finished\n",
      "Processing  Kong-rey\n"
     ]
    },
    {
     "name": "stderr",
     "output_type": "stream",
     "text": [
      "Ignoring index file '/home/dl392/data/yiwei/typhoon/EAR5/temp.grib.5b7b6.idx' older than GRIB file\n"
     ]
    },
    {
     "name": "stdout",
     "output_type": "stream",
     "text": [
      "Kong-rey  is finished\n",
      "Processing  Kong-rey\n"
     ]
    },
    {
     "name": "stderr",
     "output_type": "stream",
     "text": [
      "Ignoring index file '/home/dl392/data/yiwei/typhoon/EAR5/temp.grib.5b7b6.idx' older than GRIB file\n"
     ]
    },
    {
     "name": "stdout",
     "output_type": "stream",
     "text": [
      "Kong-rey  is finished\n",
      "Processing  Kong-rey\n"
     ]
    },
    {
     "name": "stderr",
     "output_type": "stream",
     "text": [
      "Ignoring index file '/home/dl392/data/yiwei/typhoon/EAR5/temp.grib.5b7b6.idx' older than GRIB file\n"
     ]
    },
    {
     "name": "stdout",
     "output_type": "stream",
     "text": [
      "Kong-rey  is finished\n",
      "Processing  Kong-rey\n"
     ]
    },
    {
     "name": "stderr",
     "output_type": "stream",
     "text": [
      "Ignoring index file '/home/dl392/data/yiwei/typhoon/EAR5/temp.grib.5b7b6.idx' older than GRIB file\n"
     ]
    },
    {
     "name": "stdout",
     "output_type": "stream",
     "text": [
      "Kong-rey  is finished\n",
      "Processing  Kong-rey\n"
     ]
    },
    {
     "name": "stderr",
     "output_type": "stream",
     "text": [
      "Ignoring index file '/home/dl392/data/yiwei/typhoon/EAR5/temp.grib.5b7b6.idx' older than GRIB file\n"
     ]
    },
    {
     "name": "stdout",
     "output_type": "stream",
     "text": [
      "Kong-rey  is finished\n",
      "Processing  Kong-rey\n"
     ]
    },
    {
     "name": "stderr",
     "output_type": "stream",
     "text": [
      "Ignoring index file '/home/dl392/data/yiwei/typhoon/EAR5/temp.grib.5b7b6.idx' older than GRIB file\n"
     ]
    },
    {
     "name": "stdout",
     "output_type": "stream",
     "text": [
      "Kong-rey  is finished\n",
      "Processing  Kong-rey\n"
     ]
    },
    {
     "name": "stderr",
     "output_type": "stream",
     "text": [
      "Ignoring index file '/home/dl392/data/yiwei/typhoon/EAR5/temp.grib.5b7b6.idx' older than GRIB file\n"
     ]
    },
    {
     "name": "stdout",
     "output_type": "stream",
     "text": [
      "Kong-rey  is finished\n",
      "Processing  Kong-rey\n"
     ]
    },
    {
     "name": "stderr",
     "output_type": "stream",
     "text": [
      "Ignoring index file '/home/dl392/data/yiwei/typhoon/EAR5/temp.grib.5b7b6.idx' older than GRIB file\n"
     ]
    },
    {
     "name": "stdout",
     "output_type": "stream",
     "text": [
      "Kong-rey  is finished\n",
      "Processing  Kong-rey\n"
     ]
    },
    {
     "name": "stderr",
     "output_type": "stream",
     "text": [
      "Ignoring index file '/home/dl392/data/yiwei/typhoon/EAR5/temp.grib.5b7b6.idx' older than GRIB file\n"
     ]
    },
    {
     "name": "stdout",
     "output_type": "stream",
     "text": [
      "Kong-rey  is finished\n",
      "Processing  Kong-rey\n"
     ]
    },
    {
     "name": "stderr",
     "output_type": "stream",
     "text": [
      "Ignoring index file '/home/dl392/data/yiwei/typhoon/EAR5/temp.grib.5b7b6.idx' older than GRIB file\n"
     ]
    },
    {
     "name": "stdout",
     "output_type": "stream",
     "text": [
      "Kong-rey  is finished\n",
      "Processing  Kong-rey\n"
     ]
    },
    {
     "name": "stderr",
     "output_type": "stream",
     "text": [
      "Ignoring index file '/home/dl392/data/yiwei/typhoon/EAR5/temp.grib.5b7b6.idx' older than GRIB file\n"
     ]
    },
    {
     "name": "stdout",
     "output_type": "stream",
     "text": [
      "Kong-rey  is finished\n",
      "Processing  Kong-rey\n"
     ]
    },
    {
     "name": "stderr",
     "output_type": "stream",
     "text": [
      "Ignoring index file '/home/dl392/data/yiwei/typhoon/EAR5/temp.grib.5b7b6.idx' older than GRIB file\n"
     ]
    },
    {
     "name": "stdout",
     "output_type": "stream",
     "text": [
      "Kong-rey  is finished\n",
      "Processing  Kong-rey\n"
     ]
    },
    {
     "name": "stderr",
     "output_type": "stream",
     "text": [
      "Ignoring index file '/home/dl392/data/yiwei/typhoon/EAR5/temp.grib.5b7b6.idx' older than GRIB file\n"
     ]
    },
    {
     "name": "stdout",
     "output_type": "stream",
     "text": [
      "Kong-rey  is finished\n",
      "Processing  Kong-rey\n"
     ]
    },
    {
     "name": "stderr",
     "output_type": "stream",
     "text": [
      "Ignoring index file '/home/dl392/data/yiwei/typhoon/EAR5/temp.grib.5b7b6.idx' older than GRIB file\n"
     ]
    },
    {
     "name": "stdout",
     "output_type": "stream",
     "text": [
      "Kong-rey  is finished\n",
      "Processing  Kong-rey\n",
      "Kong-rey  is finished\n",
      "Processing  Ruby\n"
     ]
    },
    {
     "name": "stderr",
     "output_type": "stream",
     "text": [
      "2024-11-24 02:41:54,955 WARNING [2024-10-10T00:00:00] The final validated ERA5 differs from ERA5T from July 2024 until further notice - please refer to our\n",
      "[Forum announcement](https://forum.ecmwf.int/t/final-validated-era5-product-to-differ-from-era5t-in-july-2024/6685)\n",
      "for details and watch it for further updates on this.\n",
      "2024-11-24 02:41:54,957 INFO Request ID is 61b66b9a-12d6-4b96-b2ee-d1b2e006e8c3\n",
      "2024-11-24 02:41:55,194 INFO status has been updated to accepted\n",
      "2024-11-24 02:42:00,688 INFO status has been updated to running\n",
      "2024-11-24 02:42:04,288 INFO status has been updated to successful\n",
      "Ignoring index file '/home/dl392/data/yiwei/typhoon/EAR5/temp.grib.5b7b6.idx' older than GRIB file\n",
      "Ignoring index file '/home/dl392/data/yiwei/typhoon/EAR5/temp.grib.5b7b6.idx' older than GRIB file\n"
     ]
    },
    {
     "name": "stdout",
     "output_type": "stream",
     "text": [
      "Ruby  is finished\n",
      "Processing  Ruby\n"
     ]
    },
    {
     "name": "stderr",
     "output_type": "stream",
     "text": [
      "Ignoring index file '/home/dl392/data/yiwei/typhoon/EAR5/temp.grib.5b7b6.idx' older than GRIB file\n"
     ]
    },
    {
     "name": "stdout",
     "output_type": "stream",
     "text": [
      "Ruby  is finished\n",
      "Processing  Ruby\n"
     ]
    },
    {
     "name": "stderr",
     "output_type": "stream",
     "text": [
      "Ignoring index file '/home/dl392/data/yiwei/typhoon/EAR5/temp.grib.5b7b6.idx' older than GRIB file\n"
     ]
    },
    {
     "name": "stdout",
     "output_type": "stream",
     "text": [
      "Ruby  is finished\n",
      "Processing  Ruby\n"
     ]
    },
    {
     "name": "stderr",
     "output_type": "stream",
     "text": [
      "Ignoring index file '/home/dl392/data/yiwei/typhoon/EAR5/temp.grib.5b7b6.idx' older than GRIB file\n"
     ]
    },
    {
     "name": "stdout",
     "output_type": "stream",
     "text": [
      "Ruby  is finished\n",
      "Processing  Ruby\n"
     ]
    },
    {
     "name": "stderr",
     "output_type": "stream",
     "text": [
      "Ignoring index file '/home/dl392/data/yiwei/typhoon/EAR5/temp.grib.5b7b6.idx' older than GRIB file\n"
     ]
    },
    {
     "name": "stdout",
     "output_type": "stream",
     "text": [
      "Ruby  is finished\n",
      "Processing  Ruby\n"
     ]
    },
    {
     "name": "stderr",
     "output_type": "stream",
     "text": [
      "Ignoring index file '/home/dl392/data/yiwei/typhoon/EAR5/temp.grib.5b7b6.idx' older than GRIB file\n"
     ]
    },
    {
     "name": "stdout",
     "output_type": "stream",
     "text": [
      "Ruby  is finished\n",
      "Processing  Ruby\n"
     ]
    },
    {
     "name": "stderr",
     "output_type": "stream",
     "text": [
      "Ignoring index file '/home/dl392/data/yiwei/typhoon/EAR5/temp.grib.5b7b6.idx' older than GRIB file\n"
     ]
    },
    {
     "name": "stdout",
     "output_type": "stream",
     "text": [
      "Ruby  is finished\n",
      "Processing  Ruby\n"
     ]
    },
    {
     "name": "stderr",
     "output_type": "stream",
     "text": [
      "Ignoring index file '/home/dl392/data/yiwei/typhoon/EAR5/temp.grib.5b7b6.idx' older than GRIB file\n"
     ]
    },
    {
     "name": "stdout",
     "output_type": "stream",
     "text": [
      "Ruby  is finished\n",
      "Processing  Ruby\n"
     ]
    },
    {
     "name": "stderr",
     "output_type": "stream",
     "text": [
      "Ignoring index file '/home/dl392/data/yiwei/typhoon/EAR5/temp.grib.5b7b6.idx' older than GRIB file\n"
     ]
    },
    {
     "name": "stdout",
     "output_type": "stream",
     "text": [
      "Ruby  is finished\n",
      "Processing  Ruby\n"
     ]
    },
    {
     "name": "stderr",
     "output_type": "stream",
     "text": [
      "Ignoring index file '/home/dl392/data/yiwei/typhoon/EAR5/temp.grib.5b7b6.idx' older than GRIB file\n"
     ]
    },
    {
     "name": "stdout",
     "output_type": "stream",
     "text": [
      "Ruby  is finished\n",
      "Processing  Ruby\n"
     ]
    },
    {
     "name": "stderr",
     "output_type": "stream",
     "text": [
      "Ignoring index file '/home/dl392/data/yiwei/typhoon/EAR5/temp.grib.5b7b6.idx' older than GRIB file\n"
     ]
    },
    {
     "name": "stdout",
     "output_type": "stream",
     "text": [
      "Ruby  is finished\n",
      "Processing  Ruby\n",
      "Ruby  is finished\n",
      "Processing  Freda\n"
     ]
    },
    {
     "name": "stderr",
     "output_type": "stream",
     "text": [
      "2024-11-24 02:42:29,488 WARNING [2024-10-10T00:00:00] The final validated ERA5 differs from ERA5T from July 2024 until further notice - please refer to our\n",
      "[Forum announcement](https://forum.ecmwf.int/t/final-validated-era5-product-to-differ-from-era5t-in-july-2024/6685)\n",
      "for details and watch it for further updates on this.\n",
      "2024-11-24 02:42:29,489 INFO Request ID is 0d544fb6-d2f1-45a2-80ad-893360059f5d\n",
      "2024-11-24 02:42:29,789 INFO status has been updated to accepted\n",
      "2024-11-24 02:42:35,368 INFO status has been updated to running\n",
      "2024-11-24 02:42:44,334 INFO status has been updated to successful\n",
      "Ignoring index file '/home/dl392/data/yiwei/typhoon/EAR5/temp.grib.5b7b6.idx' older than GRIB file\n",
      "Ignoring index file '/home/dl392/data/yiwei/typhoon/EAR5/temp.grib.5b7b6.idx' older than GRIB file\n"
     ]
    },
    {
     "name": "stdout",
     "output_type": "stream",
     "text": [
      "Freda  is finished\n",
      "Processing  Freda\n"
     ]
    },
    {
     "name": "stderr",
     "output_type": "stream",
     "text": [
      "Ignoring index file '/home/dl392/data/yiwei/typhoon/EAR5/temp.grib.5b7b6.idx' older than GRIB file\n"
     ]
    },
    {
     "name": "stdout",
     "output_type": "stream",
     "text": [
      "Freda  is finished\n",
      "Processing  Freda\n"
     ]
    },
    {
     "name": "stderr",
     "output_type": "stream",
     "text": [
      "Ignoring index file '/home/dl392/data/yiwei/typhoon/EAR5/temp.grib.5b7b6.idx' older than GRIB file\n"
     ]
    },
    {
     "name": "stdout",
     "output_type": "stream",
     "text": [
      "Freda  is finished\n",
      "Processing  Freda\n"
     ]
    },
    {
     "name": "stderr",
     "output_type": "stream",
     "text": [
      "Ignoring index file '/home/dl392/data/yiwei/typhoon/EAR5/temp.grib.5b7b6.idx' older than GRIB file\n"
     ]
    },
    {
     "name": "stdout",
     "output_type": "stream",
     "text": [
      "Freda  is finished\n",
      "Processing  Freda\n"
     ]
    },
    {
     "name": "stderr",
     "output_type": "stream",
     "text": [
      "Ignoring index file '/home/dl392/data/yiwei/typhoon/EAR5/temp.grib.5b7b6.idx' older than GRIB file\n"
     ]
    },
    {
     "name": "stdout",
     "output_type": "stream",
     "text": [
      "Freda  is finished\n",
      "Processing  Freda\n"
     ]
    },
    {
     "name": "stderr",
     "output_type": "stream",
     "text": [
      "Ignoring index file '/home/dl392/data/yiwei/typhoon/EAR5/temp.grib.5b7b6.idx' older than GRIB file\n"
     ]
    },
    {
     "name": "stdout",
     "output_type": "stream",
     "text": [
      "Freda  is finished\n",
      "Processing  Freda\n"
     ]
    },
    {
     "name": "stderr",
     "output_type": "stream",
     "text": [
      "Ignoring index file '/home/dl392/data/yiwei/typhoon/EAR5/temp.grib.5b7b6.idx' older than GRIB file\n"
     ]
    },
    {
     "name": "stdout",
     "output_type": "stream",
     "text": [
      "Freda  is finished\n",
      "Processing  Freda\n"
     ]
    },
    {
     "name": "stderr",
     "output_type": "stream",
     "text": [
      "Ignoring index file '/home/dl392/data/yiwei/typhoon/EAR5/temp.grib.5b7b6.idx' older than GRIB file\n"
     ]
    },
    {
     "name": "stdout",
     "output_type": "stream",
     "text": [
      "Freda  is finished\n",
      "Processing  Freda\n"
     ]
    },
    {
     "name": "stderr",
     "output_type": "stream",
     "text": [
      "Ignoring index file '/home/dl392/data/yiwei/typhoon/EAR5/temp.grib.5b7b6.idx' older than GRIB file\n"
     ]
    },
    {
     "name": "stdout",
     "output_type": "stream",
     "text": [
      "Freda  is finished\n",
      "Processing  Freda\n"
     ]
    },
    {
     "name": "stderr",
     "output_type": "stream",
     "text": [
      "Ignoring index file '/home/dl392/data/yiwei/typhoon/EAR5/temp.grib.5b7b6.idx' older than GRIB file\n"
     ]
    },
    {
     "name": "stdout",
     "output_type": "stream",
     "text": [
      "Freda  is finished\n",
      "Processing  Freda\n"
     ]
    },
    {
     "name": "stderr",
     "output_type": "stream",
     "text": [
      "Ignoring index file '/home/dl392/data/yiwei/typhoon/EAR5/temp.grib.5b7b6.idx' older than GRIB file\n"
     ]
    },
    {
     "name": "stdout",
     "output_type": "stream",
     "text": [
      "Freda  is finished\n",
      "Processing  Freda\n"
     ]
    },
    {
     "name": "stderr",
     "output_type": "stream",
     "text": [
      "Ignoring index file '/home/dl392/data/yiwei/typhoon/EAR5/temp.grib.5b7b6.idx' older than GRIB file\n"
     ]
    },
    {
     "name": "stdout",
     "output_type": "stream",
     "text": [
      "Freda  is finished\n",
      "Processing  Freda\n"
     ]
    },
    {
     "name": "stderr",
     "output_type": "stream",
     "text": [
      "Ignoring index file '/home/dl392/data/yiwei/typhoon/EAR5/temp.grib.5b7b6.idx' older than GRIB file\n"
     ]
    },
    {
     "name": "stdout",
     "output_type": "stream",
     "text": [
      "Freda  is finished\n",
      "Processing  Freda\n"
     ]
    },
    {
     "name": "stderr",
     "output_type": "stream",
     "text": [
      "Ignoring index file '/home/dl392/data/yiwei/typhoon/EAR5/temp.grib.5b7b6.idx' older than GRIB file\n"
     ]
    },
    {
     "name": "stdout",
     "output_type": "stream",
     "text": [
      "Freda  is finished\n",
      "Processing  Freda\n"
     ]
    },
    {
     "name": "stderr",
     "output_type": "stream",
     "text": [
      "Ignoring index file '/home/dl392/data/yiwei/typhoon/EAR5/temp.grib.5b7b6.idx' older than GRIB file\n"
     ]
    },
    {
     "name": "stdout",
     "output_type": "stream",
     "text": [
      "Freda  is finished\n",
      "Processing  Freda\n"
     ]
    },
    {
     "name": "stderr",
     "output_type": "stream",
     "text": [
      "Ignoring index file '/home/dl392/data/yiwei/typhoon/EAR5/temp.grib.5b7b6.idx' older than GRIB file\n"
     ]
    },
    {
     "name": "stdout",
     "output_type": "stream",
     "text": [
      "Freda  is finished\n",
      "Processing  Freda\n"
     ]
    },
    {
     "name": "stderr",
     "output_type": "stream",
     "text": [
      "Ignoring index file '/home/dl392/data/yiwei/typhoon/EAR5/temp.grib.5b7b6.idx' older than GRIB file\n"
     ]
    },
    {
     "name": "stdout",
     "output_type": "stream",
     "text": [
      "Freda  is finished\n",
      "Processing  Freda\n"
     ]
    },
    {
     "name": "stderr",
     "output_type": "stream",
     "text": [
      "Ignoring index file '/home/dl392/data/yiwei/typhoon/EAR5/temp.grib.5b7b6.idx' older than GRIB file\n"
     ]
    },
    {
     "name": "stdout",
     "output_type": "stream",
     "text": [
      "Freda  is finished\n",
      "Processing  Freda\n"
     ]
    },
    {
     "name": "stderr",
     "output_type": "stream",
     "text": [
      "Ignoring index file '/home/dl392/data/yiwei/typhoon/EAR5/temp.grib.5b7b6.idx' older than GRIB file\n"
     ]
    },
    {
     "name": "stdout",
     "output_type": "stream",
     "text": [
      "Freda  is finished\n",
      "Processing  Freda\n"
     ]
    },
    {
     "name": "stderr",
     "output_type": "stream",
     "text": [
      "Ignoring index file '/home/dl392/data/yiwei/typhoon/EAR5/temp.grib.5b7b6.idx' older than GRIB file\n"
     ]
    },
    {
     "name": "stdout",
     "output_type": "stream",
     "text": [
      "Freda  is finished\n",
      "Processing  Freda\n"
     ]
    },
    {
     "name": "stderr",
     "output_type": "stream",
     "text": [
      "Ignoring index file '/home/dl392/data/yiwei/typhoon/EAR5/temp.grib.5b7b6.idx' older than GRIB file\n"
     ]
    },
    {
     "name": "stdout",
     "output_type": "stream",
     "text": [
      "Freda  is finished\n",
      "Processing  Freda\n"
     ]
    },
    {
     "name": "stderr",
     "output_type": "stream",
     "text": [
      "Ignoring index file '/home/dl392/data/yiwei/typhoon/EAR5/temp.grib.5b7b6.idx' older than GRIB file\n"
     ]
    },
    {
     "name": "stdout",
     "output_type": "stream",
     "text": [
      "Freda  is finished\n",
      "Processing  Freda\n"
     ]
    },
    {
     "name": "stderr",
     "output_type": "stream",
     "text": [
      "Ignoring index file '/home/dl392/data/yiwei/typhoon/EAR5/temp.grib.5b7b6.idx' older than GRIB file\n"
     ]
    },
    {
     "name": "stdout",
     "output_type": "stream",
     "text": [
      "Freda  is finished\n",
      "Processing  Freda\n"
     ]
    },
    {
     "name": "stderr",
     "output_type": "stream",
     "text": [
      "Ignoring index file '/home/dl392/data/yiwei/typhoon/EAR5/temp.grib.5b7b6.idx' older than GRIB file\n"
     ]
    },
    {
     "name": "stdout",
     "output_type": "stream",
     "text": [
      "Freda  is finished\n",
      "Processing  Freda\n"
     ]
    },
    {
     "name": "stderr",
     "output_type": "stream",
     "text": [
      "Ignoring index file '/home/dl392/data/yiwei/typhoon/EAR5/temp.grib.5b7b6.idx' older than GRIB file\n"
     ]
    },
    {
     "name": "stdout",
     "output_type": "stream",
     "text": [
      "Freda  is finished\n",
      "Processing  Freda\n",
      "Freda  is finished\n",
      "Processing  Charlotte\n"
     ]
    },
    {
     "name": "stderr",
     "output_type": "stream",
     "text": [
      "2024-11-24 02:43:38,470 WARNING [2024-10-10T00:00:00] The final validated ERA5 differs from ERA5T from July 2024 until further notice - please refer to our\n",
      "[Forum announcement](https://forum.ecmwf.int/t/final-validated-era5-product-to-differ-from-era5t-in-july-2024/6685)\n",
      "for details and watch it for further updates on this.\n",
      "2024-11-24 02:43:38,472 INFO Request ID is 86cd8935-b815-4ec9-9042-5c5ac80370db\n",
      "2024-11-24 02:43:39,507 INFO status has been updated to accepted\n",
      "2024-11-24 02:43:48,601 INFO status has been updated to successful\n",
      "Ignoring index file '/home/dl392/data/yiwei/typhoon/EAR5/temp.grib.5b7b6.idx' older than GRIB file\n",
      "Ignoring index file '/home/dl392/data/yiwei/typhoon/EAR5/temp.grib.5b7b6.idx' older than GRIB file\n"
     ]
    },
    {
     "name": "stdout",
     "output_type": "stream",
     "text": [
      "Charlotte  is finished\n",
      "Processing  Charlotte\n"
     ]
    },
    {
     "name": "stderr",
     "output_type": "stream",
     "text": [
      "Ignoring index file '/home/dl392/data/yiwei/typhoon/EAR5/temp.grib.5b7b6.idx' older than GRIB file\n"
     ]
    },
    {
     "name": "stdout",
     "output_type": "stream",
     "text": [
      "Charlotte  is finished\n",
      "Processing  Charlotte\n"
     ]
    },
    {
     "name": "stderr",
     "output_type": "stream",
     "text": [
      "Ignoring index file '/home/dl392/data/yiwei/typhoon/EAR5/temp.grib.5b7b6.idx' older than GRIB file\n"
     ]
    },
    {
     "name": "stdout",
     "output_type": "stream",
     "text": [
      "Charlotte  is finished\n",
      "Processing  Charlotte\n"
     ]
    },
    {
     "name": "stderr",
     "output_type": "stream",
     "text": [
      "Ignoring index file '/home/dl392/data/yiwei/typhoon/EAR5/temp.grib.5b7b6.idx' older than GRIB file\n"
     ]
    },
    {
     "name": "stdout",
     "output_type": "stream",
     "text": [
      "Charlotte  is finished\n",
      "Processing  Charlotte\n"
     ]
    },
    {
     "name": "stderr",
     "output_type": "stream",
     "text": [
      "Ignoring index file '/home/dl392/data/yiwei/typhoon/EAR5/temp.grib.5b7b6.idx' older than GRIB file\n"
     ]
    },
    {
     "name": "stdout",
     "output_type": "stream",
     "text": [
      "Charlotte  is finished\n",
      "Processing  Charlotte\n"
     ]
    },
    {
     "name": "stderr",
     "output_type": "stream",
     "text": [
      "Ignoring index file '/home/dl392/data/yiwei/typhoon/EAR5/temp.grib.5b7b6.idx' older than GRIB file\n"
     ]
    },
    {
     "name": "stdout",
     "output_type": "stream",
     "text": [
      "Charlotte  is finished\n",
      "Processing  Charlotte\n"
     ]
    },
    {
     "name": "stderr",
     "output_type": "stream",
     "text": [
      "Ignoring index file '/home/dl392/data/yiwei/typhoon/EAR5/temp.grib.5b7b6.idx' older than GRIB file\n"
     ]
    },
    {
     "name": "stdout",
     "output_type": "stream",
     "text": [
      "Charlotte  is finished\n",
      "Processing  Charlotte\n"
     ]
    },
    {
     "name": "stderr",
     "output_type": "stream",
     "text": [
      "Ignoring index file '/home/dl392/data/yiwei/typhoon/EAR5/temp.grib.5b7b6.idx' older than GRIB file\n"
     ]
    },
    {
     "name": "stdout",
     "output_type": "stream",
     "text": [
      "Charlotte  is finished\n",
      "Processing  Charlotte\n"
     ]
    },
    {
     "name": "stderr",
     "output_type": "stream",
     "text": [
      "Ignoring index file '/home/dl392/data/yiwei/typhoon/EAR5/temp.grib.5b7b6.idx' older than GRIB file\n"
     ]
    },
    {
     "name": "stdout",
     "output_type": "stream",
     "text": [
      "Charlotte  is finished\n",
      "Processing  Charlotte\n"
     ]
    },
    {
     "name": "stderr",
     "output_type": "stream",
     "text": [
      "Ignoring index file '/home/dl392/data/yiwei/typhoon/EAR5/temp.grib.5b7b6.idx' older than GRIB file\n"
     ]
    },
    {
     "name": "stdout",
     "output_type": "stream",
     "text": [
      "Charlotte  is finished\n",
      "Processing  Charlotte\n"
     ]
    },
    {
     "name": "stderr",
     "output_type": "stream",
     "text": [
      "Ignoring index file '/home/dl392/data/yiwei/typhoon/EAR5/temp.grib.5b7b6.idx' older than GRIB file\n"
     ]
    },
    {
     "name": "stdout",
     "output_type": "stream",
     "text": [
      "Charlotte  is finished\n",
      "Processing  Charlotte\n"
     ]
    },
    {
     "name": "stderr",
     "output_type": "stream",
     "text": [
      "Ignoring index file '/home/dl392/data/yiwei/typhoon/EAR5/temp.grib.5b7b6.idx' older than GRIB file\n"
     ]
    },
    {
     "name": "stdout",
     "output_type": "stream",
     "text": [
      "Charlotte  is finished\n",
      "Processing  Charlotte\n"
     ]
    },
    {
     "name": "stderr",
     "output_type": "stream",
     "text": [
      "Ignoring index file '/home/dl392/data/yiwei/typhoon/EAR5/temp.grib.5b7b6.idx' older than GRIB file\n"
     ]
    },
    {
     "name": "stdout",
     "output_type": "stream",
     "text": [
      "Charlotte  is finished\n",
      "Processing  Charlotte\n"
     ]
    },
    {
     "name": "stderr",
     "output_type": "stream",
     "text": [
      "Ignoring index file '/home/dl392/data/yiwei/typhoon/EAR5/temp.grib.5b7b6.idx' older than GRIB file\n"
     ]
    },
    {
     "name": "stdout",
     "output_type": "stream",
     "text": [
      "Charlotte  is finished\n",
      "Processing  Charlotte\n",
      "Charlotte  is finished\n",
      "Processing  Phyllis\n"
     ]
    },
    {
     "name": "stderr",
     "output_type": "stream",
     "text": [
      "2024-11-24 02:44:20,020 WARNING [2024-10-10T00:00:00] The final validated ERA5 differs from ERA5T from July 2024 until further notice - please refer to our\n",
      "[Forum announcement](https://forum.ecmwf.int/t/final-validated-era5-product-to-differ-from-era5t-in-july-2024/6685)\n",
      "for details and watch it for further updates on this.\n",
      "2024-11-24 02:44:20,022 INFO Request ID is 4de178e2-21b3-4036-b49a-3d850257b91c\n",
      "2024-11-24 02:44:20,286 INFO status has been updated to accepted\n",
      "2024-11-24 02:44:26,617 INFO status has been updated to running\n",
      "2024-11-24 02:44:32,347 INFO status has been updated to successful\n",
      "Ignoring index file '/home/dl392/data/yiwei/typhoon/EAR5/temp.grib.5b7b6.idx' older than GRIB file\n",
      "Ignoring index file '/home/dl392/data/yiwei/typhoon/EAR5/temp.grib.5b7b6.idx' older than GRIB file\n"
     ]
    },
    {
     "name": "stdout",
     "output_type": "stream",
     "text": [
      "Phyllis  is finished\n",
      "Processing  Phyllis\n"
     ]
    },
    {
     "name": "stderr",
     "output_type": "stream",
     "text": [
      "Ignoring index file '/home/dl392/data/yiwei/typhoon/EAR5/temp.grib.5b7b6.idx' older than GRIB file\n"
     ]
    },
    {
     "name": "stdout",
     "output_type": "stream",
     "text": [
      "Phyllis  is finished\n",
      "Processing  Phyllis\n"
     ]
    },
    {
     "name": "stderr",
     "output_type": "stream",
     "text": [
      "Ignoring index file '/home/dl392/data/yiwei/typhoon/EAR5/temp.grib.5b7b6.idx' older than GRIB file\n"
     ]
    },
    {
     "name": "stdout",
     "output_type": "stream",
     "text": [
      "Phyllis  is finished\n",
      "Processing  Phyllis\n"
     ]
    },
    {
     "name": "stderr",
     "output_type": "stream",
     "text": [
      "Ignoring index file '/home/dl392/data/yiwei/typhoon/EAR5/temp.grib.5b7b6.idx' older than GRIB file\n"
     ]
    },
    {
     "name": "stdout",
     "output_type": "stream",
     "text": [
      "Phyllis  is finished\n",
      "Processing  Phyllis\n"
     ]
    },
    {
     "name": "stderr",
     "output_type": "stream",
     "text": [
      "Ignoring index file '/home/dl392/data/yiwei/typhoon/EAR5/temp.grib.5b7b6.idx' older than GRIB file\n"
     ]
    },
    {
     "name": "stdout",
     "output_type": "stream",
     "text": [
      "Phyllis  is finished\n",
      "Processing  Phyllis\n"
     ]
    },
    {
     "name": "stderr",
     "output_type": "stream",
     "text": [
      "Ignoring index file '/home/dl392/data/yiwei/typhoon/EAR5/temp.grib.5b7b6.idx' older than GRIB file\n"
     ]
    },
    {
     "name": "stdout",
     "output_type": "stream",
     "text": [
      "Phyllis  is finished\n",
      "Processing  Phyllis\n"
     ]
    },
    {
     "name": "stderr",
     "output_type": "stream",
     "text": [
      "Ignoring index file '/home/dl392/data/yiwei/typhoon/EAR5/temp.grib.5b7b6.idx' older than GRIB file\n"
     ]
    },
    {
     "name": "stdout",
     "output_type": "stream",
     "text": [
      "Phyllis  is finished\n",
      "Processing  Phyllis\n"
     ]
    },
    {
     "name": "stderr",
     "output_type": "stream",
     "text": [
      "Ignoring index file '/home/dl392/data/yiwei/typhoon/EAR5/temp.grib.5b7b6.idx' older than GRIB file\n"
     ]
    },
    {
     "name": "stdout",
     "output_type": "stream",
     "text": [
      "Phyllis  is finished\n",
      "Processing  Phyllis\n"
     ]
    },
    {
     "name": "stderr",
     "output_type": "stream",
     "text": [
      "Ignoring index file '/home/dl392/data/yiwei/typhoon/EAR5/temp.grib.5b7b6.idx' older than GRIB file\n"
     ]
    },
    {
     "name": "stdout",
     "output_type": "stream",
     "text": [
      "Phyllis  is finished\n",
      "Processing  Phyllis\n"
     ]
    },
    {
     "name": "stderr",
     "output_type": "stream",
     "text": [
      "Ignoring index file '/home/dl392/data/yiwei/typhoon/EAR5/temp.grib.5b7b6.idx' older than GRIB file\n"
     ]
    },
    {
     "name": "stdout",
     "output_type": "stream",
     "text": [
      "Phyllis  is finished\n",
      "Processing  Phyllis\n"
     ]
    },
    {
     "name": "stderr",
     "output_type": "stream",
     "text": [
      "Ignoring index file '/home/dl392/data/yiwei/typhoon/EAR5/temp.grib.5b7b6.idx' older than GRIB file\n"
     ]
    },
    {
     "name": "stdout",
     "output_type": "stream",
     "text": [
      "Phyllis  is finished\n",
      "Processing  Phyllis\n"
     ]
    },
    {
     "name": "stderr",
     "output_type": "stream",
     "text": [
      "Ignoring index file '/home/dl392/data/yiwei/typhoon/EAR5/temp.grib.5b7b6.idx' older than GRIB file\n"
     ]
    },
    {
     "name": "stdout",
     "output_type": "stream",
     "text": [
      "Phyllis  is finished\n",
      "Processing  Phyllis\n"
     ]
    },
    {
     "name": "stderr",
     "output_type": "stream",
     "text": [
      "Ignoring index file '/home/dl392/data/yiwei/typhoon/EAR5/temp.grib.5b7b6.idx' older than GRIB file\n"
     ]
    },
    {
     "name": "stdout",
     "output_type": "stream",
     "text": [
      "Phyllis  is finished\n",
      "Processing  Phyllis\n"
     ]
    },
    {
     "name": "stderr",
     "output_type": "stream",
     "text": [
      "Ignoring index file '/home/dl392/data/yiwei/typhoon/EAR5/temp.grib.5b7b6.idx' older than GRIB file\n"
     ]
    },
    {
     "name": "stdout",
     "output_type": "stream",
     "text": [
      "Phyllis  is finished\n",
      "Processing  Phyllis\n"
     ]
    },
    {
     "name": "stderr",
     "output_type": "stream",
     "text": [
      "Ignoring index file '/home/dl392/data/yiwei/typhoon/EAR5/temp.grib.5b7b6.idx' older than GRIB file\n"
     ]
    },
    {
     "name": "stdout",
     "output_type": "stream",
     "text": [
      "Phyllis  is finished\n",
      "Processing  Phyllis\n"
     ]
    },
    {
     "name": "stderr",
     "output_type": "stream",
     "text": [
      "Ignoring index file '/home/dl392/data/yiwei/typhoon/EAR5/temp.grib.5b7b6.idx' older than GRIB file\n"
     ]
    },
    {
     "name": "stdout",
     "output_type": "stream",
     "text": [
      "Phyllis  is finished\n",
      "Processing  Phyllis\n"
     ]
    },
    {
     "name": "stderr",
     "output_type": "stream",
     "text": [
      "Ignoring index file '/home/dl392/data/yiwei/typhoon/EAR5/temp.grib.5b7b6.idx' older than GRIB file\n"
     ]
    },
    {
     "name": "stdout",
     "output_type": "stream",
     "text": [
      "Phyllis  is finished\n",
      "Processing  Phyllis\n"
     ]
    },
    {
     "name": "stderr",
     "output_type": "stream",
     "text": [
      "Ignoring index file '/home/dl392/data/yiwei/typhoon/EAR5/temp.grib.5b7b6.idx' older than GRIB file\n"
     ]
    },
    {
     "name": "stdout",
     "output_type": "stream",
     "text": [
      "Phyllis  is finished\n",
      "Processing  Phyllis\n"
     ]
    },
    {
     "name": "stderr",
     "output_type": "stream",
     "text": [
      "Ignoring index file '/home/dl392/data/yiwei/typhoon/EAR5/temp.grib.5b7b6.idx' older than GRIB file\n"
     ]
    },
    {
     "name": "stdout",
     "output_type": "stream",
     "text": [
      "Phyllis  is finished\n",
      "Processing  Phyllis\n"
     ]
    },
    {
     "name": "stderr",
     "output_type": "stream",
     "text": [
      "Ignoring index file '/home/dl392/data/yiwei/typhoon/EAR5/temp.grib.5b7b6.idx' older than GRIB file\n"
     ]
    },
    {
     "name": "stdout",
     "output_type": "stream",
     "text": [
      "Phyllis  is finished\n",
      "Processing  Phyllis\n"
     ]
    },
    {
     "name": "stderr",
     "output_type": "stream",
     "text": [
      "Ignoring index file '/home/dl392/data/yiwei/typhoon/EAR5/temp.grib.5b7b6.idx' older than GRIB file\n"
     ]
    },
    {
     "name": "stdout",
     "output_type": "stream",
     "text": [
      "Phyllis  is finished\n",
      "Processing  Phyllis\n"
     ]
    },
    {
     "name": "stderr",
     "output_type": "stream",
     "text": [
      "Ignoring index file '/home/dl392/data/yiwei/typhoon/EAR5/temp.grib.5b7b6.idx' older than GRIB file\n"
     ]
    },
    {
     "name": "stdout",
     "output_type": "stream",
     "text": [
      "Phyllis  is finished\n",
      "Processing  Phyllis\n"
     ]
    },
    {
     "name": "stderr",
     "output_type": "stream",
     "text": [
      "Ignoring index file '/home/dl392/data/yiwei/typhoon/EAR5/temp.grib.5b7b6.idx' older than GRIB file\n"
     ]
    },
    {
     "name": "stdout",
     "output_type": "stream",
     "text": [
      "Phyllis  is finished\n",
      "Processing  Phyllis\n"
     ]
    },
    {
     "name": "stderr",
     "output_type": "stream",
     "text": [
      "Ignoring index file '/home/dl392/data/yiwei/typhoon/EAR5/temp.grib.5b7b6.idx' older than GRIB file\n"
     ]
    },
    {
     "name": "stdout",
     "output_type": "stream",
     "text": [
      "Phyllis  is finished\n",
      "Processing  Phyllis\n"
     ]
    },
    {
     "name": "stderr",
     "output_type": "stream",
     "text": [
      "Ignoring index file '/home/dl392/data/yiwei/typhoon/EAR5/temp.grib.5b7b6.idx' older than GRIB file\n"
     ]
    },
    {
     "name": "stdout",
     "output_type": "stream",
     "text": [
      "Phyllis  is finished\n",
      "Processing  Phyllis\n"
     ]
    },
    {
     "name": "stderr",
     "output_type": "stream",
     "text": [
      "Ignoring index file '/home/dl392/data/yiwei/typhoon/EAR5/temp.grib.5b7b6.idx' older than GRIB file\n"
     ]
    },
    {
     "name": "stdout",
     "output_type": "stream",
     "text": [
      "Phyllis  is finished\n",
      "Processing  Phyllis\n"
     ]
    },
    {
     "name": "stderr",
     "output_type": "stream",
     "text": [
      "Ignoring index file '/home/dl392/data/yiwei/typhoon/EAR5/temp.grib.5b7b6.idx' older than GRIB file\n"
     ]
    },
    {
     "name": "stdout",
     "output_type": "stream",
     "text": [
      "Phyllis  is finished\n",
      "Processing  Phyllis\n"
     ]
    },
    {
     "name": "stderr",
     "output_type": "stream",
     "text": [
      "Ignoring index file '/home/dl392/data/yiwei/typhoon/EAR5/temp.grib.5b7b6.idx' older than GRIB file\n"
     ]
    },
    {
     "name": "stdout",
     "output_type": "stream",
     "text": [
      "Phyllis  is finished\n",
      "Processing  Phyllis\n"
     ]
    },
    {
     "name": "stderr",
     "output_type": "stream",
     "text": [
      "Ignoring index file '/home/dl392/data/yiwei/typhoon/EAR5/temp.grib.5b7b6.idx' older than GRIB file\n"
     ]
    },
    {
     "name": "stdout",
     "output_type": "stream",
     "text": [
      "Phyllis  is finished\n",
      "Processing  Phyllis\n"
     ]
    },
    {
     "name": "stderr",
     "output_type": "stream",
     "text": [
      "Ignoring index file '/home/dl392/data/yiwei/typhoon/EAR5/temp.grib.5b7b6.idx' older than GRIB file\n"
     ]
    },
    {
     "name": "stdout",
     "output_type": "stream",
     "text": [
      "Phyllis  is finished\n",
      "Processing  Phyllis\n"
     ]
    },
    {
     "name": "stderr",
     "output_type": "stream",
     "text": [
      "Ignoring index file '/home/dl392/data/yiwei/typhoon/EAR5/temp.grib.5b7b6.idx' older than GRIB file\n"
     ]
    },
    {
     "name": "stdout",
     "output_type": "stream",
     "text": [
      "Phyllis  is finished\n",
      "Processing  Phyllis\n"
     ]
    },
    {
     "name": "stderr",
     "output_type": "stream",
     "text": [
      "Ignoring index file '/home/dl392/data/yiwei/typhoon/EAR5/temp.grib.5b7b6.idx' older than GRIB file\n"
     ]
    },
    {
     "name": "stdout",
     "output_type": "stream",
     "text": [
      "Phyllis  is finished\n",
      "Processing  Phyllis\n"
     ]
    },
    {
     "name": "stderr",
     "output_type": "stream",
     "text": [
      "Ignoring index file '/home/dl392/data/yiwei/typhoon/EAR5/temp.grib.5b7b6.idx' older than GRIB file\n"
     ]
    },
    {
     "name": "stdout",
     "output_type": "stream",
     "text": [
      "Phyllis  is finished\n",
      "Processing  Phyllis\n"
     ]
    },
    {
     "name": "stderr",
     "output_type": "stream",
     "text": [
      "Ignoring index file '/home/dl392/data/yiwei/typhoon/EAR5/temp.grib.5b7b6.idx' older than GRIB file\n"
     ]
    },
    {
     "name": "stdout",
     "output_type": "stream",
     "text": [
      "Phyllis  is finished\n",
      "Processing  Phyllis\n",
      "Phyllis  is finished\n",
      "Processing  Sarah\n"
     ]
    },
    {
     "name": "stderr",
     "output_type": "stream",
     "text": [
      "2024-11-24 02:45:47,119 WARNING [2024-10-10T00:00:00] The final validated ERA5 differs from ERA5T from July 2024 until further notice - please refer to our\n",
      "[Forum announcement](https://forum.ecmwf.int/t/final-validated-era5-product-to-differ-from-era5t-in-july-2024/6685)\n",
      "for details and watch it for further updates on this.\n",
      "2024-11-24 02:45:47,121 INFO Request ID is 22a76234-6130-48a5-a34c-98024cc2944e\n",
      "2024-11-24 02:45:47,335 INFO status has been updated to accepted\n",
      "2024-11-24 02:45:52,848 INFO status has been updated to running\n",
      "2024-11-24 02:45:59,172 INFO status has been updated to successful\n",
      "Ignoring index file '/home/dl392/data/yiwei/typhoon/EAR5/temp.grib.5b7b6.idx' older than GRIB file\n",
      "Ignoring index file '/home/dl392/data/yiwei/typhoon/EAR5/temp.grib.5b7b6.idx' older than GRIB file\n"
     ]
    },
    {
     "name": "stdout",
     "output_type": "stream",
     "text": [
      "Sarah  is finished\n",
      "Processing  Sarah\n"
     ]
    },
    {
     "name": "stderr",
     "output_type": "stream",
     "text": [
      "Ignoring index file '/home/dl392/data/yiwei/typhoon/EAR5/temp.grib.5b7b6.idx' older than GRIB file\n"
     ]
    },
    {
     "name": "stdout",
     "output_type": "stream",
     "text": [
      "Sarah  is finished\n",
      "Processing  Sarah\n"
     ]
    },
    {
     "name": "stderr",
     "output_type": "stream",
     "text": [
      "Ignoring index file '/home/dl392/data/yiwei/typhoon/EAR5/temp.grib.5b7b6.idx' older than GRIB file\n"
     ]
    },
    {
     "name": "stdout",
     "output_type": "stream",
     "text": [
      "Sarah  is finished\n",
      "Processing  Sarah\n"
     ]
    },
    {
     "name": "stderr",
     "output_type": "stream",
     "text": [
      "Ignoring index file '/home/dl392/data/yiwei/typhoon/EAR5/temp.grib.5b7b6.idx' older than GRIB file\n"
     ]
    },
    {
     "name": "stdout",
     "output_type": "stream",
     "text": [
      "Sarah  is finished\n",
      "Processing  Sarah\n"
     ]
    },
    {
     "name": "stderr",
     "output_type": "stream",
     "text": [
      "Ignoring index file '/home/dl392/data/yiwei/typhoon/EAR5/temp.grib.5b7b6.idx' older than GRIB file\n"
     ]
    },
    {
     "name": "stdout",
     "output_type": "stream",
     "text": [
      "Sarah  is finished\n",
      "Processing  Sarah\n"
     ]
    },
    {
     "name": "stderr",
     "output_type": "stream",
     "text": [
      "Ignoring index file '/home/dl392/data/yiwei/typhoon/EAR5/temp.grib.5b7b6.idx' older than GRIB file\n"
     ]
    },
    {
     "name": "stdout",
     "output_type": "stream",
     "text": [
      "Sarah  is finished\n",
      "Processing  Sarah\n"
     ]
    },
    {
     "name": "stderr",
     "output_type": "stream",
     "text": [
      "Ignoring index file '/home/dl392/data/yiwei/typhoon/EAR5/temp.grib.5b7b6.idx' older than GRIB file\n"
     ]
    },
    {
     "name": "stdout",
     "output_type": "stream",
     "text": [
      "Sarah  is finished\n",
      "Processing  Sarah\n"
     ]
    },
    {
     "name": "stderr",
     "output_type": "stream",
     "text": [
      "Ignoring index file '/home/dl392/data/yiwei/typhoon/EAR5/temp.grib.5b7b6.idx' older than GRIB file\n"
     ]
    },
    {
     "name": "stdout",
     "output_type": "stream",
     "text": [
      "Sarah  is finished\n",
      "Processing  Sarah\n"
     ]
    },
    {
     "name": "stderr",
     "output_type": "stream",
     "text": [
      "Ignoring index file '/home/dl392/data/yiwei/typhoon/EAR5/temp.grib.5b7b6.idx' older than GRIB file\n"
     ]
    },
    {
     "name": "stdout",
     "output_type": "stream",
     "text": [
      "Sarah  is finished\n",
      "Processing  Sarah\n"
     ]
    },
    {
     "name": "stderr",
     "output_type": "stream",
     "text": [
      "Ignoring index file '/home/dl392/data/yiwei/typhoon/EAR5/temp.grib.5b7b6.idx' older than GRIB file\n"
     ]
    },
    {
     "name": "stdout",
     "output_type": "stream",
     "text": [
      "Sarah  is finished\n",
      "Processing  Sarah\n"
     ]
    },
    {
     "name": "stderr",
     "output_type": "stream",
     "text": [
      "Ignoring index file '/home/dl392/data/yiwei/typhoon/EAR5/temp.grib.5b7b6.idx' older than GRIB file\n"
     ]
    },
    {
     "name": "stdout",
     "output_type": "stream",
     "text": [
      "Sarah  is finished\n",
      "Processing  Sarah\n",
      "Sarah  is finished\n",
      "Processing  Alice\n"
     ]
    },
    {
     "name": "stderr",
     "output_type": "stream",
     "text": [
      "2024-11-24 02:46:36,904 WARNING [2024-10-10T00:00:00] The final validated ERA5 differs from ERA5T from July 2024 until further notice - please refer to our\n",
      "[Forum announcement](https://forum.ecmwf.int/t/final-validated-era5-product-to-differ-from-era5t-in-july-2024/6685)\n",
      "for details and watch it for further updates on this.\n",
      "2024-11-24 02:46:36,906 INFO Request ID is 4385eb34-2b7e-47c8-80a1-7add162a896a\n",
      "2024-11-24 02:46:37,181 INFO status has been updated to accepted\n",
      "2024-11-24 02:46:43,273 INFO status has been updated to running\n",
      "2024-11-24 02:46:52,224 INFO status has been updated to successful\n",
      "Ignoring index file '/home/dl392/data/yiwei/typhoon/EAR5/temp.grib.5b7b6.idx' older than GRIB file\n",
      "Ignoring index file '/home/dl392/data/yiwei/typhoon/EAR5/temp.grib.5b7b6.idx' older than GRIB file\n"
     ]
    },
    {
     "name": "stdout",
     "output_type": "stream",
     "text": [
      "Alice  is finished\n",
      "Processing  Alice\n"
     ]
    },
    {
     "name": "stderr",
     "output_type": "stream",
     "text": [
      "Ignoring index file '/home/dl392/data/yiwei/typhoon/EAR5/temp.grib.5b7b6.idx' older than GRIB file\n"
     ]
    },
    {
     "name": "stdout",
     "output_type": "stream",
     "text": [
      "Alice  is finished\n",
      "Processing  Alice\n"
     ]
    },
    {
     "name": "stderr",
     "output_type": "stream",
     "text": [
      "Ignoring index file '/home/dl392/data/yiwei/typhoon/EAR5/temp.grib.5b7b6.idx' older than GRIB file\n"
     ]
    },
    {
     "name": "stdout",
     "output_type": "stream",
     "text": [
      "Alice  is finished\n",
      "Processing  Alice\n"
     ]
    },
    {
     "name": "stderr",
     "output_type": "stream",
     "text": [
      "Ignoring index file '/home/dl392/data/yiwei/typhoon/EAR5/temp.grib.5b7b6.idx' older than GRIB file\n"
     ]
    },
    {
     "name": "stdout",
     "output_type": "stream",
     "text": [
      "Alice  is finished\n",
      "Processing  Alice\n"
     ]
    },
    {
     "name": "stderr",
     "output_type": "stream",
     "text": [
      "Ignoring index file '/home/dl392/data/yiwei/typhoon/EAR5/temp.grib.5b7b6.idx' older than GRIB file\n"
     ]
    },
    {
     "name": "stdout",
     "output_type": "stream",
     "text": [
      "Alice  is finished\n",
      "Processing  Alice\n"
     ]
    },
    {
     "name": "stderr",
     "output_type": "stream",
     "text": [
      "Ignoring index file '/home/dl392/data/yiwei/typhoon/EAR5/temp.grib.5b7b6.idx' older than GRIB file\n"
     ]
    },
    {
     "name": "stdout",
     "output_type": "stream",
     "text": [
      "Alice  is finished\n",
      "Processing  Alice\n"
     ]
    },
    {
     "name": "stderr",
     "output_type": "stream",
     "text": [
      "Ignoring index file '/home/dl392/data/yiwei/typhoon/EAR5/temp.grib.5b7b6.idx' older than GRIB file\n"
     ]
    },
    {
     "name": "stdout",
     "output_type": "stream",
     "text": [
      "Alice  is finished\n",
      "Processing  Alice\n"
     ]
    },
    {
     "name": "stderr",
     "output_type": "stream",
     "text": [
      "Ignoring index file '/home/dl392/data/yiwei/typhoon/EAR5/temp.grib.5b7b6.idx' older than GRIB file\n"
     ]
    },
    {
     "name": "stdout",
     "output_type": "stream",
     "text": [
      "Alice  is finished\n",
      "Processing  Alice\n"
     ]
    },
    {
     "name": "stderr",
     "output_type": "stream",
     "text": [
      "Ignoring index file '/home/dl392/data/yiwei/typhoon/EAR5/temp.grib.5b7b6.idx' older than GRIB file\n"
     ]
    },
    {
     "name": "stdout",
     "output_type": "stream",
     "text": [
      "Alice  is finished\n",
      "Processing  Alice\n"
     ]
    },
    {
     "name": "stderr",
     "output_type": "stream",
     "text": [
      "Ignoring index file '/home/dl392/data/yiwei/typhoon/EAR5/temp.grib.5b7b6.idx' older than GRIB file\n"
     ]
    },
    {
     "name": "stdout",
     "output_type": "stream",
     "text": [
      "Alice  is finished\n",
      "Processing  Alice\n"
     ]
    },
    {
     "name": "stderr",
     "output_type": "stream",
     "text": [
      "Ignoring index file '/home/dl392/data/yiwei/typhoon/EAR5/temp.grib.5b7b6.idx' older than GRIB file\n"
     ]
    },
    {
     "name": "stdout",
     "output_type": "stream",
     "text": [
      "Alice  is finished\n",
      "Processing  Alice\n"
     ]
    },
    {
     "name": "stderr",
     "output_type": "stream",
     "text": [
      "Ignoring index file '/home/dl392/data/yiwei/typhoon/EAR5/temp.grib.5b7b6.idx' older than GRIB file\n"
     ]
    },
    {
     "name": "stdout",
     "output_type": "stream",
     "text": [
      "Alice  is finished\n",
      "Processing  Alice\n"
     ]
    },
    {
     "name": "stderr",
     "output_type": "stream",
     "text": [
      "Ignoring index file '/home/dl392/data/yiwei/typhoon/EAR5/temp.grib.5b7b6.idx' older than GRIB file\n"
     ]
    },
    {
     "name": "stdout",
     "output_type": "stream",
     "text": [
      "Alice  is finished\n",
      "Processing  Alice\n"
     ]
    },
    {
     "name": "stderr",
     "output_type": "stream",
     "text": [
      "Ignoring index file '/home/dl392/data/yiwei/typhoon/EAR5/temp.grib.5b7b6.idx' older than GRIB file\n"
     ]
    },
    {
     "name": "stdout",
     "output_type": "stream",
     "text": [
      "Alice  is finished\n",
      "Processing  Alice\n"
     ]
    },
    {
     "name": "stderr",
     "output_type": "stream",
     "text": [
      "Ignoring index file '/home/dl392/data/yiwei/typhoon/EAR5/temp.grib.5b7b6.idx' older than GRIB file\n"
     ]
    },
    {
     "name": "stdout",
     "output_type": "stream",
     "text": [
      "Alice  is finished\n",
      "Processing  Alice\n"
     ]
    },
    {
     "name": "stderr",
     "output_type": "stream",
     "text": [
      "Ignoring index file '/home/dl392/data/yiwei/typhoon/EAR5/temp.grib.5b7b6.idx' older than GRIB file\n"
     ]
    },
    {
     "name": "stdout",
     "output_type": "stream",
     "text": [
      "Alice  is finished\n",
      "Processing  Alice\n"
     ]
    },
    {
     "name": "stderr",
     "output_type": "stream",
     "text": [
      "Ignoring index file '/home/dl392/data/yiwei/typhoon/EAR5/temp.grib.5b7b6.idx' older than GRIB file\n"
     ]
    },
    {
     "name": "stdout",
     "output_type": "stream",
     "text": [
      "Alice  is finished\n",
      "Processing  Alice\n"
     ]
    },
    {
     "name": "stderr",
     "output_type": "stream",
     "text": [
      "Ignoring index file '/home/dl392/data/yiwei/typhoon/EAR5/temp.grib.5b7b6.idx' older than GRIB file\n"
     ]
    },
    {
     "name": "stdout",
     "output_type": "stream",
     "text": [
      "Alice  is finished\n",
      "Processing  Alice\n"
     ]
    },
    {
     "name": "stderr",
     "output_type": "stream",
     "text": [
      "Ignoring index file '/home/dl392/data/yiwei/typhoon/EAR5/temp.grib.5b7b6.idx' older than GRIB file\n"
     ]
    },
    {
     "name": "stdout",
     "output_type": "stream",
     "text": [
      "Alice  is finished\n",
      "Processing  Alice\n"
     ]
    },
    {
     "name": "stderr",
     "output_type": "stream",
     "text": [
      "Ignoring index file '/home/dl392/data/yiwei/typhoon/EAR5/temp.grib.5b7b6.idx' older than GRIB file\n"
     ]
    },
    {
     "name": "stdout",
     "output_type": "stream",
     "text": [
      "Alice  is finished\n",
      "Processing  Alice\n"
     ]
    },
    {
     "name": "stderr",
     "output_type": "stream",
     "text": [
      "Ignoring index file '/home/dl392/data/yiwei/typhoon/EAR5/temp.grib.5b7b6.idx' older than GRIB file\n"
     ]
    },
    {
     "name": "stdout",
     "output_type": "stream",
     "text": [
      "Alice  is finished\n",
      "Processing  Alice\n"
     ]
    },
    {
     "name": "stderr",
     "output_type": "stream",
     "text": [
      "Ignoring index file '/home/dl392/data/yiwei/typhoon/EAR5/temp.grib.5b7b6.idx' older than GRIB file\n"
     ]
    },
    {
     "name": "stdout",
     "output_type": "stream",
     "text": [
      "Alice  is finished\n",
      "Processing  Alice\n"
     ]
    },
    {
     "name": "stderr",
     "output_type": "stream",
     "text": [
      "Ignoring index file '/home/dl392/data/yiwei/typhoon/EAR5/temp.grib.5b7b6.idx' older than GRIB file\n"
     ]
    },
    {
     "name": "stdout",
     "output_type": "stream",
     "text": [
      "Alice  is finished\n",
      "Processing  Alice\n"
     ]
    },
    {
     "name": "stderr",
     "output_type": "stream",
     "text": [
      "Ignoring index file '/home/dl392/data/yiwei/typhoon/EAR5/temp.grib.5b7b6.idx' older than GRIB file\n"
     ]
    },
    {
     "name": "stdout",
     "output_type": "stream",
     "text": [
      "Alice  is finished\n",
      "Processing  Alice\n"
     ]
    },
    {
     "name": "stderr",
     "output_type": "stream",
     "text": [
      "Ignoring index file '/home/dl392/data/yiwei/typhoon/EAR5/temp.grib.5b7b6.idx' older than GRIB file\n"
     ]
    },
    {
     "name": "stdout",
     "output_type": "stream",
     "text": [
      "Alice  is finished\n",
      "Processing  Alice\n"
     ]
    },
    {
     "name": "stderr",
     "output_type": "stream",
     "text": [
      "Ignoring index file '/home/dl392/data/yiwei/typhoon/EAR5/temp.grib.5b7b6.idx' older than GRIB file\n"
     ]
    },
    {
     "name": "stdout",
     "output_type": "stream",
     "text": [
      "Alice  is finished\n",
      "Processing  Alice\n"
     ]
    },
    {
     "name": "stderr",
     "output_type": "stream",
     "text": [
      "Ignoring index file '/home/dl392/data/yiwei/typhoon/EAR5/temp.grib.5b7b6.idx' older than GRIB file\n"
     ]
    },
    {
     "name": "stdout",
     "output_type": "stream",
     "text": [
      "Alice  is finished\n",
      "Processing  Alice\n"
     ]
    },
    {
     "name": "stderr",
     "output_type": "stream",
     "text": [
      "Ignoring index file '/home/dl392/data/yiwei/typhoon/EAR5/temp.grib.5b7b6.idx' older than GRIB file\n"
     ]
    },
    {
     "name": "stdout",
     "output_type": "stream",
     "text": [
      "Alice  is finished\n",
      "Processing  Alice\n"
     ]
    },
    {
     "name": "stderr",
     "output_type": "stream",
     "text": [
      "Ignoring index file '/home/dl392/data/yiwei/typhoon/EAR5/temp.grib.5b7b6.idx' older than GRIB file\n"
     ]
    },
    {
     "name": "stdout",
     "output_type": "stream",
     "text": [
      "Alice  is finished\n",
      "Processing  Alice\n"
     ]
    },
    {
     "name": "stderr",
     "output_type": "stream",
     "text": [
      "Ignoring index file '/home/dl392/data/yiwei/typhoon/EAR5/temp.grib.5b7b6.idx' older than GRIB file\n"
     ]
    },
    {
     "name": "stdout",
     "output_type": "stream",
     "text": [
      "Alice  is finished\n",
      "Processing  Alice\n"
     ]
    },
    {
     "name": "stderr",
     "output_type": "stream",
     "text": [
      "Ignoring index file '/home/dl392/data/yiwei/typhoon/EAR5/temp.grib.5b7b6.idx' older than GRIB file\n"
     ]
    },
    {
     "name": "stdout",
     "output_type": "stream",
     "text": [
      "Alice  is finished\n",
      "Processing  Alice\n"
     ]
    },
    {
     "name": "stderr",
     "output_type": "stream",
     "text": [
      "Ignoring index file '/home/dl392/data/yiwei/typhoon/EAR5/temp.grib.5b7b6.idx' older than GRIB file\n"
     ]
    },
    {
     "name": "stdout",
     "output_type": "stream",
     "text": [
      "Alice  is finished\n",
      "Processing  Alice\n"
     ]
    },
    {
     "name": "stderr",
     "output_type": "stream",
     "text": [
      "Ignoring index file '/home/dl392/data/yiwei/typhoon/EAR5/temp.grib.5b7b6.idx' older than GRIB file\n"
     ]
    },
    {
     "name": "stdout",
     "output_type": "stream",
     "text": [
      "Alice  is finished\n",
      "Processing  Alice\n"
     ]
    },
    {
     "name": "stderr",
     "output_type": "stream",
     "text": [
      "Ignoring index file '/home/dl392/data/yiwei/typhoon/EAR5/temp.grib.5b7b6.idx' older than GRIB file\n"
     ]
    },
    {
     "name": "stdout",
     "output_type": "stream",
     "text": [
      "Alice  is finished\n",
      "Processing  Alice\n"
     ]
    },
    {
     "name": "stderr",
     "output_type": "stream",
     "text": [
      "Ignoring index file '/home/dl392/data/yiwei/typhoon/EAR5/temp.grib.5b7b6.idx' older than GRIB file\n"
     ]
    },
    {
     "name": "stdout",
     "output_type": "stream",
     "text": [
      "Alice  is finished\n",
      "Processing  Alice\n"
     ]
    },
    {
     "name": "stderr",
     "output_type": "stream",
     "text": [
      "Ignoring index file '/home/dl392/data/yiwei/typhoon/EAR5/temp.grib.5b7b6.idx' older than GRIB file\n"
     ]
    },
    {
     "name": "stdout",
     "output_type": "stream",
     "text": [
      "Alice  is finished\n",
      "Processing  Alice\n"
     ]
    },
    {
     "name": "stderr",
     "output_type": "stream",
     "text": [
      "Ignoring index file '/home/dl392/data/yiwei/typhoon/EAR5/temp.grib.5b7b6.idx' older than GRIB file\n"
     ]
    },
    {
     "name": "stdout",
     "output_type": "stream",
     "text": [
      "Alice  is finished\n",
      "Processing  Alice\n"
     ]
    },
    {
     "name": "stderr",
     "output_type": "stream",
     "text": [
      "Ignoring index file '/home/dl392/data/yiwei/typhoon/EAR5/temp.grib.5b7b6.idx' older than GRIB file\n"
     ]
    },
    {
     "name": "stdout",
     "output_type": "stream",
     "text": [
      "Alice  is finished\n",
      "Processing  Alice\n"
     ]
    },
    {
     "name": "stderr",
     "output_type": "stream",
     "text": [
      "Ignoring index file '/home/dl392/data/yiwei/typhoon/EAR5/temp.grib.5b7b6.idx' older than GRIB file\n"
     ]
    },
    {
     "name": "stdout",
     "output_type": "stream",
     "text": [
      "Alice  is finished\n",
      "Processing  Alice\n"
     ]
    },
    {
     "name": "stderr",
     "output_type": "stream",
     "text": [
      "Ignoring index file '/home/dl392/data/yiwei/typhoon/EAR5/temp.grib.5b7b6.idx' older than GRIB file\n"
     ]
    },
    {
     "name": "stdout",
     "output_type": "stream",
     "text": [
      "Alice  is finished\n",
      "Processing  Alice\n"
     ]
    },
    {
     "name": "stderr",
     "output_type": "stream",
     "text": [
      "Ignoring index file '/home/dl392/data/yiwei/typhoon/EAR5/temp.grib.5b7b6.idx' older than GRIB file\n"
     ]
    },
    {
     "name": "stdout",
     "output_type": "stream",
     "text": [
      "Alice  is finished\n",
      "Processing  Alice\n"
     ]
    },
    {
     "name": "stderr",
     "output_type": "stream",
     "text": [
      "Ignoring index file '/home/dl392/data/yiwei/typhoon/EAR5/temp.grib.5b7b6.idx' older than GRIB file\n"
     ]
    },
    {
     "name": "stdout",
     "output_type": "stream",
     "text": [
      "Alice  is finished\n",
      "Processing  Alice\n"
     ]
    },
    {
     "name": "stderr",
     "output_type": "stream",
     "text": [
      "Ignoring index file '/home/dl392/data/yiwei/typhoon/EAR5/temp.grib.5b7b6.idx' older than GRIB file\n"
     ]
    },
    {
     "name": "stdout",
     "output_type": "stream",
     "text": [
      "Alice  is finished\n",
      "Processing  Alice\n"
     ]
    },
    {
     "name": "stderr",
     "output_type": "stream",
     "text": [
      "Ignoring index file '/home/dl392/data/yiwei/typhoon/EAR5/temp.grib.5b7b6.idx' older than GRIB file\n"
     ]
    },
    {
     "name": "stdout",
     "output_type": "stream",
     "text": [
      "Alice  is finished\n",
      "Processing  Alice\n"
     ]
    },
    {
     "name": "stderr",
     "output_type": "stream",
     "text": [
      "Ignoring index file '/home/dl392/data/yiwei/typhoon/EAR5/temp.grib.5b7b6.idx' older than GRIB file\n"
     ]
    },
    {
     "name": "stdout",
     "output_type": "stream",
     "text": [
      "Alice  is finished\n",
      "Processing  Alice\n"
     ]
    },
    {
     "name": "stderr",
     "output_type": "stream",
     "text": [
      "Ignoring index file '/home/dl392/data/yiwei/typhoon/EAR5/temp.grib.5b7b6.idx' older than GRIB file\n"
     ]
    },
    {
     "name": "stdout",
     "output_type": "stream",
     "text": [
      "Alice  is finished\n",
      "Processing  Alice\n"
     ]
    },
    {
     "name": "stderr",
     "output_type": "stream",
     "text": [
      "Ignoring index file '/home/dl392/data/yiwei/typhoon/EAR5/temp.grib.5b7b6.idx' older than GRIB file\n"
     ]
    },
    {
     "name": "stdout",
     "output_type": "stream",
     "text": [
      "Alice  is finished\n",
      "Processing  Alice\n"
     ]
    },
    {
     "name": "stderr",
     "output_type": "stream",
     "text": [
      "Ignoring index file '/home/dl392/data/yiwei/typhoon/EAR5/temp.grib.5b7b6.idx' older than GRIB file\n"
     ]
    },
    {
     "name": "stdout",
     "output_type": "stream",
     "text": [
      "Alice  is finished\n",
      "Processing  Alice\n"
     ]
    },
    {
     "name": "stderr",
     "output_type": "stream",
     "text": [
      "Ignoring index file '/home/dl392/data/yiwei/typhoon/EAR5/temp.grib.5b7b6.idx' older than GRIB file\n"
     ]
    },
    {
     "name": "stdout",
     "output_type": "stream",
     "text": [
      "Alice  is finished\n",
      "Processing  Alice\n"
     ]
    },
    {
     "name": "stderr",
     "output_type": "stream",
     "text": [
      "Ignoring index file '/home/dl392/data/yiwei/typhoon/EAR5/temp.grib.5b7b6.idx' older than GRIB file\n"
     ]
    },
    {
     "name": "stdout",
     "output_type": "stream",
     "text": [
      "Alice  is finished\n",
      "Processing  Alice\n"
     ]
    },
    {
     "name": "stderr",
     "output_type": "stream",
     "text": [
      "Ignoring index file '/home/dl392/data/yiwei/typhoon/EAR5/temp.grib.5b7b6.idx' older than GRIB file\n"
     ]
    },
    {
     "name": "stdout",
     "output_type": "stream",
     "text": [
      "Alice  is finished\n",
      "Processing  Alice\n"
     ]
    },
    {
     "name": "stderr",
     "output_type": "stream",
     "text": [
      "Ignoring index file '/home/dl392/data/yiwei/typhoon/EAR5/temp.grib.5b7b6.idx' older than GRIB file\n"
     ]
    },
    {
     "name": "stdout",
     "output_type": "stream",
     "text": [
      "Alice  is finished\n",
      "Processing  Alice\n"
     ]
    },
    {
     "name": "stderr",
     "output_type": "stream",
     "text": [
      "Ignoring index file '/home/dl392/data/yiwei/typhoon/EAR5/temp.grib.5b7b6.idx' older than GRIB file\n"
     ]
    },
    {
     "name": "stdout",
     "output_type": "stream",
     "text": [
      "Alice  is finished\n",
      "Processing  Alice\n"
     ]
    },
    {
     "name": "stderr",
     "output_type": "stream",
     "text": [
      "Ignoring index file '/home/dl392/data/yiwei/typhoon/EAR5/temp.grib.5b7b6.idx' older than GRIB file\n"
     ]
    },
    {
     "name": "stdout",
     "output_type": "stream",
     "text": [
      "Alice  is finished\n",
      "Processing  Alice\n"
     ]
    },
    {
     "name": "stderr",
     "output_type": "stream",
     "text": [
      "Ignoring index file '/home/dl392/data/yiwei/typhoon/EAR5/temp.grib.5b7b6.idx' older than GRIB file\n"
     ]
    },
    {
     "name": "stdout",
     "output_type": "stream",
     "text": [
      "Alice  is finished\n",
      "Processing  Alice\n"
     ]
    },
    {
     "name": "stderr",
     "output_type": "stream",
     "text": [
      "Ignoring index file '/home/dl392/data/yiwei/typhoon/EAR5/temp.grib.5b7b6.idx' older than GRIB file\n"
     ]
    },
    {
     "name": "stdout",
     "output_type": "stream",
     "text": [
      "Alice  is finished\n",
      "Processing  Alice\n"
     ]
    },
    {
     "name": "stderr",
     "output_type": "stream",
     "text": [
      "Ignoring index file '/home/dl392/data/yiwei/typhoon/EAR5/temp.grib.5b7b6.idx' older than GRIB file\n"
     ]
    },
    {
     "name": "stdout",
     "output_type": "stream",
     "text": [
      "Alice  is finished\n",
      "Processing  Alice\n"
     ]
    },
    {
     "name": "stderr",
     "output_type": "stream",
     "text": [
      "Ignoring index file '/home/dl392/data/yiwei/typhoon/EAR5/temp.grib.5b7b6.idx' older than GRIB file\n"
     ]
    },
    {
     "name": "stdout",
     "output_type": "stream",
     "text": [
      "Alice  is finished\n",
      "Processing  Alice\n"
     ]
    },
    {
     "name": "stderr",
     "output_type": "stream",
     "text": [
      "Ignoring index file '/home/dl392/data/yiwei/typhoon/EAR5/temp.grib.5b7b6.idx' older than GRIB file\n"
     ]
    },
    {
     "name": "stdout",
     "output_type": "stream",
     "text": [
      "Alice  is finished\n",
      "Processing  Alice\n"
     ]
    },
    {
     "name": "stderr",
     "output_type": "stream",
     "text": [
      "Ignoring index file '/home/dl392/data/yiwei/typhoon/EAR5/temp.grib.5b7b6.idx' older than GRIB file\n"
     ]
    },
    {
     "name": "stdout",
     "output_type": "stream",
     "text": [
      "Alice  is finished\n",
      "Processing  Alice\n",
      "Alice  is finished\n",
      "Processing  Lingling\n"
     ]
    },
    {
     "name": "stderr",
     "output_type": "stream",
     "text": [
      "2024-11-24 02:49:27,013 WARNING [2024-10-10T00:00:00] The final validated ERA5 differs from ERA5T from July 2024 until further notice - please refer to our\n",
      "[Forum announcement](https://forum.ecmwf.int/t/final-validated-era5-product-to-differ-from-era5t-in-july-2024/6685)\n",
      "for details and watch it for further updates on this.\n",
      "2024-11-24 02:49:27,016 INFO Request ID is f7521271-5803-458c-974c-8dc59e0e60cf\n",
      "2024-11-24 02:49:27,267 INFO status has been updated to accepted\n",
      "2024-11-24 02:49:31,269 INFO status has been updated to running\n",
      "2024-11-24 02:49:37,436 INFO status has been updated to successful\n",
      "Ignoring index file '/home/dl392/data/yiwei/typhoon/EAR5/temp.grib.5b7b6.idx' older than GRIB file\n",
      "Ignoring index file '/home/dl392/data/yiwei/typhoon/EAR5/temp.grib.5b7b6.idx' older than GRIB file\n"
     ]
    },
    {
     "name": "stdout",
     "output_type": "stream",
     "text": [
      "Lingling  is finished\n",
      "Processing  Lingling\n"
     ]
    },
    {
     "name": "stderr",
     "output_type": "stream",
     "text": [
      "Ignoring index file '/home/dl392/data/yiwei/typhoon/EAR5/temp.grib.5b7b6.idx' older than GRIB file\n"
     ]
    },
    {
     "name": "stdout",
     "output_type": "stream",
     "text": [
      "Lingling  is finished\n",
      "Processing  Lingling\n"
     ]
    },
    {
     "name": "stderr",
     "output_type": "stream",
     "text": [
      "Ignoring index file '/home/dl392/data/yiwei/typhoon/EAR5/temp.grib.5b7b6.idx' older than GRIB file\n"
     ]
    },
    {
     "name": "stdout",
     "output_type": "stream",
     "text": [
      "Lingling  is finished\n",
      "Processing  Lingling\n"
     ]
    },
    {
     "name": "stderr",
     "output_type": "stream",
     "text": [
      "Ignoring index file '/home/dl392/data/yiwei/typhoon/EAR5/temp.grib.5b7b6.idx' older than GRIB file\n"
     ]
    },
    {
     "name": "stdout",
     "output_type": "stream",
     "text": [
      "Lingling  is finished\n",
      "Processing  Lingling\n"
     ]
    },
    {
     "name": "stderr",
     "output_type": "stream",
     "text": [
      "Ignoring index file '/home/dl392/data/yiwei/typhoon/EAR5/temp.grib.5b7b6.idx' older than GRIB file\n"
     ]
    },
    {
     "name": "stdout",
     "output_type": "stream",
     "text": [
      "Lingling  is finished\n",
      "Processing  Lingling\n"
     ]
    },
    {
     "name": "stderr",
     "output_type": "stream",
     "text": [
      "Ignoring index file '/home/dl392/data/yiwei/typhoon/EAR5/temp.grib.5b7b6.idx' older than GRIB file\n"
     ]
    },
    {
     "name": "stdout",
     "output_type": "stream",
     "text": [
      "Lingling  is finished\n",
      "Processing  Lingling\n"
     ]
    },
    {
     "name": "stderr",
     "output_type": "stream",
     "text": [
      "Ignoring index file '/home/dl392/data/yiwei/typhoon/EAR5/temp.grib.5b7b6.idx' older than GRIB file\n"
     ]
    },
    {
     "name": "stdout",
     "output_type": "stream",
     "text": [
      "Lingling  is finished\n",
      "Processing  Lingling\n"
     ]
    },
    {
     "name": "stderr",
     "output_type": "stream",
     "text": [
      "Ignoring index file '/home/dl392/data/yiwei/typhoon/EAR5/temp.grib.5b7b6.idx' older than GRIB file\n"
     ]
    },
    {
     "name": "stdout",
     "output_type": "stream",
     "text": [
      "Lingling  is finished\n",
      "Processing  Lingling\n"
     ]
    },
    {
     "name": "stderr",
     "output_type": "stream",
     "text": [
      "Ignoring index file '/home/dl392/data/yiwei/typhoon/EAR5/temp.grib.5b7b6.idx' older than GRIB file\n"
     ]
    },
    {
     "name": "stdout",
     "output_type": "stream",
     "text": [
      "Lingling  is finished\n",
      "Processing  Lingling\n",
      "Lingling  is finished\n",
      "Processing  Owen\n"
     ]
    },
    {
     "name": "stderr",
     "output_type": "stream",
     "text": [
      "2024-11-24 02:49:59,328 WARNING [2024-10-10T00:00:00] The final validated ERA5 differs from ERA5T from July 2024 until further notice - please refer to our\n",
      "[Forum announcement](https://forum.ecmwf.int/t/final-validated-era5-product-to-differ-from-era5t-in-july-2024/6685)\n",
      "for details and watch it for further updates on this.\n",
      "2024-11-24 02:49:59,329 INFO Request ID is 77836318-1a9a-42b8-9406-06c7714e5d40\n",
      "2024-11-24 02:50:00,744 INFO status has been updated to accepted\n",
      "2024-11-24 02:50:03,890 INFO status has been updated to running\n",
      "2024-11-24 02:50:09,953 INFO status has been updated to successful\n",
      "Ignoring index file '/home/dl392/data/yiwei/typhoon/EAR5/temp.grib.5b7b6.idx' older than GRIB file\n",
      "Ignoring index file '/home/dl392/data/yiwei/typhoon/EAR5/temp.grib.5b7b6.idx' older than GRIB file\n"
     ]
    },
    {
     "name": "stdout",
     "output_type": "stream",
     "text": [
      "Owen  is finished\n",
      "Processing  Owen\n"
     ]
    },
    {
     "name": "stderr",
     "output_type": "stream",
     "text": [
      "Ignoring index file '/home/dl392/data/yiwei/typhoon/EAR5/temp.grib.5b7b6.idx' older than GRIB file\n"
     ]
    },
    {
     "name": "stdout",
     "output_type": "stream",
     "text": [
      "Owen  is finished\n",
      "Processing  Owen\n"
     ]
    },
    {
     "name": "stderr",
     "output_type": "stream",
     "text": [
      "Ignoring index file '/home/dl392/data/yiwei/typhoon/EAR5/temp.grib.5b7b6.idx' older than GRIB file\n"
     ]
    },
    {
     "name": "stdout",
     "output_type": "stream",
     "text": [
      "Owen  is finished\n",
      "Processing  Owen\n"
     ]
    },
    {
     "name": "stderr",
     "output_type": "stream",
     "text": [
      "Ignoring index file '/home/dl392/data/yiwei/typhoon/EAR5/temp.grib.5b7b6.idx' older than GRIB file\n"
     ]
    },
    {
     "name": "stdout",
     "output_type": "stream",
     "text": [
      "Owen  is finished\n",
      "Processing  Owen\n"
     ]
    },
    {
     "name": "stderr",
     "output_type": "stream",
     "text": [
      "Ignoring index file '/home/dl392/data/yiwei/typhoon/EAR5/temp.grib.5b7b6.idx' older than GRIB file\n"
     ]
    },
    {
     "name": "stdout",
     "output_type": "stream",
     "text": [
      "Owen  is finished\n",
      "Processing  Owen\n"
     ]
    },
    {
     "name": "stderr",
     "output_type": "stream",
     "text": [
      "Ignoring index file '/home/dl392/data/yiwei/typhoon/EAR5/temp.grib.5b7b6.idx' older than GRIB file\n"
     ]
    },
    {
     "name": "stdout",
     "output_type": "stream",
     "text": [
      "Owen  is finished\n",
      "Processing  Owen\n"
     ]
    },
    {
     "name": "stderr",
     "output_type": "stream",
     "text": [
      "Ignoring index file '/home/dl392/data/yiwei/typhoon/EAR5/temp.grib.5b7b6.idx' older than GRIB file\n"
     ]
    },
    {
     "name": "stdout",
     "output_type": "stream",
     "text": [
      "Owen  is finished\n",
      "Processing  Owen\n"
     ]
    },
    {
     "name": "stderr",
     "output_type": "stream",
     "text": [
      "Ignoring index file '/home/dl392/data/yiwei/typhoon/EAR5/temp.grib.5b7b6.idx' older than GRIB file\n"
     ]
    },
    {
     "name": "stdout",
     "output_type": "stream",
     "text": [
      "Owen  is finished\n",
      "Processing  Owen\n"
     ]
    },
    {
     "name": "stderr",
     "output_type": "stream",
     "text": [
      "Ignoring index file '/home/dl392/data/yiwei/typhoon/EAR5/temp.grib.5b7b6.idx' older than GRIB file\n"
     ]
    },
    {
     "name": "stdout",
     "output_type": "stream",
     "text": [
      "Owen  is finished\n",
      "Processing  Owen\n"
     ]
    },
    {
     "name": "stderr",
     "output_type": "stream",
     "text": [
      "Ignoring index file '/home/dl392/data/yiwei/typhoon/EAR5/temp.grib.5b7b6.idx' older than GRIB file\n"
     ]
    },
    {
     "name": "stdout",
     "output_type": "stream",
     "text": [
      "Owen  is finished\n",
      "Processing  Owen\n"
     ]
    },
    {
     "name": "stderr",
     "output_type": "stream",
     "text": [
      "Ignoring index file '/home/dl392/data/yiwei/typhoon/EAR5/temp.grib.5b7b6.idx' older than GRIB file\n"
     ]
    },
    {
     "name": "stdout",
     "output_type": "stream",
     "text": [
      "Owen  is finished\n",
      "Processing  Owen\n"
     ]
    },
    {
     "name": "stderr",
     "output_type": "stream",
     "text": [
      "Ignoring index file '/home/dl392/data/yiwei/typhoon/EAR5/temp.grib.5b7b6.idx' older than GRIB file\n"
     ]
    },
    {
     "name": "stdout",
     "output_type": "stream",
     "text": [
      "Owen  is finished\n",
      "Processing  Owen\n"
     ]
    },
    {
     "name": "stderr",
     "output_type": "stream",
     "text": [
      "Ignoring index file '/home/dl392/data/yiwei/typhoon/EAR5/temp.grib.5b7b6.idx' older than GRIB file\n"
     ]
    },
    {
     "name": "stdout",
     "output_type": "stream",
     "text": [
      "Owen  is finished\n",
      "Processing  Owen\n"
     ]
    },
    {
     "name": "stderr",
     "output_type": "stream",
     "text": [
      "Ignoring index file '/home/dl392/data/yiwei/typhoon/EAR5/temp.grib.5b7b6.idx' older than GRIB file\n"
     ]
    },
    {
     "name": "stdout",
     "output_type": "stream",
     "text": [
      "Owen  is finished\n",
      "Processing  Owen\n"
     ]
    },
    {
     "name": "stderr",
     "output_type": "stream",
     "text": [
      "Ignoring index file '/home/dl392/data/yiwei/typhoon/EAR5/temp.grib.5b7b6.idx' older than GRIB file\n"
     ]
    },
    {
     "name": "stdout",
     "output_type": "stream",
     "text": [
      "Owen  is finished\n",
      "Processing  Owen\n"
     ]
    },
    {
     "name": "stderr",
     "output_type": "stream",
     "text": [
      "Ignoring index file '/home/dl392/data/yiwei/typhoon/EAR5/temp.grib.5b7b6.idx' older than GRIB file\n"
     ]
    },
    {
     "name": "stdout",
     "output_type": "stream",
     "text": [
      "Owen  is finished\n",
      "Processing  Owen\n"
     ]
    },
    {
     "name": "stderr",
     "output_type": "stream",
     "text": [
      "Ignoring index file '/home/dl392/data/yiwei/typhoon/EAR5/temp.grib.5b7b6.idx' older than GRIB file\n"
     ]
    },
    {
     "name": "stdout",
     "output_type": "stream",
     "text": [
      "Owen  is finished\n",
      "Processing  Owen\n"
     ]
    },
    {
     "name": "stderr",
     "output_type": "stream",
     "text": [
      "Ignoring index file '/home/dl392/data/yiwei/typhoon/EAR5/temp.grib.5b7b6.idx' older than GRIB file\n"
     ]
    },
    {
     "name": "stdout",
     "output_type": "stream",
     "text": [
      "Owen  is finished\n",
      "Processing  Owen\n"
     ]
    },
    {
     "name": "stderr",
     "output_type": "stream",
     "text": [
      "Ignoring index file '/home/dl392/data/yiwei/typhoon/EAR5/temp.grib.5b7b6.idx' older than GRIB file\n"
     ]
    },
    {
     "name": "stdout",
     "output_type": "stream",
     "text": [
      "Owen  is finished\n",
      "Processing  Owen\n"
     ]
    },
    {
     "name": "stderr",
     "output_type": "stream",
     "text": [
      "Ignoring index file '/home/dl392/data/yiwei/typhoon/EAR5/temp.grib.5b7b6.idx' older than GRIB file\n"
     ]
    },
    {
     "name": "stdout",
     "output_type": "stream",
     "text": [
      "Owen  is finished\n",
      "Processing  Owen\n"
     ]
    },
    {
     "name": "stderr",
     "output_type": "stream",
     "text": [
      "Ignoring index file '/home/dl392/data/yiwei/typhoon/EAR5/temp.grib.5b7b6.idx' older than GRIB file\n"
     ]
    },
    {
     "name": "stdout",
     "output_type": "stream",
     "text": [
      "Owen  is finished\n",
      "Processing  Owen\n"
     ]
    },
    {
     "name": "stderr",
     "output_type": "stream",
     "text": [
      "Ignoring index file '/home/dl392/data/yiwei/typhoon/EAR5/temp.grib.5b7b6.idx' older than GRIB file\n"
     ]
    },
    {
     "name": "stdout",
     "output_type": "stream",
     "text": [
      "Owen  is finished\n",
      "Processing  Owen\n"
     ]
    },
    {
     "name": "stderr",
     "output_type": "stream",
     "text": [
      "Ignoring index file '/home/dl392/data/yiwei/typhoon/EAR5/temp.grib.5b7b6.idx' older than GRIB file\n"
     ]
    },
    {
     "name": "stdout",
     "output_type": "stream",
     "text": [
      "Owen  is finished\n",
      "Processing  Owen\n"
     ]
    },
    {
     "name": "stderr",
     "output_type": "stream",
     "text": [
      "Ignoring index file '/home/dl392/data/yiwei/typhoon/EAR5/temp.grib.5b7b6.idx' older than GRIB file\n"
     ]
    },
    {
     "name": "stdout",
     "output_type": "stream",
     "text": [
      "Owen  is finished\n",
      "Processing  Owen\n"
     ]
    },
    {
     "name": "stderr",
     "output_type": "stream",
     "text": [
      "Ignoring index file '/home/dl392/data/yiwei/typhoon/EAR5/temp.grib.5b7b6.idx' older than GRIB file\n"
     ]
    },
    {
     "name": "stdout",
     "output_type": "stream",
     "text": [
      "Owen  is finished\n",
      "Processing  Owen\n"
     ]
    },
    {
     "name": "stderr",
     "output_type": "stream",
     "text": [
      "Ignoring index file '/home/dl392/data/yiwei/typhoon/EAR5/temp.grib.5b7b6.idx' older than GRIB file\n"
     ]
    },
    {
     "name": "stdout",
     "output_type": "stream",
     "text": [
      "Owen  is finished\n",
      "Processing  Owen\n"
     ]
    },
    {
     "name": "stderr",
     "output_type": "stream",
     "text": [
      "Ignoring index file '/home/dl392/data/yiwei/typhoon/EAR5/temp.grib.5b7b6.idx' older than GRIB file\n"
     ]
    },
    {
     "name": "stdout",
     "output_type": "stream",
     "text": [
      "Owen  is finished\n",
      "Processing  Owen\n"
     ]
    },
    {
     "name": "stderr",
     "output_type": "stream",
     "text": [
      "Ignoring index file '/home/dl392/data/yiwei/typhoon/EAR5/temp.grib.5b7b6.idx' older than GRIB file\n"
     ]
    },
    {
     "name": "stdout",
     "output_type": "stream",
     "text": [
      "Owen  is finished\n",
      "Processing  Owen\n"
     ]
    },
    {
     "name": "stderr",
     "output_type": "stream",
     "text": [
      "Ignoring index file '/home/dl392/data/yiwei/typhoon/EAR5/temp.grib.5b7b6.idx' older than GRIB file\n"
     ]
    },
    {
     "name": "stdout",
     "output_type": "stream",
     "text": [
      "Owen  is finished\n",
      "Processing  Owen\n"
     ]
    },
    {
     "name": "stderr",
     "output_type": "stream",
     "text": [
      "Ignoring index file '/home/dl392/data/yiwei/typhoon/EAR5/temp.grib.5b7b6.idx' older than GRIB file\n"
     ]
    },
    {
     "name": "stdout",
     "output_type": "stream",
     "text": [
      "Owen  is finished\n",
      "Processing  Owen\n"
     ]
    },
    {
     "name": "stderr",
     "output_type": "stream",
     "text": [
      "Ignoring index file '/home/dl392/data/yiwei/typhoon/EAR5/temp.grib.5b7b6.idx' older than GRIB file\n"
     ]
    },
    {
     "name": "stdout",
     "output_type": "stream",
     "text": [
      "Owen  is finished\n",
      "Processing  Owen\n"
     ]
    },
    {
     "name": "stderr",
     "output_type": "stream",
     "text": [
      "Ignoring index file '/home/dl392/data/yiwei/typhoon/EAR5/temp.grib.5b7b6.idx' older than GRIB file\n"
     ]
    },
    {
     "name": "stdout",
     "output_type": "stream",
     "text": [
      "Owen  is finished\n",
      "Processing  Owen\n"
     ]
    },
    {
     "name": "stderr",
     "output_type": "stream",
     "text": [
      "Ignoring index file '/home/dl392/data/yiwei/typhoon/EAR5/temp.grib.5b7b6.idx' older than GRIB file\n"
     ]
    },
    {
     "name": "stdout",
     "output_type": "stream",
     "text": [
      "Owen  is finished\n",
      "Processing  Owen\n"
     ]
    },
    {
     "name": "stderr",
     "output_type": "stream",
     "text": [
      "Ignoring index file '/home/dl392/data/yiwei/typhoon/EAR5/temp.grib.5b7b6.idx' older than GRIB file\n"
     ]
    },
    {
     "name": "stdout",
     "output_type": "stream",
     "text": [
      "Owen  is finished\n",
      "Processing  Owen\n"
     ]
    },
    {
     "name": "stderr",
     "output_type": "stream",
     "text": [
      "Ignoring index file '/home/dl392/data/yiwei/typhoon/EAR5/temp.grib.5b7b6.idx' older than GRIB file\n"
     ]
    },
    {
     "name": "stdout",
     "output_type": "stream",
     "text": [
      "Owen  is finished\n",
      "Processing  Owen\n"
     ]
    },
    {
     "name": "stderr",
     "output_type": "stream",
     "text": [
      "Ignoring index file '/home/dl392/data/yiwei/typhoon/EAR5/temp.grib.5b7b6.idx' older than GRIB file\n"
     ]
    },
    {
     "name": "stdout",
     "output_type": "stream",
     "text": [
      "Owen  is finished\n",
      "Processing  Sarah\n"
     ]
    },
    {
     "name": "stderr",
     "output_type": "stream",
     "text": [
      "Ignoring index file '/home/dl392/data/yiwei/typhoon/EAR5/temp.grib.5b7b6.idx' older than GRIB file\n"
     ]
    },
    {
     "name": "stdout",
     "output_type": "stream",
     "text": [
      "Sarah  is finished\n",
      "Processing  Sarah\n"
     ]
    },
    {
     "name": "stderr",
     "output_type": "stream",
     "text": [
      "Ignoring index file '/home/dl392/data/yiwei/typhoon/EAR5/temp.grib.5b7b6.idx' older than GRIB file\n"
     ]
    },
    {
     "name": "stdout",
     "output_type": "stream",
     "text": [
      "Sarah  is finished\n",
      "Processing  Sarah\n"
     ]
    },
    {
     "name": "stderr",
     "output_type": "stream",
     "text": [
      "Ignoring index file '/home/dl392/data/yiwei/typhoon/EAR5/temp.grib.5b7b6.idx' older than GRIB file\n"
     ]
    },
    {
     "name": "stdout",
     "output_type": "stream",
     "text": [
      "Sarah  is finished\n",
      "Processing  Sarah\n"
     ]
    },
    {
     "name": "stderr",
     "output_type": "stream",
     "text": [
      "Ignoring index file '/home/dl392/data/yiwei/typhoon/EAR5/temp.grib.5b7b6.idx' older than GRIB file\n"
     ]
    },
    {
     "name": "stdout",
     "output_type": "stream",
     "text": [
      "Sarah  is finished\n",
      "Processing  Sarah\n"
     ]
    },
    {
     "name": "stderr",
     "output_type": "stream",
     "text": [
      "Ignoring index file '/home/dl392/data/yiwei/typhoon/EAR5/temp.grib.5b7b6.idx' older than GRIB file\n"
     ]
    },
    {
     "name": "stdout",
     "output_type": "stream",
     "text": [
      "Sarah  is finished\n",
      "Processing  Sarah\n"
     ]
    },
    {
     "name": "stderr",
     "output_type": "stream",
     "text": [
      "Ignoring index file '/home/dl392/data/yiwei/typhoon/EAR5/temp.grib.5b7b6.idx' older than GRIB file\n"
     ]
    },
    {
     "name": "stdout",
     "output_type": "stream",
     "text": [
      "Sarah  is finished\n",
      "Processing  Sarah\n"
     ]
    },
    {
     "name": "stderr",
     "output_type": "stream",
     "text": [
      "Ignoring index file '/home/dl392/data/yiwei/typhoon/EAR5/temp.grib.5b7b6.idx' older than GRIB file\n"
     ]
    },
    {
     "name": "stdout",
     "output_type": "stream",
     "text": [
      "Sarah  is finished\n",
      "Processing  Sarah\n"
     ]
    },
    {
     "name": "stderr",
     "output_type": "stream",
     "text": [
      "Ignoring index file '/home/dl392/data/yiwei/typhoon/EAR5/temp.grib.5b7b6.idx' older than GRIB file\n"
     ]
    },
    {
     "name": "stdout",
     "output_type": "stream",
     "text": [
      "Sarah  is finished\n",
      "Processing  Sarah\n"
     ]
    },
    {
     "name": "stderr",
     "output_type": "stream",
     "text": [
      "Ignoring index file '/home/dl392/data/yiwei/typhoon/EAR5/temp.grib.5b7b6.idx' older than GRIB file\n"
     ]
    },
    {
     "name": "stdout",
     "output_type": "stream",
     "text": [
      "Sarah  is finished\n",
      "Processing  Sarah\n"
     ]
    },
    {
     "name": "stderr",
     "output_type": "stream",
     "text": [
      "Ignoring index file '/home/dl392/data/yiwei/typhoon/EAR5/temp.grib.5b7b6.idx' older than GRIB file\n"
     ]
    },
    {
     "name": "stdout",
     "output_type": "stream",
     "text": [
      "Sarah  is finished\n",
      "Processing  Sarah\n"
     ]
    },
    {
     "name": "stderr",
     "output_type": "stream",
     "text": [
      "Ignoring index file '/home/dl392/data/yiwei/typhoon/EAR5/temp.grib.5b7b6.idx' older than GRIB file\n"
     ]
    },
    {
     "name": "stdout",
     "output_type": "stream",
     "text": [
      "Sarah  is finished\n",
      "Processing  Sarah\n"
     ]
    },
    {
     "name": "stderr",
     "output_type": "stream",
     "text": [
      "Ignoring index file '/home/dl392/data/yiwei/typhoon/EAR5/temp.grib.5b7b6.idx' older than GRIB file\n"
     ]
    },
    {
     "name": "stdout",
     "output_type": "stream",
     "text": [
      "Sarah  is finished\n",
      "Processing  Sarah\n"
     ]
    },
    {
     "name": "stderr",
     "output_type": "stream",
     "text": [
      "Ignoring index file '/home/dl392/data/yiwei/typhoon/EAR5/temp.grib.5b7b6.idx' older than GRIB file\n"
     ]
    },
    {
     "name": "stdout",
     "output_type": "stream",
     "text": [
      "Sarah  is finished\n",
      "Processing  Sarah\n"
     ]
    },
    {
     "name": "stderr",
     "output_type": "stream",
     "text": [
      "Ignoring index file '/home/dl392/data/yiwei/typhoon/EAR5/temp.grib.5b7b6.idx' older than GRIB file\n"
     ]
    },
    {
     "name": "stdout",
     "output_type": "stream",
     "text": [
      "Sarah  is finished\n",
      "Processing  Sarah\n"
     ]
    },
    {
     "name": "stderr",
     "output_type": "stream",
     "text": [
      "Ignoring index file '/home/dl392/data/yiwei/typhoon/EAR5/temp.grib.5b7b6.idx' older than GRIB file\n"
     ]
    },
    {
     "name": "stdout",
     "output_type": "stream",
     "text": [
      "Sarah  is finished\n",
      "Processing  Sarah\n"
     ]
    },
    {
     "name": "stderr",
     "output_type": "stream",
     "text": [
      "Ignoring index file '/home/dl392/data/yiwei/typhoon/EAR5/temp.grib.5b7b6.idx' older than GRIB file\n"
     ]
    },
    {
     "name": "stdout",
     "output_type": "stream",
     "text": [
      "Sarah  is finished\n",
      "Processing  Sarah\n"
     ]
    },
    {
     "name": "stderr",
     "output_type": "stream",
     "text": [
      "Ignoring index file '/home/dl392/data/yiwei/typhoon/EAR5/temp.grib.5b7b6.idx' older than GRIB file\n"
     ]
    },
    {
     "name": "stdout",
     "output_type": "stream",
     "text": [
      "Sarah  is finished\n",
      "Processing  Sarah\n"
     ]
    },
    {
     "name": "stderr",
     "output_type": "stream",
     "text": [
      "Ignoring index file '/home/dl392/data/yiwei/typhoon/EAR5/temp.grib.5b7b6.idx' older than GRIB file\n"
     ]
    },
    {
     "name": "stdout",
     "output_type": "stream",
     "text": [
      "Sarah  is finished\n",
      "Processing  Sarah\n"
     ]
    },
    {
     "name": "stderr",
     "output_type": "stream",
     "text": [
      "Ignoring index file '/home/dl392/data/yiwei/typhoon/EAR5/temp.grib.5b7b6.idx' older than GRIB file\n"
     ]
    },
    {
     "name": "stdout",
     "output_type": "stream",
     "text": [
      "Sarah  is finished\n",
      "Processing  Sarah\n"
     ]
    },
    {
     "name": "stderr",
     "output_type": "stream",
     "text": [
      "Ignoring index file '/home/dl392/data/yiwei/typhoon/EAR5/temp.grib.5b7b6.idx' older than GRIB file\n"
     ]
    },
    {
     "name": "stdout",
     "output_type": "stream",
     "text": [
      "Sarah  is finished\n",
      "Processing  Sarah\n"
     ]
    },
    {
     "name": "stderr",
     "output_type": "stream",
     "text": [
      "Ignoring index file '/home/dl392/data/yiwei/typhoon/EAR5/temp.grib.5b7b6.idx' older than GRIB file\n"
     ]
    },
    {
     "name": "stdout",
     "output_type": "stream",
     "text": [
      "Sarah  is finished\n",
      "Processing  Sarah\n"
     ]
    },
    {
     "name": "stderr",
     "output_type": "stream",
     "text": [
      "Ignoring index file '/home/dl392/data/yiwei/typhoon/EAR5/temp.grib.5b7b6.idx' older than GRIB file\n"
     ]
    },
    {
     "name": "stdout",
     "output_type": "stream",
     "text": [
      "Sarah  is finished\n",
      "Processing  Sarah\n"
     ]
    },
    {
     "name": "stderr",
     "output_type": "stream",
     "text": [
      "Ignoring index file '/home/dl392/data/yiwei/typhoon/EAR5/temp.grib.5b7b6.idx' older than GRIB file\n"
     ]
    },
    {
     "name": "stdout",
     "output_type": "stream",
     "text": [
      "Sarah  is finished\n",
      "Processing  Sarah\n"
     ]
    },
    {
     "name": "stderr",
     "output_type": "stream",
     "text": [
      "Ignoring index file '/home/dl392/data/yiwei/typhoon/EAR5/temp.grib.5b7b6.idx' older than GRIB file\n"
     ]
    },
    {
     "name": "stdout",
     "output_type": "stream",
     "text": [
      "Sarah  is finished\n",
      "Processing  Sarah\n"
     ]
    },
    {
     "name": "stderr",
     "output_type": "stream",
     "text": [
      "Ignoring index file '/home/dl392/data/yiwei/typhoon/EAR5/temp.grib.5b7b6.idx' older than GRIB file\n"
     ]
    },
    {
     "name": "stdout",
     "output_type": "stream",
     "text": [
      "Sarah  is finished\n",
      "Processing  Sarah\n",
      "Sarah  is finished\n",
      "Processing  Omais\n"
     ]
    },
    {
     "name": "stderr",
     "output_type": "stream",
     "text": [
      "2024-11-24 02:52:15,029 WARNING [2024-10-10T00:00:00] The final validated ERA5 differs from ERA5T from July 2024 until further notice - please refer to our\n",
      "[Forum announcement](https://forum.ecmwf.int/t/final-validated-era5-product-to-differ-from-era5t-in-july-2024/6685)\n",
      "for details and watch it for further updates on this.\n",
      "2024-11-24 02:52:15,031 INFO Request ID is 0fe964e5-1e9c-4ead-b73f-18b86405cf6b\n",
      "2024-11-24 02:52:15,844 INFO status has been updated to accepted\n",
      "2024-11-24 02:52:18,877 INFO status has been updated to running\n",
      "2024-11-24 02:52:25,610 INFO status has been updated to successful\n",
      "Ignoring index file '/home/dl392/data/yiwei/typhoon/EAR5/temp.grib.5b7b6.idx' older than GRIB file\n",
      "Ignoring index file '/home/dl392/data/yiwei/typhoon/EAR5/temp.grib.5b7b6.idx' older than GRIB file\n"
     ]
    },
    {
     "name": "stdout",
     "output_type": "stream",
     "text": [
      "Omais  is finished\n",
      "Processing  Omais\n"
     ]
    },
    {
     "name": "stderr",
     "output_type": "stream",
     "text": [
      "Ignoring index file '/home/dl392/data/yiwei/typhoon/EAR5/temp.grib.5b7b6.idx' older than GRIB file\n"
     ]
    },
    {
     "name": "stdout",
     "output_type": "stream",
     "text": [
      "Omais  is finished\n",
      "Processing  Omais\n"
     ]
    },
    {
     "name": "stderr",
     "output_type": "stream",
     "text": [
      "Ignoring index file '/home/dl392/data/yiwei/typhoon/EAR5/temp.grib.5b7b6.idx' older than GRIB file\n"
     ]
    },
    {
     "name": "stdout",
     "output_type": "stream",
     "text": [
      "Omais  is finished\n",
      "Processing  Omais\n"
     ]
    },
    {
     "name": "stderr",
     "output_type": "stream",
     "text": [
      "Ignoring index file '/home/dl392/data/yiwei/typhoon/EAR5/temp.grib.5b7b6.idx' older than GRIB file\n"
     ]
    },
    {
     "name": "stdout",
     "output_type": "stream",
     "text": [
      "Omais  is finished\n",
      "Processing  Omais\n"
     ]
    },
    {
     "name": "stderr",
     "output_type": "stream",
     "text": [
      "Ignoring index file '/home/dl392/data/yiwei/typhoon/EAR5/temp.grib.5b7b6.idx' older than GRIB file\n"
     ]
    },
    {
     "name": "stdout",
     "output_type": "stream",
     "text": [
      "Omais  is finished\n",
      "Processing  Omais\n"
     ]
    },
    {
     "name": "stderr",
     "output_type": "stream",
     "text": [
      "Ignoring index file '/home/dl392/data/yiwei/typhoon/EAR5/temp.grib.5b7b6.idx' older than GRIB file\n"
     ]
    },
    {
     "name": "stdout",
     "output_type": "stream",
     "text": [
      "Omais  is finished\n",
      "Processing  Omais\n"
     ]
    },
    {
     "name": "stderr",
     "output_type": "stream",
     "text": [
      "Ignoring index file '/home/dl392/data/yiwei/typhoon/EAR5/temp.grib.5b7b6.idx' older than GRIB file\n"
     ]
    },
    {
     "name": "stdout",
     "output_type": "stream",
     "text": [
      "Omais  is finished\n",
      "Processing  Omais\n"
     ]
    },
    {
     "name": "stderr",
     "output_type": "stream",
     "text": [
      "Ignoring index file '/home/dl392/data/yiwei/typhoon/EAR5/temp.grib.5b7b6.idx' older than GRIB file\n"
     ]
    },
    {
     "name": "stdout",
     "output_type": "stream",
     "text": [
      "Omais  is finished\n",
      "Processing  Omais\n"
     ]
    },
    {
     "name": "stderr",
     "output_type": "stream",
     "text": [
      "Ignoring index file '/home/dl392/data/yiwei/typhoon/EAR5/temp.grib.5b7b6.idx' older than GRIB file\n"
     ]
    },
    {
     "name": "stdout",
     "output_type": "stream",
     "text": [
      "Omais  is finished\n",
      "Processing  Omais\n"
     ]
    },
    {
     "name": "stderr",
     "output_type": "stream",
     "text": [
      "Ignoring index file '/home/dl392/data/yiwei/typhoon/EAR5/temp.grib.5b7b6.idx' older than GRIB file\n"
     ]
    },
    {
     "name": "stdout",
     "output_type": "stream",
     "text": [
      "Omais  is finished\n",
      "Processing  Omais\n"
     ]
    },
    {
     "name": "stderr",
     "output_type": "stream",
     "text": [
      "Ignoring index file '/home/dl392/data/yiwei/typhoon/EAR5/temp.grib.5b7b6.idx' older than GRIB file\n"
     ]
    },
    {
     "name": "stdout",
     "output_type": "stream",
     "text": [
      "Omais  is finished\n",
      "Processing  Omais\n"
     ]
    },
    {
     "name": "stderr",
     "output_type": "stream",
     "text": [
      "Ignoring index file '/home/dl392/data/yiwei/typhoon/EAR5/temp.grib.5b7b6.idx' older than GRIB file\n"
     ]
    },
    {
     "name": "stdout",
     "output_type": "stream",
     "text": [
      "Omais  is finished\n",
      "Processing  Omais\n"
     ]
    },
    {
     "name": "stderr",
     "output_type": "stream",
     "text": [
      "Ignoring index file '/home/dl392/data/yiwei/typhoon/EAR5/temp.grib.5b7b6.idx' older than GRIB file\n"
     ]
    },
    {
     "name": "stdout",
     "output_type": "stream",
     "text": [
      "Omais  is finished\n",
      "Processing  Omais\n"
     ]
    },
    {
     "name": "stderr",
     "output_type": "stream",
     "text": [
      "Ignoring index file '/home/dl392/data/yiwei/typhoon/EAR5/temp.grib.5b7b6.idx' older than GRIB file\n"
     ]
    },
    {
     "name": "stdout",
     "output_type": "stream",
     "text": [
      "Omais  is finished\n",
      "Processing  Omais\n"
     ]
    },
    {
     "name": "stderr",
     "output_type": "stream",
     "text": [
      "Ignoring index file '/home/dl392/data/yiwei/typhoon/EAR5/temp.grib.5b7b6.idx' older than GRIB file\n"
     ]
    },
    {
     "name": "stdout",
     "output_type": "stream",
     "text": [
      "Omais  is finished\n",
      "Processing  Omais\n"
     ]
    },
    {
     "name": "stderr",
     "output_type": "stream",
     "text": [
      "Ignoring index file '/home/dl392/data/yiwei/typhoon/EAR5/temp.grib.5b7b6.idx' older than GRIB file\n"
     ]
    },
    {
     "name": "stdout",
     "output_type": "stream",
     "text": [
      "Omais  is finished\n",
      "Processing  Omais\n"
     ]
    },
    {
     "name": "stderr",
     "output_type": "stream",
     "text": [
      "Ignoring index file '/home/dl392/data/yiwei/typhoon/EAR5/temp.grib.5b7b6.idx' older than GRIB file\n"
     ]
    },
    {
     "name": "stdout",
     "output_type": "stream",
     "text": [
      "Omais  is finished\n",
      "Processing  Omais\n",
      "Omais  is finished\n",
      "Processing  Axel\n"
     ]
    },
    {
     "name": "stderr",
     "output_type": "stream",
     "text": [
      "2024-11-24 02:53:02,291 WARNING [2024-10-10T00:00:00] The final validated ERA5 differs from ERA5T from July 2024 until further notice - please refer to our\n",
      "[Forum announcement](https://forum.ecmwf.int/t/final-validated-era5-product-to-differ-from-era5t-in-july-2024/6685)\n",
      "for details and watch it for further updates on this.\n",
      "2024-11-24 02:53:02,293 INFO Request ID is d59e64bb-9bb3-4470-b386-b59b9555140c\n",
      "2024-11-24 02:53:02,556 INFO status has been updated to accepted\n",
      "2024-11-24 02:53:08,171 INFO status has been updated to running\n",
      "2024-11-24 02:53:38,204 INFO status has been updated to successful\n",
      "Ignoring index file '/home/dl392/data/yiwei/typhoon/EAR5/temp.grib.5b7b6.idx' older than GRIB file\n",
      "Ignoring index file '/home/dl392/data/yiwei/typhoon/EAR5/temp.grib.5b7b6.idx' older than GRIB file\n"
     ]
    },
    {
     "name": "stdout",
     "output_type": "stream",
     "text": [
      "Axel  is finished\n",
      "Processing  Axel\n"
     ]
    },
    {
     "name": "stderr",
     "output_type": "stream",
     "text": [
      "Ignoring index file '/home/dl392/data/yiwei/typhoon/EAR5/temp.grib.5b7b6.idx' older than GRIB file\n"
     ]
    },
    {
     "name": "stdout",
     "output_type": "stream",
     "text": [
      "Axel  is finished\n",
      "Processing  Axel\n"
     ]
    },
    {
     "name": "stderr",
     "output_type": "stream",
     "text": [
      "Ignoring index file '/home/dl392/data/yiwei/typhoon/EAR5/temp.grib.5b7b6.idx' older than GRIB file\n"
     ]
    },
    {
     "name": "stdout",
     "output_type": "stream",
     "text": [
      "Axel  is finished\n",
      "Processing  Axel\n"
     ]
    },
    {
     "name": "stderr",
     "output_type": "stream",
     "text": [
      "Ignoring index file '/home/dl392/data/yiwei/typhoon/EAR5/temp.grib.5b7b6.idx' older than GRIB file\n"
     ]
    },
    {
     "name": "stdout",
     "output_type": "stream",
     "text": [
      "Axel  is finished\n",
      "Processing  Axel\n"
     ]
    },
    {
     "name": "stderr",
     "output_type": "stream",
     "text": [
      "Ignoring index file '/home/dl392/data/yiwei/typhoon/EAR5/temp.grib.5b7b6.idx' older than GRIB file\n"
     ]
    },
    {
     "name": "stdout",
     "output_type": "stream",
     "text": [
      "Axel  is finished\n",
      "Processing  Axel\n"
     ]
    },
    {
     "name": "stderr",
     "output_type": "stream",
     "text": [
      "Ignoring index file '/home/dl392/data/yiwei/typhoon/EAR5/temp.grib.5b7b6.idx' older than GRIB file\n"
     ]
    },
    {
     "name": "stdout",
     "output_type": "stream",
     "text": [
      "Axel  is finished\n",
      "Processing  Axel\n"
     ]
    },
    {
     "name": "stderr",
     "output_type": "stream",
     "text": [
      "Ignoring index file '/home/dl392/data/yiwei/typhoon/EAR5/temp.grib.5b7b6.idx' older than GRIB file\n"
     ]
    },
    {
     "name": "stdout",
     "output_type": "stream",
     "text": [
      "Axel  is finished\n",
      "Processing  Axel\n"
     ]
    },
    {
     "name": "stderr",
     "output_type": "stream",
     "text": [
      "Ignoring index file '/home/dl392/data/yiwei/typhoon/EAR5/temp.grib.5b7b6.idx' older than GRIB file\n"
     ]
    },
    {
     "name": "stdout",
     "output_type": "stream",
     "text": [
      "Axel  is finished\n",
      "Processing  Axel\n"
     ]
    },
    {
     "name": "stderr",
     "output_type": "stream",
     "text": [
      "Ignoring index file '/home/dl392/data/yiwei/typhoon/EAR5/temp.grib.5b7b6.idx' older than GRIB file\n"
     ]
    },
    {
     "name": "stdout",
     "output_type": "stream",
     "text": [
      "Axel  is finished\n",
      "Processing  Axel\n"
     ]
    },
    {
     "name": "stderr",
     "output_type": "stream",
     "text": [
      "Ignoring index file '/home/dl392/data/yiwei/typhoon/EAR5/temp.grib.5b7b6.idx' older than GRIB file\n"
     ]
    },
    {
     "name": "stdout",
     "output_type": "stream",
     "text": [
      "Axel  is finished\n",
      "Processing  Axel\n"
     ]
    },
    {
     "name": "stderr",
     "output_type": "stream",
     "text": [
      "Ignoring index file '/home/dl392/data/yiwei/typhoon/EAR5/temp.grib.5b7b6.idx' older than GRIB file\n"
     ]
    },
    {
     "name": "stdout",
     "output_type": "stream",
     "text": [
      "Axel  is finished\n",
      "Processing  Axel\n"
     ]
    },
    {
     "name": "stderr",
     "output_type": "stream",
     "text": [
      "Ignoring index file '/home/dl392/data/yiwei/typhoon/EAR5/temp.grib.5b7b6.idx' older than GRIB file\n"
     ]
    },
    {
     "name": "stdout",
     "output_type": "stream",
     "text": [
      "Axel  is finished\n",
      "Processing  Axel\n"
     ]
    },
    {
     "name": "stderr",
     "output_type": "stream",
     "text": [
      "Ignoring index file '/home/dl392/data/yiwei/typhoon/EAR5/temp.grib.5b7b6.idx' older than GRIB file\n"
     ]
    },
    {
     "name": "stdout",
     "output_type": "stream",
     "text": [
      "Axel  is finished\n",
      "Processing  Axel\n"
     ]
    },
    {
     "name": "stderr",
     "output_type": "stream",
     "text": [
      "Ignoring index file '/home/dl392/data/yiwei/typhoon/EAR5/temp.grib.5b7b6.idx' older than GRIB file\n"
     ]
    },
    {
     "name": "stdout",
     "output_type": "stream",
     "text": [
      "Axel  is finished\n",
      "Processing  Axel\n"
     ]
    },
    {
     "name": "stderr",
     "output_type": "stream",
     "text": [
      "Ignoring index file '/home/dl392/data/yiwei/typhoon/EAR5/temp.grib.5b7b6.idx' older than GRIB file\n"
     ]
    },
    {
     "name": "stdout",
     "output_type": "stream",
     "text": [
      "Axel  is finished\n",
      "Processing  Axel\n"
     ]
    },
    {
     "name": "stderr",
     "output_type": "stream",
     "text": [
      "Ignoring index file '/home/dl392/data/yiwei/typhoon/EAR5/temp.grib.5b7b6.idx' older than GRIB file\n"
     ]
    },
    {
     "name": "stdout",
     "output_type": "stream",
     "text": [
      "Axel  is finished\n",
      "Processing  Axel\n"
     ]
    },
    {
     "name": "stderr",
     "output_type": "stream",
     "text": [
      "Ignoring index file '/home/dl392/data/yiwei/typhoon/EAR5/temp.grib.5b7b6.idx' older than GRIB file\n"
     ]
    },
    {
     "name": "stdout",
     "output_type": "stream",
     "text": [
      "Axel  is finished\n",
      "Processing  Axel\n"
     ]
    },
    {
     "name": "stderr",
     "output_type": "stream",
     "text": [
      "Ignoring index file '/home/dl392/data/yiwei/typhoon/EAR5/temp.grib.5b7b6.idx' older than GRIB file\n"
     ]
    },
    {
     "name": "stdout",
     "output_type": "stream",
     "text": [
      "Axel  is finished\n",
      "Processing  Axel\n"
     ]
    },
    {
     "name": "stderr",
     "output_type": "stream",
     "text": [
      "Ignoring index file '/home/dl392/data/yiwei/typhoon/EAR5/temp.grib.5b7b6.idx' older than GRIB file\n"
     ]
    },
    {
     "name": "stdout",
     "output_type": "stream",
     "text": [
      "Axel  is finished\n",
      "Processing  Axel\n"
     ]
    },
    {
     "name": "stderr",
     "output_type": "stream",
     "text": [
      "Ignoring index file '/home/dl392/data/yiwei/typhoon/EAR5/temp.grib.5b7b6.idx' older than GRIB file\n"
     ]
    },
    {
     "name": "stdout",
     "output_type": "stream",
     "text": [
      "Axel  is finished\n",
      "Processing  Axel\n"
     ]
    },
    {
     "name": "stderr",
     "output_type": "stream",
     "text": [
      "Ignoring index file '/home/dl392/data/yiwei/typhoon/EAR5/temp.grib.5b7b6.idx' older than GRIB file\n"
     ]
    },
    {
     "name": "stdout",
     "output_type": "stream",
     "text": [
      "Axel  is finished\n",
      "Processing  Axel\n"
     ]
    },
    {
     "name": "stderr",
     "output_type": "stream",
     "text": [
      "Ignoring index file '/home/dl392/data/yiwei/typhoon/EAR5/temp.grib.5b7b6.idx' older than GRIB file\n"
     ]
    },
    {
     "name": "stdout",
     "output_type": "stream",
     "text": [
      "Axel  is finished\n",
      "Processing  Axel\n"
     ]
    },
    {
     "name": "stderr",
     "output_type": "stream",
     "text": [
      "Ignoring index file '/home/dl392/data/yiwei/typhoon/EAR5/temp.grib.5b7b6.idx' older than GRIB file\n"
     ]
    },
    {
     "name": "stdout",
     "output_type": "stream",
     "text": [
      "Axel  is finished\n",
      "Processing  Axel\n"
     ]
    },
    {
     "name": "stderr",
     "output_type": "stream",
     "text": [
      "Ignoring index file '/home/dl392/data/yiwei/typhoon/EAR5/temp.grib.5b7b6.idx' older than GRIB file\n"
     ]
    },
    {
     "name": "stdout",
     "output_type": "stream",
     "text": [
      "Axel  is finished\n",
      "Processing  Axel\n"
     ]
    },
    {
     "name": "stderr",
     "output_type": "stream",
     "text": [
      "Ignoring index file '/home/dl392/data/yiwei/typhoon/EAR5/temp.grib.5b7b6.idx' older than GRIB file\n"
     ]
    },
    {
     "name": "stdout",
     "output_type": "stream",
     "text": [
      "Axel  is finished\n",
      "Processing  Axel\n"
     ]
    },
    {
     "name": "stderr",
     "output_type": "stream",
     "text": [
      "Ignoring index file '/home/dl392/data/yiwei/typhoon/EAR5/temp.grib.5b7b6.idx' older than GRIB file\n"
     ]
    },
    {
     "name": "stdout",
     "output_type": "stream",
     "text": [
      "Axel  is finished\n",
      "Processing  Axel\n"
     ]
    },
    {
     "name": "stderr",
     "output_type": "stream",
     "text": [
      "Ignoring index file '/home/dl392/data/yiwei/typhoon/EAR5/temp.grib.5b7b6.idx' older than GRIB file\n"
     ]
    },
    {
     "name": "stdout",
     "output_type": "stream",
     "text": [
      "Axel  is finished\n",
      "Processing  Axel\n"
     ]
    },
    {
     "name": "stderr",
     "output_type": "stream",
     "text": [
      "Ignoring index file '/home/dl392/data/yiwei/typhoon/EAR5/temp.grib.5b7b6.idx' older than GRIB file\n"
     ]
    },
    {
     "name": "stdout",
     "output_type": "stream",
     "text": [
      "Axel  is finished\n",
      "Processing  Axel\n"
     ]
    },
    {
     "name": "stderr",
     "output_type": "stream",
     "text": [
      "Ignoring index file '/home/dl392/data/yiwei/typhoon/EAR5/temp.grib.5b7b6.idx' older than GRIB file\n"
     ]
    },
    {
     "name": "stdout",
     "output_type": "stream",
     "text": [
      "Axel  is finished\n",
      "Processing  Axel\n"
     ]
    },
    {
     "name": "stderr",
     "output_type": "stream",
     "text": [
      "Ignoring index file '/home/dl392/data/yiwei/typhoon/EAR5/temp.grib.5b7b6.idx' older than GRIB file\n"
     ]
    },
    {
     "name": "stdout",
     "output_type": "stream",
     "text": [
      "Axel  is finished\n",
      "Processing  Axel\n"
     ]
    },
    {
     "name": "stderr",
     "output_type": "stream",
     "text": [
      "Ignoring index file '/home/dl392/data/yiwei/typhoon/EAR5/temp.grib.5b7b6.idx' older than GRIB file\n"
     ]
    },
    {
     "name": "stdout",
     "output_type": "stream",
     "text": [
      "Axel  is finished\n",
      "Processing  Axel\n"
     ]
    },
    {
     "name": "stderr",
     "output_type": "stream",
     "text": [
      "Ignoring index file '/home/dl392/data/yiwei/typhoon/EAR5/temp.grib.5b7b6.idx' older than GRIB file\n"
     ]
    },
    {
     "name": "stdout",
     "output_type": "stream",
     "text": [
      "Axel  is finished\n",
      "Processing  Axel\n"
     ]
    },
    {
     "name": "stderr",
     "output_type": "stream",
     "text": [
      "Ignoring index file '/home/dl392/data/yiwei/typhoon/EAR5/temp.grib.5b7b6.idx' older than GRIB file\n"
     ]
    },
    {
     "name": "stdout",
     "output_type": "stream",
     "text": [
      "Axel  is finished\n",
      "Processing  Axel\n"
     ]
    },
    {
     "name": "stderr",
     "output_type": "stream",
     "text": [
      "Ignoring index file '/home/dl392/data/yiwei/typhoon/EAR5/temp.grib.5b7b6.idx' older than GRIB file\n"
     ]
    },
    {
     "name": "stdout",
     "output_type": "stream",
     "text": [
      "Axel  is finished\n",
      "Processing  Axel\n"
     ]
    },
    {
     "name": "stderr",
     "output_type": "stream",
     "text": [
      "Ignoring index file '/home/dl392/data/yiwei/typhoon/EAR5/temp.grib.5b7b6.idx' older than GRIB file\n"
     ]
    },
    {
     "name": "stdout",
     "output_type": "stream",
     "text": [
      "Axel  is finished\n",
      "Processing  Axel\n",
      "Axel  is finished\n",
      "Processing  Kulap\n"
     ]
    },
    {
     "name": "stderr",
     "output_type": "stream",
     "text": [
      "2024-11-24 02:54:50,431 WARNING [2024-10-10T00:00:00] The final validated ERA5 differs from ERA5T from July 2024 until further notice - please refer to our\n",
      "[Forum announcement](https://forum.ecmwf.int/t/final-validated-era5-product-to-differ-from-era5t-in-july-2024/6685)\n",
      "for details and watch it for further updates on this.\n",
      "2024-11-24 02:54:50,433 INFO Request ID is 02494f7d-44b1-46c9-ad24-24cad4bac7c5\n",
      "2024-11-24 02:54:51,000 INFO status has been updated to accepted\n",
      "2024-11-24 02:54:56,398 INFO status has been updated to running\n",
      "2024-11-24 02:54:59,984 INFO status has been updated to successful\n",
      "Ignoring index file '/home/dl392/data/yiwei/typhoon/EAR5/temp.grib.5b7b6.idx' older than GRIB file\n",
      "Ignoring index file '/home/dl392/data/yiwei/typhoon/EAR5/temp.grib.5b7b6.idx' older than GRIB file\n"
     ]
    },
    {
     "name": "stdout",
     "output_type": "stream",
     "text": [
      "Kulap  is finished\n",
      "Processing  Kulap\n"
     ]
    },
    {
     "name": "stderr",
     "output_type": "stream",
     "text": [
      "Ignoring index file '/home/dl392/data/yiwei/typhoon/EAR5/temp.grib.5b7b6.idx' older than GRIB file\n"
     ]
    },
    {
     "name": "stdout",
     "output_type": "stream",
     "text": [
      "Kulap  is finished\n",
      "Processing  Kulap\n"
     ]
    },
    {
     "name": "stderr",
     "output_type": "stream",
     "text": [
      "Ignoring index file '/home/dl392/data/yiwei/typhoon/EAR5/temp.grib.5b7b6.idx' older than GRIB file\n"
     ]
    },
    {
     "name": "stdout",
     "output_type": "stream",
     "text": [
      "Kulap  is finished\n",
      "Processing  Kulap\n"
     ]
    },
    {
     "name": "stderr",
     "output_type": "stream",
     "text": [
      "Ignoring index file '/home/dl392/data/yiwei/typhoon/EAR5/temp.grib.5b7b6.idx' older than GRIB file\n"
     ]
    },
    {
     "name": "stdout",
     "output_type": "stream",
     "text": [
      "Kulap  is finished\n",
      "Processing  Kulap\n"
     ]
    },
    {
     "name": "stderr",
     "output_type": "stream",
     "text": [
      "Ignoring index file '/home/dl392/data/yiwei/typhoon/EAR5/temp.grib.5b7b6.idx' older than GRIB file\n"
     ]
    },
    {
     "name": "stdout",
     "output_type": "stream",
     "text": [
      "Kulap  is finished\n",
      "Processing  Kulap\n"
     ]
    },
    {
     "name": "stderr",
     "output_type": "stream",
     "text": [
      "Ignoring index file '/home/dl392/data/yiwei/typhoon/EAR5/temp.grib.5b7b6.idx' older than GRIB file\n"
     ]
    },
    {
     "name": "stdout",
     "output_type": "stream",
     "text": [
      "Kulap  is finished\n",
      "Processing  Kulap\n"
     ]
    },
    {
     "name": "stderr",
     "output_type": "stream",
     "text": [
      "Ignoring index file '/home/dl392/data/yiwei/typhoon/EAR5/temp.grib.5b7b6.idx' older than GRIB file\n"
     ]
    },
    {
     "name": "stdout",
     "output_type": "stream",
     "text": [
      "Kulap  is finished\n",
      "Processing  Kulap\n"
     ]
    },
    {
     "name": "stderr",
     "output_type": "stream",
     "text": [
      "Ignoring index file '/home/dl392/data/yiwei/typhoon/EAR5/temp.grib.5b7b6.idx' older than GRIB file\n"
     ]
    },
    {
     "name": "stdout",
     "output_type": "stream",
     "text": [
      "Kulap  is finished\n",
      "Processing  Kulap\n"
     ]
    },
    {
     "name": "stderr",
     "output_type": "stream",
     "text": [
      "Ignoring index file '/home/dl392/data/yiwei/typhoon/EAR5/temp.grib.5b7b6.idx' older than GRIB file\n"
     ]
    },
    {
     "name": "stdout",
     "output_type": "stream",
     "text": [
      "Kulap  is finished\n",
      "Processing  Kulap\n"
     ]
    },
    {
     "name": "stderr",
     "output_type": "stream",
     "text": [
      "Ignoring index file '/home/dl392/data/yiwei/typhoon/EAR5/temp.grib.5b7b6.idx' older than GRIB file\n"
     ]
    },
    {
     "name": "stdout",
     "output_type": "stream",
     "text": [
      "Kulap  is finished\n",
      "Processing  Kulap\n"
     ]
    },
    {
     "name": "stderr",
     "output_type": "stream",
     "text": [
      "Ignoring index file '/home/dl392/data/yiwei/typhoon/EAR5/temp.grib.5b7b6.idx' older than GRIB file\n"
     ]
    },
    {
     "name": "stdout",
     "output_type": "stream",
     "text": [
      "Kulap  is finished\n",
      "Processing  Kulap\n"
     ]
    },
    {
     "name": "stderr",
     "output_type": "stream",
     "text": [
      "Ignoring index file '/home/dl392/data/yiwei/typhoon/EAR5/temp.grib.5b7b6.idx' older than GRIB file\n"
     ]
    },
    {
     "name": "stdout",
     "output_type": "stream",
     "text": [
      "Kulap  is finished\n",
      "Processing  Kulap\n"
     ]
    },
    {
     "name": "stderr",
     "output_type": "stream",
     "text": [
      "Ignoring index file '/home/dl392/data/yiwei/typhoon/EAR5/temp.grib.5b7b6.idx' older than GRIB file\n"
     ]
    },
    {
     "name": "stdout",
     "output_type": "stream",
     "text": [
      "Kulap  is finished\n",
      "Processing  Kulap\n"
     ]
    },
    {
     "name": "stderr",
     "output_type": "stream",
     "text": [
      "Ignoring index file '/home/dl392/data/yiwei/typhoon/EAR5/temp.grib.5b7b6.idx' older than GRIB file\n"
     ]
    },
    {
     "name": "stdout",
     "output_type": "stream",
     "text": [
      "Kulap  is finished\n",
      "Processing  Kulap\n"
     ]
    },
    {
     "name": "stderr",
     "output_type": "stream",
     "text": [
      "Ignoring index file '/home/dl392/data/yiwei/typhoon/EAR5/temp.grib.5b7b6.idx' older than GRIB file\n"
     ]
    },
    {
     "name": "stdout",
     "output_type": "stream",
     "text": [
      "Kulap  is finished\n",
      "Processing  Kulap\n"
     ]
    },
    {
     "name": "stderr",
     "output_type": "stream",
     "text": [
      "Ignoring index file '/home/dl392/data/yiwei/typhoon/EAR5/temp.grib.5b7b6.idx' older than GRIB file\n"
     ]
    },
    {
     "name": "stdout",
     "output_type": "stream",
     "text": [
      "Kulap  is finished\n",
      "Processing  Kulap\n"
     ]
    },
    {
     "name": "stderr",
     "output_type": "stream",
     "text": [
      "Ignoring index file '/home/dl392/data/yiwei/typhoon/EAR5/temp.grib.5b7b6.idx' older than GRIB file\n"
     ]
    },
    {
     "name": "stdout",
     "output_type": "stream",
     "text": [
      "Kulap  is finished\n",
      "Processing  Kulap\n"
     ]
    },
    {
     "name": "stderr",
     "output_type": "stream",
     "text": [
      "Ignoring index file '/home/dl392/data/yiwei/typhoon/EAR5/temp.grib.5b7b6.idx' older than GRIB file\n"
     ]
    },
    {
     "name": "stdout",
     "output_type": "stream",
     "text": [
      "Kulap  is finished\n",
      "Processing  Kulap\n"
     ]
    },
    {
     "name": "stderr",
     "output_type": "stream",
     "text": [
      "Ignoring index file '/home/dl392/data/yiwei/typhoon/EAR5/temp.grib.5b7b6.idx' older than GRIB file\n"
     ]
    },
    {
     "name": "stdout",
     "output_type": "stream",
     "text": [
      "Kulap  is finished\n",
      "Processing  Kulap\n"
     ]
    },
    {
     "name": "stderr",
     "output_type": "stream",
     "text": [
      "Ignoring index file '/home/dl392/data/yiwei/typhoon/EAR5/temp.grib.5b7b6.idx' older than GRIB file\n"
     ]
    },
    {
     "name": "stdout",
     "output_type": "stream",
     "text": [
      "Kulap  is finished\n",
      "Processing  Kulap\n"
     ]
    },
    {
     "name": "stderr",
     "output_type": "stream",
     "text": [
      "Ignoring index file '/home/dl392/data/yiwei/typhoon/EAR5/temp.grib.5b7b6.idx' older than GRIB file\n"
     ]
    },
    {
     "name": "stdout",
     "output_type": "stream",
     "text": [
      "Kulap  is finished\n",
      "Processing  Kulap\n"
     ]
    },
    {
     "name": "stderr",
     "output_type": "stream",
     "text": [
      "Ignoring index file '/home/dl392/data/yiwei/typhoon/EAR5/temp.grib.5b7b6.idx' older than GRIB file\n"
     ]
    },
    {
     "name": "stdout",
     "output_type": "stream",
     "text": [
      "Kulap  is finished\n",
      "Processing  Kulap\n",
      "Kulap  is finished\n",
      "Processing  Lola\n"
     ]
    },
    {
     "name": "stderr",
     "output_type": "stream",
     "text": [
      "2024-11-24 02:55:45,512 WARNING [2024-10-10T00:00:00] The final validated ERA5 differs from ERA5T from July 2024 until further notice - please refer to our\n",
      "[Forum announcement](https://forum.ecmwf.int/t/final-validated-era5-product-to-differ-from-era5t-in-july-2024/6685)\n",
      "for details and watch it for further updates on this.\n",
      "2024-11-24 02:55:45,514 INFO Request ID is bc122fb8-a79c-4d68-9ee4-e5544da6192b\n",
      "2024-11-24 02:55:45,748 INFO status has been updated to accepted\n",
      "2024-11-24 02:55:51,951 INFO status has been updated to running\n",
      "2024-11-24 02:55:55,555 INFO status has been updated to successful\n",
      "Ignoring index file '/home/dl392/data/yiwei/typhoon/EAR5/temp.grib.5b7b6.idx' older than GRIB file\n",
      "Ignoring index file '/home/dl392/data/yiwei/typhoon/EAR5/temp.grib.5b7b6.idx' older than GRIB file\n"
     ]
    },
    {
     "name": "stdout",
     "output_type": "stream",
     "text": [
      "Lola  is finished\n",
      "Processing  Lola\n"
     ]
    },
    {
     "name": "stderr",
     "output_type": "stream",
     "text": [
      "Ignoring index file '/home/dl392/data/yiwei/typhoon/EAR5/temp.grib.5b7b6.idx' older than GRIB file\n"
     ]
    },
    {
     "name": "stdout",
     "output_type": "stream",
     "text": [
      "Lola  is finished\n",
      "Processing  Lola\n"
     ]
    },
    {
     "name": "stderr",
     "output_type": "stream",
     "text": [
      "Ignoring index file '/home/dl392/data/yiwei/typhoon/EAR5/temp.grib.5b7b6.idx' older than GRIB file\n"
     ]
    },
    {
     "name": "stdout",
     "output_type": "stream",
     "text": [
      "Lola  is finished\n",
      "Processing  Lola\n"
     ]
    },
    {
     "name": "stderr",
     "output_type": "stream",
     "text": [
      "Ignoring index file '/home/dl392/data/yiwei/typhoon/EAR5/temp.grib.5b7b6.idx' older than GRIB file\n"
     ]
    },
    {
     "name": "stdout",
     "output_type": "stream",
     "text": [
      "Lola  is finished\n",
      "Processing  Lola\n"
     ]
    },
    {
     "name": "stderr",
     "output_type": "stream",
     "text": [
      "Ignoring index file '/home/dl392/data/yiwei/typhoon/EAR5/temp.grib.5b7b6.idx' older than GRIB file\n"
     ]
    },
    {
     "name": "stdout",
     "output_type": "stream",
     "text": [
      "Lola  is finished\n",
      "Processing  Lola\n"
     ]
    },
    {
     "name": "stderr",
     "output_type": "stream",
     "text": [
      "Ignoring index file '/home/dl392/data/yiwei/typhoon/EAR5/temp.grib.5b7b6.idx' older than GRIB file\n"
     ]
    },
    {
     "name": "stdout",
     "output_type": "stream",
     "text": [
      "Lola  is finished\n",
      "Processing  Lola\n"
     ]
    },
    {
     "name": "stderr",
     "output_type": "stream",
     "text": [
      "Ignoring index file '/home/dl392/data/yiwei/typhoon/EAR5/temp.grib.5b7b6.idx' older than GRIB file\n"
     ]
    },
    {
     "name": "stdout",
     "output_type": "stream",
     "text": [
      "Lola  is finished\n",
      "Processing  Lola\n"
     ]
    },
    {
     "name": "stderr",
     "output_type": "stream",
     "text": [
      "Ignoring index file '/home/dl392/data/yiwei/typhoon/EAR5/temp.grib.5b7b6.idx' older than GRIB file\n"
     ]
    },
    {
     "name": "stdout",
     "output_type": "stream",
     "text": [
      "Lola  is finished\n",
      "Processing  Lola\n"
     ]
    },
    {
     "name": "stderr",
     "output_type": "stream",
     "text": [
      "Ignoring index file '/home/dl392/data/yiwei/typhoon/EAR5/temp.grib.5b7b6.idx' older than GRIB file\n"
     ]
    },
    {
     "name": "stdout",
     "output_type": "stream",
     "text": [
      "Lola  is finished\n",
      "Processing  Lola\n"
     ]
    },
    {
     "name": "stderr",
     "output_type": "stream",
     "text": [
      "Ignoring index file '/home/dl392/data/yiwei/typhoon/EAR5/temp.grib.5b7b6.idx' older than GRIB file\n"
     ]
    },
    {
     "name": "stdout",
     "output_type": "stream",
     "text": [
      "Lola  is finished\n",
      "Processing  Lola\n"
     ]
    },
    {
     "name": "stderr",
     "output_type": "stream",
     "text": [
      "Ignoring index file '/home/dl392/data/yiwei/typhoon/EAR5/temp.grib.5b7b6.idx' older than GRIB file\n"
     ]
    },
    {
     "name": "stdout",
     "output_type": "stream",
     "text": [
      "Lola  is finished\n",
      "Processing  Lola\n"
     ]
    },
    {
     "name": "stderr",
     "output_type": "stream",
     "text": [
      "Ignoring index file '/home/dl392/data/yiwei/typhoon/EAR5/temp.grib.5b7b6.idx' older than GRIB file\n"
     ]
    },
    {
     "name": "stdout",
     "output_type": "stream",
     "text": [
      "Lola  is finished\n",
      "Processing  Lola\n"
     ]
    },
    {
     "name": "stderr",
     "output_type": "stream",
     "text": [
      "Ignoring index file '/home/dl392/data/yiwei/typhoon/EAR5/temp.grib.5b7b6.idx' older than GRIB file\n"
     ]
    },
    {
     "name": "stdout",
     "output_type": "stream",
     "text": [
      "Lola  is finished\n",
      "Processing  Lola\n"
     ]
    },
    {
     "name": "stderr",
     "output_type": "stream",
     "text": [
      "Ignoring index file '/home/dl392/data/yiwei/typhoon/EAR5/temp.grib.5b7b6.idx' older than GRIB file\n"
     ]
    },
    {
     "name": "stdout",
     "output_type": "stream",
     "text": [
      "Lola  is finished\n",
      "Processing  Lola\n"
     ]
    },
    {
     "name": "stderr",
     "output_type": "stream",
     "text": [
      "Ignoring index file '/home/dl392/data/yiwei/typhoon/EAR5/temp.grib.5b7b6.idx' older than GRIB file\n"
     ]
    },
    {
     "name": "stdout",
     "output_type": "stream",
     "text": [
      "Lola  is finished\n",
      "Processing  Lola\n"
     ]
    },
    {
     "name": "stderr",
     "output_type": "stream",
     "text": [
      "Ignoring index file '/home/dl392/data/yiwei/typhoon/EAR5/temp.grib.5b7b6.idx' older than GRIB file\n"
     ]
    },
    {
     "name": "stdout",
     "output_type": "stream",
     "text": [
      "Lola  is finished\n",
      "Processing  Lola\n"
     ]
    },
    {
     "name": "stderr",
     "output_type": "stream",
     "text": [
      "Ignoring index file '/home/dl392/data/yiwei/typhoon/EAR5/temp.grib.5b7b6.idx' older than GRIB file\n"
     ]
    },
    {
     "name": "stdout",
     "output_type": "stream",
     "text": [
      "Lola  is finished\n",
      "Processing  Lola\n"
     ]
    },
    {
     "name": "stderr",
     "output_type": "stream",
     "text": [
      "Ignoring index file '/home/dl392/data/yiwei/typhoon/EAR5/temp.grib.5b7b6.idx' older than GRIB file\n"
     ]
    },
    {
     "name": "stdout",
     "output_type": "stream",
     "text": [
      "Lola  is finished\n",
      "Processing  Lola\n"
     ]
    },
    {
     "name": "stderr",
     "output_type": "stream",
     "text": [
      "Ignoring index file '/home/dl392/data/yiwei/typhoon/EAR5/temp.grib.5b7b6.idx' older than GRIB file\n"
     ]
    },
    {
     "name": "stdout",
     "output_type": "stream",
     "text": [
      "Lola  is finished\n",
      "Processing  Lola\n"
     ]
    },
    {
     "name": "stderr",
     "output_type": "stream",
     "text": [
      "Ignoring index file '/home/dl392/data/yiwei/typhoon/EAR5/temp.grib.5b7b6.idx' older than GRIB file\n"
     ]
    },
    {
     "name": "stdout",
     "output_type": "stream",
     "text": [
      "Lola  is finished\n",
      "Processing  Lola\n"
     ]
    },
    {
     "name": "stderr",
     "output_type": "stream",
     "text": [
      "Ignoring index file '/home/dl392/data/yiwei/typhoon/EAR5/temp.grib.5b7b6.idx' older than GRIB file\n"
     ]
    },
    {
     "name": "stdout",
     "output_type": "stream",
     "text": [
      "Lola  is finished\n",
      "Processing  Lola\n"
     ]
    },
    {
     "name": "stderr",
     "output_type": "stream",
     "text": [
      "Ignoring index file '/home/dl392/data/yiwei/typhoon/EAR5/temp.grib.5b7b6.idx' older than GRIB file\n"
     ]
    },
    {
     "name": "stdout",
     "output_type": "stream",
     "text": [
      "Lola  is finished\n",
      "Processing  Lola\n"
     ]
    },
    {
     "name": "stderr",
     "output_type": "stream",
     "text": [
      "Ignoring index file '/home/dl392/data/yiwei/typhoon/EAR5/temp.grib.5b7b6.idx' older than GRIB file\n"
     ]
    },
    {
     "name": "stdout",
     "output_type": "stream",
     "text": [
      "Lola  is finished\n",
      "Processing  Lola\n"
     ]
    },
    {
     "name": "stderr",
     "output_type": "stream",
     "text": [
      "Ignoring index file '/home/dl392/data/yiwei/typhoon/EAR5/temp.grib.5b7b6.idx' older than GRIB file\n"
     ]
    },
    {
     "name": "stdout",
     "output_type": "stream",
     "text": [
      "Lola  is finished\n",
      "Processing  Lola\n"
     ]
    },
    {
     "name": "stderr",
     "output_type": "stream",
     "text": [
      "Ignoring index file '/home/dl392/data/yiwei/typhoon/EAR5/temp.grib.5b7b6.idx' older than GRIB file\n"
     ]
    },
    {
     "name": "stdout",
     "output_type": "stream",
     "text": [
      "Lola  is finished\n",
      "Processing  Lola\n"
     ]
    },
    {
     "name": "stderr",
     "output_type": "stream",
     "text": [
      "Ignoring index file '/home/dl392/data/yiwei/typhoon/EAR5/temp.grib.5b7b6.idx' older than GRIB file\n"
     ]
    },
    {
     "name": "stdout",
     "output_type": "stream",
     "text": [
      "Lola  is finished\n",
      "Processing  Lola\n"
     ]
    },
    {
     "name": "stderr",
     "output_type": "stream",
     "text": [
      "Ignoring index file '/home/dl392/data/yiwei/typhoon/EAR5/temp.grib.5b7b6.idx' older than GRIB file\n"
     ]
    },
    {
     "name": "stdout",
     "output_type": "stream",
     "text": [
      "Lola  is finished\n",
      "Processing  Lola\n"
     ]
    },
    {
     "name": "stderr",
     "output_type": "stream",
     "text": [
      "Ignoring index file '/home/dl392/data/yiwei/typhoon/EAR5/temp.grib.5b7b6.idx' older than GRIB file\n"
     ]
    },
    {
     "name": "stdout",
     "output_type": "stream",
     "text": [
      "Lola  is finished\n",
      "Processing  Lola\n"
     ]
    },
    {
     "name": "stderr",
     "output_type": "stream",
     "text": [
      "Ignoring index file '/home/dl392/data/yiwei/typhoon/EAR5/temp.grib.5b7b6.idx' older than GRIB file\n"
     ]
    },
    {
     "name": "stdout",
     "output_type": "stream",
     "text": [
      "Lola  is finished\n",
      "Processing  Lola\n",
      "Lola  is finished\n",
      "Processing  Orchid\n"
     ]
    },
    {
     "name": "stderr",
     "output_type": "stream",
     "text": [
      "2024-11-24 02:56:59,401 WARNING [2024-10-10T00:00:00] The final validated ERA5 differs from ERA5T from July 2024 until further notice - please refer to our\n",
      "[Forum announcement](https://forum.ecmwf.int/t/final-validated-era5-product-to-differ-from-era5t-in-july-2024/6685)\n",
      "for details and watch it for further updates on this.\n",
      "2024-11-24 02:56:59,404 INFO Request ID is 0e45cb62-32b8-4e73-9a9d-35ce36968e1b\n",
      "2024-11-24 02:56:59,675 INFO status has been updated to accepted\n",
      "2024-11-24 02:57:05,318 INFO status has been updated to running\n",
      "2024-11-24 02:57:08,960 INFO status has been updated to successful\n",
      "Ignoring index file '/home/dl392/data/yiwei/typhoon/EAR5/temp.grib.5b7b6.idx' older than GRIB file\n",
      "Ignoring index file '/home/dl392/data/yiwei/typhoon/EAR5/temp.grib.5b7b6.idx' older than GRIB file\n"
     ]
    },
    {
     "name": "stdout",
     "output_type": "stream",
     "text": [
      "Orchid  is finished\n",
      "Processing  Orchid\n"
     ]
    },
    {
     "name": "stderr",
     "output_type": "stream",
     "text": [
      "Ignoring index file '/home/dl392/data/yiwei/typhoon/EAR5/temp.grib.5b7b6.idx' older than GRIB file\n"
     ]
    },
    {
     "name": "stdout",
     "output_type": "stream",
     "text": [
      "Orchid  is finished\n",
      "Processing  Orchid\n"
     ]
    },
    {
     "name": "stderr",
     "output_type": "stream",
     "text": [
      "Ignoring index file '/home/dl392/data/yiwei/typhoon/EAR5/temp.grib.5b7b6.idx' older than GRIB file\n"
     ]
    },
    {
     "name": "stdout",
     "output_type": "stream",
     "text": [
      "Orchid  is finished\n",
      "Processing  Orchid\n"
     ]
    },
    {
     "name": "stderr",
     "output_type": "stream",
     "text": [
      "Ignoring index file '/home/dl392/data/yiwei/typhoon/EAR5/temp.grib.5b7b6.idx' older than GRIB file\n"
     ]
    },
    {
     "name": "stdout",
     "output_type": "stream",
     "text": [
      "Orchid  is finished\n",
      "Processing  Orchid\n"
     ]
    },
    {
     "name": "stderr",
     "output_type": "stream",
     "text": [
      "Ignoring index file '/home/dl392/data/yiwei/typhoon/EAR5/temp.grib.5b7b6.idx' older than GRIB file\n"
     ]
    },
    {
     "name": "stdout",
     "output_type": "stream",
     "text": [
      "Orchid  is finished\n",
      "Processing  Orchid\n"
     ]
    },
    {
     "name": "stderr",
     "output_type": "stream",
     "text": [
      "Ignoring index file '/home/dl392/data/yiwei/typhoon/EAR5/temp.grib.5b7b6.idx' older than GRIB file\n"
     ]
    },
    {
     "name": "stdout",
     "output_type": "stream",
     "text": [
      "Orchid  is finished\n",
      "Processing  Orchid\n"
     ]
    },
    {
     "name": "stderr",
     "output_type": "stream",
     "text": [
      "Ignoring index file '/home/dl392/data/yiwei/typhoon/EAR5/temp.grib.5b7b6.idx' older than GRIB file\n"
     ]
    },
    {
     "name": "stdout",
     "output_type": "stream",
     "text": [
      "Orchid  is finished\n",
      "Processing  Orchid\n"
     ]
    },
    {
     "name": "stderr",
     "output_type": "stream",
     "text": [
      "Ignoring index file '/home/dl392/data/yiwei/typhoon/EAR5/temp.grib.5b7b6.idx' older than GRIB file\n"
     ]
    },
    {
     "name": "stdout",
     "output_type": "stream",
     "text": [
      "Orchid  is finished\n",
      "Processing  Orchid\n"
     ]
    },
    {
     "name": "stderr",
     "output_type": "stream",
     "text": [
      "Ignoring index file '/home/dl392/data/yiwei/typhoon/EAR5/temp.grib.5b7b6.idx' older than GRIB file\n"
     ]
    },
    {
     "name": "stdout",
     "output_type": "stream",
     "text": [
      "Orchid  is finished\n",
      "Processing  Orchid\n"
     ]
    },
    {
     "name": "stderr",
     "output_type": "stream",
     "text": [
      "Ignoring index file '/home/dl392/data/yiwei/typhoon/EAR5/temp.grib.5b7b6.idx' older than GRIB file\n"
     ]
    },
    {
     "name": "stdout",
     "output_type": "stream",
     "text": [
      "Orchid  is finished\n",
      "Processing  Orchid\n"
     ]
    },
    {
     "name": "stderr",
     "output_type": "stream",
     "text": [
      "Ignoring index file '/home/dl392/data/yiwei/typhoon/EAR5/temp.grib.5b7b6.idx' older than GRIB file\n"
     ]
    },
    {
     "name": "stdout",
     "output_type": "stream",
     "text": [
      "Orchid  is finished\n",
      "Processing  Orchid\n"
     ]
    },
    {
     "name": "stderr",
     "output_type": "stream",
     "text": [
      "Ignoring index file '/home/dl392/data/yiwei/typhoon/EAR5/temp.grib.5b7b6.idx' older than GRIB file\n"
     ]
    },
    {
     "name": "stdout",
     "output_type": "stream",
     "text": [
      "Orchid  is finished\n",
      "Processing  Orchid\n"
     ]
    },
    {
     "name": "stderr",
     "output_type": "stream",
     "text": [
      "Ignoring index file '/home/dl392/data/yiwei/typhoon/EAR5/temp.grib.5b7b6.idx' older than GRIB file\n"
     ]
    },
    {
     "name": "stdout",
     "output_type": "stream",
     "text": [
      "Orchid  is finished\n",
      "Processing  Orchid\n"
     ]
    },
    {
     "name": "stderr",
     "output_type": "stream",
     "text": [
      "Ignoring index file '/home/dl392/data/yiwei/typhoon/EAR5/temp.grib.5b7b6.idx' older than GRIB file\n"
     ]
    },
    {
     "name": "stdout",
     "output_type": "stream",
     "text": [
      "Orchid  is finished\n",
      "Processing  Orchid\n"
     ]
    },
    {
     "name": "stderr",
     "output_type": "stream",
     "text": [
      "Ignoring index file '/home/dl392/data/yiwei/typhoon/EAR5/temp.grib.5b7b6.idx' older than GRIB file\n"
     ]
    },
    {
     "name": "stdout",
     "output_type": "stream",
     "text": [
      "Orchid  is finished\n",
      "Processing  Orchid\n"
     ]
    },
    {
     "name": "stderr",
     "output_type": "stream",
     "text": [
      "Ignoring index file '/home/dl392/data/yiwei/typhoon/EAR5/temp.grib.5b7b6.idx' older than GRIB file\n"
     ]
    },
    {
     "name": "stdout",
     "output_type": "stream",
     "text": [
      "Orchid  is finished\n",
      "Processing  Orchid\n"
     ]
    },
    {
     "name": "stderr",
     "output_type": "stream",
     "text": [
      "Ignoring index file '/home/dl392/data/yiwei/typhoon/EAR5/temp.grib.5b7b6.idx' older than GRIB file\n"
     ]
    },
    {
     "name": "stdout",
     "output_type": "stream",
     "text": [
      "Orchid  is finished\n",
      "Processing  Orchid\n"
     ]
    },
    {
     "name": "stderr",
     "output_type": "stream",
     "text": [
      "Ignoring index file '/home/dl392/data/yiwei/typhoon/EAR5/temp.grib.5b7b6.idx' older than GRIB file\n"
     ]
    },
    {
     "name": "stdout",
     "output_type": "stream",
     "text": [
      "Orchid  is finished\n",
      "Processing  Orchid\n"
     ]
    },
    {
     "name": "stderr",
     "output_type": "stream",
     "text": [
      "Ignoring index file '/home/dl392/data/yiwei/typhoon/EAR5/temp.grib.5b7b6.idx' older than GRIB file\n"
     ]
    },
    {
     "name": "stdout",
     "output_type": "stream",
     "text": [
      "Orchid  is finished\n",
      "Processing  Orchid\n",
      "Orchid  is finished\n",
      "Processing  Fran\n"
     ]
    },
    {
     "name": "stderr",
     "output_type": "stream",
     "text": [
      "2024-11-24 02:57:50,791 WARNING [2024-10-10T00:00:00] The final validated ERA5 differs from ERA5T from July 2024 until further notice - please refer to our\n",
      "[Forum announcement](https://forum.ecmwf.int/t/final-validated-era5-product-to-differ-from-era5t-in-july-2024/6685)\n",
      "for details and watch it for further updates on this.\n",
      "2024-11-24 02:57:50,793 INFO Request ID is 94516415-3a08-4a17-8113-c0ba84d54502\n",
      "2024-11-24 02:57:51,244 INFO status has been updated to accepted\n",
      "2024-11-24 02:57:58,280 INFO status has been updated to running\n",
      "2024-11-24 02:58:02,016 INFO status has been updated to successful\n",
      "Ignoring index file '/home/dl392/data/yiwei/typhoon/EAR5/temp.grib.5b7b6.idx' older than GRIB file\n",
      "Ignoring index file '/home/dl392/data/yiwei/typhoon/EAR5/temp.grib.5b7b6.idx' older than GRIB file\n"
     ]
    },
    {
     "name": "stdout",
     "output_type": "stream",
     "text": [
      "Fran  is finished\n",
      "Processing  Fran\n"
     ]
    },
    {
     "name": "stderr",
     "output_type": "stream",
     "text": [
      "Ignoring index file '/home/dl392/data/yiwei/typhoon/EAR5/temp.grib.5b7b6.idx' older than GRIB file\n"
     ]
    },
    {
     "name": "stdout",
     "output_type": "stream",
     "text": [
      "Fran  is finished\n",
      "Processing  Fran\n"
     ]
    },
    {
     "name": "stderr",
     "output_type": "stream",
     "text": [
      "Ignoring index file '/home/dl392/data/yiwei/typhoon/EAR5/temp.grib.5b7b6.idx' older than GRIB file\n"
     ]
    },
    {
     "name": "stdout",
     "output_type": "stream",
     "text": [
      "Fran  is finished\n",
      "Processing  Fran\n"
     ]
    },
    {
     "name": "stderr",
     "output_type": "stream",
     "text": [
      "Ignoring index file '/home/dl392/data/yiwei/typhoon/EAR5/temp.grib.5b7b6.idx' older than GRIB file\n"
     ]
    },
    {
     "name": "stdout",
     "output_type": "stream",
     "text": [
      "Fran  is finished\n",
      "Processing  Fran\n"
     ]
    },
    {
     "name": "stderr",
     "output_type": "stream",
     "text": [
      "Ignoring index file '/home/dl392/data/yiwei/typhoon/EAR5/temp.grib.5b7b6.idx' older than GRIB file\n"
     ]
    },
    {
     "name": "stdout",
     "output_type": "stream",
     "text": [
      "Fran  is finished\n",
      "Processing  Fran\n"
     ]
    },
    {
     "name": "stderr",
     "output_type": "stream",
     "text": [
      "Ignoring index file '/home/dl392/data/yiwei/typhoon/EAR5/temp.grib.5b7b6.idx' older than GRIB file\n"
     ]
    },
    {
     "name": "stdout",
     "output_type": "stream",
     "text": [
      "Fran  is finished\n",
      "Processing  Fran\n"
     ]
    },
    {
     "name": "stderr",
     "output_type": "stream",
     "text": [
      "Ignoring index file '/home/dl392/data/yiwei/typhoon/EAR5/temp.grib.5b7b6.idx' older than GRIB file\n"
     ]
    },
    {
     "name": "stdout",
     "output_type": "stream",
     "text": [
      "Fran  is finished\n",
      "Processing  Fran\n"
     ]
    },
    {
     "name": "stderr",
     "output_type": "stream",
     "text": [
      "Ignoring index file '/home/dl392/data/yiwei/typhoon/EAR5/temp.grib.5b7b6.idx' older than GRIB file\n"
     ]
    },
    {
     "name": "stdout",
     "output_type": "stream",
     "text": [
      "Fran  is finished\n",
      "Processing  Fran\n"
     ]
    },
    {
     "name": "stderr",
     "output_type": "stream",
     "text": [
      "Ignoring index file '/home/dl392/data/yiwei/typhoon/EAR5/temp.grib.5b7b6.idx' older than GRIB file\n"
     ]
    },
    {
     "name": "stdout",
     "output_type": "stream",
     "text": [
      "Fran  is finished\n",
      "Processing  Fran\n"
     ]
    },
    {
     "name": "stderr",
     "output_type": "stream",
     "text": [
      "Ignoring index file '/home/dl392/data/yiwei/typhoon/EAR5/temp.grib.5b7b6.idx' older than GRIB file\n"
     ]
    },
    {
     "name": "stdout",
     "output_type": "stream",
     "text": [
      "Fran  is finished\n",
      "Processing  Fran\n"
     ]
    },
    {
     "name": "stderr",
     "output_type": "stream",
     "text": [
      "Ignoring index file '/home/dl392/data/yiwei/typhoon/EAR5/temp.grib.5b7b6.idx' older than GRIB file\n"
     ]
    },
    {
     "name": "stdout",
     "output_type": "stream",
     "text": [
      "Fran  is finished\n",
      "Processing  Fran\n"
     ]
    },
    {
     "name": "stderr",
     "output_type": "stream",
     "text": [
      "Ignoring index file '/home/dl392/data/yiwei/typhoon/EAR5/temp.grib.5b7b6.idx' older than GRIB file\n"
     ]
    },
    {
     "name": "stdout",
     "output_type": "stream",
     "text": [
      "Fran  is finished\n",
      "Processing  Fran\n"
     ]
    },
    {
     "name": "stderr",
     "output_type": "stream",
     "text": [
      "Ignoring index file '/home/dl392/data/yiwei/typhoon/EAR5/temp.grib.5b7b6.idx' older than GRIB file\n"
     ]
    },
    {
     "name": "stdout",
     "output_type": "stream",
     "text": [
      "Fran  is finished\n",
      "Processing  Fran\n"
     ]
    },
    {
     "name": "stderr",
     "output_type": "stream",
     "text": [
      "Ignoring index file '/home/dl392/data/yiwei/typhoon/EAR5/temp.grib.5b7b6.idx' older than GRIB file\n"
     ]
    },
    {
     "name": "stdout",
     "output_type": "stream",
     "text": [
      "Fran  is finished\n",
      "Processing  Fran\n",
      "Fran  is finished\n",
      "Processing  Mekkhala\n"
     ]
    },
    {
     "name": "stderr",
     "output_type": "stream",
     "text": [
      "2024-11-24 02:58:32,675 WARNING [2024-10-10T00:00:00] The final validated ERA5 differs from ERA5T from July 2024 until further notice - please refer to our\n",
      "[Forum announcement](https://forum.ecmwf.int/t/final-validated-era5-product-to-differ-from-era5t-in-july-2024/6685)\n",
      "for details and watch it for further updates on this.\n",
      "2024-11-24 02:58:32,676 INFO Request ID is 63e0b058-fb4f-454a-b10f-c05de150f6c0\n",
      "2024-11-24 02:58:32,973 INFO status has been updated to accepted\n",
      "2024-11-24 02:58:38,575 INFO status has been updated to running\n",
      "2024-11-24 02:58:42,231 INFO status has been updated to successful\n",
      "Ignoring index file '/home/dl392/data/yiwei/typhoon/EAR5/temp.grib.5b7b6.idx' older than GRIB file\n",
      "Ignoring index file '/home/dl392/data/yiwei/typhoon/EAR5/temp.grib.5b7b6.idx' older than GRIB file\n"
     ]
    },
    {
     "name": "stdout",
     "output_type": "stream",
     "text": [
      "Mekkhala  is finished\n",
      "Processing  Mekkhala\n"
     ]
    },
    {
     "name": "stderr",
     "output_type": "stream",
     "text": [
      "Ignoring index file '/home/dl392/data/yiwei/typhoon/EAR5/temp.grib.5b7b6.idx' older than GRIB file\n"
     ]
    },
    {
     "name": "stdout",
     "output_type": "stream",
     "text": [
      "Mekkhala  is finished\n",
      "Processing  Mekkhala\n"
     ]
    },
    {
     "name": "stderr",
     "output_type": "stream",
     "text": [
      "Ignoring index file '/home/dl392/data/yiwei/typhoon/EAR5/temp.grib.5b7b6.idx' older than GRIB file\n"
     ]
    },
    {
     "name": "stdout",
     "output_type": "stream",
     "text": [
      "Mekkhala  is finished\n",
      "Processing  Mekkhala\n"
     ]
    },
    {
     "name": "stderr",
     "output_type": "stream",
     "text": [
      "Ignoring index file '/home/dl392/data/yiwei/typhoon/EAR5/temp.grib.5b7b6.idx' older than GRIB file\n"
     ]
    },
    {
     "name": "stdout",
     "output_type": "stream",
     "text": [
      "Mekkhala  is finished\n",
      "Processing  Mekkhala\n"
     ]
    },
    {
     "name": "stderr",
     "output_type": "stream",
     "text": [
      "Ignoring index file '/home/dl392/data/yiwei/typhoon/EAR5/temp.grib.5b7b6.idx' older than GRIB file\n"
     ]
    },
    {
     "name": "stdout",
     "output_type": "stream",
     "text": [
      "Mekkhala  is finished\n",
      "Processing  Mekkhala\n"
     ]
    },
    {
     "name": "stderr",
     "output_type": "stream",
     "text": [
      "Ignoring index file '/home/dl392/data/yiwei/typhoon/EAR5/temp.grib.5b7b6.idx' older than GRIB file\n"
     ]
    },
    {
     "name": "stdout",
     "output_type": "stream",
     "text": [
      "Mekkhala  is finished\n",
      "Processing  Mekkhala\n"
     ]
    },
    {
     "name": "stderr",
     "output_type": "stream",
     "text": [
      "Ignoring index file '/home/dl392/data/yiwei/typhoon/EAR5/temp.grib.5b7b6.idx' older than GRIB file\n"
     ]
    },
    {
     "name": "stdout",
     "output_type": "stream",
     "text": [
      "Mekkhala  is finished\n",
      "Processing  Mekkhala\n"
     ]
    },
    {
     "name": "stderr",
     "output_type": "stream",
     "text": [
      "Ignoring index file '/home/dl392/data/yiwei/typhoon/EAR5/temp.grib.5b7b6.idx' older than GRIB file\n"
     ]
    },
    {
     "name": "stdout",
     "output_type": "stream",
     "text": [
      "Mekkhala  is finished\n",
      "Processing  Mekkhala\n"
     ]
    },
    {
     "name": "stderr",
     "output_type": "stream",
     "text": [
      "Ignoring index file '/home/dl392/data/yiwei/typhoon/EAR5/temp.grib.5b7b6.idx' older than GRIB file\n"
     ]
    },
    {
     "name": "stdout",
     "output_type": "stream",
     "text": [
      "Mekkhala  is finished\n",
      "Processing  Mekkhala\n"
     ]
    },
    {
     "name": "stderr",
     "output_type": "stream",
     "text": [
      "Ignoring index file '/home/dl392/data/yiwei/typhoon/EAR5/temp.grib.5b7b6.idx' older than GRIB file\n"
     ]
    },
    {
     "name": "stdout",
     "output_type": "stream",
     "text": [
      "Mekkhala  is finished\n",
      "Processing  Mekkhala\n"
     ]
    },
    {
     "name": "stderr",
     "output_type": "stream",
     "text": [
      "Ignoring index file '/home/dl392/data/yiwei/typhoon/EAR5/temp.grib.5b7b6.idx' older than GRIB file\n"
     ]
    },
    {
     "name": "stdout",
     "output_type": "stream",
     "text": [
      "Mekkhala  is finished\n",
      "Processing  Mekkhala\n"
     ]
    },
    {
     "name": "stderr",
     "output_type": "stream",
     "text": [
      "Ignoring index file '/home/dl392/data/yiwei/typhoon/EAR5/temp.grib.5b7b6.idx' older than GRIB file\n"
     ]
    },
    {
     "name": "stdout",
     "output_type": "stream",
     "text": [
      "Mekkhala  is finished\n",
      "Processing  Mekkhala\n"
     ]
    },
    {
     "name": "stderr",
     "output_type": "stream",
     "text": [
      "Ignoring index file '/home/dl392/data/yiwei/typhoon/EAR5/temp.grib.5b7b6.idx' older than GRIB file\n"
     ]
    },
    {
     "name": "stdout",
     "output_type": "stream",
     "text": [
      "Mekkhala  is finished\n",
      "Processing  Mekkhala\n"
     ]
    },
    {
     "name": "stderr",
     "output_type": "stream",
     "text": [
      "Ignoring index file '/home/dl392/data/yiwei/typhoon/EAR5/temp.grib.5b7b6.idx' older than GRIB file\n"
     ]
    },
    {
     "name": "stdout",
     "output_type": "stream",
     "text": [
      "Mekkhala  is finished\n",
      "Processing  Mekkhala\n"
     ]
    },
    {
     "name": "stderr",
     "output_type": "stream",
     "text": [
      "Ignoring index file '/home/dl392/data/yiwei/typhoon/EAR5/temp.grib.5b7b6.idx' older than GRIB file\n"
     ]
    },
    {
     "name": "stdout",
     "output_type": "stream",
     "text": [
      "Mekkhala  is finished\n",
      "Processing  Mekkhala\n"
     ]
    },
    {
     "name": "stderr",
     "output_type": "stream",
     "text": [
      "Ignoring index file '/home/dl392/data/yiwei/typhoon/EAR5/temp.grib.5b7b6.idx' older than GRIB file\n"
     ]
    },
    {
     "name": "stdout",
     "output_type": "stream",
     "text": [
      "Mekkhala  is finished\n",
      "Processing  Mekkhala\n"
     ]
    },
    {
     "name": "stderr",
     "output_type": "stream",
     "text": [
      "Ignoring index file '/home/dl392/data/yiwei/typhoon/EAR5/temp.grib.5b7b6.idx' older than GRIB file\n"
     ]
    },
    {
     "name": "stdout",
     "output_type": "stream",
     "text": [
      "Mekkhala  is finished\n",
      "Processing  Mekkhala\n"
     ]
    },
    {
     "name": "stderr",
     "output_type": "stream",
     "text": [
      "Ignoring index file '/home/dl392/data/yiwei/typhoon/EAR5/temp.grib.5b7b6.idx' older than GRIB file\n"
     ]
    },
    {
     "name": "stdout",
     "output_type": "stream",
     "text": [
      "Mekkhala  is finished\n",
      "Processing  Mekkhala\n"
     ]
    },
    {
     "name": "stderr",
     "output_type": "stream",
     "text": [
      "Ignoring index file '/home/dl392/data/yiwei/typhoon/EAR5/temp.grib.5b7b6.idx' older than GRIB file\n"
     ]
    },
    {
     "name": "stdout",
     "output_type": "stream",
     "text": [
      "Mekkhala  is finished\n",
      "Processing  Mekkhala\n"
     ]
    },
    {
     "name": "stderr",
     "output_type": "stream",
     "text": [
      "Ignoring index file '/home/dl392/data/yiwei/typhoon/EAR5/temp.grib.5b7b6.idx' older than GRIB file\n"
     ]
    },
    {
     "name": "stdout",
     "output_type": "stream",
     "text": [
      "Mekkhala  is finished\n",
      "Processing  Mekkhala\n"
     ]
    },
    {
     "name": "stderr",
     "output_type": "stream",
     "text": [
      "Ignoring index file '/home/dl392/data/yiwei/typhoon/EAR5/temp.grib.5b7b6.idx' older than GRIB file\n"
     ]
    },
    {
     "name": "stdout",
     "output_type": "stream",
     "text": [
      "Mekkhala  is finished\n",
      "Processing  Mekkhala\n"
     ]
    },
    {
     "name": "stderr",
     "output_type": "stream",
     "text": [
      "Ignoring index file '/home/dl392/data/yiwei/typhoon/EAR5/temp.grib.5b7b6.idx' older than GRIB file\n"
     ]
    },
    {
     "name": "stdout",
     "output_type": "stream",
     "text": [
      "Mekkhala  is finished\n",
      "Processing  Mekkhala\n"
     ]
    },
    {
     "name": "stderr",
     "output_type": "stream",
     "text": [
      "Ignoring index file '/home/dl392/data/yiwei/typhoon/EAR5/temp.grib.5b7b6.idx' older than GRIB file\n"
     ]
    },
    {
     "name": "stdout",
     "output_type": "stream",
     "text": [
      "Mekkhala  is finished\n",
      "Processing  Mekkhala\n"
     ]
    },
    {
     "name": "stderr",
     "output_type": "stream",
     "text": [
      "Ignoring index file '/home/dl392/data/yiwei/typhoon/EAR5/temp.grib.5b7b6.idx' older than GRIB file\n"
     ]
    },
    {
     "name": "stdout",
     "output_type": "stream",
     "text": [
      "Mekkhala  is finished\n",
      "Processing  Mekkhala\n"
     ]
    },
    {
     "name": "stderr",
     "output_type": "stream",
     "text": [
      "Ignoring index file '/home/dl392/data/yiwei/typhoon/EAR5/temp.grib.5b7b6.idx' older than GRIB file\n"
     ]
    },
    {
     "name": "stdout",
     "output_type": "stream",
     "text": [
      "Mekkhala  is finished\n",
      "Processing  Mekkhala\n"
     ]
    },
    {
     "name": "stderr",
     "output_type": "stream",
     "text": [
      "Ignoring index file '/home/dl392/data/yiwei/typhoon/EAR5/temp.grib.5b7b6.idx' older than GRIB file\n"
     ]
    },
    {
     "name": "stdout",
     "output_type": "stream",
     "text": [
      "Mekkhala  is finished\n",
      "Processing  Mekkhala\n"
     ]
    },
    {
     "name": "stderr",
     "output_type": "stream",
     "text": [
      "Ignoring index file '/home/dl392/data/yiwei/typhoon/EAR5/temp.grib.5b7b6.idx' older than GRIB file\n"
     ]
    },
    {
     "name": "stdout",
     "output_type": "stream",
     "text": [
      "Mekkhala  is finished\n",
      "Processing  Mekkhala\n",
      "Mekkhala  is finished\n",
      "Processing  Dujuan\n"
     ]
    },
    {
     "name": "stderr",
     "output_type": "stream",
     "text": [
      "2024-11-24 02:59:38,391 WARNING [2024-10-10T00:00:00] The final validated ERA5 differs from ERA5T from July 2024 until further notice - please refer to our\n",
      "[Forum announcement](https://forum.ecmwf.int/t/final-validated-era5-product-to-differ-from-era5t-in-july-2024/6685)\n",
      "for details and watch it for further updates on this.\n",
      "2024-11-24 02:59:38,392 INFO Request ID is 89fe8521-70ec-4516-8cfe-641c12796686\n",
      "2024-11-24 02:59:38,655 INFO status has been updated to accepted\n",
      "2024-11-24 02:59:45,417 INFO status has been updated to running\n",
      "2024-11-24 02:59:49,116 INFO status has been updated to successful\n",
      "Ignoring index file '/home/dl392/data/yiwei/typhoon/EAR5/temp.grib.5b7b6.idx' older than GRIB file\n",
      "Ignoring index file '/home/dl392/data/yiwei/typhoon/EAR5/temp.grib.5b7b6.idx' older than GRIB file\n"
     ]
    },
    {
     "name": "stdout",
     "output_type": "stream",
     "text": [
      "Dujuan  is finished\n",
      "Processing  Dujuan\n"
     ]
    },
    {
     "name": "stderr",
     "output_type": "stream",
     "text": [
      "Ignoring index file '/home/dl392/data/yiwei/typhoon/EAR5/temp.grib.5b7b6.idx' older than GRIB file\n"
     ]
    },
    {
     "name": "stdout",
     "output_type": "stream",
     "text": [
      "Dujuan  is finished\n",
      "Processing  Dujuan\n"
     ]
    },
    {
     "name": "stderr",
     "output_type": "stream",
     "text": [
      "Ignoring index file '/home/dl392/data/yiwei/typhoon/EAR5/temp.grib.5b7b6.idx' older than GRIB file\n"
     ]
    },
    {
     "name": "stdout",
     "output_type": "stream",
     "text": [
      "Dujuan  is finished\n",
      "Processing  Dujuan\n"
     ]
    },
    {
     "name": "stderr",
     "output_type": "stream",
     "text": [
      "Ignoring index file '/home/dl392/data/yiwei/typhoon/EAR5/temp.grib.5b7b6.idx' older than GRIB file\n"
     ]
    },
    {
     "name": "stdout",
     "output_type": "stream",
     "text": [
      "Dujuan  is finished\n",
      "Processing  Dujuan\n"
     ]
    },
    {
     "name": "stderr",
     "output_type": "stream",
     "text": [
      "Ignoring index file '/home/dl392/data/yiwei/typhoon/EAR5/temp.grib.5b7b6.idx' older than GRIB file\n"
     ]
    },
    {
     "name": "stdout",
     "output_type": "stream",
     "text": [
      "Dujuan  is finished\n",
      "Processing  Dujuan\n"
     ]
    },
    {
     "name": "stderr",
     "output_type": "stream",
     "text": [
      "Ignoring index file '/home/dl392/data/yiwei/typhoon/EAR5/temp.grib.5b7b6.idx' older than GRIB file\n"
     ]
    },
    {
     "name": "stdout",
     "output_type": "stream",
     "text": [
      "Dujuan  is finished\n",
      "Processing  Dujuan\n"
     ]
    },
    {
     "name": "stderr",
     "output_type": "stream",
     "text": [
      "Ignoring index file '/home/dl392/data/yiwei/typhoon/EAR5/temp.grib.5b7b6.idx' older than GRIB file\n"
     ]
    },
    {
     "name": "stdout",
     "output_type": "stream",
     "text": [
      "Dujuan  is finished\n",
      "Processing  Dujuan\n"
     ]
    },
    {
     "name": "stderr",
     "output_type": "stream",
     "text": [
      "Ignoring index file '/home/dl392/data/yiwei/typhoon/EAR5/temp.grib.5b7b6.idx' older than GRIB file\n"
     ]
    },
    {
     "name": "stdout",
     "output_type": "stream",
     "text": [
      "Dujuan  is finished\n",
      "Processing  Dujuan\n"
     ]
    },
    {
     "name": "stderr",
     "output_type": "stream",
     "text": [
      "Ignoring index file '/home/dl392/data/yiwei/typhoon/EAR5/temp.grib.5b7b6.idx' older than GRIB file\n"
     ]
    },
    {
     "name": "stdout",
     "output_type": "stream",
     "text": [
      "Dujuan  is finished\n",
      "Processing  Dujuan\n"
     ]
    },
    {
     "name": "stderr",
     "output_type": "stream",
     "text": [
      "Ignoring index file '/home/dl392/data/yiwei/typhoon/EAR5/temp.grib.5b7b6.idx' older than GRIB file\n"
     ]
    },
    {
     "name": "stdout",
     "output_type": "stream",
     "text": [
      "Dujuan  is finished\n",
      "Processing  Dujuan\n"
     ]
    },
    {
     "name": "stderr",
     "output_type": "stream",
     "text": [
      "Ignoring index file '/home/dl392/data/yiwei/typhoon/EAR5/temp.grib.5b7b6.idx' older than GRIB file\n"
     ]
    },
    {
     "name": "stdout",
     "output_type": "stream",
     "text": [
      "Dujuan  is finished\n",
      "Processing  Dujuan\n"
     ]
    },
    {
     "name": "stderr",
     "output_type": "stream",
     "text": [
      "Ignoring index file '/home/dl392/data/yiwei/typhoon/EAR5/temp.grib.5b7b6.idx' older than GRIB file\n"
     ]
    },
    {
     "name": "stdout",
     "output_type": "stream",
     "text": [
      "Dujuan  is finished\n",
      "Processing  Dujuan\n"
     ]
    },
    {
     "name": "stderr",
     "output_type": "stream",
     "text": [
      "Ignoring index file '/home/dl392/data/yiwei/typhoon/EAR5/temp.grib.5b7b6.idx' older than GRIB file\n"
     ]
    },
    {
     "name": "stdout",
     "output_type": "stream",
     "text": [
      "Dujuan  is finished\n",
      "Processing  Dujuan\n"
     ]
    },
    {
     "name": "stderr",
     "output_type": "stream",
     "text": [
      "Ignoring index file '/home/dl392/data/yiwei/typhoon/EAR5/temp.grib.5b7b6.idx' older than GRIB file\n"
     ]
    },
    {
     "name": "stdout",
     "output_type": "stream",
     "text": [
      "Dujuan  is finished\n",
      "Processing  Dujuan\n"
     ]
    },
    {
     "name": "stderr",
     "output_type": "stream",
     "text": [
      "Ignoring index file '/home/dl392/data/yiwei/typhoon/EAR5/temp.grib.5b7b6.idx' older than GRIB file\n"
     ]
    },
    {
     "name": "stdout",
     "output_type": "stream",
     "text": [
      "Dujuan  is finished\n",
      "Processing  Dujuan\n"
     ]
    },
    {
     "name": "stderr",
     "output_type": "stream",
     "text": [
      "Ignoring index file '/home/dl392/data/yiwei/typhoon/EAR5/temp.grib.5b7b6.idx' older than GRIB file\n"
     ]
    },
    {
     "name": "stdout",
     "output_type": "stream",
     "text": [
      "Dujuan  is finished\n",
      "Processing  Dujuan\n"
     ]
    },
    {
     "name": "stderr",
     "output_type": "stream",
     "text": [
      "Ignoring index file '/home/dl392/data/yiwei/typhoon/EAR5/temp.grib.5b7b6.idx' older than GRIB file\n"
     ]
    },
    {
     "name": "stdout",
     "output_type": "stream",
     "text": [
      "Dujuan  is finished\n",
      "Processing  Dujuan\n"
     ]
    },
    {
     "name": "stderr",
     "output_type": "stream",
     "text": [
      "Ignoring index file '/home/dl392/data/yiwei/typhoon/EAR5/temp.grib.5b7b6.idx' older than GRIB file\n"
     ]
    },
    {
     "name": "stdout",
     "output_type": "stream",
     "text": [
      "Dujuan  is finished\n",
      "Processing  Dujuan\n"
     ]
    },
    {
     "name": "stderr",
     "output_type": "stream",
     "text": [
      "Ignoring index file '/home/dl392/data/yiwei/typhoon/EAR5/temp.grib.5b7b6.idx' older than GRIB file\n"
     ]
    },
    {
     "name": "stdout",
     "output_type": "stream",
     "text": [
      "Dujuan  is finished\n",
      "Processing  Dujuan\n"
     ]
    },
    {
     "name": "stderr",
     "output_type": "stream",
     "text": [
      "Ignoring index file '/home/dl392/data/yiwei/typhoon/EAR5/temp.grib.5b7b6.idx' older than GRIB file\n"
     ]
    },
    {
     "name": "stdout",
     "output_type": "stream",
     "text": [
      "Dujuan  is finished\n",
      "Processing  Dujuan\n"
     ]
    },
    {
     "name": "stderr",
     "output_type": "stream",
     "text": [
      "Ignoring index file '/home/dl392/data/yiwei/typhoon/EAR5/temp.grib.5b7b6.idx' older than GRIB file\n"
     ]
    },
    {
     "name": "stdout",
     "output_type": "stream",
     "text": [
      "Dujuan  is finished\n",
      "Processing  Dujuan\n"
     ]
    },
    {
     "name": "stderr",
     "output_type": "stream",
     "text": [
      "Ignoring index file '/home/dl392/data/yiwei/typhoon/EAR5/temp.grib.5b7b6.idx' older than GRIB file\n"
     ]
    },
    {
     "name": "stdout",
     "output_type": "stream",
     "text": [
      "Dujuan  is finished\n",
      "Processing  Dujuan\n",
      "Dujuan  is finished\n",
      "SST data saved to sst_data_matrix.json\n",
      "SP data saved to sp_data_matrix.json\n"
     ]
    }
   ],
   "source": [
    "import pandas as pd\n",
    "import json\n",
    "import cdsapi\n",
    "import xarray as xr\n",
    "import numpy as np\n",
    "\n",
    "# 配置路径和参数\n",
    "\n",
    "sst_output_json = \"sst_data_matrix.json\"\n",
    "sp_output_json = \"sp_data_matrix.json\"\n",
    "csv_file = \"/home/dl392/data/yiwei/typhoon/data_preprocess/best_track_records.csv_p5.csv\"\n",
    "json_file = \"/home/dl392/data/yiwei/typhoon/EAR5/storm_requests.json\"\n",
    "\n",
    "DATADIR = '/home/dl392/data/yiwei/typhoon/EAR5/'\n",
    "dataset = \"reanalysis-era5-single-levels\"\n",
    "URL = 'https://cds-beta.climate.copernicus.eu/api'\n",
    "KEY = 'your key'\n",
    "\n",
    "# 初始化 CDSAPI 客户端\n",
    "client = cdsapi.Client(url=URL, key=KEY)\n",
    "\n",
    "# 读取 CSV 和 JSON 文件\n",
    "df = pd.read_csv(csv_file)\n",
    "with open(json_file, 'r') as f:\n",
    "    requests_data = json.load(f)\n",
    "\n",
    "# 初始化已处理的 Storm Name 集合\n",
    "processed_storms = set()\n",
    "\n",
    "# 存储 sst 和 sp 数据\n",
    "sst_data = {}\n",
    "sp_data = {}\n",
    "\n",
    "# 遍历 CSV\n",
    "for index, row in df.iterrows():\n",
    "    storm_name = row['Storm Name']\n",
    "    print(\"Processing \", storm_name)\n",
    "\n",
    "    latitude = row['Latitude (°N)']\n",
    "    longitude = row['Longitude (°E)']\n",
    "    time = row['ConvertedDateTime']\n",
    "    UTC_time=row['DateTime(UTC)']\n",
    "    # 如果是第一次遇到该 Storm Name\n",
    "    if storm_name not in processed_storms:\n",
    "        # 获取对应的 request 数据\n",
    "        if storm_name not in requests_data:\n",
    "            print(f\"Warning: Storm Name {storm_name} not found in JSON file.\")\n",
    "            continue\n",
    "        \n",
    "        request = requests_data[storm_name]\n",
    "        \n",
    "        # 下载 ERA5 数据\n",
    "        try:\n",
    "            client.retrieve(dataset, request, f'{DATADIR}temp.grib')\n",
    "        except Exception as e:\n",
    "            print(f\"Error retrieving data for {storm_name}: {e}\")\n",
    "            continue\n",
    "\n",
    "        # 标记为已处理\n",
    "        processed_storms.add(storm_name)\n",
    "\n",
    "    # 加载 GRIB 数据\n",
    "    try:\n",
    "        ds = xr.open_dataset(f\"{DATADIR}temp.grib\", engine=\"cfgrib\")\n",
    "    except Exception as e:\n",
    "        print(f\"Error opening GRIB file: {e}\")\n",
    "        continue\n",
    "\n",
    "    # 生成网格\n",
    "    latitudes=[]\n",
    "    longitudes=[]\n",
    "    for i in range(-10,11, 1):\n",
    "        latitudes.append(latitude+i/10)\n",
    "        longitudes.append(longitude+i/10)\n",
    "    # latitudes = np.arange(latitude - 1, latitude + 1.1, 0.1)  # 纬度范围\n",
    "    # longitudes = np.arange(longitude - 1, longitude + 1.1, 0.1)  # 经度范围\n",
    "\n",
    "    sst_grid = []\n",
    "    sp_grid = []\n",
    "\n",
    "    for lat in latitudes:\n",
    "        sst_row = []\n",
    "        sp_row = []\n",
    "        for lon in longitudes:\n",
    "            try:\n",
    "                sst_value = round(float(ds['sst'].sel(time=time, latitude=lat, longitude=lon, method=\"nearest\").values),5)\n",
    "                sp_value = round(float(ds['sp'].sel(time=time, latitude=lat, longitude=lon, method=\"nearest\").values),5)\n",
    "            except Exception as e:\n",
    "                print(f\"Error selecting data for {storm_name} at lat {lat}, lon {lon}: {e}\")\n",
    "                sst_value = None\n",
    "                sp_value = None\n",
    "\n",
    "            sst_row.append(sst_value)\n",
    "            sp_row.append(sp_value)\n",
    "        \n",
    "        sst_grid.append(sst_row)\n",
    "        sp_grid.append(sp_row)\n",
    "    store_name=str(storm_name)+str(UTC_time)\n",
    "    # 保存到对应的字典\n",
    "    sst_data[store_name] = {\n",
    "        \"time\": time,\n",
    "        \"latitude_range\": list(latitudes),\n",
    "        \"longitude_range\": list(longitudes),\n",
    "        \"sst_grid\": sst_grid\n",
    "    }\n",
    "\n",
    "    sp_data[store_name] = {\n",
    "        \"time\": time,\n",
    "        \"latitude_range\": list(latitudes),\n",
    "        \"longitude_range\": list(longitudes),\n",
    "        \"sp_grid\": sp_grid\n",
    "    }\n",
    "    print(storm_name, \" is finished\")\n",
    "    \n",
    "# 保存到 JSON 文件\n",
    "with open(sst_output_json, 'w') as f:\n",
    "    json.dump(sst_data, f, indent=4)\n",
    "\n",
    "with open(sp_output_json, 'w') as f:\n",
    "    json.dump(sp_data, f, indent=4)\n",
    "\n",
    "print(f\"SST data saved to {sst_output_json}\")\n",
    "print(f\"SP data saved to {sp_output_json}\")\n"
   ]
  },
  {
   "cell_type": "code",
   "execution_count": 7,
   "metadata": {},
   "outputs": [
    {
     "data": {
      "image/png": "[encoded data removed]",
      "text/plain": [
       "<Figure size 1200x600 with 4 Axes>"
      ]
     },
     "metadata": {},
     "output_type": "display_data"
    }
   ],
   "source": [
    "import numpy as np\n",
    "import matplotlib.pyplot as plt\n",
    "\n",
    "# 加载数据\n",
    "import json\n",
    "\n",
    "# 替换为你的文件路径\n",
    "sp_data_path = '/home/dl392/data/yiwei/typhoon/data_preprocess/sp_data_matrix.json'\n",
    "sst_data_path = '/home/dl392/data/yiwei/typhoon/data_preprocess/sst_data_matrix.json'\n",
    "\n",
    "with open(sst_data_path, 'r') as f:\n",
    "    sst_data = json.load(f)\n",
    "with open(sp_data_path, 'r') as f:\n",
    "    sp_data = json.load(f)\n",
    "\n",
    "# 选择台风案例 \"Freda\"\n",
    "example_typhoon = \"Freda1981031510\"\n",
    "\n",
    "# 检查是否存在 \"Freda\" 数据\n",
    "if example_typhoon not in sst_data or example_typhoon not in sp_data:\n",
    "    raise ValueError(f\"{example_typhoon} 不在数据集中，请确认文件内容。\")\n",
    "\n",
    "# 获取纬度、经度和网格数据\n",
    "latitude = sst_data[example_typhoon][\"latitude_range\"]\n",
    "longitude = sst_data[example_typhoon][\"longitude_range\"]\n",
    "sst_grid = np.array(sst_data[example_typhoon][\"sst_grid\"])\n",
    "sp_grid = np.array(sp_data[example_typhoon][\"sp_grid\"])\n",
    "\n",
    "# 定义要展示的中心坐标和范围\n",
    "center_lat = 19.1  # 可以根据 Freda 的中心坐标调整\n",
    "center_lon = 165\n",
    "lat_range = [center_lat - 1, center_lat + 1]\n",
    "lon_range = [center_lon - 1, center_lon + 1]\n",
    "\n",
    "# 筛选对应范围的数据\n",
    "lat_indices = [i for i, lat in enumerate(latitude) if lat_range[0] <= lat <= lat_range[1]]\n",
    "lon_indices = [i for i, lon in enumerate(longitude) if lon_range[0] <= lon <= lon_range[1]]\n",
    "\n",
    "# 截取子网格\n",
    "sst_subgrid = sst_grid[np.ix_(lat_indices, lon_indices)]\n",
    "sp_subgrid = sp_grid[np.ix_(lat_indices, lon_indices)]\n",
    "latitude_sub = np.array(latitude)[lat_indices]\n",
    "longitude_sub = np.array(longitude)[lon_indices]\n",
    "\n",
    "# 可视化\n",
    "fig, axes = plt.subplots(1, 2, figsize=(12, 6))\n",
    "\n",
    "# 热力图1: SST\n",
    "c1 = axes[0].pcolormesh(longitude_sub, latitude_sub, sst_subgrid, shading='auto', cmap='coolwarm')\n",
    "axes[0].set_title('Sea Surface Temperature (SST) - Freda')\n",
    "axes[0].set_xlabel('Longitude')\n",
    "axes[0].set_ylabel('Latitude')\n",
    "fig.colorbar(c1, ax=axes[0], orientation='vertical')\n",
    "\n",
    "# 热力图2: Surface Pressure\n",
    "c2 = axes[1].pcolormesh(longitude_sub, latitude_sub, sp_subgrid, shading='auto', cmap='viridis')\n",
    "axes[1].set_title('Surface Pressure (SP) - Freda')\n",
    "axes[1].set_xlabel('Longitude')\n",
    "axes[1].set_ylabel('Latitude')\n",
    "fig.colorbar(c2, ax=axes[1], orientation='vertical')\n",
    "\n",
    "plt.tight_layout()\n",
    "plt.savefig(\"6.png\")"
   ]
  },
  {
   "cell_type": "code",
   "execution_count": 20,
   "metadata": {},
   "outputs": [
    {
     "name": "stdout",
     "output_type": "stream",
     "text": [
      "CSV file has been created with the included names.\n"
     ]
    }
   ],
   "source": [
    "import json\n",
    "import csv\n",
    "\n",
    "# Load the JSON data\n",
    "with open('/home/dl392/data/yiwei/typhoon/data_preprocess/sst_data_matrix.json', 'r') as f:\n",
    "    data = json.load(f)\n",
    "\n",
    "# Initialize a dictionary to group names\n",
    "name_groups = {}\n",
    "\n",
    "# Populate the name_groups dictionary\n",
    "for key in data:\n",
    "    # Extract name from the key (e.g., \"Vernon1984060716\" -> \"Vernon\")\n",
    "    name = ''.join([char for char in key if char.isalpha()])\n",
    "    \n",
    "    if name not in name_groups:\n",
    "        name_groups[name] = []\n",
    "    \n",
    "    name_groups[name].append(key)\n",
    "\n",
    "# Initialize a list to keep track of names with \"NaN\" in their sst_grid\n",
    "exclude_names = []\n",
    "\n",
    "# Check each name group for \"NaN\" in the sst_grid\n",
    "for name, keys in name_groups.items():\n",
    "    for key in keys:\n",
    "        sst_grid = data[key].get('sst_grid', [])\n",
    "        # Check for \"NaN\" in any of the sst_grid values\n",
    "        if any(str(val) == 'nan' for row in sst_grid for val in row):\n",
    "            exclude_names.append(name)\n",
    "            break\n",
    "\n",
    "# Now create a final list of names to include (exclude those with \"NaN\" in their sst_grid)\n",
    "included_names = [name for name in name_groups.keys() if name not in exclude_names]\n",
    "\n",
    "# Save the final list to a CSV file\n",
    "with open('final_names.csv', 'w', newline='') as csvfile:\n",
    "    writer = csv.writer(csvfile)\n",
    "    writer.writerow(['Name'])\n",
    "    for name in included_names:\n",
    "        writer.writerow([name])\n",
    "\n",
    "print(\"CSV file has been created with the included names.\")\n",
    "\n",
    "\n",
    "\n"
   ]
  },
  {
   "cell_type": "code",
   "execution_count": 2,
   "metadata": {},
   "outputs": [
    {
     "name": "stdout",
     "output_type": "stream",
     "text": [
      "过滤完成，结果已保存到 /data1/dl392/yiwei/typhoon/data_preprocess/best_track_records_p6.csv\n"
     ]
    }
   ],
   "source": [
    "import pandas as pd\n",
    "\n",
    "# 文件路径\n",
    "best_track_file = \"/data1/dl392/yiwei/typhoon/data_preprocess/best_track_records.csv_p5.csv\"\n",
    "final_names_file = \"/data1/dl392/yiwei/typhoon/data_preprocess/final_names.csv\"\n",
    "output_file = \"/data1/dl392/yiwei/typhoon/data_preprocess/best_track_records_p6.csv\"\n",
    "\n",
    "# 读取数据\n",
    "best_track_df = pd.read_csv(best_track_file)\n",
    "final_names_df = pd.read_csv(final_names_file)\n",
    "\n",
    "# 获取 Name 列的集合\n",
    "valid_names = set(final_names_df['Name'])\n",
    "\n",
    "# 过滤掉不在 Name 列中的行\n",
    "filtered_best_track_df = best_track_df[best_track_df['Storm Name'].isin(valid_names)]\n",
    "\n",
    "# 保存结果到新的 CSV 文件\n",
    "filtered_best_track_df.to_csv(output_file, index=False)\n",
    "\n",
    "print(f\"过滤完成，结果已保存到 {output_file}\")\n"
   ]
  },
  {
   "cell_type": "code",
   "execution_count": null,
   "metadata": {},
   "outputs": [],
   "source": []
  }
 ],
 "metadata": {
  "kernelspec": {
   "display_name": "ty_yw",
   "language": "python",
   "name": "ty_yw"
  },
  "language_info": {
   "codemirror_mode": {
    "name": "ipython",
    "version": 3
   },
   "file_extension": ".py",
   "mimetype": "text/x-python",
   "name": "python",
   "nbconvert_exporter": "python",
   "pygments_lexer": "ipython3",
   "version": "3.10.15"
  }
 },
 "nbformat": 4,
 "nbformat_minor": 2
}
